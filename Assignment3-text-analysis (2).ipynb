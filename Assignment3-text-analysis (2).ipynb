{
 "cells": [
  {
   "cell_type": "markdown",
   "metadata": {},
   "source": [
    "# Assignment 3 - Text Analysis\n",
    "An explanation this assignment could be found in the .pdf explanation document"
   ]
  },
  {
   "cell_type": "markdown",
   "metadata": {},
   "source": [
    "\n",
    "## Materials to review for this assignment\n",
    "<h4>From Moodle:</h4> \n",
    "<h5><u>Review the notebooks regarding the following python topics</u>:</h5>\n",
    "<div class=\"alert alert-info\">\n",
    "&#x2714; <b>Working with strings</b> (tutorial notebook)<br/>\n",
    "&#x2714; <b>Text Analysis</b> (tutorial notebook)<br/>\n",
    "&#x2714; <b>Hebrew text analysis tools (tokenizer, wordnet)</b> (moodle example)<br/>\n",
    "&#x2714; <b>(brief review) All previous notebooks</b><br/>\n",
    "</div> \n",
    "<h5><u>Review the presentations regarding the following topics</u>:</h5>\n",
    "<div class=\"alert alert-info\">\n",
    "&#x2714; <b>Text Analysis</b> (lecture presentation)<br/>\n",
    "&#x2714; <b>(brief review) All other presentations</b><br/>\n",
    "</div>"
   ]
  },
  {
   "cell_type": "markdown",
   "metadata": {},
   "source": [
    "## Personal Details:"
   ]
  },
  {
   "cell_type": "code",
   "execution_count": null,
   "metadata": {},
   "outputs": [],
   "source": [
    "# Details Student 1:\n",
    "\n",
    "# Details Student 2:\n"
   ]
  },
  {
   "cell_type": "markdown",
   "metadata": {},
   "source": [
    "## Preceding Step - import modules (packages)\n",
    "This step is necessary in order to use external modules (packages). <br/>"
   ]
  },
  {
   "cell_type": "code",
   "execution_count": 1,
   "metadata": {},
   "outputs": [],
   "source": [
    "# --------------------------------------\n",
    "import pandas as pd\n",
    "import numpy as np\n",
    "# --------------------------------------\n",
    "\n",
    "\n",
    "# --------------------------------------\n",
    "# ------------- visualizations:\n",
    "import seaborn as sns\n",
    "import matplotlib.pyplot as plt\n",
    "from matplotlib.colors import ListedColormap\n",
    "# --------------------------------------\n",
    "\n",
    "\n",
    "# ---------------------------------------\n",
    "import sklearn\n",
    "from sklearn import preprocessing, metrics, pipeline, model_selection, feature_extraction \n",
    "from sklearn import naive_bayes, linear_model, svm, neural_network, neighbors, tree\n",
    "from sklearn import decomposition, cluster\n",
    "\n",
    "from sklearn.model_selection import train_test_split, cross_val_score, GridSearchCV \n",
    "from sklearn.pipeline import Pipeline\n",
    "from sklearn.metrics import accuracy_score, confusion_matrix\n",
    "from sklearn.metrics import precision_score, recall_score, f1_score\n",
    "from sklearn.metrics import mean_squared_error, r2_score, silhouette_score\n",
    "from sklearn.preprocessing import MinMaxScaler, StandardScaler, LabelEncoder\n",
    "\n",
    "from sklearn.svm import LinearSVC\n",
    "from sklearn.neural_network import MLPClassifier\n",
    "from sklearn.linear_model import Perceptron, SGDClassifier\n",
    "from sklearn.decomposition import PCA\n",
    "from sklearn.cluster import KMeans\n",
    "from sklearn.naive_bayes import MultinomialNB, GaussianNB\n",
    "from sklearn.neighbors import KNeighborsClassifier\n",
    "from sklearn.tree import DecisionTreeClassifier\n",
    "from sklearn.ensemble import RandomForestClassifier, GradientBoostingClassifier\n",
    "# ---------------------------------------\n",
    "from sklearn.model_selection import GridSearchCV\n",
    "from sklearn.pipeline import Pipeline\n",
    "from sklearn.metrics import f1_score, make_scorer\n",
    "from sklearn.model_selection import cross_val_score\n",
    "from sklearn.linear_model import Perceptron, SGDClassifier\n",
    "from sklearn.svm import LinearSVC\n",
    "from sklearn.neural_network import MLPClassifier\n",
    "from sklearn.naive_bayes import MultinomialNB\n",
    "from sklearn.neighbors import KNeighborsClassifier\n",
    "from sklearn.tree import DecisionTreeClassifier\n",
    "from sklearn.feature_extraction.text import HashingVectorizer\n",
    "\n",
    "# ----------------- output and visualizations: \n",
    "import warnings\n",
    "from sklearn.exceptions import ConvergenceWarning\n",
    "warnings.simplefilter(\"ignore\")\n",
    "warnings.simplefilter(action='ignore', category=FutureWarning)\n",
    "warnings.simplefilter(\"ignore\", category=ConvergenceWarning)\n",
    "# show several prints in one cell. This will allow us to condence every trick in one cell.\n",
    "from IPython.core.interactiveshell import InteractiveShell\n",
    "InteractiveShell.ast_node_interactivity = \"all\"\n",
    "%matplotlib inline\n",
    "pd.pandas.set_option('display.max_columns', None)\n",
    "pd.set_option('display.float_format', lambda x: '%.3f' % x)\n",
    "# ---------------------------------------"
   ]
  },
  {
   "cell_type": "markdown",
   "metadata": {},
   "source": [
    "### Text analysis and String manipulation imports:"
   ]
  },
  {
   "cell_type": "code",
   "execution_count": 2,
   "metadata": {},
   "outputs": [],
   "source": [
    "# --------------------------------------\n",
    "# --------- Text analysis and Hebrew text analysis imports:\n",
    "# vectorizers:\n",
    "from sklearn.feature_extraction import text\n",
    "from sklearn.feature_extraction.text import CountVectorizer, TfidfVectorizer\n",
    "\n",
    "# regular expressions:\n",
    "import re\n",
    "# --------------------------------------"
   ]
  },
  {
   "cell_type": "markdown",
   "metadata": {},
   "source": [
    "### (optional) Hebrew text analysis - WordNet (for Hebrew)\n",
    "Note: the WordNet is not a must"
   ]
  },
  {
   "cell_type": "markdown",
   "metadata": {},
   "source": [
    "#### (optional) Only if you didn't install Wordnet (for Hebrew) use:"
   ]
  },
  {
   "cell_type": "code",
   "execution_count": 3,
   "metadata": {},
   "outputs": [],
   "source": [
    "# word net installation:\n",
    "\n",
    "# unmark if you want to use and need to install\n",
    "# !pip install wn\n",
    "# !python -m wn download omw-he:1.4"
   ]
  },
  {
   "cell_type": "code",
   "execution_count": 4,
   "metadata": {},
   "outputs": [],
   "source": [
    "# word net import:\n",
    "\n",
    "# unmark if you want to use:\n",
    "# import wn"
   ]
  },
  {
   "cell_type": "markdown",
   "metadata": {},
   "source": [
    "### (optional) Hebrew text analysis - hebrew_tokenizer (Tokenizer for Hebrew)\n",
    "Note: the hebrew_tokenizer is not a must"
   ]
  },
  {
   "cell_type": "markdown",
   "metadata": {},
   "source": [
    "#### (optional) Only if you didn't install hebrew_tokenizer use:"
   ]
  },
  {
   "cell_type": "code",
   "execution_count": 5,
   "metadata": {},
   "outputs": [],
   "source": [
    "# Hebrew tokenizer installation:\n",
    "\n",
    "# unmark if you want to use and need to install:\n",
    "# !pip install hebrew_tokenizer"
   ]
  },
  {
   "cell_type": "code",
   "execution_count": 6,
   "metadata": {},
   "outputs": [
    {
     "name": "stdout",
     "output_type": "stream",
     "text": [
      "Requirement already satisfied: hebrew_tokenizer in c:\\users\\nor29\\anaconda3\\lib\\site-packages (2.3.0)\n",
      "C:\\Users\\nor29\n"
     ]
    }
   ],
   "source": [
    "# YOUR CODE HERE\n",
    "!pip install hebrew_tokenizer\n",
    "# Import the necessary function from the hebrew_tokenizer library\n",
    "from hebrew_tokenizer import tokenize"
   ]
  },
  {
   "cell_type": "code",
   "execution_count": null,
   "metadata": {},
   "outputs": [],
   "source": []
  },
  {
   "cell_type": "markdown",
   "metadata": {},
   "source": [
    "### Reading input files\n",
    "Reading input files for train annotated corpus (raw text data) corpus and for the test corpus"
   ]
  },
  {
   "cell_type": "code",
   "execution_count": 7,
   "metadata": {},
   "outputs": [],
   "source": [
    "train_filename = 'annotated_corpus_for_train.csv'\n",
    "test_filename  = 'corpus_for_test.csv'\n",
    "df_train = pd.read_csv(train_filename, index_col=None, encoding='utf-8')\n",
    "df_test  = pd.read_csv(test_filename, index_col=None, encoding='utf-8')"
   ]
  },
  {
   "cell_type": "code",
   "execution_count": 8,
   "metadata": {},
   "outputs": [
    {
     "data": {
      "text/html": [
       "<div>\n",
       "<style scoped>\n",
       "    .dataframe tbody tr th:only-of-type {\n",
       "        vertical-align: middle;\n",
       "    }\n",
       "\n",
       "    .dataframe tbody tr th {\n",
       "        vertical-align: top;\n",
       "    }\n",
       "\n",
       "    .dataframe thead th {\n",
       "        text-align: right;\n",
       "    }\n",
       "</style>\n",
       "<table border=\"1\" class=\"dataframe\">\n",
       "  <thead>\n",
       "    <tr style=\"text-align: right;\">\n",
       "      <th></th>\n",
       "      <th>story</th>\n",
       "      <th>gender</th>\n",
       "    </tr>\n",
       "  </thead>\n",
       "  <tbody>\n",
       "    <tr>\n",
       "      <th>0</th>\n",
       "      <td>כשחבר הזמין אותי לחול, לא באמת חשבתי שזה יקרה,...</td>\n",
       "      <td>m</td>\n",
       "    </tr>\n",
       "    <tr>\n",
       "      <th>1</th>\n",
       "      <td>לפני שהתגייסתי לצבא עשיתי כל מני מיונים ליחידו...</td>\n",
       "      <td>m</td>\n",
       "    </tr>\n",
       "    <tr>\n",
       "      <th>2</th>\n",
       "      <td>מאז שהתחילו הלימודים חלומו של כל סטודנט זה הפנ...</td>\n",
       "      <td>f</td>\n",
       "    </tr>\n",
       "    <tr>\n",
       "      <th>3</th>\n",
       "      <td>כשהייתי ילד, מטוסים היה הדבר שהכי ריתק אותי. ב...</td>\n",
       "      <td>m</td>\n",
       "    </tr>\n",
       "    <tr>\n",
       "      <th>4</th>\n",
       "      <td>‏הייתי מדריכה בכפר נוער ומתאם הכפר היינו צריכי...</td>\n",
       "      <td>f</td>\n",
       "    </tr>\n",
       "    <tr>\n",
       "      <th>5</th>\n",
       "      <td>לפני כ3 חודשים טסתי לרומא למשך שבוע. טסתי במטו...</td>\n",
       "      <td>f</td>\n",
       "    </tr>\n",
       "    <tr>\n",
       "      <th>6</th>\n",
       "      <td>אני כבר שנתיים נשוי והשנה אני ואישתי סוף סוף י...</td>\n",
       "      <td>m</td>\n",
       "    </tr>\n",
       "    <tr>\n",
       "      <th>7</th>\n",
       "      <td>השנה התחלנו שיפוץ בדירה שלנו בתל אביב. הדירה ה...</td>\n",
       "      <td>f</td>\n",
       "    </tr>\n",
       "  </tbody>\n",
       "</table>\n",
       "</div>"
      ],
      "text/plain": [
       "                                               story gender\n",
       "0  כשחבר הזמין אותי לחול, לא באמת חשבתי שזה יקרה,...      m\n",
       "1  לפני שהתגייסתי לצבא עשיתי כל מני מיונים ליחידו...      m\n",
       "2  מאז שהתחילו הלימודים חלומו של כל סטודנט זה הפנ...      f\n",
       "3  כשהייתי ילד, מטוסים היה הדבר שהכי ריתק אותי. ב...      m\n",
       "4  ‏הייתי מדריכה בכפר נוער ומתאם הכפר היינו צריכי...      f\n",
       "5  לפני כ3 חודשים טסתי לרומא למשך שבוע. טסתי במטו...      f\n",
       "6  אני כבר שנתיים נשוי והשנה אני ואישתי סוף סוף י...      m\n",
       "7  השנה התחלנו שיפוץ בדירה שלנו בתל אביב. הדירה ה...      f"
      ]
     },
     "execution_count": 8,
     "metadata": {},
     "output_type": "execute_result"
    },
    {
     "data": {
      "text/plain": [
       "(753, 2)"
      ]
     },
     "execution_count": 8,
     "metadata": {},
     "output_type": "execute_result"
    }
   ],
   "source": [
    "df_train.head(8)\n",
    "df_train.shape"
   ]
  },
  {
   "cell_type": "code",
   "execution_count": 9,
   "metadata": {},
   "outputs": [
    {
     "data": {
      "text/html": [
       "<div>\n",
       "<style scoped>\n",
       "    .dataframe tbody tr th:only-of-type {\n",
       "        vertical-align: middle;\n",
       "    }\n",
       "\n",
       "    .dataframe tbody tr th {\n",
       "        vertical-align: top;\n",
       "    }\n",
       "\n",
       "    .dataframe thead th {\n",
       "        text-align: right;\n",
       "    }\n",
       "</style>\n",
       "<table border=\"1\" class=\"dataframe\">\n",
       "  <thead>\n",
       "    <tr style=\"text-align: right;\">\n",
       "      <th></th>\n",
       "      <th>test_example_id</th>\n",
       "      <th>story</th>\n",
       "    </tr>\n",
       "  </thead>\n",
       "  <tbody>\n",
       "    <tr>\n",
       "      <th>0</th>\n",
       "      <td>0</td>\n",
       "      <td>כל קיץ אני והמשפחה נוסעים לארצות הברית לוס אנג...</td>\n",
       "    </tr>\n",
       "    <tr>\n",
       "      <th>1</th>\n",
       "      <td>1</td>\n",
       "      <td>הגעתי לשירות המדינה אחרי שנתיים כפעיל בתנועת \"...</td>\n",
       "    </tr>\n",
       "    <tr>\n",
       "      <th>2</th>\n",
       "      <td>2</td>\n",
       "      <td>אחת האהבות הגדולות שלי אלו הכלבים שלי ושל אישת...</td>\n",
       "    </tr>\n",
       "  </tbody>\n",
       "</table>\n",
       "</div>"
      ],
      "text/plain": [
       "   test_example_id                                              story\n",
       "0                0  כל קיץ אני והמשפחה נוסעים לארצות הברית לוס אנג...\n",
       "1                1  הגעתי לשירות המדינה אחרי שנתיים כפעיל בתנועת \"...\n",
       "2                2  אחת האהבות הגדולות שלי אלו הכלבים שלי ושל אישת..."
      ]
     },
     "execution_count": 9,
     "metadata": {},
     "output_type": "execute_result"
    },
    {
     "data": {
      "text/plain": [
       "(323, 2)"
      ]
     },
     "execution_count": 9,
     "metadata": {},
     "output_type": "execute_result"
    }
   ],
   "source": [
    "df_test.head(3)\n",
    "df_test.shape"
   ]
  },
  {
   "cell_type": "markdown",
   "metadata": {},
   "source": [
    "### Your implementation:\n",
    "Write your code solution in the following code-cells"
   ]
  },
  {
   "cell_type": "code",
   "execution_count": 10,
   "metadata": {},
   "outputs": [
    {
     "data": {
      "text/html": [
       "<div>\n",
       "<style scoped>\n",
       "    .dataframe tbody tr th:only-of-type {\n",
       "        vertical-align: middle;\n",
       "    }\n",
       "\n",
       "    .dataframe tbody tr th {\n",
       "        vertical-align: top;\n",
       "    }\n",
       "\n",
       "    .dataframe thead th {\n",
       "        text-align: right;\n",
       "    }\n",
       "</style>\n",
       "<table border=\"1\" class=\"dataframe\">\n",
       "  <thead>\n",
       "    <tr style=\"text-align: right;\">\n",
       "      <th></th>\n",
       "      <th>story</th>\n",
       "      <th>gender</th>\n",
       "    </tr>\n",
       "  </thead>\n",
       "  <tbody>\n",
       "    <tr>\n",
       "      <th>0</th>\n",
       "      <td>כשחבר הזמין אותי לחול באמת חשבתי שזה יקרה פשוט...</td>\n",
       "      <td>m</td>\n",
       "    </tr>\n",
       "    <tr>\n",
       "      <th>1</th>\n",
       "      <td>לפני שהתגייסתי לצבא עשיתי מני מיונים ליחידות מ...</td>\n",
       "      <td>m</td>\n",
       "    </tr>\n",
       "    <tr>\n",
       "      <th>2</th>\n",
       "      <td>מאז שהתחילו הלימודים חלומו סטודנט הפנגויה מחפש...</td>\n",
       "      <td>f</td>\n",
       "    </tr>\n",
       "    <tr>\n",
       "      <th>3</th>\n",
       "      <td>כשהייתי ילד מטוסים היה הדבר שהכי ריתק אותי בתו...</td>\n",
       "      <td>m</td>\n",
       "    </tr>\n",
       "    <tr>\n",
       "      <th>4</th>\n",
       "      <td>הייתי מדריכה בכפר נוער ומתאם הכפר היינו צריכים...</td>\n",
       "      <td>f</td>\n",
       "    </tr>\n",
       "  </tbody>\n",
       "</table>\n",
       "</div>"
      ],
      "text/plain": [
       "                                               story gender\n",
       "0  כשחבר הזמין אותי לחול באמת חשבתי שזה יקרה פשוט...      m\n",
       "1  לפני שהתגייסתי לצבא עשיתי מני מיונים ליחידות מ...      m\n",
       "2  מאז שהתחילו הלימודים חלומו סטודנט הפנגויה מחפש...      f\n",
       "3  כשהייתי ילד מטוסים היה הדבר שהכי ריתק אותי בתו...      m\n",
       "4  הייתי מדריכה בכפר נוער ומתאם הכפר היינו צריכים...      f"
      ]
     },
     "execution_count": 10,
     "metadata": {},
     "output_type": "execute_result"
    }
   ],
   "source": [
    "\n",
    "# Load the CSV file into a DataFrame\n",
    "train_filename = 'annotated_corpus_for_train.csv'\n",
    "df = pd.read_csv(train_filename)\n",
    "\n",
    "# Define your list of stopwords\n",
    "stopwords = [\"זהו\", \"של\", \"שאנחנו\", \"לעבוד\", \"איתו\", \"היא\", \"הוא\", \"ב\", \"על\", \"את\", \"זו\", \"זאת\", \"ל\", \"מ\", \"ש\", \"כש\", \"כשה\", \"וגם\", \"עם\"]\n",
    "\n",
    "def preprocess_text(text):\n",
    "    # Tokenization\n",
    "    tokens = tokenize(text)\n",
    "    \n",
    "    # Normalize tokens (except gender-specific plurals)\n",
    "    normalized_tokens = []\n",
    "    for token in tokens:\n",
    "        if token[1].endswith(\"ים\") or token[1].endswith(\"ות\"):\n",
    "            normalized_tokens.append(token[1])\n",
    "        else:\n",
    "            normalized_tokens.append(token[1])\n",
    "    \n",
    "    # Remove stopwords and short words\n",
    "    filtered_tokens = [token for token in normalized_tokens if token not in stopwords and len(token) >= 3]\n",
    "    \n",
    "    # Remove non-Hebrew characters\n",
    "    filtered_tokens = [token for token in filtered_tokens if all(0x05D0 <= ord(c) <= 0x05EA for c in token)]\n",
    "    \n",
    "    return \" \".join(filtered_tokens)\n",
    "\n",
    "# Apply preprocessing to each row in the DataFrame\n",
    "df['story'] = df['story'].apply(preprocess_text)\n",
    "df.head()\n"
   ]
  },
  {
   "cell_type": "code",
   "execution_count": 11,
   "metadata": {},
   "outputs": [],
   "source": [
    "# Define the models\n",
    "models = {\n",
    "    'Perceptron': Perceptron(),\n",
    "    'LinearSVC': LinearSVC(),\n",
    "    'SGDClassifier': SGDClassifier(),\n",
    "    'MultinomialNB': MultinomialNB(),\n",
    "    'KNeighborsClassifier (n=3)': KNeighborsClassifier(n_neighbors=3, weights='distance'),\n",
    "    'KNeighborsClassifier (n=5)': KNeighborsClassifier(n_neighbors=5, weights='distance'),\n",
    "    'KNeighborsClassifier (n=7)': KNeighborsClassifier(n_neighbors=7, weights='distance'),\n",
    "    'DecisionTreeClassifier': DecisionTreeClassifier(),\n",
    "    'RandomForestClassifier': RandomForestClassifier(),\n",
    "    \n",
    "}\n",
    "\n"
   ]
  },
  {
   "cell_type": "code",
   "execution_count": 12,
   "metadata": {},
   "outputs": [],
   "source": [
    "# Define parameter distributions for each model\n",
    "param_dists = {\n",
    "    'Perceptron': {'clf__alpha': [0.0001, 0.001, 0.01, 0.1, 1.0]},\n",
    "    'LinearSVC': {'clf__C': [0.01, 0.1, 1, 10]},\n",
    "    #'MLPClassifier': {'clf__alpha': [0.0001, 0.001, 0.01, 0.1, 1.0]},\n",
    "    'SGDClassifier': {'clf__alpha': [0.0001, 0.001, 0.01, 0.1, 1.0]},\n",
    "    'MultinomialNB': {},  # No hyperparameters to tune\n",
    "    'KNeighborsClassifier (n=3)': {'clf__n_neighbors': [3]},\n",
    "    'KNeighborsClassifier (n=5)': {'clf__n_neighbors': [5]},\n",
    "    'KNeighborsClassifier (n=7)': {'clf__n_neighbors': [7]},\n",
    "    'DecisionTreeClassifier': {'clf__max_depth': [None, 10, 20, 30]},\n",
    "    'RandomForestClassifier': {\n",
    "        'clf__n_estimators': [100, 200, 300],\n",
    "        'clf__max_depth': [None, 10, 20],\n",
    "        'clf__min_samples_split': [2, 5, 10],\n",
    "        'clf__min_samples_leaf': [1, 2, 4]\n",
    "    }\n",
    "}"
   ]
  },
  {
   "cell_type": "code",
   "execution_count": 13,
   "metadata": {},
   "outputs": [],
   "source": [
    "vectorizers = [\n",
    "     CountVectorizer(ngram_range=(1, 1)),\n",
    "    TfidfVectorizer(ngram_range=(1, 1)),\n",
    "    CountVectorizer(ngram_range=(1, 2)),\n",
    "    TfidfVectorizer(ngram_range=(1, 2)),\n",
    "    CountVectorizer(ngram_range=(1, 3)),\n",
    "    TfidfVectorizer(ngram_range=(1, 3)),\n",
    "    CountVectorizer(ngram_range=(1, 4)),\n",
    "    TfidfVectorizer(ngram_range=(1, 4)),\n",
    "    CountVectorizer(ngram_range=(1, 5)),\n",
    "    TfidfVectorizer(ngram_range=(1, 5)),\n",
    "    CountVectorizer(ngram_range=(1, 6)),\n",
    "    CountVectorizer(max_features=20000, binary=True, ngram_range=(1, 4)),\n",
    "    \n",
    "\n",
    "]"
   ]
  },
  {
   "cell_type": "code",
   "execution_count": null,
   "metadata": {},
   "outputs": [],
   "source": []
  },
  {
   "cell_type": "raw",
   "metadata": {},
   "source": []
  },
  {
   "cell_type": "code",
   "execution_count": 16,
   "metadata": {},
   "outputs": [
    {
     "name": "stdout",
     "output_type": "stream",
     "text": [
      "#########################################################################################\n",
      "Model: Perceptron\n",
      "Vectorizer: CountVectorizer\n"
     ]
    },
    {
     "data": {
      "text/plain": [
       "GridSearchCV(cv=5,\n",
       "             estimator=Pipeline(steps=[('vect',\n",
       "                                        CountVectorizer(max_features=10000,\n",
       "                                                        ngram_range=(1, 2))),\n",
       "                                       ('clf', Perceptron())]),\n",
       "             n_jobs=-1,\n",
       "             param_grid={'clf__alpha': [0.0001, 0.001, 0.01, 0.1, 1.0]},\n",
       "             scoring='f1_macro')"
      ]
     },
     "execution_count": 16,
     "metadata": {},
     "output_type": "execute_result"
    },
    {
     "name": "stdout",
     "output_type": "stream",
     "text": [
      "Current Best Estimator:\n",
      "Best F1 Score: 0.6474921655806666\n",
      "Best Parameters: {'clf__alpha': 0.0001}\n",
      "\n",
      "\n",
      "Vectorizer: CountVectorizer\n"
     ]
    },
    {
     "data": {
      "text/plain": [
       "GridSearchCV(cv=5,\n",
       "             estimator=Pipeline(steps=[('vect', CountVectorizer()),\n",
       "                                       ('clf', Perceptron())]),\n",
       "             n_jobs=-1,\n",
       "             param_grid={'clf__alpha': [0.0001, 0.001, 0.01, 0.1, 1.0]},\n",
       "             scoring='f1_macro')"
      ]
     },
     "execution_count": 16,
     "metadata": {},
     "output_type": "execute_result"
    },
    {
     "name": "stdout",
     "output_type": "stream",
     "text": [
      "Current Best Estimator:\n",
      "Best F1 Score: 0.6732558991685907\n",
      "Best Parameters: {'clf__alpha': 0.0001}\n",
      "\n",
      "\n",
      "Vectorizer: TfidfVectorizer\n"
     ]
    },
    {
     "data": {
      "text/plain": [
       "GridSearchCV(cv=5,\n",
       "             estimator=Pipeline(steps=[('vect', TfidfVectorizer()),\n",
       "                                       ('clf', Perceptron())]),\n",
       "             n_jobs=-1,\n",
       "             param_grid={'clf__alpha': [0.0001, 0.001, 0.01, 0.1, 1.0]},\n",
       "             scoring='f1_macro')"
      ]
     },
     "execution_count": 16,
     "metadata": {},
     "output_type": "execute_result"
    },
    {
     "name": "stdout",
     "output_type": "stream",
     "text": [
      "Current Best Estimator:\n",
      "Best F1 Score: 0.6706540559550505\n",
      "Best Parameters: {'clf__alpha': 0.0001}\n",
      "\n",
      "\n",
      "Vectorizer: CountVectorizer\n"
     ]
    },
    {
     "data": {
      "text/plain": [
       "GridSearchCV(cv=5,\n",
       "             estimator=Pipeline(steps=[('vect',\n",
       "                                        CountVectorizer(ngram_range=(1, 2))),\n",
       "                                       ('clf', Perceptron())]),\n",
       "             n_jobs=-1,\n",
       "             param_grid={'clf__alpha': [0.0001, 0.001, 0.01, 0.1, 1.0]},\n",
       "             scoring='f1_macro')"
      ]
     },
     "execution_count": 16,
     "metadata": {},
     "output_type": "execute_result"
    },
    {
     "name": "stdout",
     "output_type": "stream",
     "text": [
      "Current Best Estimator:\n",
      "Best F1 Score: 0.6196628976006082\n",
      "Best Parameters: {'clf__alpha': 0.0001}\n",
      "\n",
      "\n",
      "Vectorizer: TfidfVectorizer\n"
     ]
    },
    {
     "data": {
      "text/plain": [
       "GridSearchCV(cv=5,\n",
       "             estimator=Pipeline(steps=[('vect',\n",
       "                                        TfidfVectorizer(ngram_range=(1, 2))),\n",
       "                                       ('clf', Perceptron())]),\n",
       "             n_jobs=-1,\n",
       "             param_grid={'clf__alpha': [0.0001, 0.001, 0.01, 0.1, 1.0]},\n",
       "             scoring='f1_macro')"
      ]
     },
     "execution_count": 16,
     "metadata": {},
     "output_type": "execute_result"
    },
    {
     "name": "stdout",
     "output_type": "stream",
     "text": [
      "Current Best Estimator:\n",
      "Best F1 Score: 0.679487947058745\n",
      "Best Parameters: {'clf__alpha': 0.0001}\n",
      "\n",
      "\n",
      "Vectorizer: CountVectorizer\n"
     ]
    },
    {
     "data": {
      "text/plain": [
       "GridSearchCV(cv=5,\n",
       "             estimator=Pipeline(steps=[('vect',\n",
       "                                        CountVectorizer(ngram_range=(1, 3))),\n",
       "                                       ('clf', Perceptron())]),\n",
       "             n_jobs=-1,\n",
       "             param_grid={'clf__alpha': [0.0001, 0.001, 0.01, 0.1, 1.0]},\n",
       "             scoring='f1_macro')"
      ]
     },
     "execution_count": 16,
     "metadata": {},
     "output_type": "execute_result"
    },
    {
     "name": "stdout",
     "output_type": "stream",
     "text": [
      "Current Best Estimator:\n",
      "Best F1 Score: 0.6143487103631705\n",
      "Best Parameters: {'clf__alpha': 0.0001}\n",
      "\n",
      "\n",
      "Vectorizer: TfidfVectorizer\n"
     ]
    },
    {
     "data": {
      "text/plain": [
       "GridSearchCV(cv=5,\n",
       "             estimator=Pipeline(steps=[('vect',\n",
       "                                        TfidfVectorizer(ngram_range=(1, 3))),\n",
       "                                       ('clf', Perceptron())]),\n",
       "             n_jobs=-1,\n",
       "             param_grid={'clf__alpha': [0.0001, 0.001, 0.01, 0.1, 1.0]},\n",
       "             scoring='f1_macro')"
      ]
     },
     "execution_count": 16,
     "metadata": {},
     "output_type": "execute_result"
    },
    {
     "name": "stdout",
     "output_type": "stream",
     "text": [
      "Current Best Estimator:\n",
      "Best F1 Score: 0.6999268008731663\n",
      "Best Parameters: {'clf__alpha': 0.0001}\n",
      "\n",
      "\n",
      "Vectorizer: CountVectorizer\n"
     ]
    },
    {
     "data": {
      "text/plain": [
       "GridSearchCV(cv=5,\n",
       "             estimator=Pipeline(steps=[('vect',\n",
       "                                        CountVectorizer(ngram_range=(1, 4))),\n",
       "                                       ('clf', Perceptron())]),\n",
       "             n_jobs=-1,\n",
       "             param_grid={'clf__alpha': [0.0001, 0.001, 0.01, 0.1, 1.0]},\n",
       "             scoring='f1_macro')"
      ]
     },
     "execution_count": 16,
     "metadata": {},
     "output_type": "execute_result"
    },
    {
     "name": "stdout",
     "output_type": "stream",
     "text": [
      "Current Best Estimator:\n",
      "Best F1 Score: 0.6347125967741784\n",
      "Best Parameters: {'clf__alpha': 0.0001}\n",
      "\n",
      "\n",
      "Vectorizer: TfidfVectorizer\n"
     ]
    },
    {
     "data": {
      "text/plain": [
       "GridSearchCV(cv=5,\n",
       "             estimator=Pipeline(steps=[('vect',\n",
       "                                        TfidfVectorizer(ngram_range=(1, 4))),\n",
       "                                       ('clf', Perceptron())]),\n",
       "             n_jobs=-1,\n",
       "             param_grid={'clf__alpha': [0.0001, 0.001, 0.01, 0.1, 1.0]},\n",
       "             scoring='f1_macro')"
      ]
     },
     "execution_count": 16,
     "metadata": {},
     "output_type": "execute_result"
    },
    {
     "name": "stdout",
     "output_type": "stream",
     "text": [
      "Current Best Estimator:\n",
      "Best F1 Score: 0.6924556979473264\n",
      "Best Parameters: {'clf__alpha': 0.0001}\n",
      "\n",
      "\n",
      "Vectorizer: CountVectorizer\n"
     ]
    },
    {
     "data": {
      "text/plain": [
       "GridSearchCV(cv=5,\n",
       "             estimator=Pipeline(steps=[('vect',\n",
       "                                        CountVectorizer(ngram_range=(1, 5))),\n",
       "                                       ('clf', Perceptron())]),\n",
       "             n_jobs=-1,\n",
       "             param_grid={'clf__alpha': [0.0001, 0.001, 0.01, 0.1, 1.0]},\n",
       "             scoring='f1_macro')"
      ]
     },
     "execution_count": 16,
     "metadata": {},
     "output_type": "execute_result"
    },
    {
     "name": "stdout",
     "output_type": "stream",
     "text": [
      "Current Best Estimator:\n",
      "Best F1 Score: 0.6347125967741784\n",
      "Best Parameters: {'clf__alpha': 0.0001}\n",
      "\n",
      "\n",
      "Vectorizer: TfidfVectorizer\n"
     ]
    },
    {
     "data": {
      "text/plain": [
       "GridSearchCV(cv=5,\n",
       "             estimator=Pipeline(steps=[('vect',\n",
       "                                        TfidfVectorizer(ngram_range=(1, 5))),\n",
       "                                       ('clf', Perceptron())]),\n",
       "             n_jobs=-1,\n",
       "             param_grid={'clf__alpha': [0.0001, 0.001, 0.01, 0.1, 1.0]},\n",
       "             scoring='f1_macro')"
      ]
     },
     "execution_count": 16,
     "metadata": {},
     "output_type": "execute_result"
    },
    {
     "name": "stdout",
     "output_type": "stream",
     "text": [
      "Current Best Estimator:\n",
      "Best F1 Score: 0.7076268667595951\n",
      "Best Parameters: {'clf__alpha': 0.0001}\n",
      "\n",
      "\n",
      "Vectorizer: CountVectorizer\n"
     ]
    },
    {
     "data": {
      "text/plain": [
       "GridSearchCV(cv=5,\n",
       "             estimator=Pipeline(steps=[('vect',\n",
       "                                        CountVectorizer(ngram_range=(1, 6))),\n",
       "                                       ('clf', Perceptron())]),\n",
       "             n_jobs=-1,\n",
       "             param_grid={'clf__alpha': [0.0001, 0.001, 0.01, 0.1, 1.0]},\n",
       "             scoring='f1_macro')"
      ]
     },
     "execution_count": 16,
     "metadata": {},
     "output_type": "execute_result"
    },
    {
     "name": "stdout",
     "output_type": "stream",
     "text": [
      "Current Best Estimator:\n",
      "Best F1 Score: 0.6347125967741784\n",
      "Best Parameters: {'clf__alpha': 0.0001}\n",
      "\n",
      "\n",
      "Vectorizer: CountVectorizer\n"
     ]
    },
    {
     "data": {
      "text/plain": [
       "GridSearchCV(cv=5,\n",
       "             estimator=Pipeline(steps=[('vect',\n",
       "                                        CountVectorizer(binary=True,\n",
       "                                                        max_features=10000,\n",
       "                                                        ngram_range=(1, 2))),\n",
       "                                       ('clf', Perceptron())]),\n",
       "             n_jobs=-1,\n",
       "             param_grid={'clf__alpha': [0.0001, 0.001, 0.01, 0.1, 1.0]},\n",
       "             scoring='f1_macro')"
      ]
     },
     "execution_count": 16,
     "metadata": {},
     "output_type": "execute_result"
    },
    {
     "name": "stdout",
     "output_type": "stream",
     "text": [
      "Current Best Estimator:\n",
      "Best F1 Score: 0.5985022934722096\n",
      "Best Parameters: {'clf__alpha': 0.0001}\n",
      "\n",
      "\n",
      "Vectorizer: TfidfVectorizer\n"
     ]
    },
    {
     "data": {
      "text/plain": [
       "GridSearchCV(cv=5,\n",
       "             estimator=Pipeline(steps=[('vect',\n",
       "                                        TfidfVectorizer(max_features=10000,\n",
       "                                                        ngram_range=(1, 2),\n",
       "                                                        sublinear_tf=True)),\n",
       "                                       ('clf', Perceptron())]),\n",
       "             n_jobs=-1,\n",
       "             param_grid={'clf__alpha': [0.0001, 0.001, 0.01, 0.1, 1.0]},\n",
       "             scoring='f1_macro')"
      ]
     },
     "execution_count": 16,
     "metadata": {},
     "output_type": "execute_result"
    },
    {
     "name": "stdout",
     "output_type": "stream",
     "text": [
      "Current Best Estimator:\n",
      "Best F1 Score: 0.6666630460402738\n",
      "Best Parameters: {'clf__alpha': 0.0001}\n",
      "\n",
      "\n",
      "Vectorizer: TfidfVectorizer\n"
     ]
    },
    {
     "data": {
      "text/plain": [
       "GridSearchCV(cv=5,\n",
       "             estimator=Pipeline(steps=[('vect',\n",
       "                                        TfidfVectorizer(max_features=10000,\n",
       "                                                        ngram_range=(1, 2),\n",
       "                                                        sublinear_tf=True)),\n",
       "                                       ('clf', Perceptron())]),\n",
       "             n_jobs=-1,\n",
       "             param_grid={'clf__alpha': [0.0001, 0.001, 0.01, 0.1, 1.0]},\n",
       "             scoring='f1_macro')"
      ]
     },
     "execution_count": 16,
     "metadata": {},
     "output_type": "execute_result"
    },
    {
     "name": "stdout",
     "output_type": "stream",
     "text": [
      "Current Best Estimator:\n",
      "Best F1 Score: 0.6666630460402738\n",
      "Best Parameters: {'clf__alpha': 0.0001}\n",
      "\n",
      "\n",
      "Vectorizer: TfidfVectorizer\n"
     ]
    },
    {
     "data": {
      "text/plain": [
       "GridSearchCV(cv=5,\n",
       "             estimator=Pipeline(steps=[('vect',\n",
       "                                        TfidfVectorizer(max_features=10000,\n",
       "                                                        ngram_range=(1, 6))),\n",
       "                                       ('clf', Perceptron())]),\n",
       "             n_jobs=-1,\n",
       "             param_grid={'clf__alpha': [0.0001, 0.001, 0.01, 0.1, 1.0]},\n",
       "             scoring='f1_macro')"
      ]
     },
     "execution_count": 16,
     "metadata": {},
     "output_type": "execute_result"
    },
    {
     "name": "stdout",
     "output_type": "stream",
     "text": [
      "Current Best Estimator:\n",
      "Best F1 Score: 0.6746992012612237\n",
      "Best Parameters: {'clf__alpha': 0.0001}\n",
      "\n",
      "\n",
      "#########################################################################################\n",
      "Model: LinearSVC\n",
      "Vectorizer: CountVectorizer\n"
     ]
    },
    {
     "data": {
      "text/plain": [
       "GridSearchCV(cv=5,\n",
       "             estimator=Pipeline(steps=[('vect',\n",
       "                                        CountVectorizer(max_features=10000,\n",
       "                                                        ngram_range=(1, 2))),\n",
       "                                       ('clf', LinearSVC())]),\n",
       "             n_jobs=-1, param_grid={'clf__C': [0.01, 0.1, 1, 10]},\n",
       "             scoring='f1_macro')"
      ]
     },
     "execution_count": 16,
     "metadata": {},
     "output_type": "execute_result"
    },
    {
     "name": "stdout",
     "output_type": "stream",
     "text": [
      "Current Best Estimator:\n",
      "Best F1 Score: 0.6745909252776097\n",
      "Best Parameters: {'clf__C': 0.1}\n",
      "\n",
      "\n",
      "Vectorizer: CountVectorizer\n"
     ]
    },
    {
     "data": {
      "text/plain": [
       "GridSearchCV(cv=5,\n",
       "             estimator=Pipeline(steps=[('vect', CountVectorizer()),\n",
       "                                       ('clf', LinearSVC())]),\n",
       "             n_jobs=-1, param_grid={'clf__C': [0.01, 0.1, 1, 10]},\n",
       "             scoring='f1_macro')"
      ]
     },
     "execution_count": 16,
     "metadata": {},
     "output_type": "execute_result"
    },
    {
     "name": "stdout",
     "output_type": "stream",
     "text": [
      "Current Best Estimator:\n",
      "Best F1 Score: 0.6734527035235895\n",
      "Best Parameters: {'clf__C': 0.1}\n",
      "\n",
      "\n",
      "Vectorizer: TfidfVectorizer\n"
     ]
    },
    {
     "data": {
      "text/plain": [
       "GridSearchCV(cv=5,\n",
       "             estimator=Pipeline(steps=[('vect', TfidfVectorizer()),\n",
       "                                       ('clf', LinearSVC())]),\n",
       "             n_jobs=-1, param_grid={'clf__C': [0.01, 0.1, 1, 10]},\n",
       "             scoring='f1_macro')"
      ]
     },
     "execution_count": 16,
     "metadata": {},
     "output_type": "execute_result"
    },
    {
     "name": "stdout",
     "output_type": "stream",
     "text": [
      "Current Best Estimator:\n",
      "Best F1 Score: 0.6183055746476954\n",
      "Best Parameters: {'clf__C': 10}\n",
      "\n",
      "\n",
      "Vectorizer: CountVectorizer\n"
     ]
    },
    {
     "data": {
      "text/plain": [
       "GridSearchCV(cv=5,\n",
       "             estimator=Pipeline(steps=[('vect',\n",
       "                                        CountVectorizer(ngram_range=(1, 2))),\n",
       "                                       ('clf', LinearSVC())]),\n",
       "             n_jobs=-1, param_grid={'clf__C': [0.01, 0.1, 1, 10]},\n",
       "             scoring='f1_macro')"
      ]
     },
     "execution_count": 16,
     "metadata": {},
     "output_type": "execute_result"
    },
    {
     "name": "stdout",
     "output_type": "stream",
     "text": [
      "Current Best Estimator:\n",
      "Best F1 Score: 0.6242123684604627\n",
      "Best Parameters: {'clf__C': 1}\n",
      "\n",
      "\n",
      "Vectorizer: TfidfVectorizer\n"
     ]
    },
    {
     "data": {
      "text/plain": [
       "GridSearchCV(cv=5,\n",
       "             estimator=Pipeline(steps=[('vect',\n",
       "                                        TfidfVectorizer(ngram_range=(1, 2))),\n",
       "                                       ('clf', LinearSVC())]),\n",
       "             n_jobs=-1, param_grid={'clf__C': [0.01, 0.1, 1, 10]},\n",
       "             scoring='f1_macro')"
      ]
     },
     "execution_count": 16,
     "metadata": {},
     "output_type": "execute_result"
    },
    {
     "name": "stdout",
     "output_type": "stream",
     "text": [
      "Current Best Estimator:\n",
      "Best F1 Score: 0.5307658442223355\n",
      "Best Parameters: {'clf__C': 10}\n",
      "\n",
      "\n",
      "Vectorizer: CountVectorizer\n"
     ]
    },
    {
     "data": {
      "text/plain": [
       "GridSearchCV(cv=5,\n",
       "             estimator=Pipeline(steps=[('vect',\n",
       "                                        CountVectorizer(ngram_range=(1, 3))),\n",
       "                                       ('clf', LinearSVC())]),\n",
       "             n_jobs=-1, param_grid={'clf__C': [0.01, 0.1, 1, 10]},\n",
       "             scoring='f1_macro')"
      ]
     },
     "execution_count": 16,
     "metadata": {},
     "output_type": "execute_result"
    },
    {
     "name": "stdout",
     "output_type": "stream",
     "text": [
      "Current Best Estimator:\n",
      "Best F1 Score: 0.5880663728351448\n",
      "Best Parameters: {'clf__C': 1}\n",
      "\n",
      "\n",
      "Vectorizer: TfidfVectorizer\n"
     ]
    },
    {
     "data": {
      "text/plain": [
       "GridSearchCV(cv=5,\n",
       "             estimator=Pipeline(steps=[('vect',\n",
       "                                        TfidfVectorizer(ngram_range=(1, 3))),\n",
       "                                       ('clf', LinearSVC())]),\n",
       "             n_jobs=-1, param_grid={'clf__C': [0.01, 0.1, 1, 10]},\n",
       "             scoring='f1_macro')"
      ]
     },
     "execution_count": 16,
     "metadata": {},
     "output_type": "execute_result"
    },
    {
     "name": "stdout",
     "output_type": "stream",
     "text": [
      "Current Best Estimator:\n",
      "Best F1 Score: 0.5031281151860562\n",
      "Best Parameters: {'clf__C': 10}\n",
      "\n",
      "\n",
      "Vectorizer: CountVectorizer\n"
     ]
    },
    {
     "data": {
      "text/plain": [
       "GridSearchCV(cv=5,\n",
       "             estimator=Pipeline(steps=[('vect',\n",
       "                                        CountVectorizer(ngram_range=(1, 4))),\n",
       "                                       ('clf', LinearSVC())]),\n",
       "             n_jobs=-1, param_grid={'clf__C': [0.01, 0.1, 1, 10]},\n",
       "             scoring='f1_macro')"
      ]
     },
     "execution_count": 16,
     "metadata": {},
     "output_type": "execute_result"
    },
    {
     "name": "stdout",
     "output_type": "stream",
     "text": [
      "Current Best Estimator:\n",
      "Best F1 Score: 0.5346751932747635\n",
      "Best Parameters: {'clf__C': 10}\n",
      "\n",
      "\n",
      "Vectorizer: TfidfVectorizer\n"
     ]
    },
    {
     "data": {
      "text/plain": [
       "GridSearchCV(cv=5,\n",
       "             estimator=Pipeline(steps=[('vect',\n",
       "                                        TfidfVectorizer(ngram_range=(1, 4))),\n",
       "                                       ('clf', LinearSVC())]),\n",
       "             n_jobs=-1, param_grid={'clf__C': [0.01, 0.1, 1, 10]},\n",
       "             scoring='f1_macro')"
      ]
     },
     "execution_count": 16,
     "metadata": {},
     "output_type": "execute_result"
    },
    {
     "name": "stdout",
     "output_type": "stream",
     "text": [
      "Current Best Estimator:\n",
      "Best F1 Score: 0.4771536173303951\n",
      "Best Parameters: {'clf__C': 10}\n",
      "\n",
      "\n",
      "Vectorizer: CountVectorizer\n"
     ]
    },
    {
     "data": {
      "text/plain": [
       "GridSearchCV(cv=5,\n",
       "             estimator=Pipeline(steps=[('vect',\n",
       "                                        CountVectorizer(ngram_range=(1, 5))),\n",
       "                                       ('clf', LinearSVC())]),\n",
       "             n_jobs=-1, param_grid={'clf__C': [0.01, 0.1, 1, 10]},\n",
       "             scoring='f1_macro')"
      ]
     },
     "execution_count": 16,
     "metadata": {},
     "output_type": "execute_result"
    },
    {
     "name": "stdout",
     "output_type": "stream",
     "text": [
      "Current Best Estimator:\n",
      "Best F1 Score: 0.505626265325428\n",
      "Best Parameters: {'clf__C': 0.1}\n",
      "\n",
      "\n",
      "Vectorizer: TfidfVectorizer\n"
     ]
    },
    {
     "data": {
      "text/plain": [
       "GridSearchCV(cv=5,\n",
       "             estimator=Pipeline(steps=[('vect',\n",
       "                                        TfidfVectorizer(ngram_range=(1, 5))),\n",
       "                                       ('clf', LinearSVC())]),\n",
       "             n_jobs=-1, param_grid={'clf__C': [0.01, 0.1, 1, 10]},\n",
       "             scoring='f1_macro')"
      ]
     },
     "execution_count": 16,
     "metadata": {},
     "output_type": "execute_result"
    },
    {
     "name": "stdout",
     "output_type": "stream",
     "text": [
      "Current Best Estimator:\n",
      "Best F1 Score: 0.4771536173303951\n",
      "Best Parameters: {'clf__C': 10}\n",
      "\n",
      "\n",
      "Vectorizer: CountVectorizer\n"
     ]
    },
    {
     "data": {
      "text/plain": [
       "GridSearchCV(cv=5,\n",
       "             estimator=Pipeline(steps=[('vect',\n",
       "                                        CountVectorizer(ngram_range=(1, 6))),\n",
       "                                       ('clf', LinearSVC())]),\n",
       "             n_jobs=-1, param_grid={'clf__C': [0.01, 0.1, 1, 10]},\n",
       "             scoring='f1_macro')"
      ]
     },
     "execution_count": 16,
     "metadata": {},
     "output_type": "execute_result"
    },
    {
     "name": "stdout",
     "output_type": "stream",
     "text": [
      "Current Best Estimator:\n",
      "Best F1 Score: 0.4767230059413219\n",
      "Best Parameters: {'clf__C': 10}\n",
      "\n",
      "\n",
      "Vectorizer: CountVectorizer\n"
     ]
    },
    {
     "data": {
      "text/plain": [
       "GridSearchCV(cv=5,\n",
       "             estimator=Pipeline(steps=[('vect',\n",
       "                                        CountVectorizer(binary=True,\n",
       "                                                        max_features=10000,\n",
       "                                                        ngram_range=(1, 2))),\n",
       "                                       ('clf', LinearSVC())]),\n",
       "             n_jobs=-1, param_grid={'clf__C': [0.01, 0.1, 1, 10]},\n",
       "             scoring='f1_macro')"
      ]
     },
     "execution_count": 16,
     "metadata": {},
     "output_type": "execute_result"
    },
    {
     "name": "stdout",
     "output_type": "stream",
     "text": [
      "Current Best Estimator:\n",
      "Best F1 Score: 0.6620565572316875\n",
      "Best Parameters: {'clf__C': 1}\n",
      "\n",
      "\n",
      "Vectorizer: TfidfVectorizer\n"
     ]
    },
    {
     "data": {
      "text/plain": [
       "GridSearchCV(cv=5,\n",
       "             estimator=Pipeline(steps=[('vect',\n",
       "                                        TfidfVectorizer(max_features=10000,\n",
       "                                                        ngram_range=(1, 2),\n",
       "                                                        sublinear_tf=True)),\n",
       "                                       ('clf', LinearSVC())]),\n",
       "             n_jobs=-1, param_grid={'clf__C': [0.01, 0.1, 1, 10]},\n",
       "             scoring='f1_macro')"
      ]
     },
     "execution_count": 16,
     "metadata": {},
     "output_type": "execute_result"
    },
    {
     "name": "stdout",
     "output_type": "stream",
     "text": [
      "Current Best Estimator:\n",
      "Best F1 Score: 0.6453136866904207\n",
      "Best Parameters: {'clf__C': 10}\n",
      "\n",
      "\n",
      "Vectorizer: TfidfVectorizer\n"
     ]
    },
    {
     "data": {
      "text/plain": [
       "GridSearchCV(cv=5,\n",
       "             estimator=Pipeline(steps=[('vect',\n",
       "                                        TfidfVectorizer(max_features=10000,\n",
       "                                                        ngram_range=(1, 2),\n",
       "                                                        sublinear_tf=True)),\n",
       "                                       ('clf', LinearSVC())]),\n",
       "             n_jobs=-1, param_grid={'clf__C': [0.01, 0.1, 1, 10]},\n",
       "             scoring='f1_macro')"
      ]
     },
     "execution_count": 16,
     "metadata": {},
     "output_type": "execute_result"
    },
    {
     "name": "stdout",
     "output_type": "stream",
     "text": [
      "Current Best Estimator:\n",
      "Best F1 Score: 0.6453136866904207\n",
      "Best Parameters: {'clf__C': 10}\n",
      "\n",
      "\n",
      "Vectorizer: TfidfVectorizer\n"
     ]
    },
    {
     "data": {
      "text/plain": [
       "GridSearchCV(cv=5,\n",
       "             estimator=Pipeline(steps=[('vect',\n",
       "                                        TfidfVectorizer(max_features=10000,\n",
       "                                                        ngram_range=(1, 6))),\n",
       "                                       ('clf', LinearSVC())]),\n",
       "             n_jobs=-1, param_grid={'clf__C': [0.01, 0.1, 1, 10]},\n",
       "             scoring='f1_macro')"
      ]
     },
     "execution_count": 16,
     "metadata": {},
     "output_type": "execute_result"
    },
    {
     "name": "stdout",
     "output_type": "stream",
     "text": [
      "Current Best Estimator:\n",
      "Best F1 Score: 0.6558225370197662\n",
      "Best Parameters: {'clf__C': 10}\n",
      "\n",
      "\n",
      "#########################################################################################\n",
      "Model: SGDClassifier\n",
      "Vectorizer: CountVectorizer\n"
     ]
    },
    {
     "data": {
      "text/plain": [
       "GridSearchCV(cv=5,\n",
       "             estimator=Pipeline(steps=[('vect',\n",
       "                                        CountVectorizer(max_features=10000,\n",
       "                                                        ngram_range=(1, 2))),\n",
       "                                       ('clf', SGDClassifier())]),\n",
       "             n_jobs=-1,\n",
       "             param_grid={'clf__alpha': [0.0001, 0.001, 0.01, 0.1, 1.0]},\n",
       "             scoring='f1_macro')"
      ]
     },
     "execution_count": 16,
     "metadata": {},
     "output_type": "execute_result"
    },
    {
     "name": "stdout",
     "output_type": "stream",
     "text": [
      "Current Best Estimator:\n",
      "Best F1 Score: 0.6867323287406291\n",
      "Best Parameters: {'clf__alpha': 0.1}\n",
      "\n",
      "\n",
      "Vectorizer: CountVectorizer\n"
     ]
    },
    {
     "data": {
      "text/plain": [
       "GridSearchCV(cv=5,\n",
       "             estimator=Pipeline(steps=[('vect', CountVectorizer()),\n",
       "                                       ('clf', SGDClassifier())]),\n",
       "             n_jobs=-1,\n",
       "             param_grid={'clf__alpha': [0.0001, 0.001, 0.01, 0.1, 1.0]},\n",
       "             scoring='f1_macro')"
      ]
     },
     "execution_count": 16,
     "metadata": {},
     "output_type": "execute_result"
    },
    {
     "name": "stdout",
     "output_type": "stream",
     "text": [
      "Current Best Estimator:\n",
      "Best F1 Score: 0.6674754345954322\n",
      "Best Parameters: {'clf__alpha': 0.001}\n",
      "\n",
      "\n",
      "Vectorizer: TfidfVectorizer\n"
     ]
    },
    {
     "data": {
      "text/plain": [
       "GridSearchCV(cv=5,\n",
       "             estimator=Pipeline(steps=[('vect', TfidfVectorizer()),\n",
       "                                       ('clf', SGDClassifier())]),\n",
       "             n_jobs=-1,\n",
       "             param_grid={'clf__alpha': [0.0001, 0.001, 0.01, 0.1, 1.0]},\n",
       "             scoring='f1_macro')"
      ]
     },
     "execution_count": 16,
     "metadata": {},
     "output_type": "execute_result"
    },
    {
     "name": "stdout",
     "output_type": "stream",
     "text": [
      "Current Best Estimator:\n",
      "Best F1 Score: 0.6162790952936471\n",
      "Best Parameters: {'clf__alpha': 0.001}\n",
      "\n",
      "\n",
      "Vectorizer: CountVectorizer\n"
     ]
    },
    {
     "data": {
      "text/plain": [
       "GridSearchCV(cv=5,\n",
       "             estimator=Pipeline(steps=[('vect',\n",
       "                                        CountVectorizer(ngram_range=(1, 2))),\n",
       "                                       ('clf', SGDClassifier())]),\n",
       "             n_jobs=-1,\n",
       "             param_grid={'clf__alpha': [0.0001, 0.001, 0.01, 0.1, 1.0]},\n",
       "             scoring='f1_macro')"
      ]
     },
     "execution_count": 16,
     "metadata": {},
     "output_type": "execute_result"
    },
    {
     "name": "stdout",
     "output_type": "stream",
     "text": [
      "Current Best Estimator:\n",
      "Best F1 Score: 0.6365361111405943\n",
      "Best Parameters: {'clf__alpha': 0.001}\n",
      "\n",
      "\n",
      "Vectorizer: TfidfVectorizer\n"
     ]
    },
    {
     "data": {
      "text/plain": [
       "GridSearchCV(cv=5,\n",
       "             estimator=Pipeline(steps=[('vect',\n",
       "                                        TfidfVectorizer(ngram_range=(1, 2))),\n",
       "                                       ('clf', SGDClassifier())]),\n",
       "             n_jobs=-1,\n",
       "             param_grid={'clf__alpha': [0.0001, 0.001, 0.01, 0.1, 1.0]},\n",
       "             scoring='f1_macro')"
      ]
     },
     "execution_count": 16,
     "metadata": {},
     "output_type": "execute_result"
    },
    {
     "name": "stdout",
     "output_type": "stream",
     "text": [
      "Current Best Estimator:\n",
      "Best F1 Score: 0.5501634695852661\n",
      "Best Parameters: {'clf__alpha': 0.001}\n",
      "\n",
      "\n",
      "Vectorizer: CountVectorizer\n"
     ]
    },
    {
     "data": {
      "text/plain": [
       "GridSearchCV(cv=5,\n",
       "             estimator=Pipeline(steps=[('vect',\n",
       "                                        CountVectorizer(ngram_range=(1, 3))),\n",
       "                                       ('clf', SGDClassifier())]),\n",
       "             n_jobs=-1,\n",
       "             param_grid={'clf__alpha': [0.0001, 0.001, 0.01, 0.1, 1.0]},\n",
       "             scoring='f1_macro')"
      ]
     },
     "execution_count": 16,
     "metadata": {},
     "output_type": "execute_result"
    },
    {
     "name": "stdout",
     "output_type": "stream",
     "text": [
      "Current Best Estimator:\n",
      "Best F1 Score: 0.6013039146021427\n",
      "Best Parameters: {'clf__alpha': 0.001}\n",
      "\n",
      "\n",
      "Vectorizer: TfidfVectorizer\n"
     ]
    },
    {
     "data": {
      "text/plain": [
       "GridSearchCV(cv=5,\n",
       "             estimator=Pipeline(steps=[('vect',\n",
       "                                        TfidfVectorizer(ngram_range=(1, 3))),\n",
       "                                       ('clf', SGDClassifier())]),\n",
       "             n_jobs=-1,\n",
       "             param_grid={'clf__alpha': [0.0001, 0.001, 0.01, 0.1, 1.0]},\n",
       "             scoring='f1_macro')"
      ]
     },
     "execution_count": 16,
     "metadata": {},
     "output_type": "execute_result"
    },
    {
     "name": "stdout",
     "output_type": "stream",
     "text": [
      "Current Best Estimator:\n",
      "Best F1 Score: 0.5024140494451881\n",
      "Best Parameters: {'clf__alpha': 0.001}\n",
      "\n",
      "\n",
      "Vectorizer: CountVectorizer\n"
     ]
    },
    {
     "data": {
      "text/plain": [
       "GridSearchCV(cv=5,\n",
       "             estimator=Pipeline(steps=[('vect',\n",
       "                                        CountVectorizer(ngram_range=(1, 4))),\n",
       "                                       ('clf', SGDClassifier())]),\n",
       "             n_jobs=-1,\n",
       "             param_grid={'clf__alpha': [0.0001, 0.001, 0.01, 0.1, 1.0]},\n",
       "             scoring='f1_macro')"
      ]
     },
     "execution_count": 16,
     "metadata": {},
     "output_type": "execute_result"
    },
    {
     "name": "stdout",
     "output_type": "stream",
     "text": [
      "Current Best Estimator:\n",
      "Best F1 Score: 0.6057415370445729\n",
      "Best Parameters: {'clf__alpha': 0.001}\n",
      "\n",
      "\n",
      "Vectorizer: TfidfVectorizer\n"
     ]
    },
    {
     "data": {
      "text/plain": [
       "GridSearchCV(cv=5,\n",
       "             estimator=Pipeline(steps=[('vect',\n",
       "                                        TfidfVectorizer(ngram_range=(1, 4))),\n",
       "                                       ('clf', SGDClassifier())]),\n",
       "             n_jobs=-1,\n",
       "             param_grid={'clf__alpha': [0.0001, 0.001, 0.01, 0.1, 1.0]},\n",
       "             scoring='f1_macro')"
      ]
     },
     "execution_count": 16,
     "metadata": {},
     "output_type": "execute_result"
    },
    {
     "name": "stdout",
     "output_type": "stream",
     "text": [
      "Current Best Estimator:\n",
      "Best F1 Score: 0.5031281151860562\n",
      "Best Parameters: {'clf__alpha': 0.001}\n",
      "\n",
      "\n",
      "Vectorizer: CountVectorizer\n"
     ]
    },
    {
     "data": {
      "text/plain": [
       "GridSearchCV(cv=5,\n",
       "             estimator=Pipeline(steps=[('vect',\n",
       "                                        CountVectorizer(ngram_range=(1, 5))),\n",
       "                                       ('clf', SGDClassifier())]),\n",
       "             n_jobs=-1,\n",
       "             param_grid={'clf__alpha': [0.0001, 0.001, 0.01, 0.1, 1.0]},\n",
       "             scoring='f1_macro')"
      ]
     },
     "execution_count": 16,
     "metadata": {},
     "output_type": "execute_result"
    },
    {
     "name": "stdout",
     "output_type": "stream",
     "text": [
      "Current Best Estimator:\n",
      "Best F1 Score: 0.6280332320457491\n",
      "Best Parameters: {'clf__alpha': 0.001}\n",
      "\n",
      "\n",
      "Vectorizer: TfidfVectorizer\n"
     ]
    },
    {
     "data": {
      "text/plain": [
       "GridSearchCV(cv=5,\n",
       "             estimator=Pipeline(steps=[('vect',\n",
       "                                        TfidfVectorizer(ngram_range=(1, 5))),\n",
       "                                       ('clf', SGDClassifier())]),\n",
       "             n_jobs=-1,\n",
       "             param_grid={'clf__alpha': [0.0001, 0.001, 0.01, 0.1, 1.0]},\n",
       "             scoring='f1_macro')"
      ]
     },
     "execution_count": 16,
     "metadata": {},
     "output_type": "execute_result"
    },
    {
     "name": "stdout",
     "output_type": "stream",
     "text": [
      "Current Best Estimator:\n",
      "Best F1 Score: 0.48234317628721446\n",
      "Best Parameters: {'clf__alpha': 0.001}\n",
      "\n",
      "\n",
      "Vectorizer: CountVectorizer\n"
     ]
    },
    {
     "data": {
      "text/plain": [
       "GridSearchCV(cv=5,\n",
       "             estimator=Pipeline(steps=[('vect',\n",
       "                                        CountVectorizer(ngram_range=(1, 6))),\n",
       "                                       ('clf', SGDClassifier())]),\n",
       "             n_jobs=-1,\n",
       "             param_grid={'clf__alpha': [0.0001, 0.001, 0.01, 0.1, 1.0]},\n",
       "             scoring='f1_macro')"
      ]
     },
     "execution_count": 16,
     "metadata": {},
     "output_type": "execute_result"
    },
    {
     "name": "stdout",
     "output_type": "stream",
     "text": [
      "Current Best Estimator:\n",
      "Best F1 Score: 0.6250604007063127\n",
      "Best Parameters: {'clf__alpha': 0.0001}\n",
      "\n",
      "\n",
      "Vectorizer: CountVectorizer\n"
     ]
    },
    {
     "data": {
      "text/plain": [
       "GridSearchCV(cv=5,\n",
       "             estimator=Pipeline(steps=[('vect',\n",
       "                                        CountVectorizer(binary=True,\n",
       "                                                        max_features=10000,\n",
       "                                                        ngram_range=(1, 2))),\n",
       "                                       ('clf', SGDClassifier())]),\n",
       "             n_jobs=-1,\n",
       "             param_grid={'clf__alpha': [0.0001, 0.001, 0.01, 0.1, 1.0]},\n",
       "             scoring='f1_macro')"
      ]
     },
     "execution_count": 16,
     "metadata": {},
     "output_type": "execute_result"
    },
    {
     "name": "stdout",
     "output_type": "stream",
     "text": [
      "Current Best Estimator:\n",
      "Best F1 Score: 0.6275197019100369\n",
      "Best Parameters: {'clf__alpha': 0.0001}\n",
      "\n",
      "\n",
      "Vectorizer: TfidfVectorizer\n"
     ]
    },
    {
     "data": {
      "text/plain": [
       "GridSearchCV(cv=5,\n",
       "             estimator=Pipeline(steps=[('vect',\n",
       "                                        TfidfVectorizer(max_features=10000,\n",
       "                                                        ngram_range=(1, 2),\n",
       "                                                        sublinear_tf=True)),\n",
       "                                       ('clf', SGDClassifier())]),\n",
       "             n_jobs=-1,\n",
       "             param_grid={'clf__alpha': [0.0001, 0.001, 0.01, 0.1, 1.0]},\n",
       "             scoring='f1_macro')"
      ]
     },
     "execution_count": 16,
     "metadata": {},
     "output_type": "execute_result"
    },
    {
     "name": "stdout",
     "output_type": "stream",
     "text": [
      "Current Best Estimator:\n",
      "Best F1 Score: 0.6443852112154064\n",
      "Best Parameters: {'clf__alpha': 0.0001}\n",
      "\n",
      "\n",
      "Vectorizer: TfidfVectorizer\n"
     ]
    },
    {
     "data": {
      "text/plain": [
       "GridSearchCV(cv=5,\n",
       "             estimator=Pipeline(steps=[('vect',\n",
       "                                        TfidfVectorizer(max_features=10000,\n",
       "                                                        ngram_range=(1, 2),\n",
       "                                                        sublinear_tf=True)),\n",
       "                                       ('clf', SGDClassifier())]),\n",
       "             n_jobs=-1,\n",
       "             param_grid={'clf__alpha': [0.0001, 0.001, 0.01, 0.1, 1.0]},\n",
       "             scoring='f1_macro')"
      ]
     },
     "execution_count": 16,
     "metadata": {},
     "output_type": "execute_result"
    },
    {
     "name": "stdout",
     "output_type": "stream",
     "text": [
      "Current Best Estimator:\n",
      "Best F1 Score: 0.6485046550490663\n",
      "Best Parameters: {'clf__alpha': 0.0001}\n",
      "\n",
      "\n",
      "Vectorizer: TfidfVectorizer\n"
     ]
    },
    {
     "data": {
      "text/plain": [
       "GridSearchCV(cv=5,\n",
       "             estimator=Pipeline(steps=[('vect',\n",
       "                                        TfidfVectorizer(max_features=10000,\n",
       "                                                        ngram_range=(1, 6))),\n",
       "                                       ('clf', SGDClassifier())]),\n",
       "             n_jobs=-1,\n",
       "             param_grid={'clf__alpha': [0.0001, 0.001, 0.01, 0.1, 1.0]},\n",
       "             scoring='f1_macro')"
      ]
     },
     "execution_count": 16,
     "metadata": {},
     "output_type": "execute_result"
    },
    {
     "name": "stdout",
     "output_type": "stream",
     "text": [
      "Current Best Estimator:\n",
      "Best F1 Score: 0.6618325612974176\n",
      "Best Parameters: {'clf__alpha': 0.0001}\n",
      "\n",
      "\n",
      "#########################################################################################\n",
      "Model: MultinomialNB\n",
      "Vectorizer: CountVectorizer\n"
     ]
    },
    {
     "data": {
      "text/plain": [
       "GridSearchCV(cv=5,\n",
       "             estimator=Pipeline(steps=[('vect',\n",
       "                                        CountVectorizer(max_features=10000,\n",
       "                                                        ngram_range=(1, 2))),\n",
       "                                       ('clf', MultinomialNB())]),\n",
       "             n_jobs=-1, param_grid={}, scoring='f1_macro')"
      ]
     },
     "execution_count": 16,
     "metadata": {},
     "output_type": "execute_result"
    },
    {
     "name": "stdout",
     "output_type": "stream",
     "text": [
      "Current Best Estimator:\n",
      "Best F1 Score: 0.6443542707953117\n",
      "Best Parameters: {}\n",
      "\n",
      "\n",
      "Vectorizer: CountVectorizer\n"
     ]
    },
    {
     "data": {
      "text/plain": [
       "GridSearchCV(cv=5,\n",
       "             estimator=Pipeline(steps=[('vect', CountVectorizer()),\n",
       "                                       ('clf', MultinomialNB())]),\n",
       "             n_jobs=-1, param_grid={}, scoring='f1_macro')"
      ]
     },
     "execution_count": 16,
     "metadata": {},
     "output_type": "execute_result"
    },
    {
     "name": "stdout",
     "output_type": "stream",
     "text": [
      "Current Best Estimator:\n",
      "Best F1 Score: 0.45448644822391715\n",
      "Best Parameters: {}\n",
      "\n",
      "\n",
      "Vectorizer: TfidfVectorizer\n"
     ]
    },
    {
     "data": {
      "text/plain": [
       "GridSearchCV(cv=5,\n",
       "             estimator=Pipeline(steps=[('vect', TfidfVectorizer()),\n",
       "                                       ('clf', MultinomialNB())]),\n",
       "             n_jobs=-1, param_grid={}, scoring='f1_macro')"
      ]
     },
     "execution_count": 16,
     "metadata": {},
     "output_type": "execute_result"
    },
    {
     "name": "stdout",
     "output_type": "stream",
     "text": [
      "Current Best Estimator:\n",
      "Best F1 Score: 0.43298340190097884\n",
      "Best Parameters: {}\n",
      "\n",
      "\n",
      "Vectorizer: CountVectorizer\n"
     ]
    },
    {
     "data": {
      "text/plain": [
       "GridSearchCV(cv=5,\n",
       "             estimator=Pipeline(steps=[('vect',\n",
       "                                        CountVectorizer(ngram_range=(1, 2))),\n",
       "                                       ('clf', MultinomialNB())]),\n",
       "             n_jobs=-1, param_grid={}, scoring='f1_macro')"
      ]
     },
     "execution_count": 16,
     "metadata": {},
     "output_type": "execute_result"
    },
    {
     "name": "stdout",
     "output_type": "stream",
     "text": [
      "Current Best Estimator:\n",
      "Best F1 Score: 0.46581963280872446\n",
      "Best Parameters: {}\n",
      "\n",
      "\n",
      "Vectorizer: TfidfVectorizer\n"
     ]
    },
    {
     "data": {
      "text/plain": [
       "GridSearchCV(cv=5,\n",
       "             estimator=Pipeline(steps=[('vect',\n",
       "                                        TfidfVectorizer(ngram_range=(1, 2))),\n",
       "                                       ('clf', MultinomialNB())]),\n",
       "             n_jobs=-1, param_grid={}, scoring='f1_macro')"
      ]
     },
     "execution_count": 16,
     "metadata": {},
     "output_type": "execute_result"
    },
    {
     "name": "stdout",
     "output_type": "stream",
     "text": [
      "Current Best Estimator:\n",
      "Best F1 Score: 0.43298340190097884\n",
      "Best Parameters: {}\n",
      "\n",
      "\n",
      "Vectorizer: CountVectorizer\n"
     ]
    },
    {
     "data": {
      "text/plain": [
       "GridSearchCV(cv=5,\n",
       "             estimator=Pipeline(steps=[('vect',\n",
       "                                        CountVectorizer(ngram_range=(1, 3))),\n",
       "                                       ('clf', MultinomialNB())]),\n",
       "             n_jobs=-1, param_grid={}, scoring='f1_macro')"
      ]
     },
     "execution_count": 16,
     "metadata": {},
     "output_type": "execute_result"
    },
    {
     "name": "stdout",
     "output_type": "stream",
     "text": [
      "Current Best Estimator:\n",
      "Best F1 Score: 0.46581963280872446\n",
      "Best Parameters: {}\n",
      "\n",
      "\n",
      "Vectorizer: TfidfVectorizer\n"
     ]
    },
    {
     "data": {
      "text/plain": [
       "GridSearchCV(cv=5,\n",
       "             estimator=Pipeline(steps=[('vect',\n",
       "                                        TfidfVectorizer(ngram_range=(1, 3))),\n",
       "                                       ('clf', MultinomialNB())]),\n",
       "             n_jobs=-1, param_grid={}, scoring='f1_macro')"
      ]
     },
     "execution_count": 16,
     "metadata": {},
     "output_type": "execute_result"
    },
    {
     "name": "stdout",
     "output_type": "stream",
     "text": [
      "Current Best Estimator:\n",
      "Best F1 Score: 0.43298340190097884\n",
      "Best Parameters: {}\n",
      "\n",
      "\n",
      "Vectorizer: CountVectorizer\n"
     ]
    },
    {
     "data": {
      "text/plain": [
       "GridSearchCV(cv=5,\n",
       "             estimator=Pipeline(steps=[('vect',\n",
       "                                        CountVectorizer(ngram_range=(1, 4))),\n",
       "                                       ('clf', MultinomialNB())]),\n",
       "             n_jobs=-1, param_grid={}, scoring='f1_macro')"
      ]
     },
     "execution_count": 16,
     "metadata": {},
     "output_type": "execute_result"
    },
    {
     "name": "stdout",
     "output_type": "stream",
     "text": [
      "Current Best Estimator:\n",
      "Best F1 Score: 0.46581963280872446\n",
      "Best Parameters: {}\n",
      "\n",
      "\n",
      "Vectorizer: TfidfVectorizer\n"
     ]
    },
    {
     "data": {
      "text/plain": [
       "GridSearchCV(cv=5,\n",
       "             estimator=Pipeline(steps=[('vect',\n",
       "                                        TfidfVectorizer(ngram_range=(1, 4))),\n",
       "                                       ('clf', MultinomialNB())]),\n",
       "             n_jobs=-1, param_grid={}, scoring='f1_macro')"
      ]
     },
     "execution_count": 16,
     "metadata": {},
     "output_type": "execute_result"
    },
    {
     "name": "stdout",
     "output_type": "stream",
     "text": [
      "Current Best Estimator:\n",
      "Best F1 Score: 0.43298340190097884\n",
      "Best Parameters: {}\n",
      "\n",
      "\n",
      "Vectorizer: CountVectorizer\n"
     ]
    },
    {
     "data": {
      "text/plain": [
       "GridSearchCV(cv=5,\n",
       "             estimator=Pipeline(steps=[('vect',\n",
       "                                        CountVectorizer(ngram_range=(1, 5))),\n",
       "                                       ('clf', MultinomialNB())]),\n",
       "             n_jobs=-1, param_grid={}, scoring='f1_macro')"
      ]
     },
     "execution_count": 16,
     "metadata": {},
     "output_type": "execute_result"
    },
    {
     "name": "stdout",
     "output_type": "stream",
     "text": [
      "Current Best Estimator:\n",
      "Best F1 Score: 0.46581963280872446\n",
      "Best Parameters: {}\n",
      "\n",
      "\n",
      "Vectorizer: TfidfVectorizer\n"
     ]
    },
    {
     "data": {
      "text/plain": [
       "GridSearchCV(cv=5,\n",
       "             estimator=Pipeline(steps=[('vect',\n",
       "                                        TfidfVectorizer(ngram_range=(1, 5))),\n",
       "                                       ('clf', MultinomialNB())]),\n",
       "             n_jobs=-1, param_grid={}, scoring='f1_macro')"
      ]
     },
     "execution_count": 16,
     "metadata": {},
     "output_type": "execute_result"
    },
    {
     "name": "stdout",
     "output_type": "stream",
     "text": [
      "Current Best Estimator:\n",
      "Best F1 Score: 0.43298340190097884\n",
      "Best Parameters: {}\n",
      "\n",
      "\n",
      "Vectorizer: CountVectorizer\n"
     ]
    },
    {
     "data": {
      "text/plain": [
       "GridSearchCV(cv=5,\n",
       "             estimator=Pipeline(steps=[('vect',\n",
       "                                        CountVectorizer(ngram_range=(1, 6))),\n",
       "                                       ('clf', MultinomialNB())]),\n",
       "             n_jobs=-1, param_grid={}, scoring='f1_macro')"
      ]
     },
     "execution_count": 16,
     "metadata": {},
     "output_type": "execute_result"
    },
    {
     "name": "stdout",
     "output_type": "stream",
     "text": [
      "Current Best Estimator:\n",
      "Best F1 Score: 0.46581963280872446\n",
      "Best Parameters: {}\n",
      "\n",
      "\n",
      "Vectorizer: CountVectorizer\n"
     ]
    },
    {
     "data": {
      "text/plain": [
       "GridSearchCV(cv=5,\n",
       "             estimator=Pipeline(steps=[('vect',\n",
       "                                        CountVectorizer(binary=True,\n",
       "                                                        max_features=10000,\n",
       "                                                        ngram_range=(1, 2))),\n",
       "                                       ('clf', MultinomialNB())]),\n",
       "             n_jobs=-1, param_grid={}, scoring='f1_macro')"
      ]
     },
     "execution_count": 16,
     "metadata": {},
     "output_type": "execute_result"
    },
    {
     "name": "stdout",
     "output_type": "stream",
     "text": [
      "Current Best Estimator:\n",
      "Best F1 Score: 0.6262573968754506\n",
      "Best Parameters: {}\n",
      "\n",
      "\n",
      "Vectorizer: TfidfVectorizer\n"
     ]
    },
    {
     "data": {
      "text/plain": [
       "GridSearchCV(cv=5,\n",
       "             estimator=Pipeline(steps=[('vect',\n",
       "                                        TfidfVectorizer(max_features=10000,\n",
       "                                                        ngram_range=(1, 2),\n",
       "                                                        sublinear_tf=True)),\n",
       "                                       ('clf', MultinomialNB())]),\n",
       "             n_jobs=-1, param_grid={}, scoring='f1_macro')"
      ]
     },
     "execution_count": 16,
     "metadata": {},
     "output_type": "execute_result"
    },
    {
     "name": "stdout",
     "output_type": "stream",
     "text": [
      "Current Best Estimator:\n",
      "Best F1 Score: 0.43298340190097884\n",
      "Best Parameters: {}\n",
      "\n",
      "\n",
      "Vectorizer: TfidfVectorizer\n"
     ]
    },
    {
     "data": {
      "text/plain": [
       "GridSearchCV(cv=5,\n",
       "             estimator=Pipeline(steps=[('vect',\n",
       "                                        TfidfVectorizer(max_features=10000,\n",
       "                                                        ngram_range=(1, 2),\n",
       "                                                        sublinear_tf=True)),\n",
       "                                       ('clf', MultinomialNB())]),\n",
       "             n_jobs=-1, param_grid={}, scoring='f1_macro')"
      ]
     },
     "execution_count": 16,
     "metadata": {},
     "output_type": "execute_result"
    },
    {
     "name": "stdout",
     "output_type": "stream",
     "text": [
      "Current Best Estimator:\n",
      "Best F1 Score: 0.43298340190097884\n",
      "Best Parameters: {}\n",
      "\n",
      "\n",
      "Vectorizer: TfidfVectorizer\n"
     ]
    },
    {
     "data": {
      "text/plain": [
       "GridSearchCV(cv=5,\n",
       "             estimator=Pipeline(steps=[('vect',\n",
       "                                        TfidfVectorizer(max_features=10000,\n",
       "                                                        ngram_range=(1, 6))),\n",
       "                                       ('clf', MultinomialNB())]),\n",
       "             n_jobs=-1, param_grid={}, scoring='f1_macro')"
      ]
     },
     "execution_count": 16,
     "metadata": {},
     "output_type": "execute_result"
    },
    {
     "name": "stdout",
     "output_type": "stream",
     "text": [
      "Current Best Estimator:\n",
      "Best F1 Score: 0.43298340190097884\n",
      "Best Parameters: {}\n",
      "\n",
      "\n",
      "#########################################################################################\n",
      "Model: KNeighborsClassifier (n=3)\n",
      "Vectorizer: CountVectorizer\n"
     ]
    },
    {
     "data": {
      "text/plain": [
       "GridSearchCV(cv=5,\n",
       "             estimator=Pipeline(steps=[('vect',\n",
       "                                        CountVectorizer(max_features=10000,\n",
       "                                                        ngram_range=(1, 2))),\n",
       "                                       ('clf',\n",
       "                                        KNeighborsClassifier(n_neighbors=3,\n",
       "                                                             weights='distance'))]),\n",
       "             n_jobs=-1, param_grid={'clf__n_neighbors': [3]},\n",
       "             scoring='f1_macro')"
      ]
     },
     "execution_count": 16,
     "metadata": {},
     "output_type": "execute_result"
    },
    {
     "name": "stdout",
     "output_type": "stream",
     "text": [
      "Current Best Estimator:\n",
      "Best F1 Score: 0.5214324668877431\n",
      "Best Parameters: {'clf__n_neighbors': 3}\n",
      "\n",
      "\n",
      "Vectorizer: CountVectorizer\n"
     ]
    },
    {
     "data": {
      "text/plain": [
       "GridSearchCV(cv=5,\n",
       "             estimator=Pipeline(steps=[('vect', CountVectorizer()),\n",
       "                                       ('clf',\n",
       "                                        KNeighborsClassifier(n_neighbors=3,\n",
       "                                                             weights='distance'))]),\n",
       "             n_jobs=-1, param_grid={'clf__n_neighbors': [3]},\n",
       "             scoring='f1_macro')"
      ]
     },
     "execution_count": 16,
     "metadata": {},
     "output_type": "execute_result"
    },
    {
     "name": "stdout",
     "output_type": "stream",
     "text": [
      "Current Best Estimator:\n",
      "Best F1 Score: 0.5034833301388021\n",
      "Best Parameters: {'clf__n_neighbors': 3}\n",
      "\n",
      "\n",
      "Vectorizer: TfidfVectorizer\n"
     ]
    },
    {
     "data": {
      "text/plain": [
       "GridSearchCV(cv=5,\n",
       "             estimator=Pipeline(steps=[('vect', TfidfVectorizer()),\n",
       "                                       ('clf',\n",
       "                                        KNeighborsClassifier(n_neighbors=3,\n",
       "                                                             weights='distance'))]),\n",
       "             n_jobs=-1, param_grid={'clf__n_neighbors': [3]},\n",
       "             scoring='f1_macro')"
      ]
     },
     "execution_count": 16,
     "metadata": {},
     "output_type": "execute_result"
    },
    {
     "name": "stdout",
     "output_type": "stream",
     "text": [
      "Current Best Estimator:\n",
      "Best F1 Score: 0.5827467598095415\n",
      "Best Parameters: {'clf__n_neighbors': 3}\n",
      "\n",
      "\n",
      "Vectorizer: CountVectorizer\n"
     ]
    },
    {
     "data": {
      "text/plain": [
       "GridSearchCV(cv=5,\n",
       "             estimator=Pipeline(steps=[('vect',\n",
       "                                        CountVectorizer(ngram_range=(1, 2))),\n",
       "                                       ('clf',\n",
       "                                        KNeighborsClassifier(n_neighbors=3,\n",
       "                                                             weights='distance'))]),\n",
       "             n_jobs=-1, param_grid={'clf__n_neighbors': [3]},\n",
       "             scoring='f1_macro')"
      ]
     },
     "execution_count": 16,
     "metadata": {},
     "output_type": "execute_result"
    },
    {
     "name": "stdout",
     "output_type": "stream",
     "text": [
      "Current Best Estimator:\n",
      "Best F1 Score: 0.4719328028347691\n",
      "Best Parameters: {'clf__n_neighbors': 3}\n",
      "\n",
      "\n",
      "Vectorizer: TfidfVectorizer\n"
     ]
    },
    {
     "data": {
      "text/plain": [
       "GridSearchCV(cv=5,\n",
       "             estimator=Pipeline(steps=[('vect',\n",
       "                                        TfidfVectorizer(ngram_range=(1, 2))),\n",
       "                                       ('clf',\n",
       "                                        KNeighborsClassifier(n_neighbors=3,\n",
       "                                                             weights='distance'))]),\n",
       "             n_jobs=-1, param_grid={'clf__n_neighbors': [3]},\n",
       "             scoring='f1_macro')"
      ]
     },
     "execution_count": 16,
     "metadata": {},
     "output_type": "execute_result"
    },
    {
     "name": "stdout",
     "output_type": "stream",
     "text": [
      "Current Best Estimator:\n",
      "Best F1 Score: 0.6089045142282861\n",
      "Best Parameters: {'clf__n_neighbors': 3}\n",
      "\n",
      "\n",
      "Vectorizer: CountVectorizer\n"
     ]
    },
    {
     "data": {
      "text/plain": [
       "GridSearchCV(cv=5,\n",
       "             estimator=Pipeline(steps=[('vect',\n",
       "                                        CountVectorizer(ngram_range=(1, 3))),\n",
       "                                       ('clf',\n",
       "                                        KNeighborsClassifier(n_neighbors=3,\n",
       "                                                             weights='distance'))]),\n",
       "             n_jobs=-1, param_grid={'clf__n_neighbors': [3]},\n",
       "             scoring='f1_macro')"
      ]
     },
     "execution_count": 16,
     "metadata": {},
     "output_type": "execute_result"
    },
    {
     "name": "stdout",
     "output_type": "stream",
     "text": [
      "Current Best Estimator:\n",
      "Best F1 Score: 0.47442402342106116\n",
      "Best Parameters: {'clf__n_neighbors': 3}\n",
      "\n",
      "\n",
      "Vectorizer: TfidfVectorizer\n"
     ]
    },
    {
     "data": {
      "text/plain": [
       "GridSearchCV(cv=5,\n",
       "             estimator=Pipeline(steps=[('vect',\n",
       "                                        TfidfVectorizer(ngram_range=(1, 3))),\n",
       "                                       ('clf',\n",
       "                                        KNeighborsClassifier(n_neighbors=3,\n",
       "                                                             weights='distance'))]),\n",
       "             n_jobs=-1, param_grid={'clf__n_neighbors': [3]},\n",
       "             scoring='f1_macro')"
      ]
     },
     "execution_count": 16,
     "metadata": {},
     "output_type": "execute_result"
    },
    {
     "name": "stdout",
     "output_type": "stream",
     "text": [
      "Current Best Estimator:\n",
      "Best F1 Score: 0.6157916260120736\n",
      "Best Parameters: {'clf__n_neighbors': 3}\n",
      "\n",
      "\n",
      "Vectorizer: CountVectorizer\n"
     ]
    },
    {
     "data": {
      "text/plain": [
       "GridSearchCV(cv=5,\n",
       "             estimator=Pipeline(steps=[('vect',\n",
       "                                        CountVectorizer(ngram_range=(1, 4))),\n",
       "                                       ('clf',\n",
       "                                        KNeighborsClassifier(n_neighbors=3,\n",
       "                                                             weights='distance'))]),\n",
       "             n_jobs=-1, param_grid={'clf__n_neighbors': [3]},\n",
       "             scoring='f1_macro')"
      ]
     },
     "execution_count": 16,
     "metadata": {},
     "output_type": "execute_result"
    },
    {
     "name": "stdout",
     "output_type": "stream",
     "text": [
      "Current Best Estimator:\n",
      "Best F1 Score: 0.47336019898595766\n",
      "Best Parameters: {'clf__n_neighbors': 3}\n",
      "\n",
      "\n",
      "Vectorizer: TfidfVectorizer\n"
     ]
    },
    {
     "data": {
      "text/plain": [
       "GridSearchCV(cv=5,\n",
       "             estimator=Pipeline(steps=[('vect',\n",
       "                                        TfidfVectorizer(ngram_range=(1, 4))),\n",
       "                                       ('clf',\n",
       "                                        KNeighborsClassifier(n_neighbors=3,\n",
       "                                                             weights='distance'))]),\n",
       "             n_jobs=-1, param_grid={'clf__n_neighbors': [3]},\n",
       "             scoring='f1_macro')"
      ]
     },
     "execution_count": 16,
     "metadata": {},
     "output_type": "execute_result"
    },
    {
     "name": "stdout",
     "output_type": "stream",
     "text": [
      "Current Best Estimator:\n",
      "Best F1 Score: 0.6111055435155424\n",
      "Best Parameters: {'clf__n_neighbors': 3}\n",
      "\n",
      "\n",
      "Vectorizer: CountVectorizer\n"
     ]
    },
    {
     "data": {
      "text/plain": [
       "GridSearchCV(cv=5,\n",
       "             estimator=Pipeline(steps=[('vect',\n",
       "                                        CountVectorizer(ngram_range=(1, 5))),\n",
       "                                       ('clf',\n",
       "                                        KNeighborsClassifier(n_neighbors=3,\n",
       "                                                             weights='distance'))]),\n",
       "             n_jobs=-1, param_grid={'clf__n_neighbors': [3]},\n",
       "             scoring='f1_macro')"
      ]
     },
     "execution_count": 16,
     "metadata": {},
     "output_type": "execute_result"
    },
    {
     "name": "stdout",
     "output_type": "stream",
     "text": [
      "Current Best Estimator:\n",
      "Best F1 Score: 0.4778924679416825\n",
      "Best Parameters: {'clf__n_neighbors': 3}\n",
      "\n",
      "\n",
      "Vectorizer: TfidfVectorizer\n"
     ]
    },
    {
     "data": {
      "text/plain": [
       "GridSearchCV(cv=5,\n",
       "             estimator=Pipeline(steps=[('vect',\n",
       "                                        TfidfVectorizer(ngram_range=(1, 5))),\n",
       "                                       ('clf',\n",
       "                                        KNeighborsClassifier(n_neighbors=3,\n",
       "                                                             weights='distance'))]),\n",
       "             n_jobs=-1, param_grid={'clf__n_neighbors': [3]},\n",
       "             scoring='f1_macro')"
      ]
     },
     "execution_count": 16,
     "metadata": {},
     "output_type": "execute_result"
    },
    {
     "name": "stdout",
     "output_type": "stream",
     "text": [
      "Current Best Estimator:\n",
      "Best F1 Score: 0.6091310429415049\n",
      "Best Parameters: {'clf__n_neighbors': 3}\n",
      "\n",
      "\n",
      "Vectorizer: CountVectorizer\n"
     ]
    },
    {
     "data": {
      "text/plain": [
       "GridSearchCV(cv=5,\n",
       "             estimator=Pipeline(steps=[('vect',\n",
       "                                        CountVectorizer(ngram_range=(1, 6))),\n",
       "                                       ('clf',\n",
       "                                        KNeighborsClassifier(n_neighbors=3,\n",
       "                                                             weights='distance'))]),\n",
       "             n_jobs=-1, param_grid={'clf__n_neighbors': [3]},\n",
       "             scoring='f1_macro')"
      ]
     },
     "execution_count": 16,
     "metadata": {},
     "output_type": "execute_result"
    },
    {
     "name": "stdout",
     "output_type": "stream",
     "text": [
      "Current Best Estimator:\n",
      "Best F1 Score: 0.4876540847392324\n",
      "Best Parameters: {'clf__n_neighbors': 3}\n",
      "\n",
      "\n",
      "Vectorizer: CountVectorizer\n"
     ]
    },
    {
     "data": {
      "text/plain": [
       "GridSearchCV(cv=5,\n",
       "             estimator=Pipeline(steps=[('vect',\n",
       "                                        CountVectorizer(binary=True,\n",
       "                                                        max_features=10000,\n",
       "                                                        ngram_range=(1, 2))),\n",
       "                                       ('clf',\n",
       "                                        KNeighborsClassifier(n_neighbors=3,\n",
       "                                                             weights='distance'))]),\n",
       "             n_jobs=-1, param_grid={'clf__n_neighbors': [3]},\n",
       "             scoring='f1_macro')"
      ]
     },
     "execution_count": 16,
     "metadata": {},
     "output_type": "execute_result"
    },
    {
     "name": "stdout",
     "output_type": "stream",
     "text": [
      "Current Best Estimator:\n",
      "Best F1 Score: 0.4572478399456146\n",
      "Best Parameters: {'clf__n_neighbors': 3}\n",
      "\n",
      "\n",
      "Vectorizer: TfidfVectorizer\n"
     ]
    },
    {
     "data": {
      "text/plain": [
       "GridSearchCV(cv=5,\n",
       "             estimator=Pipeline(steps=[('vect',\n",
       "                                        TfidfVectorizer(max_features=10000,\n",
       "                                                        ngram_range=(1, 2),\n",
       "                                                        sublinear_tf=True)),\n",
       "                                       ('clf',\n",
       "                                        KNeighborsClassifier(n_neighbors=3,\n",
       "                                                             weights='distance'))]),\n",
       "             n_jobs=-1, param_grid={'clf__n_neighbors': [3]},\n",
       "             scoring='f1_macro')"
      ]
     },
     "execution_count": 16,
     "metadata": {},
     "output_type": "execute_result"
    },
    {
     "name": "stdout",
     "output_type": "stream",
     "text": [
      "Current Best Estimator:\n",
      "Best F1 Score: 0.6186564224120996\n",
      "Best Parameters: {'clf__n_neighbors': 3}\n",
      "\n",
      "\n",
      "Vectorizer: TfidfVectorizer\n"
     ]
    },
    {
     "data": {
      "text/plain": [
       "GridSearchCV(cv=5,\n",
       "             estimator=Pipeline(steps=[('vect',\n",
       "                                        TfidfVectorizer(max_features=10000,\n",
       "                                                        ngram_range=(1, 2),\n",
       "                                                        sublinear_tf=True)),\n",
       "                                       ('clf',\n",
       "                                        KNeighborsClassifier(n_neighbors=3,\n",
       "                                                             weights='distance'))]),\n",
       "             n_jobs=-1, param_grid={'clf__n_neighbors': [3]},\n",
       "             scoring='f1_macro')"
      ]
     },
     "execution_count": 16,
     "metadata": {},
     "output_type": "execute_result"
    },
    {
     "name": "stdout",
     "output_type": "stream",
     "text": [
      "Current Best Estimator:\n",
      "Best F1 Score: 0.6186564224120996\n",
      "Best Parameters: {'clf__n_neighbors': 3}\n",
      "\n",
      "\n",
      "Vectorizer: TfidfVectorizer\n"
     ]
    },
    {
     "data": {
      "text/plain": [
       "GridSearchCV(cv=5,\n",
       "             estimator=Pipeline(steps=[('vect',\n",
       "                                        TfidfVectorizer(max_features=10000,\n",
       "                                                        ngram_range=(1, 6))),\n",
       "                                       ('clf',\n",
       "                                        KNeighborsClassifier(n_neighbors=3,\n",
       "                                                             weights='distance'))]),\n",
       "             n_jobs=-1, param_grid={'clf__n_neighbors': [3]},\n",
       "             scoring='f1_macro')"
      ]
     },
     "execution_count": 16,
     "metadata": {},
     "output_type": "execute_result"
    },
    {
     "name": "stdout",
     "output_type": "stream",
     "text": [
      "Current Best Estimator:\n",
      "Best F1 Score: 0.6011334221892132\n",
      "Best Parameters: {'clf__n_neighbors': 3}\n",
      "\n",
      "\n",
      "#########################################################################################\n",
      "Model: KNeighborsClassifier (n=5)\n",
      "Vectorizer: CountVectorizer\n"
     ]
    },
    {
     "data": {
      "text/plain": [
       "GridSearchCV(cv=5,\n",
       "             estimator=Pipeline(steps=[('vect',\n",
       "                                        CountVectorizer(max_features=10000,\n",
       "                                                        ngram_range=(1, 2))),\n",
       "                                       ('clf',\n",
       "                                        KNeighborsClassifier(weights='distance'))]),\n",
       "             n_jobs=-1, param_grid={'clf__n_neighbors': [5]},\n",
       "             scoring='f1_macro')"
      ]
     },
     "execution_count": 16,
     "metadata": {},
     "output_type": "execute_result"
    },
    {
     "name": "stdout",
     "output_type": "stream",
     "text": [
      "Current Best Estimator:\n",
      "Best F1 Score: 0.5119607166094263\n",
      "Best Parameters: {'clf__n_neighbors': 5}\n",
      "\n",
      "\n",
      "Vectorizer: CountVectorizer\n"
     ]
    },
    {
     "data": {
      "text/plain": [
       "GridSearchCV(cv=5,\n",
       "             estimator=Pipeline(steps=[('vect', CountVectorizer()),\n",
       "                                       ('clf',\n",
       "                                        KNeighborsClassifier(weights='distance'))]),\n",
       "             n_jobs=-1, param_grid={'clf__n_neighbors': [5]},\n",
       "             scoring='f1_macro')"
      ]
     },
     "execution_count": 16,
     "metadata": {},
     "output_type": "execute_result"
    },
    {
     "name": "stdout",
     "output_type": "stream",
     "text": [
      "Current Best Estimator:\n",
      "Best F1 Score: 0.5024676495770413\n",
      "Best Parameters: {'clf__n_neighbors': 5}\n",
      "\n",
      "\n",
      "Vectorizer: TfidfVectorizer\n"
     ]
    },
    {
     "data": {
      "text/plain": [
       "GridSearchCV(cv=5,\n",
       "             estimator=Pipeline(steps=[('vect', TfidfVectorizer()),\n",
       "                                       ('clf',\n",
       "                                        KNeighborsClassifier(weights='distance'))]),\n",
       "             n_jobs=-1, param_grid={'clf__n_neighbors': [5]},\n",
       "             scoring='f1_macro')"
      ]
     },
     "execution_count": 16,
     "metadata": {},
     "output_type": "execute_result"
    },
    {
     "name": "stdout",
     "output_type": "stream",
     "text": [
      "Current Best Estimator:\n",
      "Best F1 Score: 0.599907978175901\n",
      "Best Parameters: {'clf__n_neighbors': 5}\n",
      "\n",
      "\n",
      "Vectorizer: CountVectorizer\n"
     ]
    },
    {
     "data": {
      "text/plain": [
       "GridSearchCV(cv=5,\n",
       "             estimator=Pipeline(steps=[('vect',\n",
       "                                        CountVectorizer(ngram_range=(1, 2))),\n",
       "                                       ('clf',\n",
       "                                        KNeighborsClassifier(weights='distance'))]),\n",
       "             n_jobs=-1, param_grid={'clf__n_neighbors': [5]},\n",
       "             scoring='f1_macro')"
      ]
     },
     "execution_count": 16,
     "metadata": {},
     "output_type": "execute_result"
    },
    {
     "name": "stdout",
     "output_type": "stream",
     "text": [
      "Current Best Estimator:\n",
      "Best F1 Score: 0.4985750961993484\n",
      "Best Parameters: {'clf__n_neighbors': 5}\n",
      "\n",
      "\n",
      "Vectorizer: TfidfVectorizer\n"
     ]
    },
    {
     "data": {
      "text/plain": [
       "GridSearchCV(cv=5,\n",
       "             estimator=Pipeline(steps=[('vect',\n",
       "                                        TfidfVectorizer(ngram_range=(1, 2))),\n",
       "                                       ('clf',\n",
       "                                        KNeighborsClassifier(weights='distance'))]),\n",
       "             n_jobs=-1, param_grid={'clf__n_neighbors': [5]},\n",
       "             scoring='f1_macro')"
      ]
     },
     "execution_count": 16,
     "metadata": {},
     "output_type": "execute_result"
    },
    {
     "name": "stdout",
     "output_type": "stream",
     "text": [
      "Current Best Estimator:\n",
      "Best F1 Score: 0.602849908723074\n",
      "Best Parameters: {'clf__n_neighbors': 5}\n",
      "\n",
      "\n",
      "Vectorizer: CountVectorizer\n"
     ]
    },
    {
     "data": {
      "text/plain": [
       "GridSearchCV(cv=5,\n",
       "             estimator=Pipeline(steps=[('vect',\n",
       "                                        CountVectorizer(ngram_range=(1, 3))),\n",
       "                                       ('clf',\n",
       "                                        KNeighborsClassifier(weights='distance'))]),\n",
       "             n_jobs=-1, param_grid={'clf__n_neighbors': [5]},\n",
       "             scoring='f1_macro')"
      ]
     },
     "execution_count": 16,
     "metadata": {},
     "output_type": "execute_result"
    },
    {
     "name": "stdout",
     "output_type": "stream",
     "text": [
      "Current Best Estimator:\n",
      "Best F1 Score: 0.48753318835313014\n",
      "Best Parameters: {'clf__n_neighbors': 5}\n",
      "\n",
      "\n",
      "Vectorizer: TfidfVectorizer\n"
     ]
    },
    {
     "data": {
      "text/plain": [
       "GridSearchCV(cv=5,\n",
       "             estimator=Pipeline(steps=[('vect',\n",
       "                                        TfidfVectorizer(ngram_range=(1, 3))),\n",
       "                                       ('clf',\n",
       "                                        KNeighborsClassifier(weights='distance'))]),\n",
       "             n_jobs=-1, param_grid={'clf__n_neighbors': [5]},\n",
       "             scoring='f1_macro')"
      ]
     },
     "execution_count": 16,
     "metadata": {},
     "output_type": "execute_result"
    },
    {
     "name": "stdout",
     "output_type": "stream",
     "text": [
      "Current Best Estimator:\n",
      "Best F1 Score: 0.6168560150261563\n",
      "Best Parameters: {'clf__n_neighbors': 5}\n",
      "\n",
      "\n",
      "Vectorizer: CountVectorizer\n"
     ]
    },
    {
     "data": {
      "text/plain": [
       "GridSearchCV(cv=5,\n",
       "             estimator=Pipeline(steps=[('vect',\n",
       "                                        CountVectorizer(ngram_range=(1, 4))),\n",
       "                                       ('clf',\n",
       "                                        KNeighborsClassifier(weights='distance'))]),\n",
       "             n_jobs=-1, param_grid={'clf__n_neighbors': [5]},\n",
       "             scoring='f1_macro')"
      ]
     },
     "execution_count": 16,
     "metadata": {},
     "output_type": "execute_result"
    },
    {
     "name": "stdout",
     "output_type": "stream",
     "text": [
      "Current Best Estimator:\n",
      "Best F1 Score: 0.47401116322627057\n",
      "Best Parameters: {'clf__n_neighbors': 5}\n",
      "\n",
      "\n",
      "Vectorizer: TfidfVectorizer\n"
     ]
    },
    {
     "data": {
      "text/plain": [
       "GridSearchCV(cv=5,\n",
       "             estimator=Pipeline(steps=[('vect',\n",
       "                                        TfidfVectorizer(ngram_range=(1, 4))),\n",
       "                                       ('clf',\n",
       "                                        KNeighborsClassifier(weights='distance'))]),\n",
       "             n_jobs=-1, param_grid={'clf__n_neighbors': [5]},\n",
       "             scoring='f1_macro')"
      ]
     },
     "execution_count": 16,
     "metadata": {},
     "output_type": "execute_result"
    },
    {
     "name": "stdout",
     "output_type": "stream",
     "text": [
      "Current Best Estimator:\n",
      "Best F1 Score: 0.6162607705328232\n",
      "Best Parameters: {'clf__n_neighbors': 5}\n",
      "\n",
      "\n",
      "Vectorizer: CountVectorizer\n"
     ]
    },
    {
     "data": {
      "text/plain": [
       "GridSearchCV(cv=5,\n",
       "             estimator=Pipeline(steps=[('vect',\n",
       "                                        CountVectorizer(ngram_range=(1, 5))),\n",
       "                                       ('clf',\n",
       "                                        KNeighborsClassifier(weights='distance'))]),\n",
       "             n_jobs=-1, param_grid={'clf__n_neighbors': [5]},\n",
       "             scoring='f1_macro')"
      ]
     },
     "execution_count": 16,
     "metadata": {},
     "output_type": "execute_result"
    },
    {
     "name": "stdout",
     "output_type": "stream",
     "text": [
      "Current Best Estimator:\n",
      "Best F1 Score: 0.4648825547289027\n",
      "Best Parameters: {'clf__n_neighbors': 5}\n",
      "\n",
      "\n",
      "Vectorizer: TfidfVectorizer\n"
     ]
    },
    {
     "data": {
      "text/plain": [
       "GridSearchCV(cv=5,\n",
       "             estimator=Pipeline(steps=[('vect',\n",
       "                                        TfidfVectorizer(ngram_range=(1, 5))),\n",
       "                                       ('clf',\n",
       "                                        KNeighborsClassifier(weights='distance'))]),\n",
       "             n_jobs=-1, param_grid={'clf__n_neighbors': [5]},\n",
       "             scoring='f1_macro')"
      ]
     },
     "execution_count": 16,
     "metadata": {},
     "output_type": "execute_result"
    },
    {
     "name": "stdout",
     "output_type": "stream",
     "text": [
      "Current Best Estimator:\n",
      "Best F1 Score: 0.6200168728998527\n",
      "Best Parameters: {'clf__n_neighbors': 5}\n",
      "\n",
      "\n",
      "Vectorizer: CountVectorizer\n"
     ]
    },
    {
     "data": {
      "text/plain": [
       "GridSearchCV(cv=5,\n",
       "             estimator=Pipeline(steps=[('vect',\n",
       "                                        CountVectorizer(ngram_range=(1, 6))),\n",
       "                                       ('clf',\n",
       "                                        KNeighborsClassifier(weights='distance'))]),\n",
       "             n_jobs=-1, param_grid={'clf__n_neighbors': [5]},\n",
       "             scoring='f1_macro')"
      ]
     },
     "execution_count": 16,
     "metadata": {},
     "output_type": "execute_result"
    },
    {
     "name": "stdout",
     "output_type": "stream",
     "text": [
      "Current Best Estimator:\n",
      "Best F1 Score: 0.4656967408330491\n",
      "Best Parameters: {'clf__n_neighbors': 5}\n",
      "\n",
      "\n",
      "Vectorizer: CountVectorizer\n"
     ]
    },
    {
     "data": {
      "text/plain": [
       "GridSearchCV(cv=5,\n",
       "             estimator=Pipeline(steps=[('vect',\n",
       "                                        CountVectorizer(binary=True,\n",
       "                                                        max_features=10000,\n",
       "                                                        ngram_range=(1, 2))),\n",
       "                                       ('clf',\n",
       "                                        KNeighborsClassifier(weights='distance'))]),\n",
       "             n_jobs=-1, param_grid={'clf__n_neighbors': [5]},\n",
       "             scoring='f1_macro')"
      ]
     },
     "execution_count": 16,
     "metadata": {},
     "output_type": "execute_result"
    },
    {
     "name": "stdout",
     "output_type": "stream",
     "text": [
      "Current Best Estimator:\n",
      "Best F1 Score: 0.4646745740090955\n",
      "Best Parameters: {'clf__n_neighbors': 5}\n",
      "\n",
      "\n",
      "Vectorizer: TfidfVectorizer\n"
     ]
    },
    {
     "data": {
      "text/plain": [
       "GridSearchCV(cv=5,\n",
       "             estimator=Pipeline(steps=[('vect',\n",
       "                                        TfidfVectorizer(max_features=10000,\n",
       "                                                        ngram_range=(1, 2),\n",
       "                                                        sublinear_tf=True)),\n",
       "                                       ('clf',\n",
       "                                        KNeighborsClassifier(weights='distance'))]),\n",
       "             n_jobs=-1, param_grid={'clf__n_neighbors': [5]},\n",
       "             scoring='f1_macro')"
      ]
     },
     "execution_count": 16,
     "metadata": {},
     "output_type": "execute_result"
    },
    {
     "name": "stdout",
     "output_type": "stream",
     "text": [
      "Current Best Estimator:\n",
      "Best F1 Score: 0.6060571344858671\n",
      "Best Parameters: {'clf__n_neighbors': 5}\n",
      "\n",
      "\n",
      "Vectorizer: TfidfVectorizer\n"
     ]
    },
    {
     "data": {
      "text/plain": [
       "GridSearchCV(cv=5,\n",
       "             estimator=Pipeline(steps=[('vect',\n",
       "                                        TfidfVectorizer(max_features=10000,\n",
       "                                                        ngram_range=(1, 2),\n",
       "                                                        sublinear_tf=True)),\n",
       "                                       ('clf',\n",
       "                                        KNeighborsClassifier(weights='distance'))]),\n",
       "             n_jobs=-1, param_grid={'clf__n_neighbors': [5]},\n",
       "             scoring='f1_macro')"
      ]
     },
     "execution_count": 16,
     "metadata": {},
     "output_type": "execute_result"
    },
    {
     "name": "stdout",
     "output_type": "stream",
     "text": [
      "Current Best Estimator:\n",
      "Best F1 Score: 0.6060571344858671\n",
      "Best Parameters: {'clf__n_neighbors': 5}\n",
      "\n",
      "\n",
      "Vectorizer: TfidfVectorizer\n"
     ]
    },
    {
     "data": {
      "text/plain": [
       "GridSearchCV(cv=5,\n",
       "             estimator=Pipeline(steps=[('vect',\n",
       "                                        TfidfVectorizer(max_features=10000,\n",
       "                                                        ngram_range=(1, 6))),\n",
       "                                       ('clf',\n",
       "                                        KNeighborsClassifier(weights='distance'))]),\n",
       "             n_jobs=-1, param_grid={'clf__n_neighbors': [5]},\n",
       "             scoring='f1_macro')"
      ]
     },
     "execution_count": 16,
     "metadata": {},
     "output_type": "execute_result"
    },
    {
     "name": "stdout",
     "output_type": "stream",
     "text": [
      "Current Best Estimator:\n",
      "Best F1 Score: 0.6031588292401409\n",
      "Best Parameters: {'clf__n_neighbors': 5}\n",
      "\n",
      "\n",
      "#########################################################################################\n",
      "Model: KNeighborsClassifier (n=7)\n",
      "Vectorizer: CountVectorizer\n"
     ]
    },
    {
     "data": {
      "text/plain": [
       "GridSearchCV(cv=5,\n",
       "             estimator=Pipeline(steps=[('vect',\n",
       "                                        CountVectorizer(max_features=10000,\n",
       "                                                        ngram_range=(1, 2))),\n",
       "                                       ('clf',\n",
       "                                        KNeighborsClassifier(n_neighbors=7,\n",
       "                                                             weights='distance'))]),\n",
       "             n_jobs=-1, param_grid={'clf__n_neighbors': [7]},\n",
       "             scoring='f1_macro')"
      ]
     },
     "execution_count": 16,
     "metadata": {},
     "output_type": "execute_result"
    },
    {
     "name": "stdout",
     "output_type": "stream",
     "text": [
      "Current Best Estimator:\n",
      "Best F1 Score: 0.4812419124533462\n",
      "Best Parameters: {'clf__n_neighbors': 7}\n",
      "\n",
      "\n",
      "Vectorizer: CountVectorizer\n"
     ]
    },
    {
     "data": {
      "text/plain": [
       "GridSearchCV(cv=5,\n",
       "             estimator=Pipeline(steps=[('vect', CountVectorizer()),\n",
       "                                       ('clf',\n",
       "                                        KNeighborsClassifier(n_neighbors=7,\n",
       "                                                             weights='distance'))]),\n",
       "             n_jobs=-1, param_grid={'clf__n_neighbors': [7]},\n",
       "             scoring='f1_macro')"
      ]
     },
     "execution_count": 16,
     "metadata": {},
     "output_type": "execute_result"
    },
    {
     "name": "stdout",
     "output_type": "stream",
     "text": [
      "Current Best Estimator:\n",
      "Best F1 Score: 0.5040560553084605\n",
      "Best Parameters: {'clf__n_neighbors': 7}\n",
      "\n",
      "\n",
      "Vectorizer: TfidfVectorizer\n"
     ]
    },
    {
     "data": {
      "text/plain": [
       "GridSearchCV(cv=5,\n",
       "             estimator=Pipeline(steps=[('vect', TfidfVectorizer()),\n",
       "                                       ('clf',\n",
       "                                        KNeighborsClassifier(n_neighbors=7,\n",
       "                                                             weights='distance'))]),\n",
       "             n_jobs=-1, param_grid={'clf__n_neighbors': [7]},\n",
       "             scoring='f1_macro')"
      ]
     },
     "execution_count": 16,
     "metadata": {},
     "output_type": "execute_result"
    },
    {
     "name": "stdout",
     "output_type": "stream",
     "text": [
      "Current Best Estimator:\n",
      "Best F1 Score: 0.5723408975614058\n",
      "Best Parameters: {'clf__n_neighbors': 7}\n",
      "\n",
      "\n",
      "Vectorizer: CountVectorizer\n"
     ]
    },
    {
     "data": {
      "text/plain": [
       "GridSearchCV(cv=5,\n",
       "             estimator=Pipeline(steps=[('vect',\n",
       "                                        CountVectorizer(ngram_range=(1, 2))),\n",
       "                                       ('clf',\n",
       "                                        KNeighborsClassifier(n_neighbors=7,\n",
       "                                                             weights='distance'))]),\n",
       "             n_jobs=-1, param_grid={'clf__n_neighbors': [7]},\n",
       "             scoring='f1_macro')"
      ]
     },
     "execution_count": 16,
     "metadata": {},
     "output_type": "execute_result"
    },
    {
     "name": "stdout",
     "output_type": "stream",
     "text": [
      "Current Best Estimator:\n",
      "Best F1 Score: 0.46993001554989516\n",
      "Best Parameters: {'clf__n_neighbors': 7}\n",
      "\n",
      "\n",
      "Vectorizer: TfidfVectorizer\n"
     ]
    },
    {
     "data": {
      "text/plain": [
       "GridSearchCV(cv=5,\n",
       "             estimator=Pipeline(steps=[('vect',\n",
       "                                        TfidfVectorizer(ngram_range=(1, 2))),\n",
       "                                       ('clf',\n",
       "                                        KNeighborsClassifier(n_neighbors=7,\n",
       "                                                             weights='distance'))]),\n",
       "             n_jobs=-1, param_grid={'clf__n_neighbors': [7]},\n",
       "             scoring='f1_macro')"
      ]
     },
     "execution_count": 16,
     "metadata": {},
     "output_type": "execute_result"
    },
    {
     "name": "stdout",
     "output_type": "stream",
     "text": [
      "Current Best Estimator:\n",
      "Best F1 Score: 0.6165551219747742\n",
      "Best Parameters: {'clf__n_neighbors': 7}\n",
      "\n",
      "\n",
      "Vectorizer: CountVectorizer\n"
     ]
    },
    {
     "data": {
      "text/plain": [
       "GridSearchCV(cv=5,\n",
       "             estimator=Pipeline(steps=[('vect',\n",
       "                                        CountVectorizer(ngram_range=(1, 3))),\n",
       "                                       ('clf',\n",
       "                                        KNeighborsClassifier(n_neighbors=7,\n",
       "                                                             weights='distance'))]),\n",
       "             n_jobs=-1, param_grid={'clf__n_neighbors': [7]},\n",
       "             scoring='f1_macro')"
      ]
     },
     "execution_count": 16,
     "metadata": {},
     "output_type": "execute_result"
    },
    {
     "name": "stdout",
     "output_type": "stream",
     "text": [
      "Current Best Estimator:\n",
      "Best F1 Score: 0.4591002091866697\n",
      "Best Parameters: {'clf__n_neighbors': 7}\n",
      "\n",
      "\n",
      "Vectorizer: TfidfVectorizer\n"
     ]
    },
    {
     "data": {
      "text/plain": [
       "GridSearchCV(cv=5,\n",
       "             estimator=Pipeline(steps=[('vect',\n",
       "                                        TfidfVectorizer(ngram_range=(1, 3))),\n",
       "                                       ('clf',\n",
       "                                        KNeighborsClassifier(n_neighbors=7,\n",
       "                                                             weights='distance'))]),\n",
       "             n_jobs=-1, param_grid={'clf__n_neighbors': [7]},\n",
       "             scoring='f1_macro')"
      ]
     },
     "execution_count": 16,
     "metadata": {},
     "output_type": "execute_result"
    },
    {
     "name": "stdout",
     "output_type": "stream",
     "text": [
      "Current Best Estimator:\n",
      "Best F1 Score: 0.6214887608692923\n",
      "Best Parameters: {'clf__n_neighbors': 7}\n",
      "\n",
      "\n",
      "Vectorizer: CountVectorizer\n"
     ]
    },
    {
     "data": {
      "text/plain": [
       "GridSearchCV(cv=5,\n",
       "             estimator=Pipeline(steps=[('vect',\n",
       "                                        CountVectorizer(ngram_range=(1, 4))),\n",
       "                                       ('clf',\n",
       "                                        KNeighborsClassifier(n_neighbors=7,\n",
       "                                                             weights='distance'))]),\n",
       "             n_jobs=-1, param_grid={'clf__n_neighbors': [7]},\n",
       "             scoring='f1_macro')"
      ]
     },
     "execution_count": 16,
     "metadata": {},
     "output_type": "execute_result"
    },
    {
     "name": "stdout",
     "output_type": "stream",
     "text": [
      "Current Best Estimator:\n",
      "Best F1 Score: 0.4550575122011381\n",
      "Best Parameters: {'clf__n_neighbors': 7}\n",
      "\n",
      "\n",
      "Vectorizer: TfidfVectorizer\n"
     ]
    },
    {
     "data": {
      "text/plain": [
       "GridSearchCV(cv=5,\n",
       "             estimator=Pipeline(steps=[('vect',\n",
       "                                        TfidfVectorizer(ngram_range=(1, 4))),\n",
       "                                       ('clf',\n",
       "                                        KNeighborsClassifier(n_neighbors=7,\n",
       "                                                             weights='distance'))]),\n",
       "             n_jobs=-1, param_grid={'clf__n_neighbors': [7]},\n",
       "             scoring='f1_macro')"
      ]
     },
     "execution_count": 16,
     "metadata": {},
     "output_type": "execute_result"
    },
    {
     "name": "stdout",
     "output_type": "stream",
     "text": [
      "Current Best Estimator:\n",
      "Best F1 Score: 0.6192390460895096\n",
      "Best Parameters: {'clf__n_neighbors': 7}\n",
      "\n",
      "\n",
      "Vectorizer: CountVectorizer\n"
     ]
    },
    {
     "data": {
      "text/plain": [
       "GridSearchCV(cv=5,\n",
       "             estimator=Pipeline(steps=[('vect',\n",
       "                                        CountVectorizer(ngram_range=(1, 5))),\n",
       "                                       ('clf',\n",
       "                                        KNeighborsClassifier(n_neighbors=7,\n",
       "                                                             weights='distance'))]),\n",
       "             n_jobs=-1, param_grid={'clf__n_neighbors': [7]},\n",
       "             scoring='f1_macro')"
      ]
     },
     "execution_count": 16,
     "metadata": {},
     "output_type": "execute_result"
    },
    {
     "name": "stdout",
     "output_type": "stream",
     "text": [
      "Current Best Estimator:\n",
      "Best F1 Score: 0.4550575122011381\n",
      "Best Parameters: {'clf__n_neighbors': 7}\n",
      "\n",
      "\n",
      "Vectorizer: TfidfVectorizer\n"
     ]
    },
    {
     "data": {
      "text/plain": [
       "GridSearchCV(cv=5,\n",
       "             estimator=Pipeline(steps=[('vect',\n",
       "                                        TfidfVectorizer(ngram_range=(1, 5))),\n",
       "                                       ('clf',\n",
       "                                        KNeighborsClassifier(n_neighbors=7,\n",
       "                                                             weights='distance'))]),\n",
       "             n_jobs=-1, param_grid={'clf__n_neighbors': [7]},\n",
       "             scoring='f1_macro')"
      ]
     },
     "execution_count": 16,
     "metadata": {},
     "output_type": "execute_result"
    },
    {
     "name": "stdout",
     "output_type": "stream",
     "text": [
      "Current Best Estimator:\n",
      "Best F1 Score: 0.615896288227419\n",
      "Best Parameters: {'clf__n_neighbors': 7}\n",
      "\n",
      "\n",
      "Vectorizer: CountVectorizer\n"
     ]
    },
    {
     "data": {
      "text/plain": [
       "GridSearchCV(cv=5,\n",
       "             estimator=Pipeline(steps=[('vect',\n",
       "                                        CountVectorizer(ngram_range=(1, 6))),\n",
       "                                       ('clf',\n",
       "                                        KNeighborsClassifier(n_neighbors=7,\n",
       "                                                             weights='distance'))]),\n",
       "             n_jobs=-1, param_grid={'clf__n_neighbors': [7]},\n",
       "             scoring='f1_macro')"
      ]
     },
     "execution_count": 16,
     "metadata": {},
     "output_type": "execute_result"
    },
    {
     "name": "stdout",
     "output_type": "stream",
     "text": [
      "Current Best Estimator:\n",
      "Best F1 Score: 0.4550575122011381\n",
      "Best Parameters: {'clf__n_neighbors': 7}\n",
      "\n",
      "\n",
      "Vectorizer: CountVectorizer\n"
     ]
    },
    {
     "data": {
      "text/plain": [
       "GridSearchCV(cv=5,\n",
       "             estimator=Pipeline(steps=[('vect',\n",
       "                                        CountVectorizer(binary=True,\n",
       "                                                        max_features=10000,\n",
       "                                                        ngram_range=(1, 2))),\n",
       "                                       ('clf',\n",
       "                                        KNeighborsClassifier(n_neighbors=7,\n",
       "                                                             weights='distance'))]),\n",
       "             n_jobs=-1, param_grid={'clf__n_neighbors': [7]},\n",
       "             scoring='f1_macro')"
      ]
     },
     "execution_count": 16,
     "metadata": {},
     "output_type": "execute_result"
    },
    {
     "name": "stdout",
     "output_type": "stream",
     "text": [
      "Current Best Estimator:\n",
      "Best F1 Score: 0.46050855981264993\n",
      "Best Parameters: {'clf__n_neighbors': 7}\n",
      "\n",
      "\n",
      "Vectorizer: TfidfVectorizer\n"
     ]
    },
    {
     "data": {
      "text/plain": [
       "GridSearchCV(cv=5,\n",
       "             estimator=Pipeline(steps=[('vect',\n",
       "                                        TfidfVectorizer(max_features=10000,\n",
       "                                                        ngram_range=(1, 2),\n",
       "                                                        sublinear_tf=True)),\n",
       "                                       ('clf',\n",
       "                                        KNeighborsClassifier(n_neighbors=7,\n",
       "                                                             weights='distance'))]),\n",
       "             n_jobs=-1, param_grid={'clf__n_neighbors': [7]},\n",
       "             scoring='f1_macro')"
      ]
     },
     "execution_count": 16,
     "metadata": {},
     "output_type": "execute_result"
    },
    {
     "name": "stdout",
     "output_type": "stream",
     "text": [
      "Current Best Estimator:\n",
      "Best F1 Score: 0.5962707215636252\n",
      "Best Parameters: {'clf__n_neighbors': 7}\n",
      "\n",
      "\n",
      "Vectorizer: TfidfVectorizer\n"
     ]
    },
    {
     "data": {
      "text/plain": [
       "GridSearchCV(cv=5,\n",
       "             estimator=Pipeline(steps=[('vect',\n",
       "                                        TfidfVectorizer(max_features=10000,\n",
       "                                                        ngram_range=(1, 2),\n",
       "                                                        sublinear_tf=True)),\n",
       "                                       ('clf',\n",
       "                                        KNeighborsClassifier(n_neighbors=7,\n",
       "                                                             weights='distance'))]),\n",
       "             n_jobs=-1, param_grid={'clf__n_neighbors': [7]},\n",
       "             scoring='f1_macro')"
      ]
     },
     "execution_count": 16,
     "metadata": {},
     "output_type": "execute_result"
    },
    {
     "name": "stdout",
     "output_type": "stream",
     "text": [
      "Current Best Estimator:\n",
      "Best F1 Score: 0.5962707215636252\n",
      "Best Parameters: {'clf__n_neighbors': 7}\n",
      "\n",
      "\n",
      "Vectorizer: TfidfVectorizer\n"
     ]
    },
    {
     "data": {
      "text/plain": [
       "GridSearchCV(cv=5,\n",
       "             estimator=Pipeline(steps=[('vect',\n",
       "                                        TfidfVectorizer(max_features=10000,\n",
       "                                                        ngram_range=(1, 6))),\n",
       "                                       ('clf',\n",
       "                                        KNeighborsClassifier(n_neighbors=7,\n",
       "                                                             weights='distance'))]),\n",
       "             n_jobs=-1, param_grid={'clf__n_neighbors': [7]},\n",
       "             scoring='f1_macro')"
      ]
     },
     "execution_count": 16,
     "metadata": {},
     "output_type": "execute_result"
    },
    {
     "name": "stdout",
     "output_type": "stream",
     "text": [
      "Current Best Estimator:\n",
      "Best F1 Score: 0.5863954203464391\n",
      "Best Parameters: {'clf__n_neighbors': 7}\n",
      "\n",
      "\n",
      "#########################################################################################\n",
      "Model: DecisionTreeClassifier\n",
      "Vectorizer: CountVectorizer\n"
     ]
    },
    {
     "data": {
      "text/plain": [
       "GridSearchCV(cv=5,\n",
       "             estimator=Pipeline(steps=[('vect',\n",
       "                                        CountVectorizer(max_features=10000,\n",
       "                                                        ngram_range=(1, 2))),\n",
       "                                       ('clf', DecisionTreeClassifier())]),\n",
       "             n_jobs=-1, param_grid={'clf__max_depth': [None, 10, 20, 30]},\n",
       "             scoring='f1_macro')"
      ]
     },
     "execution_count": 16,
     "metadata": {},
     "output_type": "execute_result"
    },
    {
     "name": "stdout",
     "output_type": "stream",
     "text": [
      "Current Best Estimator:\n",
      "Best F1 Score: 0.5873368078320436\n",
      "Best Parameters: {'clf__max_depth': 10}\n",
      "\n",
      "\n",
      "Vectorizer: CountVectorizer\n"
     ]
    },
    {
     "data": {
      "text/plain": [
       "GridSearchCV(cv=5,\n",
       "             estimator=Pipeline(steps=[('vect', CountVectorizer()),\n",
       "                                       ('clf', DecisionTreeClassifier())]),\n",
       "             n_jobs=-1, param_grid={'clf__max_depth': [None, 10, 20, 30]},\n",
       "             scoring='f1_macro')"
      ]
     },
     "execution_count": 16,
     "metadata": {},
     "output_type": "execute_result"
    },
    {
     "name": "stdout",
     "output_type": "stream",
     "text": [
      "Current Best Estimator:\n",
      "Best F1 Score: 0.5719368414560989\n",
      "Best Parameters: {'clf__max_depth': None}\n",
      "\n",
      "\n",
      "Vectorizer: TfidfVectorizer\n"
     ]
    },
    {
     "data": {
      "text/plain": [
       "GridSearchCV(cv=5,\n",
       "             estimator=Pipeline(steps=[('vect', TfidfVectorizer()),\n",
       "                                       ('clf', DecisionTreeClassifier())]),\n",
       "             n_jobs=-1, param_grid={'clf__max_depth': [None, 10, 20, 30]},\n",
       "             scoring='f1_macro')"
      ]
     },
     "execution_count": 16,
     "metadata": {},
     "output_type": "execute_result"
    },
    {
     "name": "stdout",
     "output_type": "stream",
     "text": [
      "Current Best Estimator:\n",
      "Best F1 Score: 0.6033755006670292\n",
      "Best Parameters: {'clf__max_depth': 30}\n",
      "\n",
      "\n",
      "Vectorizer: CountVectorizer\n"
     ]
    },
    {
     "data": {
      "text/plain": [
       "GridSearchCV(cv=5,\n",
       "             estimator=Pipeline(steps=[('vect',\n",
       "                                        CountVectorizer(ngram_range=(1, 2))),\n",
       "                                       ('clf', DecisionTreeClassifier())]),\n",
       "             n_jobs=-1, param_grid={'clf__max_depth': [None, 10, 20, 30]},\n",
       "             scoring='f1_macro')"
      ]
     },
     "execution_count": 16,
     "metadata": {},
     "output_type": "execute_result"
    },
    {
     "name": "stdout",
     "output_type": "stream",
     "text": [
      "Current Best Estimator:\n",
      "Best F1 Score: 0.5827238891051205\n",
      "Best Parameters: {'clf__max_depth': 30}\n",
      "\n",
      "\n",
      "Vectorizer: TfidfVectorizer\n"
     ]
    },
    {
     "data": {
      "text/plain": [
       "GridSearchCV(cv=5,\n",
       "             estimator=Pipeline(steps=[('vect',\n",
       "                                        TfidfVectorizer(ngram_range=(1, 2))),\n",
       "                                       ('clf', DecisionTreeClassifier())]),\n",
       "             n_jobs=-1, param_grid={'clf__max_depth': [None, 10, 20, 30]},\n",
       "             scoring='f1_macro')"
      ]
     },
     "execution_count": 16,
     "metadata": {},
     "output_type": "execute_result"
    },
    {
     "name": "stdout",
     "output_type": "stream",
     "text": [
      "Current Best Estimator:\n",
      "Best F1 Score: 0.5834033338524088\n",
      "Best Parameters: {'clf__max_depth': 10}\n",
      "\n",
      "\n",
      "Vectorizer: CountVectorizer\n"
     ]
    },
    {
     "data": {
      "text/plain": [
       "GridSearchCV(cv=5,\n",
       "             estimator=Pipeline(steps=[('vect',\n",
       "                                        CountVectorizer(ngram_range=(1, 3))),\n",
       "                                       ('clf', DecisionTreeClassifier())]),\n",
       "             n_jobs=-1, param_grid={'clf__max_depth': [None, 10, 20, 30]},\n",
       "             scoring='f1_macro')"
      ]
     },
     "execution_count": 16,
     "metadata": {},
     "output_type": "execute_result"
    },
    {
     "name": "stdout",
     "output_type": "stream",
     "text": [
      "Current Best Estimator:\n",
      "Best F1 Score: 0.6025196455057913\n",
      "Best Parameters: {'clf__max_depth': 30}\n",
      "\n",
      "\n",
      "Vectorizer: TfidfVectorizer\n"
     ]
    },
    {
     "data": {
      "text/plain": [
       "GridSearchCV(cv=5,\n",
       "             estimator=Pipeline(steps=[('vect',\n",
       "                                        TfidfVectorizer(ngram_range=(1, 3))),\n",
       "                                       ('clf', DecisionTreeClassifier())]),\n",
       "             n_jobs=-1, param_grid={'clf__max_depth': [None, 10, 20, 30]},\n",
       "             scoring='f1_macro')"
      ]
     },
     "execution_count": 16,
     "metadata": {},
     "output_type": "execute_result"
    },
    {
     "name": "stdout",
     "output_type": "stream",
     "text": [
      "Current Best Estimator:\n",
      "Best F1 Score: 0.5770279549088969\n",
      "Best Parameters: {'clf__max_depth': 20}\n",
      "\n",
      "\n",
      "Vectorizer: CountVectorizer\n"
     ]
    },
    {
     "data": {
      "text/plain": [
       "GridSearchCV(cv=5,\n",
       "             estimator=Pipeline(steps=[('vect',\n",
       "                                        CountVectorizer(ngram_range=(1, 4))),\n",
       "                                       ('clf', DecisionTreeClassifier())]),\n",
       "             n_jobs=-1, param_grid={'clf__max_depth': [None, 10, 20, 30]},\n",
       "             scoring='f1_macro')"
      ]
     },
     "execution_count": 16,
     "metadata": {},
     "output_type": "execute_result"
    },
    {
     "name": "stdout",
     "output_type": "stream",
     "text": [
      "Current Best Estimator:\n",
      "Best F1 Score: 0.594907073908797\n",
      "Best Parameters: {'clf__max_depth': None}\n",
      "\n",
      "\n",
      "Vectorizer: TfidfVectorizer\n"
     ]
    },
    {
     "data": {
      "text/plain": [
       "GridSearchCV(cv=5,\n",
       "             estimator=Pipeline(steps=[('vect',\n",
       "                                        TfidfVectorizer(ngram_range=(1, 4))),\n",
       "                                       ('clf', DecisionTreeClassifier())]),\n",
       "             n_jobs=-1, param_grid={'clf__max_depth': [None, 10, 20, 30]},\n",
       "             scoring='f1_macro')"
      ]
     },
     "execution_count": 16,
     "metadata": {},
     "output_type": "execute_result"
    },
    {
     "name": "stdout",
     "output_type": "stream",
     "text": [
      "Current Best Estimator:\n",
      "Best F1 Score: 0.5620820185819246\n",
      "Best Parameters: {'clf__max_depth': None}\n",
      "\n",
      "\n",
      "Vectorizer: CountVectorizer\n"
     ]
    },
    {
     "data": {
      "text/plain": [
       "GridSearchCV(cv=5,\n",
       "             estimator=Pipeline(steps=[('vect',\n",
       "                                        CountVectorizer(ngram_range=(1, 5))),\n",
       "                                       ('clf', DecisionTreeClassifier())]),\n",
       "             n_jobs=-1, param_grid={'clf__max_depth': [None, 10, 20, 30]},\n",
       "             scoring='f1_macro')"
      ]
     },
     "execution_count": 16,
     "metadata": {},
     "output_type": "execute_result"
    },
    {
     "name": "stdout",
     "output_type": "stream",
     "text": [
      "Current Best Estimator:\n",
      "Best F1 Score: 0.6161962029145551\n",
      "Best Parameters: {'clf__max_depth': 20}\n",
      "\n",
      "\n",
      "Vectorizer: TfidfVectorizer\n"
     ]
    },
    {
     "data": {
      "text/plain": [
       "GridSearchCV(cv=5,\n",
       "             estimator=Pipeline(steps=[('vect',\n",
       "                                        TfidfVectorizer(ngram_range=(1, 5))),\n",
       "                                       ('clf', DecisionTreeClassifier())]),\n",
       "             n_jobs=-1, param_grid={'clf__max_depth': [None, 10, 20, 30]},\n",
       "             scoring='f1_macro')"
      ]
     },
     "execution_count": 16,
     "metadata": {},
     "output_type": "execute_result"
    },
    {
     "name": "stdout",
     "output_type": "stream",
     "text": [
      "Current Best Estimator:\n",
      "Best F1 Score: 0.5889656345537879\n",
      "Best Parameters: {'clf__max_depth': 10}\n",
      "\n",
      "\n",
      "Vectorizer: CountVectorizer\n"
     ]
    },
    {
     "data": {
      "text/plain": [
       "GridSearchCV(cv=5,\n",
       "             estimator=Pipeline(steps=[('vect',\n",
       "                                        CountVectorizer(ngram_range=(1, 6))),\n",
       "                                       ('clf', DecisionTreeClassifier())]),\n",
       "             n_jobs=-1, param_grid={'clf__max_depth': [None, 10, 20, 30]},\n",
       "             scoring='f1_macro')"
      ]
     },
     "execution_count": 16,
     "metadata": {},
     "output_type": "execute_result"
    },
    {
     "name": "stdout",
     "output_type": "stream",
     "text": [
      "Current Best Estimator:\n",
      "Best F1 Score: 0.6118085984371266\n",
      "Best Parameters: {'clf__max_depth': 30}\n",
      "\n",
      "\n",
      "Vectorizer: CountVectorizer\n"
     ]
    },
    {
     "data": {
      "text/plain": [
       "GridSearchCV(cv=5,\n",
       "             estimator=Pipeline(steps=[('vect',\n",
       "                                        CountVectorizer(binary=True,\n",
       "                                                        max_features=10000,\n",
       "                                                        ngram_range=(1, 2))),\n",
       "                                       ('clf', DecisionTreeClassifier())]),\n",
       "             n_jobs=-1, param_grid={'clf__max_depth': [None, 10, 20, 30]},\n",
       "             scoring='f1_macro')"
      ]
     },
     "execution_count": 16,
     "metadata": {},
     "output_type": "execute_result"
    },
    {
     "name": "stdout",
     "output_type": "stream",
     "text": [
      "Current Best Estimator:\n",
      "Best F1 Score: 0.5834126607556092\n",
      "Best Parameters: {'clf__max_depth': None}\n",
      "\n",
      "\n",
      "Vectorizer: TfidfVectorizer\n"
     ]
    },
    {
     "data": {
      "text/plain": [
       "GridSearchCV(cv=5,\n",
       "             estimator=Pipeline(steps=[('vect',\n",
       "                                        TfidfVectorizer(max_features=10000,\n",
       "                                                        ngram_range=(1, 2),\n",
       "                                                        sublinear_tf=True)),\n",
       "                                       ('clf', DecisionTreeClassifier())]),\n",
       "             n_jobs=-1, param_grid={'clf__max_depth': [None, 10, 20, 30]},\n",
       "             scoring='f1_macro')"
      ]
     },
     "execution_count": 16,
     "metadata": {},
     "output_type": "execute_result"
    },
    {
     "name": "stdout",
     "output_type": "stream",
     "text": [
      "Current Best Estimator:\n",
      "Best F1 Score: 0.5614368684091512\n",
      "Best Parameters: {'clf__max_depth': 30}\n",
      "\n",
      "\n",
      "Vectorizer: TfidfVectorizer\n"
     ]
    },
    {
     "data": {
      "text/plain": [
       "GridSearchCV(cv=5,\n",
       "             estimator=Pipeline(steps=[('vect',\n",
       "                                        TfidfVectorizer(max_features=10000,\n",
       "                                                        ngram_range=(1, 2),\n",
       "                                                        sublinear_tf=True)),\n",
       "                                       ('clf', DecisionTreeClassifier())]),\n",
       "             n_jobs=-1, param_grid={'clf__max_depth': [None, 10, 20, 30]},\n",
       "             scoring='f1_macro')"
      ]
     },
     "execution_count": 16,
     "metadata": {},
     "output_type": "execute_result"
    },
    {
     "name": "stdout",
     "output_type": "stream",
     "text": [
      "Current Best Estimator:\n",
      "Best F1 Score: 0.5887456470678492\n",
      "Best Parameters: {'clf__max_depth': 30}\n",
      "\n",
      "\n",
      "Vectorizer: TfidfVectorizer\n"
     ]
    },
    {
     "data": {
      "text/plain": [
       "GridSearchCV(cv=5,\n",
       "             estimator=Pipeline(steps=[('vect',\n",
       "                                        TfidfVectorizer(max_features=10000,\n",
       "                                                        ngram_range=(1, 6))),\n",
       "                                       ('clf', DecisionTreeClassifier())]),\n",
       "             n_jobs=-1, param_grid={'clf__max_depth': [None, 10, 20, 30]},\n",
       "             scoring='f1_macro')"
      ]
     },
     "execution_count": 16,
     "metadata": {},
     "output_type": "execute_result"
    },
    {
     "name": "stdout",
     "output_type": "stream",
     "text": [
      "Current Best Estimator:\n",
      "Best F1 Score: 0.5653409181965298\n",
      "Best Parameters: {'clf__max_depth': 30}\n",
      "\n",
      "\n",
      "#########################################################################################\n",
      "Model: RandomForestClassifier\n",
      "Vectorizer: CountVectorizer\n"
     ]
    },
    {
     "data": {
      "text/plain": [
       "GridSearchCV(cv=5,\n",
       "             estimator=Pipeline(steps=[('vect',\n",
       "                                        CountVectorizer(max_features=10000,\n",
       "                                                        ngram_range=(1, 2))),\n",
       "                                       ('clf', RandomForestClassifier())]),\n",
       "             n_jobs=-1,\n",
       "             param_grid={'clf__max_depth': [None, 10, 20],\n",
       "                         'clf__min_samples_leaf': [1, 2, 4],\n",
       "                         'clf__min_samples_split': [2, 5, 10],\n",
       "                         'clf__n_estimators': [100, 200, 300]},\n",
       "             scoring='f1_macro')"
      ]
     },
     "execution_count": 16,
     "metadata": {},
     "output_type": "execute_result"
    },
    {
     "name": "stdout",
     "output_type": "stream",
     "text": [
      "Current Best Estimator:\n",
      "Best F1 Score: 0.49216181650557045\n",
      "Best Parameters: {'clf__max_depth': None, 'clf__min_samples_leaf': 1, 'clf__min_samples_split': 2, 'clf__n_estimators': 300}\n",
      "\n",
      "\n",
      "Vectorizer: CountVectorizer\n"
     ]
    },
    {
     "data": {
      "text/plain": [
       "GridSearchCV(cv=5,\n",
       "             estimator=Pipeline(steps=[('vect', CountVectorizer()),\n",
       "                                       ('clf', RandomForestClassifier())]),\n",
       "             n_jobs=-1,\n",
       "             param_grid={'clf__max_depth': [None, 10, 20],\n",
       "                         'clf__min_samples_leaf': [1, 2, 4],\n",
       "                         'clf__min_samples_split': [2, 5, 10],\n",
       "                         'clf__n_estimators': [100, 200, 300]},\n",
       "             scoring='f1_macro')"
      ]
     },
     "execution_count": 16,
     "metadata": {},
     "output_type": "execute_result"
    },
    {
     "name": "stdout",
     "output_type": "stream",
     "text": [
      "Current Best Estimator:\n",
      "Best F1 Score: 0.46050718187622974\n",
      "Best Parameters: {'clf__max_depth': None, 'clf__min_samples_leaf': 1, 'clf__min_samples_split': 2, 'clf__n_estimators': 100}\n",
      "\n",
      "\n",
      "Vectorizer: TfidfVectorizer\n"
     ]
    },
    {
     "data": {
      "text/plain": [
       "GridSearchCV(cv=5,\n",
       "             estimator=Pipeline(steps=[('vect', TfidfVectorizer()),\n",
       "                                       ('clf', RandomForestClassifier())]),\n",
       "             n_jobs=-1,\n",
       "             param_grid={'clf__max_depth': [None, 10, 20],\n",
       "                         'clf__min_samples_leaf': [1, 2, 4],\n",
       "                         'clf__min_samples_split': [2, 5, 10],\n",
       "                         'clf__n_estimators': [100, 200, 300]},\n",
       "             scoring='f1_macro')"
      ]
     },
     "execution_count": 16,
     "metadata": {},
     "output_type": "execute_result"
    },
    {
     "name": "stdout",
     "output_type": "stream",
     "text": [
      "Current Best Estimator:\n",
      "Best F1 Score: 0.460941827047717\n",
      "Best Parameters: {'clf__max_depth': None, 'clf__min_samples_leaf': 1, 'clf__min_samples_split': 10, 'clf__n_estimators': 100}\n",
      "\n",
      "\n",
      "Vectorizer: CountVectorizer\n"
     ]
    },
    {
     "data": {
      "text/plain": [
       "GridSearchCV(cv=5,\n",
       "             estimator=Pipeline(steps=[('vect',\n",
       "                                        CountVectorizer(ngram_range=(1, 2))),\n",
       "                                       ('clf', RandomForestClassifier())]),\n",
       "             n_jobs=-1,\n",
       "             param_grid={'clf__max_depth': [None, 10, 20],\n",
       "                         'clf__min_samples_leaf': [1, 2, 4],\n",
       "                         'clf__min_samples_split': [2, 5, 10],\n",
       "                         'clf__n_estimators': [100, 200, 300]},\n",
       "             scoring='f1_macro')"
      ]
     },
     "execution_count": 16,
     "metadata": {},
     "output_type": "execute_result"
    },
    {
     "name": "stdout",
     "output_type": "stream",
     "text": [
      "Current Best Estimator:\n",
      "Best F1 Score: 0.4550575122011381\n",
      "Best Parameters: {'clf__max_depth': None, 'clf__min_samples_leaf': 1, 'clf__min_samples_split': 2, 'clf__n_estimators': 100}\n",
      "\n",
      "\n",
      "Vectorizer: TfidfVectorizer\n"
     ]
    },
    {
     "data": {
      "text/plain": [
       "GridSearchCV(cv=5,\n",
       "             estimator=Pipeline(steps=[('vect',\n",
       "                                        TfidfVectorizer(ngram_range=(1, 2))),\n",
       "                                       ('clf', RandomForestClassifier())]),\n",
       "             n_jobs=-1,\n",
       "             param_grid={'clf__max_depth': [None, 10, 20],\n",
       "                         'clf__min_samples_leaf': [1, 2, 4],\n",
       "                         'clf__min_samples_split': [2, 5, 10],\n",
       "                         'clf__n_estimators': [100, 200, 300]},\n",
       "             scoring='f1_macro')"
      ]
     },
     "execution_count": 16,
     "metadata": {},
     "output_type": "execute_result"
    },
    {
     "name": "stdout",
     "output_type": "stream",
     "text": [
      "Current Best Estimator:\n",
      "Best F1 Score: 0.46581963280872446\n",
      "Best Parameters: {'clf__max_depth': None, 'clf__min_samples_leaf': 1, 'clf__min_samples_split': 5, 'clf__n_estimators': 100}\n",
      "\n",
      "\n",
      "Vectorizer: CountVectorizer\n"
     ]
    },
    {
     "data": {
      "text/plain": [
       "GridSearchCV(cv=5,\n",
       "             estimator=Pipeline(steps=[('vect',\n",
       "                                        CountVectorizer(ngram_range=(1, 3))),\n",
       "                                       ('clf', RandomForestClassifier())]),\n",
       "             n_jobs=-1,\n",
       "             param_grid={'clf__max_depth': [None, 10, 20],\n",
       "                         'clf__min_samples_leaf': [1, 2, 4],\n",
       "                         'clf__min_samples_split': [2, 5, 10],\n",
       "                         'clf__n_estimators': [100, 200, 300]},\n",
       "             scoring='f1_macro')"
      ]
     },
     "execution_count": 16,
     "metadata": {},
     "output_type": "execute_result"
    },
    {
     "name": "stdout",
     "output_type": "stream",
     "text": [
      "Current Best Estimator:\n",
      "Best F1 Score: 0.46036996313363276\n",
      "Best Parameters: {'clf__max_depth': None, 'clf__min_samples_leaf': 1, 'clf__min_samples_split': 2, 'clf__n_estimators': 100}\n",
      "\n",
      "\n",
      "Vectorizer: TfidfVectorizer\n"
     ]
    },
    {
     "data": {
      "text/plain": [
       "GridSearchCV(cv=5,\n",
       "             estimator=Pipeline(steps=[('vect',\n",
       "                                        TfidfVectorizer(ngram_range=(1, 3))),\n",
       "                                       ('clf', RandomForestClassifier())]),\n",
       "             n_jobs=-1,\n",
       "             param_grid={'clf__max_depth': [None, 10, 20],\n",
       "                         'clf__min_samples_leaf': [1, 2, 4],\n",
       "                         'clf__min_samples_split': [2, 5, 10],\n",
       "                         'clf__n_estimators': [100, 200, 300]},\n",
       "             scoring='f1_macro')"
      ]
     },
     "execution_count": 16,
     "metadata": {},
     "output_type": "execute_result"
    },
    {
     "name": "stdout",
     "output_type": "stream",
     "text": [
      "Current Best Estimator:\n",
      "Best F1 Score: 0.4550575122011381\n",
      "Best Parameters: {'clf__max_depth': None, 'clf__min_samples_leaf': 1, 'clf__min_samples_split': 10, 'clf__n_estimators': 100}\n",
      "\n",
      "\n",
      "Vectorizer: CountVectorizer\n"
     ]
    },
    {
     "data": {
      "text/plain": [
       "GridSearchCV(cv=5,\n",
       "             estimator=Pipeline(steps=[('vect',\n",
       "                                        CountVectorizer(ngram_range=(1, 4))),\n",
       "                                       ('clf', RandomForestClassifier())]),\n",
       "             n_jobs=-1,\n",
       "             param_grid={'clf__max_depth': [None, 10, 20],\n",
       "                         'clf__min_samples_leaf': [1, 2, 4],\n",
       "                         'clf__min_samples_split': [2, 5, 10],\n",
       "                         'clf__n_estimators': [100, 200, 300]},\n",
       "             scoring='f1_macro')"
      ]
     },
     "execution_count": 16,
     "metadata": {},
     "output_type": "execute_result"
    },
    {
     "name": "stdout",
     "output_type": "stream",
     "text": [
      "Current Best Estimator:\n",
      "Best F1 Score: 0.4550575122011381\n",
      "Best Parameters: {'clf__max_depth': None, 'clf__min_samples_leaf': 1, 'clf__min_samples_split': 2, 'clf__n_estimators': 300}\n",
      "\n",
      "\n",
      "Vectorizer: TfidfVectorizer\n"
     ]
    },
    {
     "data": {
      "text/plain": [
       "GridSearchCV(cv=5,\n",
       "             estimator=Pipeline(steps=[('vect',\n",
       "                                        TfidfVectorizer(ngram_range=(1, 4))),\n",
       "                                       ('clf', RandomForestClassifier())]),\n",
       "             n_jobs=-1,\n",
       "             param_grid={'clf__max_depth': [None, 10, 20],\n",
       "                         'clf__min_samples_leaf': [1, 2, 4],\n",
       "                         'clf__min_samples_split': [2, 5, 10],\n",
       "                         'clf__n_estimators': [100, 200, 300]},\n",
       "             scoring='f1_macro')"
      ]
     },
     "execution_count": 16,
     "metadata": {},
     "output_type": "execute_result"
    },
    {
     "name": "stdout",
     "output_type": "stream",
     "text": [
      "Current Best Estimator:\n",
      "Best F1 Score: 0.46581963280872446\n",
      "Best Parameters: {'clf__max_depth': None, 'clf__min_samples_leaf': 1, 'clf__min_samples_split': 2, 'clf__n_estimators': 100}\n",
      "\n",
      "\n",
      "Vectorizer: CountVectorizer\n"
     ]
    },
    {
     "data": {
      "text/plain": [
       "GridSearchCV(cv=5,\n",
       "             estimator=Pipeline(steps=[('vect',\n",
       "                                        CountVectorizer(ngram_range=(1, 5))),\n",
       "                                       ('clf', RandomForestClassifier())]),\n",
       "             n_jobs=-1,\n",
       "             param_grid={'clf__max_depth': [None, 10, 20],\n",
       "                         'clf__min_samples_leaf': [1, 2, 4],\n",
       "                         'clf__min_samples_split': [2, 5, 10],\n",
       "                         'clf__n_estimators': [100, 200, 300]},\n",
       "             scoring='f1_macro')"
      ]
     },
     "execution_count": 16,
     "metadata": {},
     "output_type": "execute_result"
    },
    {
     "name": "stdout",
     "output_type": "stream",
     "text": [
      "Current Best Estimator:\n",
      "Best F1 Score: 0.4550575122011381\n",
      "Best Parameters: {'clf__max_depth': None, 'clf__min_samples_leaf': 1, 'clf__min_samples_split': 2, 'clf__n_estimators': 100}\n",
      "\n",
      "\n",
      "Vectorizer: TfidfVectorizer\n"
     ]
    },
    {
     "data": {
      "text/plain": [
       "GridSearchCV(cv=5,\n",
       "             estimator=Pipeline(steps=[('vect',\n",
       "                                        TfidfVectorizer(ngram_range=(1, 5))),\n",
       "                                       ('clf', RandomForestClassifier())]),\n",
       "             n_jobs=-1,\n",
       "             param_grid={'clf__max_depth': [None, 10, 20],\n",
       "                         'clf__min_samples_leaf': [1, 2, 4],\n",
       "                         'clf__min_samples_split': [2, 5, 10],\n",
       "                         'clf__n_estimators': [100, 200, 300]},\n",
       "             scoring='f1_macro')"
      ]
     },
     "execution_count": 16,
     "metadata": {},
     "output_type": "execute_result"
    },
    {
     "name": "stdout",
     "output_type": "stream",
     "text": [
      "Current Best Estimator:\n",
      "Best F1 Score: 0.46050718187622974\n",
      "Best Parameters: {'clf__max_depth': None, 'clf__min_samples_leaf': 1, 'clf__min_samples_split': 2, 'clf__n_estimators': 100}\n",
      "\n",
      "\n",
      "Vectorizer: CountVectorizer\n"
     ]
    },
    {
     "data": {
      "text/plain": [
       "GridSearchCV(cv=5,\n",
       "             estimator=Pipeline(steps=[('vect',\n",
       "                                        CountVectorizer(ngram_range=(1, 6))),\n",
       "                                       ('clf', RandomForestClassifier())]),\n",
       "             n_jobs=-1,\n",
       "             param_grid={'clf__max_depth': [None, 10, 20],\n",
       "                         'clf__min_samples_leaf': [1, 2, 4],\n",
       "                         'clf__min_samples_split': [2, 5, 10],\n",
       "                         'clf__n_estimators': [100, 200, 300]},\n",
       "             scoring='f1_macro')"
      ]
     },
     "execution_count": 16,
     "metadata": {},
     "output_type": "execute_result"
    },
    {
     "name": "stdout",
     "output_type": "stream",
     "text": [
      "Current Best Estimator:\n",
      "Best F1 Score: 0.4550575122011381\n",
      "Best Parameters: {'clf__max_depth': None, 'clf__min_samples_leaf': 1, 'clf__min_samples_split': 2, 'clf__n_estimators': 100}\n",
      "\n",
      "\n",
      "Vectorizer: CountVectorizer\n"
     ]
    },
    {
     "data": {
      "text/plain": [
       "GridSearchCV(cv=5,\n",
       "             estimator=Pipeline(steps=[('vect',\n",
       "                                        CountVectorizer(binary=True,\n",
       "                                                        max_features=10000,\n",
       "                                                        ngram_range=(1, 2))),\n",
       "                                       ('clf', RandomForestClassifier())]),\n",
       "             n_jobs=-1,\n",
       "             param_grid={'clf__max_depth': [None, 10, 20],\n",
       "                         'clf__min_samples_leaf': [1, 2, 4],\n",
       "                         'clf__min_samples_split': [2, 5, 10],\n",
       "                         'clf__n_estimators': [100, 200, 300]},\n",
       "             scoring='f1_macro')"
      ]
     },
     "execution_count": 16,
     "metadata": {},
     "output_type": "execute_result"
    },
    {
     "name": "stdout",
     "output_type": "stream",
     "text": [
      "Current Best Estimator:\n",
      "Best F1 Score: 0.5037555379447577\n",
      "Best Parameters: {'clf__max_depth': None, 'clf__min_samples_leaf': 1, 'clf__min_samples_split': 2, 'clf__n_estimators': 200}\n",
      "\n",
      "\n",
      "Vectorizer: TfidfVectorizer\n"
     ]
    },
    {
     "data": {
      "text/plain": [
       "GridSearchCV(cv=5,\n",
       "             estimator=Pipeline(steps=[('vect',\n",
       "                                        TfidfVectorizer(max_features=10000,\n",
       "                                                        ngram_range=(1, 2),\n",
       "                                                        sublinear_tf=True)),\n",
       "                                       ('clf', RandomForestClassifier())]),\n",
       "             n_jobs=-1,\n",
       "             param_grid={'clf__max_depth': [None, 10, 20],\n",
       "                         'clf__min_samples_leaf': [1, 2, 4],\n",
       "                         'clf__min_samples_split': [2, 5, 10],\n",
       "                         'clf__n_estimators': [100, 200, 300]},\n",
       "             scoring='f1_macro')"
      ]
     },
     "execution_count": 16,
     "metadata": {},
     "output_type": "execute_result"
    },
    {
     "name": "stdout",
     "output_type": "stream",
     "text": [
      "Current Best Estimator:\n",
      "Best F1 Score: 0.5275650380476868\n",
      "Best Parameters: {'clf__max_depth': None, 'clf__min_samples_leaf': 1, 'clf__min_samples_split': 2, 'clf__n_estimators': 100}\n",
      "\n",
      "\n",
      "Vectorizer: TfidfVectorizer\n"
     ]
    },
    {
     "data": {
      "text/plain": [
       "GridSearchCV(cv=5,\n",
       "             estimator=Pipeline(steps=[('vect',\n",
       "                                        TfidfVectorizer(max_features=10000,\n",
       "                                                        ngram_range=(1, 2),\n",
       "                                                        sublinear_tf=True)),\n",
       "                                       ('clf', RandomForestClassifier())]),\n",
       "             n_jobs=-1,\n",
       "             param_grid={'clf__max_depth': [None, 10, 20],\n",
       "                         'clf__min_samples_leaf': [1, 2, 4],\n",
       "                         'clf__min_samples_split': [2, 5, 10],\n",
       "                         'clf__n_estimators': [100, 200, 300]},\n",
       "             scoring='f1_macro')"
      ]
     },
     "execution_count": 16,
     "metadata": {},
     "output_type": "execute_result"
    },
    {
     "name": "stdout",
     "output_type": "stream",
     "text": [
      "Current Best Estimator:\n",
      "Best F1 Score: 0.5240432201717027\n",
      "Best Parameters: {'clf__max_depth': None, 'clf__min_samples_leaf': 1, 'clf__min_samples_split': 5, 'clf__n_estimators': 100}\n",
      "\n",
      "\n",
      "Vectorizer: TfidfVectorizer\n"
     ]
    },
    {
     "data": {
      "text/plain": [
       "GridSearchCV(cv=5,\n",
       "             estimator=Pipeline(steps=[('vect',\n",
       "                                        TfidfVectorizer(max_features=10000,\n",
       "                                                        ngram_range=(1, 6))),\n",
       "                                       ('clf', RandomForestClassifier())]),\n",
       "             n_jobs=-1,\n",
       "             param_grid={'clf__max_depth': [None, 10, 20],\n",
       "                         'clf__min_samples_leaf': [1, 2, 4],\n",
       "                         'clf__min_samples_split': [2, 5, 10],\n",
       "                         'clf__n_estimators': [100, 200, 300]},\n",
       "             scoring='f1_macro')"
      ]
     },
     "execution_count": 16,
     "metadata": {},
     "output_type": "execute_result"
    },
    {
     "name": "stdout",
     "output_type": "stream",
     "text": [
      "Current Best Estimator:\n",
      "Best F1 Score: 0.5088447958897938\n",
      "Best Parameters: {'clf__max_depth': None, 'clf__min_samples_leaf': 1, 'clf__min_samples_split': 2, 'clf__n_estimators': 100}\n",
      "\n",
      "\n",
      "Final Best Classifier: Perceptron\n",
      "Final Best Vectorizer: TfidfVectorizer\n",
      "Final Best F1 Score: 0.7076268667595951\n",
      "Final Best Parameters: {'clf__max_depth': None, 'clf__min_samples_leaf': 1, 'clf__min_samples_split': 2, 'clf__n_estimators': 100}\n"
     ]
    }
   ],
   "source": [
    "best_f1_score = 0\n",
    "best_classifier = None\n",
    "best_vectorizer = None\n",
    "best_params = {}\n",
    "\n",
    "# Third stage - the experimental stage\n",
    "for model_name, model in models.items():\n",
    "    print('#########################################################################################')\n",
    "    print(\"Model:\", model_name)\n",
    "\n",
    "    # Define the parameter distribution for the current model\n",
    "    param_dist = param_dists[model_name]\n",
    "\n",
    "    # Loop through vectorizers\n",
    "    for vect in vectorizers:\n",
    "        print(\"Vectorizer:\", vect.__class__.__name__)\n",
    "\n",
    "        # Create the pipeline with vectorizer and model\n",
    "        pipeline = Pipeline([\n",
    "            ('vect', vect),\n",
    "            ('clf', model)\n",
    "        ])\n",
    "\n",
    "        # Define the GridSearchCV instance with the parameter grid for the current model\n",
    "        grid_search = GridSearchCV(\n",
    "            pipeline,\n",
    "            param_dist,  # Use the parameter distribution for the current model\n",
    "            cv=5,  # 5-fold cross-validation\n",
    "            scoring='f1_macro',\n",
    "            n_jobs=-1\n",
    "        )\n",
    "\n",
    "        # Fit the GridSearchCV instance\n",
    "        grid_search.fit(df['story'], df['gender'])\n",
    "\n",
    "        # Get the best estimator and its parameters\n",
    "        best_estimator = grid_search.best_estimator_\n",
    "        best_params = grid_search.best_params_\n",
    "\n",
    "        # Perform cross-validation with the best estimator\n",
    "        f1_scores = cross_val_score(\n",
    "            best_estimator,\n",
    "            df['story'],\n",
    "            df['gender'],\n",
    "            cv=5,\n",
    "            scoring='f1_macro',\n",
    "            n_jobs=-1\n",
    "        )\n",
    "\n",
    "        # Get the mean F1 score across cross-validation folds\n",
    "        mean_f1_score = f1_scores.mean()\n",
    "        \n",
    "        # Update best classifier if needed\n",
    "        if mean_f1_score > best_f1_score:\n",
    "            best_f1_score = mean_f1_score\n",
    "            best_classifier = model_name\n",
    "            best_vectorizer = vect.__class__.__name__\n",
    "            best_params = best_params  # Use the best parameters from the GridSearchCV\n",
    "\n",
    "        # Print the information for the current run\n",
    "        print(\"Current Best Estimator:\")\n",
    "\n",
    "        print(\"Best F1 Score:\", mean_f1_score)\n",
    "        print(\"Best Parameters:\", best_params)\n",
    "        print(\"\\n\")\n",
    "\n",
    "print(\"Final Best Classifier:\", best_classifier)\n",
    "print(\"Final Best Vectorizer:\", best_vectorizer)\n",
    "print(\"Final Best F1 Score:\", best_f1_score)\n",
    "print(\"Final Best Parameters:\", best_params)\n",
    "\n"
   ]
  },
  {
   "cell_type": "code",
   "execution_count": null,
   "metadata": {},
   "outputs": [],
   "source": []
  },
  {
   "cell_type": "markdown",
   "metadata": {},
   "source": [
    "### Save output to csv (optional)\n",
    "After you're done save your output to the 'classification_results.csv' csv file.<br/>\n",
    "We assume that the dataframe with your results contain the following columns:\n",
    "* column 1 (left column): 'test_example_id'  - the same id associated to each of the test stories to be predicted.\n",
    "* column 2 (right column): 'predicted_category' - the predicted gender value for each of the associated story. \n",
    "\n",
    "Assuming your predicted values are in the `df_predicted` dataframe, you should save you're results as following:"
   ]
  },
  {
   "cell_type": "code",
   "execution_count": null,
   "metadata": {},
   "outputs": [],
   "source": [
    "df_predicted.to_csv('classification_results.csv',index=False)"
   ]
  },
  {
   "cell_type": "code",
   "execution_count": null,
   "metadata": {},
   "outputs": [],
   "source": []
  }
 ],
 "metadata": {
  "celltoolbar": "Create Assignment",
  "kernelspec": {
   "display_name": "Python 3 (ipykernel)",
   "language": "python",
   "name": "python3"
  },
  "language_info": {
   "codemirror_mode": {
    "name": "ipython",
    "version": 3
   },
   "file_extension": ".py",
   "mimetype": "text/x-python",
   "name": "python",
   "nbconvert_exporter": "python",
   "pygments_lexer": "ipython3",
   "version": "3.9.13"
  }
 },
 "nbformat": 4,
 "nbformat_minor": 4
}
