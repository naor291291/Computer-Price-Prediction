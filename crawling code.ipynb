{
 "cells": [
  {
   "cell_type": "code",
   "execution_count": 1,
   "id": "1ecc6898",
   "metadata": {},
   "outputs": [
    {
     "data": {
      "text/plain": [
       "<ref *1> PuppeteerExtra {\n",
       "  _pptr: {\n",
       "    connect: [Function: bound bound connect],\n",
       "    createBrowserFetcher: [Function: bound createBrowserFetcher],\n",
       "    defaultArgs: [Function: bound defaultArgs],\n",
       "    executablePath: [Function: bound executablePath],\n",
       "    launch: [Function: bound launch],\n",
       "    WEB_PERMISSION_TO_PROTOCOL_PERMISSION: [Getter],\n",
       "    Browser: [Getter],\n",
       "    BrowserContext: [Getter],\n",
       "    Page: [Getter],\n",
       "    supportedMetrics: [Getter],\n",
       "    unitToPixels: [Getter],\n",
       "    JSHandle: [Getter],\n",
       "    ElementHandle: [Getter],\n",
       "    HTTPResponse: [Getter],\n",
       "    DEFAULT_INTERCEPT_RESOLUTION_PRIORITY: [Getter],\n",
       "    HTTPRequest: [Getter],\n",
       "    InterceptResolutionAction: [Getter],\n",
       "    headersArray: [Getter],\n",
       "    STATUS_TEXTS: [Getter],\n",
       "    Accessibility: [Getter],\n",
       "    ARIAQueryHandler: [Getter],\n",
       "    CDPBrowser: [Getter],\n",
       "    CDPBrowserContext: [Getter],\n",
       "    _connectToCDPBrowser: [Getter],\n",
       "    BrowserWebSocketTransport: [Getter],\n",
       "    ChromeTargetManager: [Getter],\n",
       "    ConnectionEmittedEvents: [Getter],\n",
       "    CallbackRegistry: [Getter],\n",
       "    Connection: [Getter],\n",
       "    CDPSessionEmittedEvents: [Getter],\n",
       "    CDPSession: [Getter],\n",
       "    CDPSessionImpl: [Getter],\n",
       "    isTargetClosedError: [Getter],\n",
       "    ConsoleMessage: [Getter],\n",
       "    Coverage: [Getter],\n",
       "    JSCoverage: [Getter],\n",
       "    CSSCoverage: [Getter],\n",
       "    CustomQueryHandlerRegistry: [Getter],\n",
       "    customQueryHandlers: [Getter],\n",
       "    registerCustomQueryHandler: [Getter],\n",
       "    unregisterCustomQueryHandler: [Getter],\n",
       "    customQueryHandlerNames: [Getter],\n",
       "    clearCustomQueryHandlers: [Getter],\n",
       "    importDebug: [Getter],\n",
       "    debug: [Getter],\n",
       "    setLogCapture: [Getter],\n",
       "    getCapturedLogs: [Getter],\n",
       "    KnownDevices: [Getter],\n",
       "    devices: [Getter],\n",
       "    DeviceRequestPromptDevice: [Getter],\n",
       "    DeviceRequestPrompt: [Getter],\n",
       "    DeviceRequestPromptManager: [Getter],\n",
       "    Dialog: [Getter],\n",
       "    CDPElementHandle: [Getter],\n",
       "    EmulationManager: [Getter],\n",
       "    CustomError: [Getter],\n",
       "    TimeoutError: [Getter],\n",
       "    AbortError: [Getter],\n",
       "    ProtocolError: [Getter],\n",
       "    errors: [Getter],\n",
       "    EventEmitter: [Getter],\n",
       "    EVALUATION_SCRIPT_URL: [Getter],\n",
       "    ExecutionContext: [Getter],\n",
       "    getFetch: [Getter],\n",
       "    FileChooser: [Getter],\n",
       "    FirefoxTargetManager: [Getter],\n",
       "    Frame: [Getter],\n",
       "    FrameManagerEmittedEvents: [Getter],\n",
       "    FrameManager: [Getter],\n",
       "    FrameTree: [Getter],\n",
       "    Keyboard: [Getter],\n",
       "    MouseButton: [Getter],\n",
       "    Mouse: [Getter],\n",
       "    Touchscreen: [Getter],\n",
       "    IsolatedWorld: [Getter],\n",
       "    MAIN_WORLD: [Getter],\n",
       "    PUPPETEER_WORLD: [Getter],\n",
       "    CDPJSHandle: [Getter],\n",
       "    LazyArg: [Getter],\n",
       "    LifecycleWatcher: [Getter],\n",
       "    NetworkEventManager: [Getter],\n",
       "    NetworkManagerEmittedEvents: [Getter],\n",
       "    NetworkManager: [Getter],\n",
       "    NodeWebSocketTransport: [Getter],\n",
       "    CDPPage: [Getter],\n",
       "    paperFormats: [Getter],\n",
       "    PredefinedNetworkConditions: [Getter],\n",
       "    networkConditions: [Getter],\n",
       "    Puppeteer: [Getter],\n",
       "    SecurityDetails: [Getter],\n",
       "    Target: [Getter],\n",
       "    TaskQueue: [Getter],\n",
       "    TimeoutSettings: [Getter],\n",
       "    Tracing: [Getter],\n",
       "    _keyDefinitions: [Getter],\n",
       "    debugError: [Getter],\n",
       "    getExceptionMessage: [Getter],\n",
       "    valueFromRemoteObject: [Getter],\n",
       "    releaseObject: [Getter],\n",
       "    addEventListener: [Getter],\n",
       "    removeEventListeners: [Getter],\n",
       "    isString: [Getter],\n",
       "    isNumber: [Getter],\n",
       "    isPlainObject: [Getter],\n",
       "    isRegExp: [Getter],\n",
       "    isDate: [Getter],\n",
       "    waitForEvent: [Getter],\n",
       "    createJSHandle: [Getter],\n",
       "    evaluationString: [Getter],\n",
       "    addPageBinding: [Getter],\n",
       "    pageBindingInitString: [Getter],\n",
       "    waitWithTimeout: [Getter],\n",
       "    importFSPromises: [Getter],\n",
       "    getReadableAsBuffer: [Getter],\n",
       "    getReadableFromProtocolStream: [Getter],\n",
       "    setPageContent: [Getter],\n",
       "    WaitTask: [Getter],\n",
       "    TaskManager: [Getter],\n",
       "    WebWorker: [Getter],\n",
       "    QueryHandler: [Getter],\n",
       "    BrowserFetcher: [Getter],\n",
       "    ChromeLauncher: [Getter],\n",
       "    FirefoxLauncher: [Getter],\n",
       "    PipeTransport: [Getter],\n",
       "    ProductLauncher: [Getter],\n",
       "    PuppeteerNode: [Getter],\n",
       "    PUPPETEER_REVISIONS: [Getter],\n",
       "    assert: [Getter],\n",
       "    createDebuggableDeferredPromise: [Getter],\n",
       "    createDeferredPromise: [Getter],\n",
       "    isErrorLike: [Getter],\n",
       "    isErrnoException: [Getter],\n",
       "    AsyncIterableUtil: [Getter],\n",
       "    default: PuppeteerNode {\n",
       "      _changedProduct: false,\n",
       "      _isPuppeteerCore: false,\n",
       "      connect: [Function: bound bound connect],\n",
       "      configuration: [Object],\n",
       "      defaultBrowserRevision: '1108766',\n",
       "      launch: [Function: bound launch],\n",
       "      executablePath: [Function: bound executablePath],\n",
       "      defaultArgs: [Function: bound defaultArgs],\n",
       "      createBrowserFetcher: [Function: bound createBrowserFetcher]\n",
       "    }\n",
       "  },\n",
       "  _requireError: undefined,\n",
       "  _plugins: [\n",
       "    StealthPlugin {\n",
       "      _debugBase: [Function],\n",
       "      _childClassMembers: [Array],\n",
       "      _opts: [Object]\n",
       "    }\n",
       "  ],\n",
       "  PuppeteerExtra: [class PuppeteerExtra],\n",
       "  addExtra: [Function: addExtra],\n",
       "  default: [Circular *1]\n",
       "}"
      ]
     },
     "execution_count": 1,
     "metadata": {},
     "output_type": "execute_result"
    }
   ],
   "source": [
    "const fs = require('fs');\n",
    "const puppeteer = require('puppeteer');\n",
    "const randomUseragent = require('random-useragent');\n",
    "const StealthPlugin = require('puppeteer-extra-plugin-stealth');\n",
    "const puppeteerExtra = require('puppeteer-extra');\n",
    "puppeteerExtra.use(StealthPlugin());"
   ]
  },
  {
   "cell_type": "code",
   "execution_count": 7,
   "id": "1de49ab2",
   "metadata": {},
   "outputs": [],
   "source": [
    "function wait(ms) {\n",
    "  return new Promise((resolve) => setTimeout(resolve, ms));\n",
    "}\n"
   ]
  },
  {
   "cell_type": "code",
   "execution_count": 2,
   "id": "4a705b02",
   "metadata": {},
   "outputs": [],
   "source": [
    "async function searchTableValue(page, keyword, caption) {\n",
    "  try {\n",
    "    const value = await page.evaluate((word, cap) => {\n",
    "      const captionElements = Array.from(document.querySelectorAll('caption'));\n",
    "      for (const captionElement of captionElements) {\n",
    "        const captionText = captionElement.innerText.trim();\n",
    "        if (captionText === cap) {\n",
    "          const tableElement = captionElement.parentElement;\n",
    "          const thElements = Array.from(tableElement.querySelectorAll('.table-horizontal th'));\n",
    "          for (const thElement of thElements) {\n",
    "            const thText = thElement.innerText.trim();\n",
    "            if (thText.includes(word)) {\n",
    "              const tdElement = thElement.nextElementSibling;\n",
    "              const tdText = tdElement.innerText.trim();\n",
    "              return tdText.toString(); // Convert the value to a string\n",
    "            }\n",
    "          }\n",
    "        }\n",
    "      }\n",
    "      return NaN.toString(); // Return NaN as a string\n",
    "    }, keyword, caption, { timeout: 5000 });\n",
    "\n",
    "    return value;\n",
    "  } catch (error) {\n",
    "    console.error(`Error occurred while searching for ${keyword}:`, error);\n",
    "    return NaN.toString(); // Return NaN as a string in case of error\n",
    "  }\n",
    "}"
   ]
  },
  {
   "cell_type": "code",
   "execution_count": 3,
   "id": "3d697fa6",
   "metadata": {},
   "outputs": [],
   "source": [
    "async function openUrl(url) {\n",
    "  try {\n",
    "    const browser = await puppeteerExtra.launch({\n",
    "      headless: true,\n",
    "      args: [\n",
    "        \"--no-sandbox\",\n",
    "        \"--disable-setuid-sandbox\",\n",
    "        \"--disable-infobars\",\n",
    "        \"--disable-dev-shm-usage\",\n",
    "        \"--disable-browser-side-navigation\",\n",
    "        \"--disable-features=site-per-process\",\n",
    "        \"--disable-web-security\",\n",
    "      ],\n",
    "    });\n",
    "    const page = await browser.newPage();\n",
    "\n",
    "    const userAgent = randomUseragent.getRandom();\n",
    "    await page.setUserAgent(userAgent);\n",
    "\n",
    "    const { width, height } = await page.evaluate(() => ({\n",
    "      width: window.screen.width,\n",
    "      height: window.screen.height,\n",
    "    }));\n",
    "    await page.setViewport({ width, height });\n",
    "\n",
    "    await page.goto(url);\n",
    "\n",
    "    return page;\n",
    "  } catch (error) {\n",
    "    console.error(error);\n",
    "    throw error;\n",
    "  }\n",
    "}\n"
   ]
  },
  {
   "cell_type": "code",
   "execution_count": 4,
   "id": "c786be96",
   "metadata": {},
   "outputs": [],
   "source": [
    "async function extractUrlsFromPages(initialUrl, totalPages, urlFormat) {\n",
    "  const urls = [];\n",
    "\n",
    "  const browser = await puppeteer.launch();\n",
    "  const page = await browser.newPage();\n",
    "\n",
    "  for (let currentPage = 1; currentPage <= totalPages; currentPage++) {\n",
    "    const url = urlFormat.replace(\"{page}\", currentPage);\n",
    "\n",
    "    await page.goto(url);\n",
    "\n",
    "    const links = await page.$$eval(\".item-container a.item-img\", (elements) =>\n",
    "      elements.map((element) => element.href.trim())\n",
    "    );\n",
    "\n",
    "    urls.push(...links);\n",
    "    console.log(`Found ${links.length} links on page ${currentPage}`);\n",
    "    await wait(3000);\n",
    "  }\n",
    "\n",
    "  await browser.close();\n",
    "\n",
    "  return urls;\n",
    "}"
   ]
  },
  {
   "cell_type": "code",
   "execution_count": 5,
   "id": "c92b9be6",
   "metadata": {},
   "outputs": [],
   "source": [
    "async function run() {\n",
    "  // Define pagenow before using it\n",
    "  const initialUrl1 = \"https://www.newegg.com/Business-Laptops/SubCategory/ID-3413/Page-{page}?Tid=167751\";\n",
    "  const totalPages1 = 40;\n",
    "  const urlFormat1 = initialUrl1;\n",
    "  const urls1 = await extractUrlsFromPages(initialUrl1, totalPages1, urlFormat1);\n",
    "\n",
    "  // Define pagenow2 before using it\n",
    "  const initialUrl2 = \"https://www.newegg.com/Laptops-Notebooks/SubCategory/ID-32/Page-{page}?Tid=6770\";\n",
    "  const totalPages2 = 100;\n",
    "  const urlFormat2 = initialUrl2;\n",
    "  const urls2 = await extractUrlsFromPages(initialUrl2, totalPages2, urlFormat2);\n",
    "\n",
    "  const urls = [...urls1, ...urls2];\n",
    "\n",
    "  return urls; // Return the obtained URLs\n",
    "}"
   ]
  },
  {
   "cell_type": "code",
   "execution_count": 6,
   "id": "c191271b",
   "metadata": {
    "scrolled": false
   },
   "outputs": [
    {
     "data": {
      "text/plain": [
       "Promise { <pending> }"
      ]
     },
     "execution_count": 6,
     "metadata": {},
     "output_type": "execute_result"
    },
    {
     "name": "stderr",
     "output_type": "stream",
     "text": [
      "\u001b[1m\u001b[43m\u001b[30m\n",
      "  Puppeteer old Headless deprecation warning:\u001b[0m\u001b[33m\n",
      "    In the near feature `headless: true` will default to the new Headless mode\n",
      "    for Chrome instead of the old Headless implementation. For more\n",
      "    information, please see https://developer.chrome.com/articles/new-headless/.\n",
      "    Consider opting in early by passing `headless: \"new\"` to `puppeteer.launch()`\n",
      "    If you encounter any bugs, please report them to https://github.com/puppeteer/puppeteer/issues/new/choose.\u001b[0m\n",
      "\n"
     ]
    },
    {
     "name": "stdout",
     "output_type": "stream",
     "text": [
      "Extracting links from: https://www.newegg.com/p/pl?N=100167751&page=1&LeftPriceRange=0+&recaptcha=pass\n",
      "Found 36 links on page 1\n"
     ]
    },
    {
     "name": "stderr",
     "output_type": "stream",
     "text": [
      "\u001b[1m\u001b[43m\u001b[30m\n",
      "  Puppeteer old Headless deprecation warning:\u001b[0m\u001b[33m\n",
      "    In the near feature `headless: true` will default to the new Headless mode\n",
      "    for Chrome instead of the old Headless implementation. For more\n",
      "    information, please see https://developer.chrome.com/articles/new-headless/.\n",
      "    Consider opting in early by passing `headless: \"new\"` to `puppeteer.launch()`\n",
      "    If you encounter any bugs, please report them to https://github.com/puppeteer/puppeteer/issues/new/choose.\u001b[0m\n",
      "\n"
     ]
    },
    {
     "name": "stdout",
     "output_type": "stream",
     "text": [
      "Extracting links from: https://www.newegg.com/p/pl?N=100167751&page=2&LeftPriceRange=0+&recaptcha=pass\n",
      "Found 36 links on page 2\n"
     ]
    },
    {
     "name": "stderr",
     "output_type": "stream",
     "text": [
      "\u001b[1m\u001b[43m\u001b[30m\n",
      "  Puppeteer old Headless deprecation warning:\u001b[0m\u001b[33m\n",
      "    In the near feature `headless: true` will default to the new Headless mode\n",
      "    for Chrome instead of the old Headless implementation. For more\n",
      "    information, please see https://developer.chrome.com/articles/new-headless/.\n",
      "    Consider opting in early by passing `headless: \"new\"` to `puppeteer.launch()`\n",
      "    If you encounter any bugs, please report them to https://github.com/puppeteer/puppeteer/issues/new/choose.\u001b[0m\n",
      "\n"
     ]
    },
    {
     "name": "stdout",
     "output_type": "stream",
     "text": [
      "Extracting links from: https://www.newegg.com/p/pl?N=100167751&page=3&LeftPriceRange=0+&recaptcha=pass\n",
      "Found 0 links on page 3\n"
     ]
    },
    {
     "name": "stderr",
     "output_type": "stream",
     "text": [
      "\u001b[1m\u001b[43m\u001b[30m\n",
      "  Puppeteer old Headless deprecation warning:\u001b[0m\u001b[33m\n",
      "    In the near feature `headless: true` will default to the new Headless mode\n",
      "    for Chrome instead of the old Headless implementation. For more\n",
      "    information, please see https://developer.chrome.com/articles/new-headless/.\n",
      "    Consider opting in early by passing `headless: \"new\"` to `puppeteer.launch()`\n",
      "    If you encounter any bugs, please report them to https://github.com/puppeteer/puppeteer/issues/new/choose.\u001b[0m\n",
      "\n"
     ]
    },
    {
     "name": "stdout",
     "output_type": "stream",
     "text": [
      "Extracting links from: https://www.newegg.com/p/pl?N=100167751&page=4&LeftPriceRange=0+&recaptcha=pass\n",
      "Found 0 links on page 4\n"
     ]
    },
    {
     "name": "stderr",
     "output_type": "stream",
     "text": [
      "\u001b[1m\u001b[43m\u001b[30m\n",
      "  Puppeteer old Headless deprecation warning:\u001b[0m\u001b[33m\n",
      "    In the near feature `headless: true` will default to the new Headless mode\n",
      "    for Chrome instead of the old Headless implementation. For more\n",
      "    information, please see https://developer.chrome.com/articles/new-headless/.\n",
      "    Consider opting in early by passing `headless: \"new\"` to `puppeteer.launch()`\n",
      "    If you encounter any bugs, please report them to https://github.com/puppeteer/puppeteer/issues/new/choose.\u001b[0m\n",
      "\n"
     ]
    },
    {
     "name": "stdout",
     "output_type": "stream",
     "text": [
      "Extracting links from: https://www.newegg.com/p/pl?N=100167751&page=5&LeftPriceRange=0+&recaptcha=pass\n",
      "Found 0 links on page 5\n"
     ]
    },
    {
     "name": "stderr",
     "output_type": "stream",
     "text": [
      "\u001b[1m\u001b[43m\u001b[30m\n",
      "  Puppeteer old Headless deprecation warning:\u001b[0m\u001b[33m\n",
      "    In the near feature `headless: true` will default to the new Headless mode\n",
      "    for Chrome instead of the old Headless implementation. For more\n",
      "    information, please see https://developer.chrome.com/articles/new-headless/.\n",
      "    Consider opting in early by passing `headless: \"new\"` to `puppeteer.launch()`\n",
      "    If you encounter any bugs, please report them to https://github.com/puppeteer/puppeteer/issues/new/choose.\u001b[0m\n",
      "\n"
     ]
    },
    {
     "name": "stdout",
     "output_type": "stream",
     "text": [
      "Extracting links from: https://www.newegg.com/p/pl?N=100167751&page=6&LeftPriceRange=0+&recaptcha=pass\n",
      "Found 36 links on page 6\n"
     ]
    },
    {
     "name": "stderr",
     "output_type": "stream",
     "text": [
      "\u001b[1m\u001b[43m\u001b[30m\n",
      "  Puppeteer old Headless deprecation warning:\u001b[0m\u001b[33m\n",
      "    In the near feature `headless: true` will default to the new Headless mode\n",
      "    for Chrome instead of the old Headless implementation. For more\n",
      "    information, please see https://developer.chrome.com/articles/new-headless/.\n",
      "    Consider opting in early by passing `headless: \"new\"` to `puppeteer.launch()`\n",
      "    If you encounter any bugs, please report them to https://github.com/puppeteer/puppeteer/issues/new/choose.\u001b[0m\n",
      "\n"
     ]
    },
    {
     "name": "stdout",
     "output_type": "stream",
     "text": [
      "Extracting links from: https://www.newegg.com/p/pl?N=100167751&page=7&LeftPriceRange=0+&recaptcha=pass\n",
      "Found 36 links on page 7\n"
     ]
    },
    {
     "name": "stderr",
     "output_type": "stream",
     "text": [
      "\u001b[1m\u001b[43m\u001b[30m\n",
      "  Puppeteer old Headless deprecation warning:\u001b[0m\u001b[33m\n",
      "    In the near feature `headless: true` will default to the new Headless mode\n",
      "    for Chrome instead of the old Headless implementation. For more\n",
      "    information, please see https://developer.chrome.com/articles/new-headless/.\n",
      "    Consider opting in early by passing `headless: \"new\"` to `puppeteer.launch()`\n",
      "    If you encounter any bugs, please report them to https://github.com/puppeteer/puppeteer/issues/new/choose.\u001b[0m\n",
      "\n"
     ]
    },
    {
     "name": "stdout",
     "output_type": "stream",
     "text": [
      "Extracting links from: https://www.newegg.com/p/pl?N=100167751&page=8&LeftPriceRange=0+&recaptcha=pass\n",
      "Found 36 links on page 8\n"
     ]
    },
    {
     "name": "stderr",
     "output_type": "stream",
     "text": [
      "\u001b[1m\u001b[43m\u001b[30m\n",
      "  Puppeteer old Headless deprecation warning:\u001b[0m\u001b[33m\n",
      "    In the near feature `headless: true` will default to the new Headless mode\n",
      "    for Chrome instead of the old Headless implementation. For more\n",
      "    information, please see https://developer.chrome.com/articles/new-headless/.\n",
      "    Consider opting in early by passing `headless: \"new\"` to `puppeteer.launch()`\n",
      "    If you encounter any bugs, please report them to https://github.com/puppeteer/puppeteer/issues/new/choose.\u001b[0m\n",
      "\n"
     ]
    },
    {
     "name": "stdout",
     "output_type": "stream",
     "text": [
      "Extracting links from: https://www.newegg.com/p/pl?N=100167751&page=9&LeftPriceRange=0+&recaptcha=pass\n",
      "Found 35 links on page 9\n"
     ]
    },
    {
     "name": "stderr",
     "output_type": "stream",
     "text": [
      "\u001b[1m\u001b[43m\u001b[30m\n",
      "  Puppeteer old Headless deprecation warning:\u001b[0m\u001b[33m\n",
      "    In the near feature `headless: true` will default to the new Headless mode\n",
      "    for Chrome instead of the old Headless implementation. For more\n",
      "    information, please see https://developer.chrome.com/articles/new-headless/.\n",
      "    Consider opting in early by passing `headless: \"new\"` to `puppeteer.launch()`\n",
      "    If you encounter any bugs, please report them to https://github.com/puppeteer/puppeteer/issues/new/choose.\u001b[0m\n",
      "\n"
     ]
    },
    {
     "name": "stdout",
     "output_type": "stream",
     "text": [
      "Extracting links from: https://www.newegg.com/p/pl?N=100167751&page=10&LeftPriceRange=0+&recaptcha=pass\n",
      "Found 36 links on page 10\n"
     ]
    },
    {
     "name": "stderr",
     "output_type": "stream",
     "text": [
      "\u001b[1m\u001b[43m\u001b[30m\n",
      "  Puppeteer old Headless deprecation warning:\u001b[0m\u001b[33m\n",
      "    In the near feature `headless: true` will default to the new Headless mode\n",
      "    for Chrome instead of the old Headless implementation. For more\n",
      "    information, please see https://developer.chrome.com/articles/new-headless/.\n",
      "    Consider opting in early by passing `headless: \"new\"` to `puppeteer.launch()`\n",
      "    If you encounter any bugs, please report them to https://github.com/puppeteer/puppeteer/issues/new/choose.\u001b[0m\n",
      "\n",
      "(node:1672) MaxListenersExceededWarning: Possible EventEmitter memory leak detected. 11 exit listeners added to [process]. Use emitter.setMaxListeners() to increase limit\n",
      "(Use `node --trace-warnings ...` to show where the warning was created)\n",
      "(node:1672) MaxListenersExceededWarning: Possible EventEmitter memory leak detected. 11 SIGINT listeners added to [process]. Use emitter.setMaxListeners() to increase limit\n",
      "(node:1672) MaxListenersExceededWarning: Possible EventEmitter memory leak detected. 11 SIGTERM listeners added to [process]. Use emitter.setMaxListeners() to increase limit\n",
      "(node:1672) MaxListenersExceededWarning: Possible EventEmitter memory leak detected. 11 SIGHUP listeners added to [process]. Use emitter.setMaxListeners() to increase limit\n"
     ]
    },
    {
     "name": "stdout",
     "output_type": "stream",
     "text": [
      "Extracting links from: https://www.newegg.com/p/pl?N=100167751&page=11&LeftPriceRange=0+&recaptcha=pass\n",
      "Found 36 links on page 11\n"
     ]
    },
    {
     "name": "stderr",
     "output_type": "stream",
     "text": [
      "\u001b[1m\u001b[43m\u001b[30m\n",
      "  Puppeteer old Headless deprecation warning:\u001b[0m\u001b[33m\n",
      "    In the near feature `headless: true` will default to the new Headless mode\n",
      "    for Chrome instead of the old Headless implementation. For more\n",
      "    information, please see https://developer.chrome.com/articles/new-headless/.\n",
      "    Consider opting in early by passing `headless: \"new\"` to `puppeteer.launch()`\n",
      "    If you encounter any bugs, please report them to https://github.com/puppeteer/puppeteer/issues/new/choose.\u001b[0m\n",
      "\n"
     ]
    },
    {
     "name": "stdout",
     "output_type": "stream",
     "text": [
      "Extracting links from: https://www.newegg.com/p/pl?N=100167751&page=12&LeftPriceRange=0+&recaptcha=pass\n",
      "Found 36 links on page 12\n"
     ]
    },
    {
     "name": "stderr",
     "output_type": "stream",
     "text": [
      "\u001b[1m\u001b[43m\u001b[30m\n",
      "  Puppeteer old Headless deprecation warning:\u001b[0m\u001b[33m\n",
      "    In the near feature `headless: true` will default to the new Headless mode\n",
      "    for Chrome instead of the old Headless implementation. For more\n",
      "    information, please see https://developer.chrome.com/articles/new-headless/.\n",
      "    Consider opting in early by passing `headless: \"new\"` to `puppeteer.launch()`\n",
      "    If you encounter any bugs, please report them to https://github.com/puppeteer/puppeteer/issues/new/choose.\u001b[0m\n",
      "\n"
     ]
    },
    {
     "name": "stdout",
     "output_type": "stream",
     "text": [
      "Extracting links from: https://www.newegg.com/p/pl?N=100167751&page=13&LeftPriceRange=0+&recaptcha=pass\n",
      "Found 36 links on page 13\n"
     ]
    },
    {
     "name": "stderr",
     "output_type": "stream",
     "text": [
      "\u001b[1m\u001b[43m\u001b[30m\n",
      "  Puppeteer old Headless deprecation warning:\u001b[0m\u001b[33m\n",
      "    In the near feature `headless: true` will default to the new Headless mode\n",
      "    for Chrome instead of the old Headless implementation. For more\n",
      "    information, please see https://developer.chrome.com/articles/new-headless/.\n",
      "    Consider opting in early by passing `headless: \"new\"` to `puppeteer.launch()`\n",
      "    If you encounter any bugs, please report them to https://github.com/puppeteer/puppeteer/issues/new/choose.\u001b[0m\n",
      "\n"
     ]
    },
    {
     "name": "stdout",
     "output_type": "stream",
     "text": [
      "Extracting links from: https://www.newegg.com/p/pl?N=100167751&page=14&LeftPriceRange=0+&recaptcha=pass\n",
      "Found 0 links on page 14\n"
     ]
    },
    {
     "name": "stderr",
     "output_type": "stream",
     "text": [
      "\u001b[1m\u001b[43m\u001b[30m\n",
      "  Puppeteer old Headless deprecation warning:\u001b[0m\u001b[33m\n",
      "    In the near feature `headless: true` will default to the new Headless mode\n",
      "    for Chrome instead of the old Headless implementation. For more\n",
      "    information, please see https://developer.chrome.com/articles/new-headless/.\n",
      "    Consider opting in early by passing `headless: \"new\"` to `puppeteer.launch()`\n",
      "    If you encounter any bugs, please report them to https://github.com/puppeteer/puppeteer/issues/new/choose.\u001b[0m\n",
      "\n"
     ]
    },
    {
     "name": "stdout",
     "output_type": "stream",
     "text": [
      "Extracting links from: https://www.newegg.com/p/pl?N=100167751&page=15&LeftPriceRange=0+&recaptcha=pass\n",
      "Found 36 links on page 15\n"
     ]
    },
    {
     "name": "stderr",
     "output_type": "stream",
     "text": [
      "\u001b[1m\u001b[43m\u001b[30m\n",
      "  Puppeteer old Headless deprecation warning:\u001b[0m\u001b[33m\n",
      "    In the near feature `headless: true` will default to the new Headless mode\n",
      "    for Chrome instead of the old Headless implementation. For more\n",
      "    information, please see https://developer.chrome.com/articles/new-headless/.\n",
      "    Consider opting in early by passing `headless: \"new\"` to `puppeteer.launch()`\n",
      "    If you encounter any bugs, please report them to https://github.com/puppeteer/puppeteer/issues/new/choose.\u001b[0m\n",
      "\n"
     ]
    },
    {
     "name": "stdout",
     "output_type": "stream",
     "text": [
      "Extracting links from: https://www.newegg.com/p/pl?N=100167751&page=16&LeftPriceRange=0+&recaptcha=pass\n",
      "Found 36 links on page 16\n"
     ]
    },
    {
     "name": "stderr",
     "output_type": "stream",
     "text": [
      "\u001b[1m\u001b[43m\u001b[30m\n",
      "  Puppeteer old Headless deprecation warning:\u001b[0m\u001b[33m\n",
      "    In the near feature `headless: true` will default to the new Headless mode\n",
      "    for Chrome instead of the old Headless implementation. For more\n",
      "    information, please see https://developer.chrome.com/articles/new-headless/.\n",
      "    Consider opting in early by passing `headless: \"new\"` to `puppeteer.launch()`\n",
      "    If you encounter any bugs, please report them to https://github.com/puppeteer/puppeteer/issues/new/choose.\u001b[0m\n",
      "\n"
     ]
    },
    {
     "name": "stdout",
     "output_type": "stream",
     "text": [
      "Extracting links from: https://www.newegg.com/p/pl?N=100167751&page=17&LeftPriceRange=0+&recaptcha=pass\n",
      "Found 0 links on page 17\n"
     ]
    },
    {
     "name": "stderr",
     "output_type": "stream",
     "text": [
      "\u001b[1m\u001b[43m\u001b[30m\n",
      "  Puppeteer old Headless deprecation warning:\u001b[0m\u001b[33m\n",
      "    In the near feature `headless: true` will default to the new Headless mode\n",
      "    for Chrome instead of the old Headless implementation. For more\n",
      "    information, please see https://developer.chrome.com/articles/new-headless/.\n",
      "    Consider opting in early by passing `headless: \"new\"` to `puppeteer.launch()`\n",
      "    If you encounter any bugs, please report them to https://github.com/puppeteer/puppeteer/issues/new/choose.\u001b[0m\n",
      "\n"
     ]
    },
    {
     "name": "stdout",
     "output_type": "stream",
     "text": [
      "Extracting links from: https://www.newegg.com/p/pl?N=100167751&page=18&LeftPriceRange=0+&recaptcha=pass\n",
      "Found 0 links on page 18\n"
     ]
    },
    {
     "name": "stderr",
     "output_type": "stream",
     "text": [
      "\u001b[1m\u001b[43m\u001b[30m\n",
      "  Puppeteer old Headless deprecation warning:\u001b[0m\u001b[33m\n",
      "    In the near feature `headless: true` will default to the new Headless mode\n",
      "    for Chrome instead of the old Headless implementation. For more\n",
      "    information, please see https://developer.chrome.com/articles/new-headless/.\n",
      "    Consider opting in early by passing `headless: \"new\"` to `puppeteer.launch()`\n",
      "    If you encounter any bugs, please report them to https://github.com/puppeteer/puppeteer/issues/new/choose.\u001b[0m\n",
      "\n"
     ]
    },
    {
     "name": "stdout",
     "output_type": "stream",
     "text": [
      "Extracting links from: https://www.newegg.com/p/pl?N=100167751&page=19&LeftPriceRange=0+&recaptcha=pass\n",
      "Found 36 links on page 19\n"
     ]
    },
    {
     "name": "stderr",
     "output_type": "stream",
     "text": [
      "\u001b[1m\u001b[43m\u001b[30m\n",
      "  Puppeteer old Headless deprecation warning:\u001b[0m\u001b[33m\n",
      "    In the near feature `headless: true` will default to the new Headless mode\n",
      "    for Chrome instead of the old Headless implementation. For more\n",
      "    information, please see https://developer.chrome.com/articles/new-headless/.\n",
      "    Consider opting in early by passing `headless: \"new\"` to `puppeteer.launch()`\n",
      "    If you encounter any bugs, please report them to https://github.com/puppeteer/puppeteer/issues/new/choose.\u001b[0m\n",
      "\n"
     ]
    },
    {
     "name": "stdout",
     "output_type": "stream",
     "text": [
      "Extracting links from: https://www.newegg.com/p/pl?N=100167751&page=20&LeftPriceRange=0+&recaptcha=pass\n",
      "Found 0 links on page 20\n"
     ]
    },
    {
     "name": "stderr",
     "output_type": "stream",
     "text": [
      "\u001b[1m\u001b[43m\u001b[30m\n",
      "  Puppeteer old Headless deprecation warning:\u001b[0m\u001b[33m\n",
      "    In the near feature `headless: true` will default to the new Headless mode\n",
      "    for Chrome instead of the old Headless implementation. For more\n",
      "    information, please see https://developer.chrome.com/articles/new-headless/.\n",
      "    Consider opting in early by passing `headless: \"new\"` to `puppeteer.launch()`\n",
      "    If you encounter any bugs, please report them to https://github.com/puppeteer/puppeteer/issues/new/choose.\u001b[0m\n",
      "\n"
     ]
    },
    {
     "name": "stdout",
     "output_type": "stream",
     "text": [
      "Extracting links from: https://www.newegg.com/Laptops-Notebooks/SubCategory/ID-32/Page-1?Tid=6740&recaptcha=pass\n",
      "Found 0 links on page 1\n"
     ]
    },
    {
     "name": "stderr",
     "output_type": "stream",
     "text": [
      "\u001b[1m\u001b[43m\u001b[30m\n",
      "  Puppeteer old Headless deprecation warning:\u001b[0m\u001b[33m\n",
      "    In the near feature `headless: true` will default to the new Headless mode\n",
      "    for Chrome instead of the old Headless implementation. For more\n",
      "    information, please see https://developer.chrome.com/articles/new-headless/.\n",
      "    Consider opting in early by passing `headless: \"new\"` to `puppeteer.launch()`\n",
      "    If you encounter any bugs, please report them to https://github.com/puppeteer/puppeteer/issues/new/choose.\u001b[0m\n",
      "\n"
     ]
    },
    {
     "name": "stdout",
     "output_type": "stream",
     "text": [
      "Extracting links from: https://www.newegg.com/Laptops-Notebooks/SubCategory/ID-32/Page-2?Tid=6740&recaptcha=pass\n",
      "Found 36 links on page 2\n"
     ]
    },
    {
     "name": "stderr",
     "output_type": "stream",
     "text": [
      "\u001b[1m\u001b[43m\u001b[30m\n",
      "  Puppeteer old Headless deprecation warning:\u001b[0m\u001b[33m\n",
      "    In the near feature `headless: true` will default to the new Headless mode\n",
      "    for Chrome instead of the old Headless implementation. For more\n",
      "    information, please see https://developer.chrome.com/articles/new-headless/.\n",
      "    Consider opting in early by passing `headless: \"new\"` to `puppeteer.launch()`\n",
      "    If you encounter any bugs, please report them to https://github.com/puppeteer/puppeteer/issues/new/choose.\u001b[0m\n",
      "\n"
     ]
    },
    {
     "name": "stdout",
     "output_type": "stream",
     "text": [
      "Extracting links from: https://www.newegg.com/Laptops-Notebooks/SubCategory/ID-32/Page-3?Tid=6740&recaptcha=pass\n",
      "Found 36 links on page 3\n"
     ]
    },
    {
     "name": "stderr",
     "output_type": "stream",
     "text": [
      "\u001b[1m\u001b[43m\u001b[30m\n",
      "  Puppeteer old Headless deprecation warning:\u001b[0m\u001b[33m\n",
      "    In the near feature `headless: true` will default to the new Headless mode\n",
      "    for Chrome instead of the old Headless implementation. For more\n",
      "    information, please see https://developer.chrome.com/articles/new-headless/.\n",
      "    Consider opting in early by passing `headless: \"new\"` to `puppeteer.launch()`\n",
      "    If you encounter any bugs, please report them to https://github.com/puppeteer/puppeteer/issues/new/choose.\u001b[0m\n",
      "\n"
     ]
    },
    {
     "name": "stdout",
     "output_type": "stream",
     "text": [
      "Extracting links from: https://www.newegg.com/Laptops-Notebooks/SubCategory/ID-32/Page-4?Tid=6740&recaptcha=pass\n",
      "Found 36 links on page 4\n"
     ]
    },
    {
     "name": "stderr",
     "output_type": "stream",
     "text": [
      "\u001b[1m\u001b[43m\u001b[30m\n",
      "  Puppeteer old Headless deprecation warning:\u001b[0m\u001b[33m\n",
      "    In the near feature `headless: true` will default to the new Headless mode\n",
      "    for Chrome instead of the old Headless implementation. For more\n",
      "    information, please see https://developer.chrome.com/articles/new-headless/.\n",
      "    Consider opting in early by passing `headless: \"new\"` to `puppeteer.launch()`\n",
      "    If you encounter any bugs, please report them to https://github.com/puppeteer/puppeteer/issues/new/choose.\u001b[0m\n",
      "\n"
     ]
    },
    {
     "name": "stdout",
     "output_type": "stream",
     "text": [
      "Extracting links from: https://www.newegg.com/Laptops-Notebooks/SubCategory/ID-32/Page-5?Tid=6740&recaptcha=pass\n",
      "Found 36 links on page 5\n"
     ]
    },
    {
     "name": "stderr",
     "output_type": "stream",
     "text": [
      "\u001b[1m\u001b[43m\u001b[30m\n",
      "  Puppeteer old Headless deprecation warning:\u001b[0m\u001b[33m\n",
      "    In the near feature `headless: true` will default to the new Headless mode\n",
      "    for Chrome instead of the old Headless implementation. For more\n",
      "    information, please see https://developer.chrome.com/articles/new-headless/.\n",
      "    Consider opting in early by passing `headless: \"new\"` to `puppeteer.launch()`\n",
      "    If you encounter any bugs, please report them to https://github.com/puppeteer/puppeteer/issues/new/choose.\u001b[0m\n",
      "\n"
     ]
    },
    {
     "name": "stdout",
     "output_type": "stream",
     "text": [
      "Extracting links from: https://www.newegg.com/Laptops-Notebooks/SubCategory/ID-32/Page-6?Tid=6740&recaptcha=pass\n",
      "Found 36 links on page 6\n"
     ]
    },
    {
     "name": "stderr",
     "output_type": "stream",
     "text": [
      "\u001b[1m\u001b[43m\u001b[30m\n",
      "  Puppeteer old Headless deprecation warning:\u001b[0m\u001b[33m\n",
      "    In the near feature `headless: true` will default to the new Headless mode\n",
      "    for Chrome instead of the old Headless implementation. For more\n",
      "    information, please see https://developer.chrome.com/articles/new-headless/.\n",
      "    Consider opting in early by passing `headless: \"new\"` to `puppeteer.launch()`\n",
      "    If you encounter any bugs, please report them to https://github.com/puppeteer/puppeteer/issues/new/choose.\u001b[0m\n",
      "\n"
     ]
    },
    {
     "name": "stdout",
     "output_type": "stream",
     "text": [
      "Extracting links from: https://www.newegg.com/Laptops-Notebooks/SubCategory/ID-32/Page-7?Tid=6740&recaptcha=pass\n",
      "Found 0 links on page 7\n"
     ]
    },
    {
     "name": "stderr",
     "output_type": "stream",
     "text": [
      "\u001b[1m\u001b[43m\u001b[30m\n",
      "  Puppeteer old Headless deprecation warning:\u001b[0m\u001b[33m\n",
      "    In the near feature `headless: true` will default to the new Headless mode\n",
      "    for Chrome instead of the old Headless implementation. For more\n",
      "    information, please see https://developer.chrome.com/articles/new-headless/.\n",
      "    Consider opting in early by passing `headless: \"new\"` to `puppeteer.launch()`\n",
      "    If you encounter any bugs, please report them to https://github.com/puppeteer/puppeteer/issues/new/choose.\u001b[0m\n",
      "\n"
     ]
    },
    {
     "name": "stdout",
     "output_type": "stream",
     "text": [
      "Extracting links from: https://www.newegg.com/Laptops-Notebooks/SubCategory/ID-32/Page-8?Tid=6740&recaptcha=pass\n",
      "Found 0 links on page 8\n"
     ]
    },
    {
     "name": "stderr",
     "output_type": "stream",
     "text": [
      "\u001b[1m\u001b[43m\u001b[30m\n",
      "  Puppeteer old Headless deprecation warning:\u001b[0m\u001b[33m\n",
      "    In the near feature `headless: true` will default to the new Headless mode\n",
      "    for Chrome instead of the old Headless implementation. For more\n",
      "    information, please see https://developer.chrome.com/articles/new-headless/.\n",
      "    Consider opting in early by passing `headless: \"new\"` to `puppeteer.launch()`\n",
      "    If you encounter any bugs, please report them to https://github.com/puppeteer/puppeteer/issues/new/choose.\u001b[0m\n",
      "\n"
     ]
    },
    {
     "name": "stdout",
     "output_type": "stream",
     "text": [
      "Extracting links from: https://www.newegg.com/Laptops-Notebooks/SubCategory/ID-32/Page-9?Tid=6740&recaptcha=pass\n",
      "Found 36 links on page 9\n"
     ]
    },
    {
     "name": "stderr",
     "output_type": "stream",
     "text": [
      "\u001b[1m\u001b[43m\u001b[30m\n",
      "  Puppeteer old Headless deprecation warning:\u001b[0m\u001b[33m\n",
      "    In the near feature `headless: true` will default to the new Headless mode\n",
      "    for Chrome instead of the old Headless implementation. For more\n",
      "    information, please see https://developer.chrome.com/articles/new-headless/.\n",
      "    Consider opting in early by passing `headless: \"new\"` to `puppeteer.launch()`\n",
      "    If you encounter any bugs, please report them to https://github.com/puppeteer/puppeteer/issues/new/choose.\u001b[0m\n",
      "\n"
     ]
    },
    {
     "name": "stdout",
     "output_type": "stream",
     "text": [
      "Extracting links from: https://www.newegg.com/Laptops-Notebooks/SubCategory/ID-32/Page-10?Tid=6740&recaptcha=pass\n",
      "Found 0 links on page 10\n"
     ]
    },
    {
     "name": "stderr",
     "output_type": "stream",
     "text": [
      "\u001b[1m\u001b[43m\u001b[30m\n",
      "  Puppeteer old Headless deprecation warning:\u001b[0m\u001b[33m\n",
      "    In the near feature `headless: true` will default to the new Headless mode\n",
      "    for Chrome instead of the old Headless implementation. For more\n",
      "    information, please see https://developer.chrome.com/articles/new-headless/.\n",
      "    Consider opting in early by passing `headless: \"new\"` to `puppeteer.launch()`\n",
      "    If you encounter any bugs, please report them to https://github.com/puppeteer/puppeteer/issues/new/choose.\u001b[0m\n",
      "\n"
     ]
    },
    {
     "name": "stdout",
     "output_type": "stream",
     "text": [
      "Extracting links from: https://www.newegg.com/Laptops-Notebooks/SubCategory/ID-32/Page-11?Tid=6740&recaptcha=pass\n",
      "Found 36 links on page 11\n"
     ]
    },
    {
     "name": "stderr",
     "output_type": "stream",
     "text": [
      "\u001b[1m\u001b[43m\u001b[30m\n",
      "  Puppeteer old Headless deprecation warning:\u001b[0m\u001b[33m\n",
      "    In the near feature `headless: true` will default to the new Headless mode\n",
      "    for Chrome instead of the old Headless implementation. For more\n",
      "    information, please see https://developer.chrome.com/articles/new-headless/.\n",
      "    Consider opting in early by passing `headless: \"new\"` to `puppeteer.launch()`\n",
      "    If you encounter any bugs, please report them to https://github.com/puppeteer/puppeteer/issues/new/choose.\u001b[0m\n",
      "\n"
     ]
    },
    {
     "name": "stdout",
     "output_type": "stream",
     "text": [
      "Extracting links from: https://www.newegg.com/Laptops-Notebooks/SubCategory/ID-32/Page-12?Tid=6740&recaptcha=pass\n",
      "Found 36 links on page 12\n"
     ]
    },
    {
     "name": "stderr",
     "output_type": "stream",
     "text": [
      "\u001b[1m\u001b[43m\u001b[30m\n",
      "  Puppeteer old Headless deprecation warning:\u001b[0m\u001b[33m\n",
      "    In the near feature `headless: true` will default to the new Headless mode\n",
      "    for Chrome instead of the old Headless implementation. For more\n",
      "    information, please see https://developer.chrome.com/articles/new-headless/.\n",
      "    Consider opting in early by passing `headless: \"new\"` to `puppeteer.launch()`\n",
      "    If you encounter any bugs, please report them to https://github.com/puppeteer/puppeteer/issues/new/choose.\u001b[0m\n",
      "\n"
     ]
    },
    {
     "name": "stdout",
     "output_type": "stream",
     "text": [
      "Extracting links from: https://www.newegg.com/Laptops-Notebooks/SubCategory/ID-32/Page-13?Tid=6740&recaptcha=pass\n",
      "Found 36 links on page 13\n"
     ]
    },
    {
     "name": "stderr",
     "output_type": "stream",
     "text": [
      "\u001b[1m\u001b[43m\u001b[30m\n",
      "  Puppeteer old Headless deprecation warning:\u001b[0m\u001b[33m\n",
      "    In the near feature `headless: true` will default to the new Headless mode\n",
      "    for Chrome instead of the old Headless implementation. For more\n",
      "    information, please see https://developer.chrome.com/articles/new-headless/.\n",
      "    Consider opting in early by passing `headless: \"new\"` to `puppeteer.launch()`\n",
      "    If you encounter any bugs, please report them to https://github.com/puppeteer/puppeteer/issues/new/choose.\u001b[0m\n",
      "\n"
     ]
    },
    {
     "name": "stdout",
     "output_type": "stream",
     "text": [
      "Extracting links from: https://www.newegg.com/Laptops-Notebooks/SubCategory/ID-32/Page-14?Tid=6740&recaptcha=pass\n",
      "Found 36 links on page 14\n"
     ]
    },
    {
     "name": "stderr",
     "output_type": "stream",
     "text": [
      "\u001b[1m\u001b[43m\u001b[30m\n",
      "  Puppeteer old Headless deprecation warning:\u001b[0m\u001b[33m\n",
      "    In the near feature `headless: true` will default to the new Headless mode\n",
      "    for Chrome instead of the old Headless implementation. For more\n",
      "    information, please see https://developer.chrome.com/articles/new-headless/.\n",
      "    Consider opting in early by passing `headless: \"new\"` to `puppeteer.launch()`\n",
      "    If you encounter any bugs, please report them to https://github.com/puppeteer/puppeteer/issues/new/choose.\u001b[0m\n",
      "\n"
     ]
    },
    {
     "name": "stdout",
     "output_type": "stream",
     "text": [
      "Extracting links from: https://www.newegg.com/Laptops-Notebooks/SubCategory/ID-32/Page-15?Tid=6740&recaptcha=pass\n",
      "Found 36 links on page 15\n"
     ]
    },
    {
     "name": "stderr",
     "output_type": "stream",
     "text": [
      "\u001b[1m\u001b[43m\u001b[30m\n",
      "  Puppeteer old Headless deprecation warning:\u001b[0m\u001b[33m\n",
      "    In the near feature `headless: true` will default to the new Headless mode\n",
      "    for Chrome instead of the old Headless implementation. For more\n",
      "    information, please see https://developer.chrome.com/articles/new-headless/.\n",
      "    Consider opting in early by passing `headless: \"new\"` to `puppeteer.launch()`\n",
      "    If you encounter any bugs, please report them to https://github.com/puppeteer/puppeteer/issues/new/choose.\u001b[0m\n",
      "\n"
     ]
    },
    {
     "name": "stdout",
     "output_type": "stream",
     "text": [
      "Extracting links from: https://www.newegg.com/Laptops-Notebooks/SubCategory/ID-32/Page-16?Tid=6740&recaptcha=pass\n",
      "Found 36 links on page 16\n"
     ]
    },
    {
     "name": "stderr",
     "output_type": "stream",
     "text": [
      "\u001b[1m\u001b[43m\u001b[30m\n",
      "  Puppeteer old Headless deprecation warning:\u001b[0m\u001b[33m\n",
      "    In the near feature `headless: true` will default to the new Headless mode\n",
      "    for Chrome instead of the old Headless implementation. For more\n",
      "    information, please see https://developer.chrome.com/articles/new-headless/.\n",
      "    Consider opting in early by passing `headless: \"new\"` to `puppeteer.launch()`\n",
      "    If you encounter any bugs, please report them to https://github.com/puppeteer/puppeteer/issues/new/choose.\u001b[0m\n",
      "\n"
     ]
    },
    {
     "name": "stdout",
     "output_type": "stream",
     "text": [
      "Extracting links from: https://www.newegg.com/Laptops-Notebooks/SubCategory/ID-32/Page-17?Tid=6740&recaptcha=pass\n",
      "Found 0 links on page 17\n"
     ]
    },
    {
     "name": "stderr",
     "output_type": "stream",
     "text": [
      "\u001b[1m\u001b[43m\u001b[30m\n",
      "  Puppeteer old Headless deprecation warning:\u001b[0m\u001b[33m\n",
      "    In the near feature `headless: true` will default to the new Headless mode\n",
      "    for Chrome instead of the old Headless implementation. For more\n",
      "    information, please see https://developer.chrome.com/articles/new-headless/.\n",
      "    Consider opting in early by passing `headless: \"new\"` to `puppeteer.launch()`\n",
      "    If you encounter any bugs, please report them to https://github.com/puppeteer/puppeteer/issues/new/choose.\u001b[0m\n",
      "\n"
     ]
    },
    {
     "name": "stdout",
     "output_type": "stream",
     "text": [
      "Extracting links from: https://www.newegg.com/Laptops-Notebooks/SubCategory/ID-32/Page-18?Tid=6740&recaptcha=pass\n",
      "Found 36 links on page 18\n"
     ]
    },
    {
     "name": "stderr",
     "output_type": "stream",
     "text": [
      "\u001b[1m\u001b[43m\u001b[30m\n",
      "  Puppeteer old Headless deprecation warning:\u001b[0m\u001b[33m\n",
      "    In the near feature `headless: true` will default to the new Headless mode\n",
      "    for Chrome instead of the old Headless implementation. For more\n",
      "    information, please see https://developer.chrome.com/articles/new-headless/.\n",
      "    Consider opting in early by passing `headless: \"new\"` to `puppeteer.launch()`\n",
      "    If you encounter any bugs, please report them to https://github.com/puppeteer/puppeteer/issues/new/choose.\u001b[0m\n",
      "\n"
     ]
    },
    {
     "name": "stdout",
     "output_type": "stream",
     "text": [
      "Extracting links from: https://www.newegg.com/Laptops-Notebooks/SubCategory/ID-32/Page-19?Tid=6740&recaptcha=pass\n",
      "Found 36 links on page 19\n"
     ]
    },
    {
     "name": "stderr",
     "output_type": "stream",
     "text": [
      "\u001b[1m\u001b[43m\u001b[30m\n",
      "  Puppeteer old Headless deprecation warning:\u001b[0m\u001b[33m\n",
      "    In the near feature `headless: true` will default to the new Headless mode\n",
      "    for Chrome instead of the old Headless implementation. For more\n",
      "    information, please see https://developer.chrome.com/articles/new-headless/.\n",
      "    Consider opting in early by passing `headless: \"new\"` to `puppeteer.launch()`\n",
      "    If you encounter any bugs, please report them to https://github.com/puppeteer/puppeteer/issues/new/choose.\u001b[0m\n",
      "\n"
     ]
    },
    {
     "name": "stdout",
     "output_type": "stream",
     "text": [
      "Extracting links from: https://www.newegg.com/Laptops-Notebooks/SubCategory/ID-32/Page-20?Tid=6740&recaptcha=pass\n",
      "Found 36 links on page 20\n"
     ]
    },
    {
     "name": "stderr",
     "output_type": "stream",
     "text": [
      "\u001b[1m\u001b[43m\u001b[30m\n",
      "  Puppeteer old Headless deprecation warning:\u001b[0m\u001b[33m\n",
      "    In the near feature `headless: true` will default to the new Headless mode\n",
      "    for Chrome instead of the old Headless implementation. For more\n",
      "    information, please see https://developer.chrome.com/articles/new-headless/.\n",
      "    Consider opting in early by passing `headless: \"new\"` to `puppeteer.launch()`\n",
      "    If you encounter any bugs, please report them to https://github.com/puppeteer/puppeteer/issues/new/choose.\u001b[0m\n",
      "\n"
     ]
    },
    {
     "name": "stdout",
     "output_type": "stream",
     "text": [
      "Extracting links from: https://www.newegg.com/Laptops-Notebooks/SubCategory/ID-32/Page-21?Tid=6740&recaptcha=pass\n",
      "Found 0 links on page 21\n"
     ]
    },
    {
     "name": "stderr",
     "output_type": "stream",
     "text": [
      "\u001b[1m\u001b[43m\u001b[30m\n",
      "  Puppeteer old Headless deprecation warning:\u001b[0m\u001b[33m\n",
      "    In the near feature `headless: true` will default to the new Headless mode\n",
      "    for Chrome instead of the old Headless implementation. For more\n",
      "    information, please see https://developer.chrome.com/articles/new-headless/.\n",
      "    Consider opting in early by passing `headless: \"new\"` to `puppeteer.launch()`\n",
      "    If you encounter any bugs, please report them to https://github.com/puppeteer/puppeteer/issues/new/choose.\u001b[0m\n",
      "\n"
     ]
    },
    {
     "name": "stdout",
     "output_type": "stream",
     "text": [
      "Extracting links from: https://www.newegg.com/Laptops-Notebooks/SubCategory/ID-32/Page-22?Tid=6740&recaptcha=pass\n",
      "Found 0 links on page 22\n"
     ]
    },
    {
     "name": "stderr",
     "output_type": "stream",
     "text": [
      "\u001b[1m\u001b[43m\u001b[30m\n",
      "  Puppeteer old Headless deprecation warning:\u001b[0m\u001b[33m\n",
      "    In the near feature `headless: true` will default to the new Headless mode\n",
      "    for Chrome instead of the old Headless implementation. For more\n",
      "    information, please see https://developer.chrome.com/articles/new-headless/.\n",
      "    Consider opting in early by passing `headless: \"new\"` to `puppeteer.launch()`\n",
      "    If you encounter any bugs, please report them to https://github.com/puppeteer/puppeteer/issues/new/choose.\u001b[0m\n",
      "\n"
     ]
    },
    {
     "name": "stdout",
     "output_type": "stream",
     "text": [
      "Extracting links from: https://www.newegg.com/Laptops-Notebooks/SubCategory/ID-32/Page-23?Tid=6740&recaptcha=pass\n",
      "Found 36 links on page 23\n"
     ]
    },
    {
     "name": "stderr",
     "output_type": "stream",
     "text": [
      "\u001b[1m\u001b[43m\u001b[30m\n",
      "  Puppeteer old Headless deprecation warning:\u001b[0m\u001b[33m\n",
      "    In the near feature `headless: true` will default to the new Headless mode\n",
      "    for Chrome instead of the old Headless implementation. For more\n",
      "    information, please see https://developer.chrome.com/articles/new-headless/.\n",
      "    Consider opting in early by passing `headless: \"new\"` to `puppeteer.launch()`\n",
      "    If you encounter any bugs, please report them to https://github.com/puppeteer/puppeteer/issues/new/choose.\u001b[0m\n",
      "\n"
     ]
    },
    {
     "name": "stdout",
     "output_type": "stream",
     "text": [
      "Extracting links from: https://www.newegg.com/Laptops-Notebooks/SubCategory/ID-32/Page-24?Tid=6740&recaptcha=pass\n",
      "Found 36 links on page 24\n"
     ]
    },
    {
     "name": "stderr",
     "output_type": "stream",
     "text": [
      "\u001b[1m\u001b[43m\u001b[30m\n",
      "  Puppeteer old Headless deprecation warning:\u001b[0m\u001b[33m\n",
      "    In the near feature `headless: true` will default to the new Headless mode\n",
      "    for Chrome instead of the old Headless implementation. For more\n",
      "    information, please see https://developer.chrome.com/articles/new-headless/.\n",
      "    Consider opting in early by passing `headless: \"new\"` to `puppeteer.launch()`\n",
      "    If you encounter any bugs, please report them to https://github.com/puppeteer/puppeteer/issues/new/choose.\u001b[0m\n",
      "\n"
     ]
    },
    {
     "name": "stdout",
     "output_type": "stream",
     "text": [
      "Extracting links from: https://www.newegg.com/Laptops-Notebooks/SubCategory/ID-32/Page-25?Tid=6740&recaptcha=pass\n",
      "Found 0 links on page 25\n"
     ]
    },
    {
     "name": "stderr",
     "output_type": "stream",
     "text": [
      "\u001b[1m\u001b[43m\u001b[30m\n",
      "  Puppeteer old Headless deprecation warning:\u001b[0m\u001b[33m\n",
      "    In the near feature `headless: true` will default to the new Headless mode\n",
      "    for Chrome instead of the old Headless implementation. For more\n",
      "    information, please see https://developer.chrome.com/articles/new-headless/.\n",
      "    Consider opting in early by passing `headless: \"new\"` to `puppeteer.launch()`\n",
      "    If you encounter any bugs, please report them to https://github.com/puppeteer/puppeteer/issues/new/choose.\u001b[0m\n",
      "\n"
     ]
    },
    {
     "name": "stdout",
     "output_type": "stream",
     "text": [
      "Extracting links from: https://www.newegg.com/Laptops-Notebooks/SubCategory/ID-32/Page-26?Tid=6740&recaptcha=pass\n",
      "Found 36 links on page 26\n"
     ]
    },
    {
     "name": "stderr",
     "output_type": "stream",
     "text": [
      "\u001b[1m\u001b[43m\u001b[30m\n",
      "  Puppeteer old Headless deprecation warning:\u001b[0m\u001b[33m\n",
      "    In the near feature `headless: true` will default to the new Headless mode\n",
      "    for Chrome instead of the old Headless implementation. For more\n",
      "    information, please see https://developer.chrome.com/articles/new-headless/.\n",
      "    Consider opting in early by passing `headless: \"new\"` to `puppeteer.launch()`\n",
      "    If you encounter any bugs, please report them to https://github.com/puppeteer/puppeteer/issues/new/choose.\u001b[0m\n",
      "\n"
     ]
    },
    {
     "name": "stdout",
     "output_type": "stream",
     "text": [
      "Extracting links from: https://www.newegg.com/Laptops-Notebooks/SubCategory/ID-32/Page-27?Tid=6740&recaptcha=pass\n",
      "Found 36 links on page 27\n"
     ]
    },
    {
     "name": "stderr",
     "output_type": "stream",
     "text": [
      "\u001b[1m\u001b[43m\u001b[30m\n",
      "  Puppeteer old Headless deprecation warning:\u001b[0m\u001b[33m\n",
      "    In the near feature `headless: true` will default to the new Headless mode\n",
      "    for Chrome instead of the old Headless implementation. For more\n",
      "    information, please see https://developer.chrome.com/articles/new-headless/.\n",
      "    Consider opting in early by passing `headless: \"new\"` to `puppeteer.launch()`\n",
      "    If you encounter any bugs, please report them to https://github.com/puppeteer/puppeteer/issues/new/choose.\u001b[0m\n",
      "\n"
     ]
    },
    {
     "name": "stdout",
     "output_type": "stream",
     "text": [
      "Extracting links from: https://www.newegg.com/Laptops-Notebooks/SubCategory/ID-32/Page-28?Tid=6740&recaptcha=pass\n",
      "Found 36 links on page 28\n"
     ]
    },
    {
     "name": "stderr",
     "output_type": "stream",
     "text": [
      "\u001b[1m\u001b[43m\u001b[30m\n",
      "  Puppeteer old Headless deprecation warning:\u001b[0m\u001b[33m\n",
      "    In the near feature `headless: true` will default to the new Headless mode\n",
      "    for Chrome instead of the old Headless implementation. For more\n",
      "    information, please see https://developer.chrome.com/articles/new-headless/.\n",
      "    Consider opting in early by passing `headless: \"new\"` to `puppeteer.launch()`\n",
      "    If you encounter any bugs, please report them to https://github.com/puppeteer/puppeteer/issues/new/choose.\u001b[0m\n",
      "\n"
     ]
    },
    {
     "name": "stdout",
     "output_type": "stream",
     "text": [
      "Extracting links from: https://www.newegg.com/Laptops-Notebooks/SubCategory/ID-32/Page-29?Tid=6740&recaptcha=pass\n",
      "Found 36 links on page 29\n"
     ]
    },
    {
     "name": "stderr",
     "output_type": "stream",
     "text": [
      "\u001b[1m\u001b[43m\u001b[30m\n",
      "  Puppeteer old Headless deprecation warning:\u001b[0m\u001b[33m\n",
      "    In the near feature `headless: true` will default to the new Headless mode\n",
      "    for Chrome instead of the old Headless implementation. For more\n",
      "    information, please see https://developer.chrome.com/articles/new-headless/.\n",
      "    Consider opting in early by passing `headless: \"new\"` to `puppeteer.launch()`\n",
      "    If you encounter any bugs, please report them to https://github.com/puppeteer/puppeteer/issues/new/choose.\u001b[0m\n",
      "\n"
     ]
    },
    {
     "name": "stdout",
     "output_type": "stream",
     "text": [
      "Extracting links from: https://www.newegg.com/Laptops-Notebooks/SubCategory/ID-32/Page-30?Tid=6740&recaptcha=pass\n",
      "Found 36 links on page 30\n"
     ]
    },
    {
     "name": "stderr",
     "output_type": "stream",
     "text": [
      "\u001b[1m\u001b[43m\u001b[30m\n",
      "  Puppeteer old Headless deprecation warning:\u001b[0m\u001b[33m\n",
      "    In the near feature `headless: true` will default to the new Headless mode\n",
      "    for Chrome instead of the old Headless implementation. For more\n",
      "    information, please see https://developer.chrome.com/articles/new-headless/.\n",
      "    Consider opting in early by passing `headless: \"new\"` to `puppeteer.launch()`\n",
      "    If you encounter any bugs, please report them to https://github.com/puppeteer/puppeteer/issues/new/choose.\u001b[0m\n",
      "\n"
     ]
    },
    {
     "name": "stdout",
     "output_type": "stream",
     "text": [
      "Extracting links from: https://www.newegg.com/Laptops-Notebooks/SubCategory/ID-32/Page-31?Tid=6740&recaptcha=pass\n",
      "Found 36 links on page 31\n"
     ]
    },
    {
     "name": "stderr",
     "output_type": "stream",
     "text": [
      "\u001b[1m\u001b[43m\u001b[30m\n",
      "  Puppeteer old Headless deprecation warning:\u001b[0m\u001b[33m\n",
      "    In the near feature `headless: true` will default to the new Headless mode\n",
      "    for Chrome instead of the old Headless implementation. For more\n",
      "    information, please see https://developer.chrome.com/articles/new-headless/.\n",
      "    Consider opting in early by passing `headless: \"new\"` to `puppeteer.launch()`\n",
      "    If you encounter any bugs, please report them to https://github.com/puppeteer/puppeteer/issues/new/choose.\u001b[0m\n",
      "\n"
     ]
    },
    {
     "name": "stdout",
     "output_type": "stream",
     "text": [
      "Extracting links from: https://www.newegg.com/Laptops-Notebooks/SubCategory/ID-32/Page-32?Tid=6740&recaptcha=pass\n",
      "Found 36 links on page 32\n"
     ]
    },
    {
     "name": "stderr",
     "output_type": "stream",
     "text": [
      "\u001b[1m\u001b[43m\u001b[30m\n",
      "  Puppeteer old Headless deprecation warning:\u001b[0m\u001b[33m\n",
      "    In the near feature `headless: true` will default to the new Headless mode\n",
      "    for Chrome instead of the old Headless implementation. For more\n",
      "    information, please see https://developer.chrome.com/articles/new-headless/.\n",
      "    Consider opting in early by passing `headless: \"new\"` to `puppeteer.launch()`\n",
      "    If you encounter any bugs, please report them to https://github.com/puppeteer/puppeteer/issues/new/choose.\u001b[0m\n",
      "\n"
     ]
    },
    {
     "name": "stdout",
     "output_type": "stream",
     "text": [
      "Extracting links from: https://www.newegg.com/Laptops-Notebooks/SubCategory/ID-32/Page-33?Tid=6740&recaptcha=pass\n",
      "Found 36 links on page 33\n"
     ]
    },
    {
     "name": "stderr",
     "output_type": "stream",
     "text": [
      "\u001b[1m\u001b[43m\u001b[30m\n",
      "  Puppeteer old Headless deprecation warning:\u001b[0m\u001b[33m\n",
      "    In the near feature `headless: true` will default to the new Headless mode\n",
      "    for Chrome instead of the old Headless implementation. For more\n",
      "    information, please see https://developer.chrome.com/articles/new-headless/.\n",
      "    Consider opting in early by passing `headless: \"new\"` to `puppeteer.launch()`\n",
      "    If you encounter any bugs, please report them to https://github.com/puppeteer/puppeteer/issues/new/choose.\u001b[0m\n",
      "\n"
     ]
    },
    {
     "name": "stdout",
     "output_type": "stream",
     "text": [
      "Extracting links from: https://www.newegg.com/Laptops-Notebooks/SubCategory/ID-32/Page-34?Tid=6740&recaptcha=pass\n",
      "Found 36 links on page 34\n"
     ]
    },
    {
     "name": "stderr",
     "output_type": "stream",
     "text": [
      "\u001b[1m\u001b[43m\u001b[30m\n",
      "  Puppeteer old Headless deprecation warning:\u001b[0m\u001b[33m\n",
      "    In the near feature `headless: true` will default to the new Headless mode\n",
      "    for Chrome instead of the old Headless implementation. For more\n",
      "    information, please see https://developer.chrome.com/articles/new-headless/.\n",
      "    Consider opting in early by passing `headless: \"new\"` to `puppeteer.launch()`\n",
      "    If you encounter any bugs, please report them to https://github.com/puppeteer/puppeteer/issues/new/choose.\u001b[0m\n",
      "\n"
     ]
    },
    {
     "name": "stdout",
     "output_type": "stream",
     "text": [
      "Extracting links from: https://www.newegg.com/Laptops-Notebooks/SubCategory/ID-32/Page-35?Tid=6740&recaptcha=pass\n",
      "Found 36 links on page 35\n"
     ]
    },
    {
     "name": "stderr",
     "output_type": "stream",
     "text": [
      "\u001b[1m\u001b[43m\u001b[30m\n",
      "  Puppeteer old Headless deprecation warning:\u001b[0m\u001b[33m\n",
      "    In the near feature `headless: true` will default to the new Headless mode\n",
      "    for Chrome instead of the old Headless implementation. For more\n",
      "    information, please see https://developer.chrome.com/articles/new-headless/.\n",
      "    Consider opting in early by passing `headless: \"new\"` to `puppeteer.launch()`\n",
      "    If you encounter any bugs, please report them to https://github.com/puppeteer/puppeteer/issues/new/choose.\u001b[0m\n",
      "\n"
     ]
    },
    {
     "name": "stdout",
     "output_type": "stream",
     "text": [
      "Extracting links from: https://www.newegg.com/Laptops-Notebooks/SubCategory/ID-32/Page-36?Tid=6740&recaptcha=pass\n",
      "Found 36 links on page 36\n"
     ]
    },
    {
     "name": "stderr",
     "output_type": "stream",
     "text": [
      "\u001b[1m\u001b[43m\u001b[30m\n",
      "  Puppeteer old Headless deprecation warning:\u001b[0m\u001b[33m\n",
      "    In the near feature `headless: true` will default to the new Headless mode\n",
      "    for Chrome instead of the old Headless implementation. For more\n",
      "    information, please see https://developer.chrome.com/articles/new-headless/.\n",
      "    Consider opting in early by passing `headless: \"new\"` to `puppeteer.launch()`\n",
      "    If you encounter any bugs, please report them to https://github.com/puppeteer/puppeteer/issues/new/choose.\u001b[0m\n",
      "\n"
     ]
    },
    {
     "name": "stdout",
     "output_type": "stream",
     "text": [
      "Extracting links from: https://www.newegg.com/Laptops-Notebooks/SubCategory/ID-32/Page-37?Tid=6740&recaptcha=pass\n",
      "Found 0 links on page 37\n"
     ]
    },
    {
     "name": "stderr",
     "output_type": "stream",
     "text": [
      "\u001b[1m\u001b[43m\u001b[30m\n",
      "  Puppeteer old Headless deprecation warning:\u001b[0m\u001b[33m\n",
      "    In the near feature `headless: true` will default to the new Headless mode\n",
      "    for Chrome instead of the old Headless implementation. For more\n",
      "    information, please see https://developer.chrome.com/articles/new-headless/.\n",
      "    Consider opting in early by passing `headless: \"new\"` to `puppeteer.launch()`\n",
      "    If you encounter any bugs, please report them to https://github.com/puppeteer/puppeteer/issues/new/choose.\u001b[0m\n",
      "\n"
     ]
    },
    {
     "name": "stdout",
     "output_type": "stream",
     "text": [
      "Extracting links from: https://www.newegg.com/Laptops-Notebooks/SubCategory/ID-32/Page-38?Tid=6740&recaptcha=pass\n",
      "Found 36 links on page 38\n"
     ]
    },
    {
     "name": "stderr",
     "output_type": "stream",
     "text": [
      "\u001b[1m\u001b[43m\u001b[30m\n",
      "  Puppeteer old Headless deprecation warning:\u001b[0m\u001b[33m\n",
      "    In the near feature `headless: true` will default to the new Headless mode\n",
      "    for Chrome instead of the old Headless implementation. For more\n",
      "    information, please see https://developer.chrome.com/articles/new-headless/.\n",
      "    Consider opting in early by passing `headless: \"new\"` to `puppeteer.launch()`\n",
      "    If you encounter any bugs, please report them to https://github.com/puppeteer/puppeteer/issues/new/choose.\u001b[0m\n",
      "\n"
     ]
    },
    {
     "name": "stdout",
     "output_type": "stream",
     "text": [
      "Extracting links from: https://www.newegg.com/Laptops-Notebooks/SubCategory/ID-32/Page-39?Tid=6740&recaptcha=pass\n",
      "Found 36 links on page 39\n"
     ]
    },
    {
     "name": "stderr",
     "output_type": "stream",
     "text": [
      "\u001b[1m\u001b[43m\u001b[30m\n",
      "  Puppeteer old Headless deprecation warning:\u001b[0m\u001b[33m\n",
      "    In the near feature `headless: true` will default to the new Headless mode\n",
      "    for Chrome instead of the old Headless implementation. For more\n",
      "    information, please see https://developer.chrome.com/articles/new-headless/.\n",
      "    Consider opting in early by passing `headless: \"new\"` to `puppeteer.launch()`\n",
      "    If you encounter any bugs, please report them to https://github.com/puppeteer/puppeteer/issues/new/choose.\u001b[0m\n",
      "\n"
     ]
    },
    {
     "name": "stdout",
     "output_type": "stream",
     "text": [
      "Extracting links from: https://www.newegg.com/Laptops-Notebooks/SubCategory/ID-32/Page-40?Tid=6740&recaptcha=pass\n",
      "Found 36 links on page 40\n"
     ]
    },
    {
     "name": "stderr",
     "output_type": "stream",
     "text": [
      "\u001b[1m\u001b[43m\u001b[30m\n",
      "  Puppeteer old Headless deprecation warning:\u001b[0m\u001b[33m\n",
      "    In the near feature `headless: true` will default to the new Headless mode\n",
      "    for Chrome instead of the old Headless implementation. For more\n",
      "    information, please see https://developer.chrome.com/articles/new-headless/.\n",
      "    Consider opting in early by passing `headless: \"new\"` to `puppeteer.launch()`\n",
      "    If you encounter any bugs, please report them to https://github.com/puppeteer/puppeteer/issues/new/choose.\u001b[0m\n",
      "\n"
     ]
    },
    {
     "name": "stdout",
     "output_type": "stream",
     "text": [
      "Extracting links from: https://www.newegg.com/Laptops-Notebooks/SubCategory/ID-32/Page-41?Tid=6740&recaptcha=pass\n",
      "Found 36 links on page 41\n"
     ]
    },
    {
     "name": "stderr",
     "output_type": "stream",
     "text": [
      "\u001b[1m\u001b[43m\u001b[30m\n",
      "  Puppeteer old Headless deprecation warning:\u001b[0m\u001b[33m\n",
      "    In the near feature `headless: true` will default to the new Headless mode\n",
      "    for Chrome instead of the old Headless implementation. For more\n",
      "    information, please see https://developer.chrome.com/articles/new-headless/.\n",
      "    Consider opting in early by passing `headless: \"new\"` to `puppeteer.launch()`\n",
      "    If you encounter any bugs, please report them to https://github.com/puppeteer/puppeteer/issues/new/choose.\u001b[0m\n",
      "\n"
     ]
    },
    {
     "name": "stdout",
     "output_type": "stream",
     "text": [
      "Extracting links from: https://www.newegg.com/Laptops-Notebooks/SubCategory/ID-32/Page-42?Tid=6740&recaptcha=pass\n",
      "Found 36 links on page 42\n"
     ]
    },
    {
     "name": "stderr",
     "output_type": "stream",
     "text": [
      "\u001b[1m\u001b[43m\u001b[30m\n",
      "  Puppeteer old Headless deprecation warning:\u001b[0m\u001b[33m\n",
      "    In the near feature `headless: true` will default to the new Headless mode\n",
      "    for Chrome instead of the old Headless implementation. For more\n",
      "    information, please see https://developer.chrome.com/articles/new-headless/.\n",
      "    Consider opting in early by passing `headless: \"new\"` to `puppeteer.launch()`\n",
      "    If you encounter any bugs, please report them to https://github.com/puppeteer/puppeteer/issues/new/choose.\u001b[0m\n",
      "\n"
     ]
    },
    {
     "name": "stdout",
     "output_type": "stream",
     "text": [
      "Extracting links from: https://www.newegg.com/Laptops-Notebooks/SubCategory/ID-32/Page-43?Tid=6740&recaptcha=pass\n",
      "Found 36 links on page 43\n"
     ]
    },
    {
     "name": "stderr",
     "output_type": "stream",
     "text": [
      "\u001b[1m\u001b[43m\u001b[30m\n",
      "  Puppeteer old Headless deprecation warning:\u001b[0m\u001b[33m\n",
      "    In the near feature `headless: true` will default to the new Headless mode\n",
      "    for Chrome instead of the old Headless implementation. For more\n",
      "    information, please see https://developer.chrome.com/articles/new-headless/.\n",
      "    Consider opting in early by passing `headless: \"new\"` to `puppeteer.launch()`\n",
      "    If you encounter any bugs, please report them to https://github.com/puppeteer/puppeteer/issues/new/choose.\u001b[0m\n",
      "\n"
     ]
    },
    {
     "name": "stdout",
     "output_type": "stream",
     "text": [
      "Extracting links from: https://www.newegg.com/Laptops-Notebooks/SubCategory/ID-32/Page-44?Tid=6740&recaptcha=pass\n",
      "Found 36 links on page 44\n"
     ]
    },
    {
     "name": "stderr",
     "output_type": "stream",
     "text": [
      "\u001b[1m\u001b[43m\u001b[30m\n",
      "  Puppeteer old Headless deprecation warning:\u001b[0m\u001b[33m\n",
      "    In the near feature `headless: true` will default to the new Headless mode\n",
      "    for Chrome instead of the old Headless implementation. For more\n",
      "    information, please see https://developer.chrome.com/articles/new-headless/.\n",
      "    Consider opting in early by passing `headless: \"new\"` to `puppeteer.launch()`\n",
      "    If you encounter any bugs, please report them to https://github.com/puppeteer/puppeteer/issues/new/choose.\u001b[0m\n",
      "\n"
     ]
    },
    {
     "name": "stdout",
     "output_type": "stream",
     "text": [
      "Extracting links from: https://www.newegg.com/Laptops-Notebooks/SubCategory/ID-32/Page-45?Tid=6740&recaptcha=pass\n",
      "Found 36 links on page 45\n"
     ]
    },
    {
     "name": "stderr",
     "output_type": "stream",
     "text": [
      "\u001b[1m\u001b[43m\u001b[30m\n",
      "  Puppeteer old Headless deprecation warning:\u001b[0m\u001b[33m\n",
      "    In the near feature `headless: true` will default to the new Headless mode\n",
      "    for Chrome instead of the old Headless implementation. For more\n",
      "    information, please see https://developer.chrome.com/articles/new-headless/.\n",
      "    Consider opting in early by passing `headless: \"new\"` to `puppeteer.launch()`\n",
      "    If you encounter any bugs, please report them to https://github.com/puppeteer/puppeteer/issues/new/choose.\u001b[0m\n",
      "\n"
     ]
    },
    {
     "name": "stdout",
     "output_type": "stream",
     "text": [
      "Extracting links from: https://www.newegg.com/Laptops-Notebooks/SubCategory/ID-32/Page-46?Tid=6740&recaptcha=pass\n",
      "Found 35 links on page 46\n"
     ]
    },
    {
     "name": "stderr",
     "output_type": "stream",
     "text": [
      "\u001b[1m\u001b[43m\u001b[30m\n",
      "  Puppeteer old Headless deprecation warning:\u001b[0m\u001b[33m\n",
      "    In the near feature `headless: true` will default to the new Headless mode\n",
      "    for Chrome instead of the old Headless implementation. For more\n",
      "    information, please see https://developer.chrome.com/articles/new-headless/.\n",
      "    Consider opting in early by passing `headless: \"new\"` to `puppeteer.launch()`\n",
      "    If you encounter any bugs, please report them to https://github.com/puppeteer/puppeteer/issues/new/choose.\u001b[0m\n",
      "\n"
     ]
    },
    {
     "name": "stdout",
     "output_type": "stream",
     "text": [
      "Extracting links from: https://www.newegg.com/Laptops-Notebooks/SubCategory/ID-32/Page-47?Tid=6740&recaptcha=pass\n",
      "Found 36 links on page 47\n"
     ]
    },
    {
     "name": "stderr",
     "output_type": "stream",
     "text": [
      "\u001b[1m\u001b[43m\u001b[30m\n",
      "  Puppeteer old Headless deprecation warning:\u001b[0m\u001b[33m\n",
      "    In the near feature `headless: true` will default to the new Headless mode\n",
      "    for Chrome instead of the old Headless implementation. For more\n",
      "    information, please see https://developer.chrome.com/articles/new-headless/.\n",
      "    Consider opting in early by passing `headless: \"new\"` to `puppeteer.launch()`\n",
      "    If you encounter any bugs, please report them to https://github.com/puppeteer/puppeteer/issues/new/choose.\u001b[0m\n",
      "\n"
     ]
    },
    {
     "name": "stdout",
     "output_type": "stream",
     "text": [
      "Extracting links from: https://www.newegg.com/Laptops-Notebooks/SubCategory/ID-32/Page-48?Tid=6740&recaptcha=pass\n",
      "Found 36 links on page 48\n"
     ]
    },
    {
     "name": "stderr",
     "output_type": "stream",
     "text": [
      "\u001b[1m\u001b[43m\u001b[30m\n",
      "  Puppeteer old Headless deprecation warning:\u001b[0m\u001b[33m\n",
      "    In the near feature `headless: true` will default to the new Headless mode\n",
      "    for Chrome instead of the old Headless implementation. For more\n",
      "    information, please see https://developer.chrome.com/articles/new-headless/.\n",
      "    Consider opting in early by passing `headless: \"new\"` to `puppeteer.launch()`\n",
      "    If you encounter any bugs, please report them to https://github.com/puppeteer/puppeteer/issues/new/choose.\u001b[0m\n",
      "\n"
     ]
    },
    {
     "name": "stdout",
     "output_type": "stream",
     "text": [
      "Extracting links from: https://www.newegg.com/Laptops-Notebooks/SubCategory/ID-32/Page-49?Tid=6740&recaptcha=pass\n",
      "Found 36 links on page 49\n"
     ]
    },
    {
     "name": "stderr",
     "output_type": "stream",
     "text": [
      "\u001b[1m\u001b[43m\u001b[30m\n",
      "  Puppeteer old Headless deprecation warning:\u001b[0m\u001b[33m\n",
      "    In the near feature `headless: true` will default to the new Headless mode\n",
      "    for Chrome instead of the old Headless implementation. For more\n",
      "    information, please see https://developer.chrome.com/articles/new-headless/.\n",
      "    Consider opting in early by passing `headless: \"new\"` to `puppeteer.launch()`\n",
      "    If you encounter any bugs, please report them to https://github.com/puppeteer/puppeteer/issues/new/choose.\u001b[0m\n",
      "\n"
     ]
    },
    {
     "name": "stdout",
     "output_type": "stream",
     "text": [
      "Extracting links from: https://www.newegg.com/Laptops-Notebooks/SubCategory/ID-32/Page-50?Tid=6740&recaptcha=pass\n",
      "Found 0 links on page 50\n"
     ]
    },
    {
     "name": "stderr",
     "output_type": "stream",
     "text": [
      "\u001b[1m\u001b[43m\u001b[30m\n",
      "  Puppeteer old Headless deprecation warning:\u001b[0m\u001b[33m\n",
      "    In the near feature `headless: true` will default to the new Headless mode\n",
      "    for Chrome instead of the old Headless implementation. For more\n",
      "    information, please see https://developer.chrome.com/articles/new-headless/.\n",
      "    Consider opting in early by passing `headless: \"new\"` to `puppeteer.launch()`\n",
      "    If you encounter any bugs, please report them to https://github.com/puppeteer/puppeteer/issues/new/choose.\u001b[0m\n",
      "\n"
     ]
    },
    {
     "name": "stdout",
     "output_type": "stream",
     "text": [
      "Extracting links from: https://www.newegg.com/Laptops-Notebooks/SubCategory/ID-32/Page-51?Tid=6740&recaptcha=pass\n",
      "Found 0 links on page 51\n"
     ]
    },
    {
     "name": "stderr",
     "output_type": "stream",
     "text": [
      "\u001b[1m\u001b[43m\u001b[30m\n",
      "  Puppeteer old Headless deprecation warning:\u001b[0m\u001b[33m\n",
      "    In the near feature `headless: true` will default to the new Headless mode\n",
      "    for Chrome instead of the old Headless implementation. For more\n",
      "    information, please see https://developer.chrome.com/articles/new-headless/.\n",
      "    Consider opting in early by passing `headless: \"new\"` to `puppeteer.launch()`\n",
      "    If you encounter any bugs, please report them to https://github.com/puppeteer/puppeteer/issues/new/choose.\u001b[0m\n",
      "\n"
     ]
    },
    {
     "name": "stdout",
     "output_type": "stream",
     "text": [
      "Extracting links from: https://www.newegg.com/Laptops-Notebooks/SubCategory/ID-32/Page-52?Tid=6740&recaptcha=pass\n",
      "Found 36 links on page 52\n"
     ]
    },
    {
     "name": "stderr",
     "output_type": "stream",
     "text": [
      "\u001b[1m\u001b[43m\u001b[30m\n",
      "  Puppeteer old Headless deprecation warning:\u001b[0m\u001b[33m\n",
      "    In the near feature `headless: true` will default to the new Headless mode\n",
      "    for Chrome instead of the old Headless implementation. For more\n",
      "    information, please see https://developer.chrome.com/articles/new-headless/.\n",
      "    Consider opting in early by passing `headless: \"new\"` to `puppeteer.launch()`\n",
      "    If you encounter any bugs, please report them to https://github.com/puppeteer/puppeteer/issues/new/choose.\u001b[0m\n",
      "\n"
     ]
    },
    {
     "name": "stdout",
     "output_type": "stream",
     "text": [
      "Extracting links from: https://www.newegg.com/Laptops-Notebooks/SubCategory/ID-32/Page-53?Tid=6740&recaptcha=pass\n",
      "Found 36 links on page 53\n"
     ]
    },
    {
     "name": "stderr",
     "output_type": "stream",
     "text": [
      "\u001b[1m\u001b[43m\u001b[30m\n",
      "  Puppeteer old Headless deprecation warning:\u001b[0m\u001b[33m\n",
      "    In the near feature `headless: true` will default to the new Headless mode\n",
      "    for Chrome instead of the old Headless implementation. For more\n",
      "    information, please see https://developer.chrome.com/articles/new-headless/.\n",
      "    Consider opting in early by passing `headless: \"new\"` to `puppeteer.launch()`\n",
      "    If you encounter any bugs, please report them to https://github.com/puppeteer/puppeteer/issues/new/choose.\u001b[0m\n",
      "\n"
     ]
    },
    {
     "name": "stdout",
     "output_type": "stream",
     "text": [
      "Extracting links from: https://www.newegg.com/Laptops-Notebooks/SubCategory/ID-32/Page-54?Tid=6740&recaptcha=pass\n",
      "Found 0 links on page 54\n"
     ]
    },
    {
     "name": "stderr",
     "output_type": "stream",
     "text": [
      "\u001b[1m\u001b[43m\u001b[30m\n",
      "  Puppeteer old Headless deprecation warning:\u001b[0m\u001b[33m\n",
      "    In the near feature `headless: true` will default to the new Headless mode\n",
      "    for Chrome instead of the old Headless implementation. For more\n",
      "    information, please see https://developer.chrome.com/articles/new-headless/.\n",
      "    Consider opting in early by passing `headless: \"new\"` to `puppeteer.launch()`\n",
      "    If you encounter any bugs, please report them to https://github.com/puppeteer/puppeteer/issues/new/choose.\u001b[0m\n",
      "\n"
     ]
    },
    {
     "name": "stdout",
     "output_type": "stream",
     "text": [
      "Extracting links from: https://www.newegg.com/Laptops-Notebooks/SubCategory/ID-32/Page-55?Tid=6740&recaptcha=pass\n",
      "Found 36 links on page 55\n"
     ]
    },
    {
     "name": "stderr",
     "output_type": "stream",
     "text": [
      "\u001b[1m\u001b[43m\u001b[30m\n",
      "  Puppeteer old Headless deprecation warning:\u001b[0m\u001b[33m\n",
      "    In the near feature `headless: true` will default to the new Headless mode\n",
      "    for Chrome instead of the old Headless implementation. For more\n",
      "    information, please see https://developer.chrome.com/articles/new-headless/.\n",
      "    Consider opting in early by passing `headless: \"new\"` to `puppeteer.launch()`\n",
      "    If you encounter any bugs, please report them to https://github.com/puppeteer/puppeteer/issues/new/choose.\u001b[0m\n",
      "\n"
     ]
    },
    {
     "name": "stdout",
     "output_type": "stream",
     "text": [
      "Extracting links from: https://www.newegg.com/Laptops-Notebooks/SubCategory/ID-32/Page-56?Tid=6740&recaptcha=pass\n",
      "Found 36 links on page 56\n"
     ]
    },
    {
     "name": "stderr",
     "output_type": "stream",
     "text": [
      "\u001b[1m\u001b[43m\u001b[30m\n",
      "  Puppeteer old Headless deprecation warning:\u001b[0m\u001b[33m\n",
      "    In the near feature `headless: true` will default to the new Headless mode\n",
      "    for Chrome instead of the old Headless implementation. For more\n",
      "    information, please see https://developer.chrome.com/articles/new-headless/.\n",
      "    Consider opting in early by passing `headless: \"new\"` to `puppeteer.launch()`\n",
      "    If you encounter any bugs, please report them to https://github.com/puppeteer/puppeteer/issues/new/choose.\u001b[0m\n",
      "\n"
     ]
    },
    {
     "name": "stdout",
     "output_type": "stream",
     "text": [
      "Extracting links from: https://www.newegg.com/Laptops-Notebooks/SubCategory/ID-32/Page-57?Tid=6740&recaptcha=pass\n",
      "Found 36 links on page 57\n"
     ]
    },
    {
     "name": "stderr",
     "output_type": "stream",
     "text": [
      "\u001b[1m\u001b[43m\u001b[30m\n",
      "  Puppeteer old Headless deprecation warning:\u001b[0m\u001b[33m\n",
      "    In the near feature `headless: true` will default to the new Headless mode\n",
      "    for Chrome instead of the old Headless implementation. For more\n",
      "    information, please see https://developer.chrome.com/articles/new-headless/.\n",
      "    Consider opting in early by passing `headless: \"new\"` to `puppeteer.launch()`\n",
      "    If you encounter any bugs, please report them to https://github.com/puppeteer/puppeteer/issues/new/choose.\u001b[0m\n",
      "\n"
     ]
    },
    {
     "name": "stdout",
     "output_type": "stream",
     "text": [
      "Extracting links from: https://www.newegg.com/Laptops-Notebooks/SubCategory/ID-32/Page-58?Tid=6740&recaptcha=pass\n",
      "Found 0 links on page 58\n"
     ]
    },
    {
     "name": "stderr",
     "output_type": "stream",
     "text": [
      "\u001b[1m\u001b[43m\u001b[30m\n",
      "  Puppeteer old Headless deprecation warning:\u001b[0m\u001b[33m\n",
      "    In the near feature `headless: true` will default to the new Headless mode\n",
      "    for Chrome instead of the old Headless implementation. For more\n",
      "    information, please see https://developer.chrome.com/articles/new-headless/.\n",
      "    Consider opting in early by passing `headless: \"new\"` to `puppeteer.launch()`\n",
      "    If you encounter any bugs, please report them to https://github.com/puppeteer/puppeteer/issues/new/choose.\u001b[0m\n",
      "\n"
     ]
    },
    {
     "name": "stdout",
     "output_type": "stream",
     "text": [
      "Extracting links from: https://www.newegg.com/Laptops-Notebooks/SubCategory/ID-32/Page-59?Tid=6740&recaptcha=pass\n",
      "Found 36 links on page 59\n"
     ]
    },
    {
     "name": "stderr",
     "output_type": "stream",
     "text": [
      "\u001b[1m\u001b[43m\u001b[30m\n",
      "  Puppeteer old Headless deprecation warning:\u001b[0m\u001b[33m\n",
      "    In the near feature `headless: true` will default to the new Headless mode\n",
      "    for Chrome instead of the old Headless implementation. For more\n",
      "    information, please see https://developer.chrome.com/articles/new-headless/.\n",
      "    Consider opting in early by passing `headless: \"new\"` to `puppeteer.launch()`\n",
      "    If you encounter any bugs, please report them to https://github.com/puppeteer/puppeteer/issues/new/choose.\u001b[0m\n",
      "\n"
     ]
    },
    {
     "name": "stdout",
     "output_type": "stream",
     "text": [
      "Extracting links from: https://www.newegg.com/Laptops-Notebooks/SubCategory/ID-32/Page-60?Tid=6740&recaptcha=pass\n",
      "Found 36 links on page 60\n"
     ]
    },
    {
     "name": "stderr",
     "output_type": "stream",
     "text": [
      "\u001b[1m\u001b[43m\u001b[30m\n",
      "  Puppeteer old Headless deprecation warning:\u001b[0m\u001b[33m\n",
      "    In the near feature `headless: true` will default to the new Headless mode\n",
      "    for Chrome instead of the old Headless implementation. For more\n",
      "    information, please see https://developer.chrome.com/articles/new-headless/.\n",
      "    Consider opting in early by passing `headless: \"new\"` to `puppeteer.launch()`\n",
      "    If you encounter any bugs, please report them to https://github.com/puppeteer/puppeteer/issues/new/choose.\u001b[0m\n",
      "\n"
     ]
    },
    {
     "name": "stdout",
     "output_type": "stream",
     "text": [
      "Extracting links from: https://www.newegg.com/Laptops-Notebooks/SubCategory/ID-32/Page-61?Tid=6740&recaptcha=pass\n",
      "Found 36 links on page 61\n"
     ]
    },
    {
     "name": "stderr",
     "output_type": "stream",
     "text": [
      "\u001b[1m\u001b[43m\u001b[30m\n",
      "  Puppeteer old Headless deprecation warning:\u001b[0m\u001b[33m\n",
      "    In the near feature `headless: true` will default to the new Headless mode\n",
      "    for Chrome instead of the old Headless implementation. For more\n",
      "    information, please see https://developer.chrome.com/articles/new-headless/.\n",
      "    Consider opting in early by passing `headless: \"new\"` to `puppeteer.launch()`\n",
      "    If you encounter any bugs, please report them to https://github.com/puppeteer/puppeteer/issues/new/choose.\u001b[0m\n",
      "\n"
     ]
    },
    {
     "name": "stdout",
     "output_type": "stream",
     "text": [
      "Extracting links from: https://www.newegg.com/Laptops-Notebooks/SubCategory/ID-32/Page-62?Tid=6740&recaptcha=pass\n",
      "Found 0 links on page 62\n"
     ]
    },
    {
     "name": "stderr",
     "output_type": "stream",
     "text": [
      "\u001b[1m\u001b[43m\u001b[30m\n",
      "  Puppeteer old Headless deprecation warning:\u001b[0m\u001b[33m\n",
      "    In the near feature `headless: true` will default to the new Headless mode\n",
      "    for Chrome instead of the old Headless implementation. For more\n",
      "    information, please see https://developer.chrome.com/articles/new-headless/.\n",
      "    Consider opting in early by passing `headless: \"new\"` to `puppeteer.launch()`\n",
      "    If you encounter any bugs, please report them to https://github.com/puppeteer/puppeteer/issues/new/choose.\u001b[0m\n",
      "\n"
     ]
    },
    {
     "name": "stdout",
     "output_type": "stream",
     "text": [
      "Extracting links from: https://www.newegg.com/Laptops-Notebooks/SubCategory/ID-32/Page-63?Tid=6740&recaptcha=pass\n",
      "Found 0 links on page 63\n"
     ]
    },
    {
     "name": "stderr",
     "output_type": "stream",
     "text": [
      "\u001b[1m\u001b[43m\u001b[30m\n",
      "  Puppeteer old Headless deprecation warning:\u001b[0m\u001b[33m\n",
      "    In the near feature `headless: true` will default to the new Headless mode\n",
      "    for Chrome instead of the old Headless implementation. For more\n",
      "    information, please see https://developer.chrome.com/articles/new-headless/.\n",
      "    Consider opting in early by passing `headless: \"new\"` to `puppeteer.launch()`\n",
      "    If you encounter any bugs, please report them to https://github.com/puppeteer/puppeteer/issues/new/choose.\u001b[0m\n",
      "\n"
     ]
    },
    {
     "name": "stdout",
     "output_type": "stream",
     "text": [
      "Extracting links from: https://www.newegg.com/Laptops-Notebooks/SubCategory/ID-32/Page-64?Tid=6740&recaptcha=pass\n",
      "Found 36 links on page 64\n"
     ]
    },
    {
     "name": "stderr",
     "output_type": "stream",
     "text": [
      "\u001b[1m\u001b[43m\u001b[30m\n",
      "  Puppeteer old Headless deprecation warning:\u001b[0m\u001b[33m\n",
      "    In the near feature `headless: true` will default to the new Headless mode\n",
      "    for Chrome instead of the old Headless implementation. For more\n",
      "    information, please see https://developer.chrome.com/articles/new-headless/.\n",
      "    Consider opting in early by passing `headless: \"new\"` to `puppeteer.launch()`\n",
      "    If you encounter any bugs, please report them to https://github.com/puppeteer/puppeteer/issues/new/choose.\u001b[0m\n",
      "\n"
     ]
    },
    {
     "name": "stdout",
     "output_type": "stream",
     "text": [
      "Extracting links from: https://www.newegg.com/Laptops-Notebooks/SubCategory/ID-32/Page-65?Tid=6740&recaptcha=pass\n",
      "Found 36 links on page 65\n"
     ]
    },
    {
     "name": "stderr",
     "output_type": "stream",
     "text": [
      "\u001b[1m\u001b[43m\u001b[30m\n",
      "  Puppeteer old Headless deprecation warning:\u001b[0m\u001b[33m\n",
      "    In the near feature `headless: true` will default to the new Headless mode\n",
      "    for Chrome instead of the old Headless implementation. For more\n",
      "    information, please see https://developer.chrome.com/articles/new-headless/.\n",
      "    Consider opting in early by passing `headless: \"new\"` to `puppeteer.launch()`\n",
      "    If you encounter any bugs, please report them to https://github.com/puppeteer/puppeteer/issues/new/choose.\u001b[0m\n",
      "\n"
     ]
    },
    {
     "name": "stdout",
     "output_type": "stream",
     "text": [
      "Extracting links from: https://www.newegg.com/Laptops-Notebooks/SubCategory/ID-32/Page-66?Tid=6740&recaptcha=pass\n",
      "Found 36 links on page 66\n"
     ]
    },
    {
     "name": "stderr",
     "output_type": "stream",
     "text": [
      "\u001b[1m\u001b[43m\u001b[30m\n",
      "  Puppeteer old Headless deprecation warning:\u001b[0m\u001b[33m\n",
      "    In the near feature `headless: true` will default to the new Headless mode\n",
      "    for Chrome instead of the old Headless implementation. For more\n",
      "    information, please see https://developer.chrome.com/articles/new-headless/.\n",
      "    Consider opting in early by passing `headless: \"new\"` to `puppeteer.launch()`\n",
      "    If you encounter any bugs, please report them to https://github.com/puppeteer/puppeteer/issues/new/choose.\u001b[0m\n",
      "\n"
     ]
    },
    {
     "name": "stdout",
     "output_type": "stream",
     "text": [
      "Extracting links from: https://www.newegg.com/Laptops-Notebooks/SubCategory/ID-32/Page-67?Tid=6740&recaptcha=pass\n",
      "Found 36 links on page 67\n"
     ]
    },
    {
     "name": "stderr",
     "output_type": "stream",
     "text": [
      "\u001b[1m\u001b[43m\u001b[30m\n",
      "  Puppeteer old Headless deprecation warning:\u001b[0m\u001b[33m\n",
      "    In the near feature `headless: true` will default to the new Headless mode\n",
      "    for Chrome instead of the old Headless implementation. For more\n",
      "    information, please see https://developer.chrome.com/articles/new-headless/.\n",
      "    Consider opting in early by passing `headless: \"new\"` to `puppeteer.launch()`\n",
      "    If you encounter any bugs, please report them to https://github.com/puppeteer/puppeteer/issues/new/choose.\u001b[0m\n",
      "\n"
     ]
    },
    {
     "name": "stdout",
     "output_type": "stream",
     "text": [
      "Extracting links from: https://www.newegg.com/Laptops-Notebooks/SubCategory/ID-32/Page-68?Tid=6740&recaptcha=pass\n",
      "Found 36 links on page 68\n"
     ]
    },
    {
     "name": "stderr",
     "output_type": "stream",
     "text": [
      "\u001b[1m\u001b[43m\u001b[30m\n",
      "  Puppeteer old Headless deprecation warning:\u001b[0m\u001b[33m\n",
      "    In the near feature `headless: true` will default to the new Headless mode\n",
      "    for Chrome instead of the old Headless implementation. For more\n",
      "    information, please see https://developer.chrome.com/articles/new-headless/.\n",
      "    Consider opting in early by passing `headless: \"new\"` to `puppeteer.launch()`\n",
      "    If you encounter any bugs, please report them to https://github.com/puppeteer/puppeteer/issues/new/choose.\u001b[0m\n",
      "\n"
     ]
    },
    {
     "name": "stdout",
     "output_type": "stream",
     "text": [
      "Extracting links from: https://www.newegg.com/Laptops-Notebooks/SubCategory/ID-32/Page-69?Tid=6740&recaptcha=pass\n",
      "Found 36 links on page 69\n"
     ]
    },
    {
     "name": "stderr",
     "output_type": "stream",
     "text": [
      "\u001b[1m\u001b[43m\u001b[30m\n",
      "  Puppeteer old Headless deprecation warning:\u001b[0m\u001b[33m\n",
      "    In the near feature `headless: true` will default to the new Headless mode\n",
      "    for Chrome instead of the old Headless implementation. For more\n",
      "    information, please see https://developer.chrome.com/articles/new-headless/.\n",
      "    Consider opting in early by passing `headless: \"new\"` to `puppeteer.launch()`\n",
      "    If you encounter any bugs, please report them to https://github.com/puppeteer/puppeteer/issues/new/choose.\u001b[0m\n",
      "\n"
     ]
    },
    {
     "name": "stdout",
     "output_type": "stream",
     "text": [
      "Extracting links from: https://www.newegg.com/Laptops-Notebooks/SubCategory/ID-32/Page-70?Tid=6740&recaptcha=pass\n",
      "Found 36 links on page 70\n"
     ]
    },
    {
     "name": "stderr",
     "output_type": "stream",
     "text": [
      "\u001b[1m\u001b[43m\u001b[30m\n",
      "  Puppeteer old Headless deprecation warning:\u001b[0m\u001b[33m\n",
      "    In the near feature `headless: true` will default to the new Headless mode\n",
      "    for Chrome instead of the old Headless implementation. For more\n",
      "    information, please see https://developer.chrome.com/articles/new-headless/.\n",
      "    Consider opting in early by passing `headless: \"new\"` to `puppeteer.launch()`\n",
      "    If you encounter any bugs, please report them to https://github.com/puppeteer/puppeteer/issues/new/choose.\u001b[0m\n",
      "\n"
     ]
    },
    {
     "name": "stdout",
     "output_type": "stream",
     "text": [
      "Extracting links from: https://www.newegg.com/Laptops-Notebooks/SubCategory/ID-32/Page-71?Tid=6740&recaptcha=pass\n",
      "Found 36 links on page 71\n"
     ]
    },
    {
     "name": "stderr",
     "output_type": "stream",
     "text": [
      "\u001b[1m\u001b[43m\u001b[30m\n",
      "  Puppeteer old Headless deprecation warning:\u001b[0m\u001b[33m\n",
      "    In the near feature `headless: true` will default to the new Headless mode\n",
      "    for Chrome instead of the old Headless implementation. For more\n",
      "    information, please see https://developer.chrome.com/articles/new-headless/.\n",
      "    Consider opting in early by passing `headless: \"new\"` to `puppeteer.launch()`\n",
      "    If you encounter any bugs, please report them to https://github.com/puppeteer/puppeteer/issues/new/choose.\u001b[0m\n",
      "\n"
     ]
    },
    {
     "name": "stdout",
     "output_type": "stream",
     "text": [
      "Extracting links from: https://www.newegg.com/Laptops-Notebooks/SubCategory/ID-32/Page-72?Tid=6740&recaptcha=pass\n",
      "Found 36 links on page 72\n"
     ]
    },
    {
     "name": "stderr",
     "output_type": "stream",
     "text": [
      "\u001b[1m\u001b[43m\u001b[30m\n",
      "  Puppeteer old Headless deprecation warning:\u001b[0m\u001b[33m\n",
      "    In the near feature `headless: true` will default to the new Headless mode\n",
      "    for Chrome instead of the old Headless implementation. For more\n",
      "    information, please see https://developer.chrome.com/articles/new-headless/.\n",
      "    Consider opting in early by passing `headless: \"new\"` to `puppeteer.launch()`\n",
      "    If you encounter any bugs, please report them to https://github.com/puppeteer/puppeteer/issues/new/choose.\u001b[0m\n",
      "\n"
     ]
    },
    {
     "name": "stdout",
     "output_type": "stream",
     "text": [
      "Extracting links from: https://www.newegg.com/Laptops-Notebooks/SubCategory/ID-32/Page-73?Tid=6740&recaptcha=pass\n",
      "Found 36 links on page 73\n"
     ]
    },
    {
     "name": "stderr",
     "output_type": "stream",
     "text": [
      "\u001b[1m\u001b[43m\u001b[30m\n",
      "  Puppeteer old Headless deprecation warning:\u001b[0m\u001b[33m\n",
      "    In the near feature `headless: true` will default to the new Headless mode\n",
      "    for Chrome instead of the old Headless implementation. For more\n",
      "    information, please see https://developer.chrome.com/articles/new-headless/.\n",
      "    Consider opting in early by passing `headless: \"new\"` to `puppeteer.launch()`\n",
      "    If you encounter any bugs, please report them to https://github.com/puppeteer/puppeteer/issues/new/choose.\u001b[0m\n",
      "\n"
     ]
    },
    {
     "name": "stdout",
     "output_type": "stream",
     "text": [
      "Extracting links from: https://www.newegg.com/Laptops-Notebooks/SubCategory/ID-32/Page-74?Tid=6740&recaptcha=pass\n",
      "Found 36 links on page 74\n"
     ]
    },
    {
     "name": "stderr",
     "output_type": "stream",
     "text": [
      "\u001b[1m\u001b[43m\u001b[30m\n",
      "  Puppeteer old Headless deprecation warning:\u001b[0m\u001b[33m\n",
      "    In the near feature `headless: true` will default to the new Headless mode\n",
      "    for Chrome instead of the old Headless implementation. For more\n",
      "    information, please see https://developer.chrome.com/articles/new-headless/.\n",
      "    Consider opting in early by passing `headless: \"new\"` to `puppeteer.launch()`\n",
      "    If you encounter any bugs, please report them to https://github.com/puppeteer/puppeteer/issues/new/choose.\u001b[0m\n",
      "\n"
     ]
    },
    {
     "name": "stdout",
     "output_type": "stream",
     "text": [
      "Extracting links from: https://www.newegg.com/Laptops-Notebooks/SubCategory/ID-32/Page-75?Tid=6740&recaptcha=pass\n",
      "Found 0 links on page 75\n"
     ]
    },
    {
     "name": "stderr",
     "output_type": "stream",
     "text": [
      "\u001b[1m\u001b[43m\u001b[30m\n",
      "  Puppeteer old Headless deprecation warning:\u001b[0m\u001b[33m\n",
      "    In the near feature `headless: true` will default to the new Headless mode\n",
      "    for Chrome instead of the old Headless implementation. For more\n",
      "    information, please see https://developer.chrome.com/articles/new-headless/.\n",
      "    Consider opting in early by passing `headless: \"new\"` to `puppeteer.launch()`\n",
      "    If you encounter any bugs, please report them to https://github.com/puppeteer/puppeteer/issues/new/choose.\u001b[0m\n",
      "\n"
     ]
    },
    {
     "name": "stdout",
     "output_type": "stream",
     "text": [
      "Extracting links from: https://www.newegg.com/Laptops-Notebooks/SubCategory/ID-32/Page-76?Tid=6740&recaptcha=pass\n",
      "Found 36 links on page 76\n"
     ]
    },
    {
     "name": "stderr",
     "output_type": "stream",
     "text": [
      "\u001b[1m\u001b[43m\u001b[30m\n",
      "  Puppeteer old Headless deprecation warning:\u001b[0m\u001b[33m\n",
      "    In the near feature `headless: true` will default to the new Headless mode\n",
      "    for Chrome instead of the old Headless implementation. For more\n",
      "    information, please see https://developer.chrome.com/articles/new-headless/.\n",
      "    Consider opting in early by passing `headless: \"new\"` to `puppeteer.launch()`\n",
      "    If you encounter any bugs, please report them to https://github.com/puppeteer/puppeteer/issues/new/choose.\u001b[0m\n",
      "\n"
     ]
    },
    {
     "name": "stdout",
     "output_type": "stream",
     "text": [
      "Extracting links from: https://www.newegg.com/Laptops-Notebooks/SubCategory/ID-32/Page-77?Tid=6740&recaptcha=pass\n",
      "Found 0 links on page 77\n"
     ]
    },
    {
     "name": "stderr",
     "output_type": "stream",
     "text": [
      "\u001b[1m\u001b[43m\u001b[30m\n",
      "  Puppeteer old Headless deprecation warning:\u001b[0m\u001b[33m\n",
      "    In the near feature `headless: true` will default to the new Headless mode\n",
      "    for Chrome instead of the old Headless implementation. For more\n",
      "    information, please see https://developer.chrome.com/articles/new-headless/.\n",
      "    Consider opting in early by passing `headless: \"new\"` to `puppeteer.launch()`\n",
      "    If you encounter any bugs, please report them to https://github.com/puppeteer/puppeteer/issues/new/choose.\u001b[0m\n",
      "\n"
     ]
    },
    {
     "name": "stdout",
     "output_type": "stream",
     "text": [
      "Extracting links from: https://www.newegg.com/Laptops-Notebooks/SubCategory/ID-32/Page-78?Tid=6740&recaptcha=pass\n",
      "Found 0 links on page 78\n"
     ]
    },
    {
     "name": "stderr",
     "output_type": "stream",
     "text": [
      "\u001b[1m\u001b[43m\u001b[30m\n",
      "  Puppeteer old Headless deprecation warning:\u001b[0m\u001b[33m\n",
      "    In the near feature `headless: true` will default to the new Headless mode\n",
      "    for Chrome instead of the old Headless implementation. For more\n",
      "    information, please see https://developer.chrome.com/articles/new-headless/.\n",
      "    Consider opting in early by passing `headless: \"new\"` to `puppeteer.launch()`\n",
      "    If you encounter any bugs, please report them to https://github.com/puppeteer/puppeteer/issues/new/choose.\u001b[0m\n",
      "\n"
     ]
    },
    {
     "name": "stdout",
     "output_type": "stream",
     "text": [
      "Extracting links from: https://www.newegg.com/Laptops-Notebooks/SubCategory/ID-32/Page-79?Tid=6740&recaptcha=pass\n",
      "Found 36 links on page 79\n"
     ]
    },
    {
     "name": "stderr",
     "output_type": "stream",
     "text": [
      "\u001b[1m\u001b[43m\u001b[30m\n",
      "  Puppeteer old Headless deprecation warning:\u001b[0m\u001b[33m\n",
      "    In the near feature `headless: true` will default to the new Headless mode\n",
      "    for Chrome instead of the old Headless implementation. For more\n",
      "    information, please see https://developer.chrome.com/articles/new-headless/.\n",
      "    Consider opting in early by passing `headless: \"new\"` to `puppeteer.launch()`\n",
      "    If you encounter any bugs, please report them to https://github.com/puppeteer/puppeteer/issues/new/choose.\u001b[0m\n",
      "\n"
     ]
    },
    {
     "name": "stdout",
     "output_type": "stream",
     "text": [
      "Extracting links from: https://www.newegg.com/Laptops-Notebooks/SubCategory/ID-32/Page-80?Tid=6740&recaptcha=pass\n",
      "Found 36 links on page 80\n"
     ]
    },
    {
     "name": "stderr",
     "output_type": "stream",
     "text": [
      "\u001b[1m\u001b[43m\u001b[30m\n",
      "  Puppeteer old Headless deprecation warning:\u001b[0m\u001b[33m\n",
      "    In the near feature `headless: true` will default to the new Headless mode\n",
      "    for Chrome instead of the old Headless implementation. For more\n",
      "    information, please see https://developer.chrome.com/articles/new-headless/.\n",
      "    Consider opting in early by passing `headless: \"new\"` to `puppeteer.launch()`\n",
      "    If you encounter any bugs, please report them to https://github.com/puppeteer/puppeteer/issues/new/choose.\u001b[0m\n",
      "\n"
     ]
    },
    {
     "name": "stdout",
     "output_type": "stream",
     "text": [
      "Extracting links from: https://www.newegg.com/Laptops-Notebooks/SubCategory/ID-32/Page-81?Tid=6740&recaptcha=pass\n",
      "Found 36 links on page 81\n"
     ]
    },
    {
     "name": "stderr",
     "output_type": "stream",
     "text": [
      "\u001b[1m\u001b[43m\u001b[30m\n",
      "  Puppeteer old Headless deprecation warning:\u001b[0m\u001b[33m\n",
      "    In the near feature `headless: true` will default to the new Headless mode\n",
      "    for Chrome instead of the old Headless implementation. For more\n",
      "    information, please see https://developer.chrome.com/articles/new-headless/.\n",
      "    Consider opting in early by passing `headless: \"new\"` to `puppeteer.launch()`\n",
      "    If you encounter any bugs, please report them to https://github.com/puppeteer/puppeteer/issues/new/choose.\u001b[0m\n",
      "\n"
     ]
    },
    {
     "name": "stdout",
     "output_type": "stream",
     "text": [
      "Extracting links from: https://www.newegg.com/Laptops-Notebooks/SubCategory/ID-32/Page-82?Tid=6740&recaptcha=pass\n",
      "Found 36 links on page 82\n"
     ]
    },
    {
     "name": "stderr",
     "output_type": "stream",
     "text": [
      "\u001b[1m\u001b[43m\u001b[30m\n",
      "  Puppeteer old Headless deprecation warning:\u001b[0m\u001b[33m\n",
      "    In the near feature `headless: true` will default to the new Headless mode\n",
      "    for Chrome instead of the old Headless implementation. For more\n",
      "    information, please see https://developer.chrome.com/articles/new-headless/.\n",
      "    Consider opting in early by passing `headless: \"new\"` to `puppeteer.launch()`\n",
      "    If you encounter any bugs, please report them to https://github.com/puppeteer/puppeteer/issues/new/choose.\u001b[0m\n",
      "\n"
     ]
    },
    {
     "name": "stdout",
     "output_type": "stream",
     "text": [
      "Extracting links from: https://www.newegg.com/Laptops-Notebooks/SubCategory/ID-32/Page-83?Tid=6740&recaptcha=pass\n",
      "Found 36 links on page 83\n"
     ]
    },
    {
     "name": "stderr",
     "output_type": "stream",
     "text": [
      "\u001b[1m\u001b[43m\u001b[30m\n",
      "  Puppeteer old Headless deprecation warning:\u001b[0m\u001b[33m\n",
      "    In the near feature `headless: true` will default to the new Headless mode\n",
      "    for Chrome instead of the old Headless implementation. For more\n",
      "    information, please see https://developer.chrome.com/articles/new-headless/.\n",
      "    Consider opting in early by passing `headless: \"new\"` to `puppeteer.launch()`\n",
      "    If you encounter any bugs, please report them to https://github.com/puppeteer/puppeteer/issues/new/choose.\u001b[0m\n",
      "\n"
     ]
    },
    {
     "name": "stdout",
     "output_type": "stream",
     "text": [
      "Extracting links from: https://www.newegg.com/Laptops-Notebooks/SubCategory/ID-32/Page-84?Tid=6740&recaptcha=pass\n",
      "Found 36 links on page 84\n"
     ]
    },
    {
     "name": "stderr",
     "output_type": "stream",
     "text": [
      "\u001b[1m\u001b[43m\u001b[30m\n",
      "  Puppeteer old Headless deprecation warning:\u001b[0m\u001b[33m\n",
      "    In the near feature `headless: true` will default to the new Headless mode\n",
      "    for Chrome instead of the old Headless implementation. For more\n",
      "    information, please see https://developer.chrome.com/articles/new-headless/.\n",
      "    Consider opting in early by passing `headless: \"new\"` to `puppeteer.launch()`\n",
      "    If you encounter any bugs, please report them to https://github.com/puppeteer/puppeteer/issues/new/choose.\u001b[0m\n",
      "\n"
     ]
    },
    {
     "name": "stdout",
     "output_type": "stream",
     "text": [
      "Extracting links from: https://www.newegg.com/Laptops-Notebooks/SubCategory/ID-32/Page-85?Tid=6740&recaptcha=pass\n",
      "Found 36 links on page 85\n"
     ]
    },
    {
     "name": "stderr",
     "output_type": "stream",
     "text": [
      "\u001b[1m\u001b[43m\u001b[30m\n",
      "  Puppeteer old Headless deprecation warning:\u001b[0m\u001b[33m\n",
      "    In the near feature `headless: true` will default to the new Headless mode\n",
      "    for Chrome instead of the old Headless implementation. For more\n",
      "    information, please see https://developer.chrome.com/articles/new-headless/.\n",
      "    Consider opting in early by passing `headless: \"new\"` to `puppeteer.launch()`\n",
      "    If you encounter any bugs, please report them to https://github.com/puppeteer/puppeteer/issues/new/choose.\u001b[0m\n",
      "\n"
     ]
    },
    {
     "name": "stdout",
     "output_type": "stream",
     "text": [
      "Extracting links from: https://www.newegg.com/Laptops-Notebooks/SubCategory/ID-32/Page-86?Tid=6740&recaptcha=pass\n",
      "Found 36 links on page 86\n"
     ]
    },
    {
     "name": "stderr",
     "output_type": "stream",
     "text": [
      "\u001b[1m\u001b[43m\u001b[30m\n",
      "  Puppeteer old Headless deprecation warning:\u001b[0m\u001b[33m\n",
      "    In the near feature `headless: true` will default to the new Headless mode\n",
      "    for Chrome instead of the old Headless implementation. For more\n",
      "    information, please see https://developer.chrome.com/articles/new-headless/.\n",
      "    Consider opting in early by passing `headless: \"new\"` to `puppeteer.launch()`\n",
      "    If you encounter any bugs, please report them to https://github.com/puppeteer/puppeteer/issues/new/choose.\u001b[0m\n",
      "\n"
     ]
    },
    {
     "name": "stdout",
     "output_type": "stream",
     "text": [
      "Extracting links from: https://www.newegg.com/Laptops-Notebooks/SubCategory/ID-32/Page-87?Tid=6740&recaptcha=pass\n",
      "Found 35 links on page 87\n"
     ]
    },
    {
     "name": "stderr",
     "output_type": "stream",
     "text": [
      "\u001b[1m\u001b[43m\u001b[30m\n",
      "  Puppeteer old Headless deprecation warning:\u001b[0m\u001b[33m\n",
      "    In the near feature `headless: true` will default to the new Headless mode\n",
      "    for Chrome instead of the old Headless implementation. For more\n",
      "    information, please see https://developer.chrome.com/articles/new-headless/.\n",
      "    Consider opting in early by passing `headless: \"new\"` to `puppeteer.launch()`\n",
      "    If you encounter any bugs, please report them to https://github.com/puppeteer/puppeteer/issues/new/choose.\u001b[0m\n",
      "\n"
     ]
    },
    {
     "name": "stdout",
     "output_type": "stream",
     "text": [
      "Extracting links from: https://www.newegg.com/Laptops-Notebooks/SubCategory/ID-32/Page-88?Tid=6740&recaptcha=pass\n",
      "Found 0 links on page 88\n"
     ]
    },
    {
     "name": "stderr",
     "output_type": "stream",
     "text": [
      "\u001b[1m\u001b[43m\u001b[30m\n",
      "  Puppeteer old Headless deprecation warning:\u001b[0m\u001b[33m\n",
      "    In the near feature `headless: true` will default to the new Headless mode\n",
      "    for Chrome instead of the old Headless implementation. For more\n",
      "    information, please see https://developer.chrome.com/articles/new-headless/.\n",
      "    Consider opting in early by passing `headless: \"new\"` to `puppeteer.launch()`\n",
      "    If you encounter any bugs, please report them to https://github.com/puppeteer/puppeteer/issues/new/choose.\u001b[0m\n",
      "\n"
     ]
    },
    {
     "name": "stdout",
     "output_type": "stream",
     "text": [
      "Extracting links from: https://www.newegg.com/Laptops-Notebooks/SubCategory/ID-32/Page-89?Tid=6740&recaptcha=pass\n",
      "Found 0 links on page 89\n"
     ]
    },
    {
     "name": "stderr",
     "output_type": "stream",
     "text": [
      "\u001b[1m\u001b[43m\u001b[30m\n",
      "  Puppeteer old Headless deprecation warning:\u001b[0m\u001b[33m\n",
      "    In the near feature `headless: true` will default to the new Headless mode\n",
      "    for Chrome instead of the old Headless implementation. For more\n",
      "    information, please see https://developer.chrome.com/articles/new-headless/.\n",
      "    Consider opting in early by passing `headless: \"new\"` to `puppeteer.launch()`\n",
      "    If you encounter any bugs, please report them to https://github.com/puppeteer/puppeteer/issues/new/choose.\u001b[0m\n",
      "\n"
     ]
    },
    {
     "name": "stdout",
     "output_type": "stream",
     "text": [
      "Extracting links from: https://www.newegg.com/Laptops-Notebooks/SubCategory/ID-32/Page-90?Tid=6740&recaptcha=pass\n",
      "Found 36 links on page 90\n"
     ]
    },
    {
     "name": "stderr",
     "output_type": "stream",
     "text": [
      "\u001b[1m\u001b[43m\u001b[30m\n",
      "  Puppeteer old Headless deprecation warning:\u001b[0m\u001b[33m\n",
      "    In the near feature `headless: true` will default to the new Headless mode\n",
      "    for Chrome instead of the old Headless implementation. For more\n",
      "    information, please see https://developer.chrome.com/articles/new-headless/.\n",
      "    Consider opting in early by passing `headless: \"new\"` to `puppeteer.launch()`\n",
      "    If you encounter any bugs, please report them to https://github.com/puppeteer/puppeteer/issues/new/choose.\u001b[0m\n",
      "\n"
     ]
    },
    {
     "name": "stdout",
     "output_type": "stream",
     "text": [
      "Extracting links from: https://www.newegg.com/Laptops-Notebooks/SubCategory/ID-32/Page-91?Tid=6740&recaptcha=pass\n",
      "Found 36 links on page 91\n"
     ]
    },
    {
     "name": "stderr",
     "output_type": "stream",
     "text": [
      "\u001b[1m\u001b[43m\u001b[30m\n",
      "  Puppeteer old Headless deprecation warning:\u001b[0m\u001b[33m\n",
      "    In the near feature `headless: true` will default to the new Headless mode\n",
      "    for Chrome instead of the old Headless implementation. For more\n",
      "    information, please see https://developer.chrome.com/articles/new-headless/.\n",
      "    Consider opting in early by passing `headless: \"new\"` to `puppeteer.launch()`\n",
      "    If you encounter any bugs, please report them to https://github.com/puppeteer/puppeteer/issues/new/choose.\u001b[0m\n",
      "\n"
     ]
    },
    {
     "name": "stdout",
     "output_type": "stream",
     "text": [
      "Extracting links from: https://www.newegg.com/Laptops-Notebooks/SubCategory/ID-32/Page-92?Tid=6740&recaptcha=pass\n",
      "Found 36 links on page 92\n"
     ]
    },
    {
     "name": "stderr",
     "output_type": "stream",
     "text": [
      "\u001b[1m\u001b[43m\u001b[30m\n",
      "  Puppeteer old Headless deprecation warning:\u001b[0m\u001b[33m\n",
      "    In the near feature `headless: true` will default to the new Headless mode\n",
      "    for Chrome instead of the old Headless implementation. For more\n",
      "    information, please see https://developer.chrome.com/articles/new-headless/.\n",
      "    Consider opting in early by passing `headless: \"new\"` to `puppeteer.launch()`\n",
      "    If you encounter any bugs, please report them to https://github.com/puppeteer/puppeteer/issues/new/choose.\u001b[0m\n",
      "\n"
     ]
    },
    {
     "name": "stdout",
     "output_type": "stream",
     "text": [
      "Extracting links from: https://www.newegg.com/Laptops-Notebooks/SubCategory/ID-32/Page-93?Tid=6740&recaptcha=pass\n",
      "Found 36 links on page 93\n"
     ]
    },
    {
     "name": "stderr",
     "output_type": "stream",
     "text": [
      "\u001b[1m\u001b[43m\u001b[30m\n",
      "  Puppeteer old Headless deprecation warning:\u001b[0m\u001b[33m\n",
      "    In the near feature `headless: true` will default to the new Headless mode\n",
      "    for Chrome instead of the old Headless implementation. For more\n",
      "    information, please see https://developer.chrome.com/articles/new-headless/.\n",
      "    Consider opting in early by passing `headless: \"new\"` to `puppeteer.launch()`\n",
      "    If you encounter any bugs, please report them to https://github.com/puppeteer/puppeteer/issues/new/choose.\u001b[0m\n",
      "\n"
     ]
    },
    {
     "name": "stdout",
     "output_type": "stream",
     "text": [
      "Extracting links from: https://www.newegg.com/Laptops-Notebooks/SubCategory/ID-32/Page-94?Tid=6740&recaptcha=pass\n",
      "Found 36 links on page 94\n"
     ]
    },
    {
     "name": "stderr",
     "output_type": "stream",
     "text": [
      "\u001b[1m\u001b[43m\u001b[30m\n",
      "  Puppeteer old Headless deprecation warning:\u001b[0m\u001b[33m\n",
      "    In the near feature `headless: true` will default to the new Headless mode\n",
      "    for Chrome instead of the old Headless implementation. For more\n",
      "    information, please see https://developer.chrome.com/articles/new-headless/.\n",
      "    Consider opting in early by passing `headless: \"new\"` to `puppeteer.launch()`\n",
      "    If you encounter any bugs, please report them to https://github.com/puppeteer/puppeteer/issues/new/choose.\u001b[0m\n",
      "\n"
     ]
    },
    {
     "name": "stdout",
     "output_type": "stream",
     "text": [
      "Extracting links from: https://www.newegg.com/Laptops-Notebooks/SubCategory/ID-32/Page-95?Tid=6740&recaptcha=pass\n",
      "Found 0 links on page 95\n"
     ]
    },
    {
     "name": "stderr",
     "output_type": "stream",
     "text": [
      "\u001b[1m\u001b[43m\u001b[30m\n",
      "  Puppeteer old Headless deprecation warning:\u001b[0m\u001b[33m\n",
      "    In the near feature `headless: true` will default to the new Headless mode\n",
      "    for Chrome instead of the old Headless implementation. For more\n",
      "    information, please see https://developer.chrome.com/articles/new-headless/.\n",
      "    Consider opting in early by passing `headless: \"new\"` to `puppeteer.launch()`\n",
      "    If you encounter any bugs, please report them to https://github.com/puppeteer/puppeteer/issues/new/choose.\u001b[0m\n",
      "\n"
     ]
    },
    {
     "name": "stdout",
     "output_type": "stream",
     "text": [
      "Extracting links from: https://www.newegg.com/Laptops-Notebooks/SubCategory/ID-32/Page-96?Tid=6740&recaptcha=pass\n",
      "Found 36 links on page 96\n"
     ]
    },
    {
     "name": "stderr",
     "output_type": "stream",
     "text": [
      "\u001b[1m\u001b[43m\u001b[30m\n",
      "  Puppeteer old Headless deprecation warning:\u001b[0m\u001b[33m\n",
      "    In the near feature `headless: true` will default to the new Headless mode\n",
      "    for Chrome instead of the old Headless implementation. For more\n",
      "    information, please see https://developer.chrome.com/articles/new-headless/.\n",
      "    Consider opting in early by passing `headless: \"new\"` to `puppeteer.launch()`\n",
      "    If you encounter any bugs, please report them to https://github.com/puppeteer/puppeteer/issues/new/choose.\u001b[0m\n",
      "\n"
     ]
    },
    {
     "name": "stdout",
     "output_type": "stream",
     "text": [
      "Extracting links from: https://www.newegg.com/Laptops-Notebooks/SubCategory/ID-32/Page-97?Tid=6740&recaptcha=pass\n",
      "Found 0 links on page 97\n"
     ]
    },
    {
     "name": "stderr",
     "output_type": "stream",
     "text": [
      "\u001b[1m\u001b[43m\u001b[30m\n",
      "  Puppeteer old Headless deprecation warning:\u001b[0m\u001b[33m\n",
      "    In the near feature `headless: true` will default to the new Headless mode\n",
      "    for Chrome instead of the old Headless implementation. For more\n",
      "    information, please see https://developer.chrome.com/articles/new-headless/.\n",
      "    Consider opting in early by passing `headless: \"new\"` to `puppeteer.launch()`\n",
      "    If you encounter any bugs, please report them to https://github.com/puppeteer/puppeteer/issues/new/choose.\u001b[0m\n",
      "\n"
     ]
    },
    {
     "name": "stdout",
     "output_type": "stream",
     "text": [
      "Extracting links from: https://www.newegg.com/Laptops-Notebooks/SubCategory/ID-32/Page-98?Tid=6740&recaptcha=pass\n",
      "Found 36 links on page 98\n"
     ]
    },
    {
     "name": "stderr",
     "output_type": "stream",
     "text": [
      "\u001b[1m\u001b[43m\u001b[30m\n",
      "  Puppeteer old Headless deprecation warning:\u001b[0m\u001b[33m\n",
      "    In the near feature `headless: true` will default to the new Headless mode\n",
      "    for Chrome instead of the old Headless implementation. For more\n",
      "    information, please see https://developer.chrome.com/articles/new-headless/.\n",
      "    Consider opting in early by passing `headless: \"new\"` to `puppeteer.launch()`\n",
      "    If you encounter any bugs, please report them to https://github.com/puppeteer/puppeteer/issues/new/choose.\u001b[0m\n",
      "\n"
     ]
    },
    {
     "name": "stdout",
     "output_type": "stream",
     "text": [
      "Extracting links from: https://www.newegg.com/Laptops-Notebooks/SubCategory/ID-32/Page-99?Tid=6740&recaptcha=pass\n",
      "Found 0 links on page 99\n"
     ]
    },
    {
     "name": "stderr",
     "output_type": "stream",
     "text": [
      "\u001b[1m\u001b[43m\u001b[30m\n",
      "  Puppeteer old Headless deprecation warning:\u001b[0m\u001b[33m\n",
      "    In the near feature `headless: true` will default to the new Headless mode\n",
      "    for Chrome instead of the old Headless implementation. For more\n",
      "    information, please see https://developer.chrome.com/articles/new-headless/.\n",
      "    Consider opting in early by passing `headless: \"new\"` to `puppeteer.launch()`\n",
      "    If you encounter any bugs, please report them to https://github.com/puppeteer/puppeteer/issues/new/choose.\u001b[0m\n",
      "\n"
     ]
    },
    {
     "name": "stdout",
     "output_type": "stream",
     "text": [
      "Extracting links from: https://www.newegg.com/Laptops-Notebooks/SubCategory/ID-32/Page-100?Tid=6740&recaptcha=pass\n",
      "Found 36 links on page 100\n",
      "[\n",
      "  'https://www.newegg.com/p/N82E16834156505',\n",
      "  'https://www.newegg.com/p/N82E16834156506',\n",
      "  'https://www.newegg.com/p/N82E16834156504',\n",
      "  'https://www.newegg.com/p/N82E16834156503',\n",
      "  'https://www.newegg.com/msi-we-series-we76-11um-459-workstation/p/N82E16834155942',\n",
      "  'https://www.newegg.com/msi-ws-series-ws76-11uk-470-workstation/p/N82E16834156010',\n",
      "  'https://www.newegg.com/lenovo-thinkpad-p16s-gen-1-21ck001pus-workstation/p/N82E16834646892',\n",
      "  'https://www.newegg.com/hp-zbook-firefly-14-g8-63q07ut-aba-workstation/p/N82E16834273854',\n",
      "  'https://www.newegg.com/p/N82E16834156366',\n",
      "  'https://www.newegg.com/hp-elitebook-640-g10-work-business-workstation/p/N82E16834841435',\n",
      "  'https://www.newegg.com/lenovo-thinkpad-t15g-g2/p/N82E16834840295',\n",
      "  'https://www.newegg.com/p/36B-000F-00183',\n",
      "  'https://www.newegg.com/hp-zbook-firefly-g9-6q411ut-aba-workstation/p/N82E16834273911',\n",
      "  'https://www.newegg.com/hp-elitebook-640-g10-work-business-workstation/p/N82E16834841439',\n",
      "  'https://www.newegg.com/p/1XV-0001-027Z0',\n",
      "  'https://www.newegg.com/hp-elitebook-640-g10/p/N82E16834841434',\n",
      "  'https://www.newegg.com/msi-we-series-we76-11uk-460-workstation/p/N82E16834155943',\n",
      "  'https://www.newegg.com/msi-wf-series-wf76-11ui-647-workstation/p/N82E16834156105',\n",
      "  'https://www.newegg.com/hp-elitebook-640-g10-work-business-workstation/p/N82E16834841436',\n",
      "  'https://www.newegg.com/hp-elitebook-640-g10-work-business-workstation/p/N82E16834841438',\n",
      "  'https://www.newegg.com/lenovo-thinkpad-p15-gen-2-20yrs85x00-work-business-workstation/p/N82E16834840216',\n",
      "  'https://www.newegg.com/p/1XV-000B-01XE6',\n",
      "  'https://www.newegg.com/msi-wf-series-wf76-11uj-299-workstation/p/N82E16834156011',\n",
      "  'https://www.newegg.com/p/36B-0006-002J8',\n",
      "  'https://www.newegg.com/lenovo-thinkpad-p16s-gen-1-21bt001gus-workstation/p/N82E16834646905',\n",
      "  'https://www.newegg.com/msi-wf-series-wf66-11uj-267us-workstation/p/N82E16834155882',\n",
      "  'https://www.newegg.com/asus-expertbook-b1500ceae-c53p/p/36B-000P-00100',\n",
      "  'https://www.newegg.com/hp-zbook-firefly-g9-6n2g4ut-aba-workstation/p/N82E16834273910',\n",
      "  'https://www.newegg.com/p/36B-001F-00001',\n",
      "  'https://www.newegg.com/p/36B-000D-00A43',\n",
      "  'https://www.newegg.com/p/36B-0006-001C9',\n",
      "  'https://www.newegg.com/p/36B-0007-004E0',\n",
      "  'https://www.newegg.com/p/1TS-000A-0VAX0',\n",
      "  'https://www.newegg.com/p/36B-000D-00C77',\n",
      "  'https://www.newegg.com/p/36B-0019-00001',\n",
      "  'https://www.newegg.com/p/1TS-000A-0U7Y4',\n",
      "  'https://www.newegg.com/p/36B-000D-00BW7',\n",
      "  'https://www.newegg.com/p/1XV-0001-013G5',\n",
      "  'https://www.newegg.com/p/36B-0007-002D2',\n",
      "  'https://www.newegg.com/p/36B-0007-002X0',\n",
      "  'https://www.newegg.com/p/N82E16834156270',\n",
      "  'https://www.newegg.com/p/36B-0007-00730',\n",
      "  'https://www.newegg.com/p/36B-0006-002M9',\n",
      "  'https://www.newegg.com/p/36B-0007-00750',\n",
      "  'https://www.newegg.com/p/36B-0006-000W6',\n",
      "  'https://www.newegg.com/p/36B-000F-001A2',\n",
      "  'https://www.newegg.com/p/36B-000F-001A6',\n",
      "  'https://www.newegg.com/p/36B-000P-00107',\n",
      "  'https://www.newegg.com/p/36B-0006-00289',\n",
      "  'https://www.newegg.com/p/36B-0007-004D7',\n",
      "  'https://www.newegg.com/p/36B-0007-00655',\n",
      "  'https://www.newegg.com/p/1XV-000A-01ZV6',\n",
      "  'https://www.newegg.com/p/36B-0006-001W4',\n",
      "  'https://www.newegg.com/p/1VK-0001-69N30',\n",
      "  'https://www.newegg.com/p/1TS-000A-0W028',\n",
      "  'https://www.newegg.com/lenovo-thinkpad-t14-gen2-20w000t9us-work-business/p/36B-000D-00CB2',\n",
      "  'https://www.newegg.com/p/36B-0007-003X0',\n",
      "  'https://www.newegg.com/p/36B-0006-002U3',\n",
      "  'https://www.newegg.com/lenovo-thinkpad-e15-gen-4-work-business/p/36B-000D-00CN0',\n",
      "  'https://www.newegg.com/p/36B-0007-002R1',\n",
      "  'https://www.newegg.com/p/36B-0007-00505',\n",
      "  'https://www.newegg.com/p/36B-0007-002F7',\n",
      "  'https://www.newegg.com/p/36B-0007-003B5',\n",
      "  'https://www.newegg.com/p/36B-0006-001C1',\n",
      "  'https://www.newegg.com/hp-zbook-firefly-14-g7-3v2n4ut-aba-mainstream/p/N82E16834272847',\n",
      "  'https://www.newegg.com/p/36B-0007-00540',\n",
      "  'https://www.newegg.com/p/36B-0006-001D2',\n",
      "  'https://www.newegg.com/p/36B-000T-00131',\n",
      "  'https://www.newegg.com/p/36B-000T-000Z2',\n",
      "  'https://www.newegg.com/p/36B-000D-00B84',\n",
      "  'https://www.newegg.com/p/36B-0007-004W3',\n",
      "  'https://www.newegg.com/p/36B-0007-003T3',\n",
      "  'https://www.newegg.com/p/36B-000D-00C06',\n",
      "  'https://www.newegg.com/p/36B-000D-00AF5',\n",
      "  'https://www.newegg.com/p/36B-000D-00AH7',\n",
      "  'https://www.newegg.com/p/36B-0007-00513',\n",
      "  'https://www.newegg.com/lenovo-thinkpad-t14-gen-2-work-business/p/36B-000D-00CW1',\n",
      "  'https://www.newegg.com/p/36B-0007-00376',\n",
      "  'https://www.newegg.com/lenovo-thinkpad-x1-nano/p/36B-000D-00CW7',\n",
      "  'https://www.newegg.com/lenovo-thinkpad-t16-gen-1/p/36B-000D-00CX1',\n",
      "  'https://www.newegg.com/lenovo-thinkpad-t14-gen-2-education-home-personal-work-business/p/N82E16834840223',\n",
      "  'https://www.newegg.com/p/36B-000D-00C79',\n",
      "  'https://www.newegg.com/p/36B-000D-00CC2',\n",
      "  'https://www.newegg.com/p/36B-0007-007J1',\n",
      "  'https://www.newegg.com/p/36B-0007-004Z7',\n",
      "  'https://www.newegg.com/dell-inspiron-3511-work-business/p/36B-0006-002D0',\n",
      "  'https://www.newegg.com/p/36B-0007-007B1',\n",
      "  'https://www.newegg.com/p/36B-000D-00A86',\n",
      "  'https://www.newegg.com/p/36B-000D-00D10',\n",
      "  'https://www.newegg.com/p/2WC-000J-016K0',\n",
      "  'https://www.newegg.com/p/36B-0007-00742',\n",
      "  'https://www.newegg.com/p/36B-0007-006W3',\n",
      "  'https://www.newegg.com/hp-zbook-firefly-14-g8-3v2w6ut-aba-mainstream/p/N82E16834272846',\n",
      "  'https://www.newegg.com/p/36B-000D-00D50',\n",
      "  'https://www.newegg.com/p/36B-0007-004H3',\n",
      "  'https://www.newegg.com/p/36B-0007-004G6',\n",
      "  'https://www.newegg.com/p/36B-000D-00AH0',\n",
      "  'https://www.newegg.com/p/36B-0007-005U6',\n",
      "  'https://www.newegg.com/p/36B-0007-004H6',\n",
      "  'https://www.newegg.com/p/36B-0007-004H4',\n",
      "  ... 3137 more items\n",
      "]\n"
     ]
    },
    {
     "name": "stderr",
     "output_type": "stream",
     "text": [
      "\u001b[1m\u001b[43m\u001b[30m\n",
      "  Puppeteer old Headless deprecation warning:\u001b[0m\u001b[33m\n",
      "    In the near feature `headless: true` will default to the new Headless mode\n",
      "    for Chrome instead of the old Headless implementation. For more\n",
      "    information, please see https://developer.chrome.com/articles/new-headless/.\n",
      "    Consider opting in early by passing `headless: \"new\"` to `puppeteer.launch()`\n",
      "    If you encounter any bugs, please report them to https://github.com/puppeteer/puppeteer/issues/new/choose.\u001b[0m\n",
      "\n"
     ]
    },
    {
     "name": "stdout",
     "output_type": "stream",
     "text": [
      "Condition: 0\n",
      "price: null\n",
      "Failed to click the button or expected changes did not occur.\n",
      "Value: NaN\n",
      "Value: NaN\n",
      "Value3: undefined\n",
      "Value: NaN\n",
      "Value: undefined\n",
      "Value: NaN\n",
      "Value: NaN\n",
      "Value: 1\n",
      "Value1: 1\n",
      "Value2: 1\n",
      "Value: NaN\n",
      "Value: NaN\n",
      "USB connections of different types: 0\n",
      "Total USB connections: 0\n"
     ]
    },
    {
     "name": "stderr",
     "output_type": "stream",
     "text": [
      "\u001b[1m\u001b[43m\u001b[30m\n",
      "  Puppeteer old Headless deprecation warning:\u001b[0m\u001b[33m\n",
      "    In the near feature `headless: true` will default to the new Headless mode\n",
      "    for Chrome instead of the old Headless implementation. For more\n",
      "    information, please see https://developer.chrome.com/articles/new-headless/.\n",
      "    Consider opting in early by passing `headless: \"new\"` to `puppeteer.launch()`\n",
      "    If you encounter any bugs, please report them to https://github.com/puppeteer/puppeteer/issues/new/choose.\u001b[0m\n",
      "\n"
     ]
    },
    {
     "name": "stdout",
     "output_type": "stream",
     "text": [
      "Condition: 0\n",
      "price: null\n",
      "Failed to click the button or expected changes did not occur.\n",
      "Value: NaN\n",
      "Value: NaN\n",
      "Value3: undefined\n",
      "Value: NaN\n",
      "Value: undefined\n",
      "Value: NaN\n",
      "Value: NaN\n",
      "Value: 1\n",
      "Value1: 1\n",
      "Value2: 1\n",
      "Value: NaN\n",
      "Value: NaN\n",
      "USB connections of different types: 0\n",
      "Total USB connections: 0\n"
     ]
    },
    {
     "name": "stderr",
     "output_type": "stream",
     "text": [
      "\u001b[1m\u001b[43m\u001b[30m\n",
      "  Puppeteer old Headless deprecation warning:\u001b[0m\u001b[33m\n",
      "    In the near feature `headless: true` will default to the new Headless mode\n",
      "    for Chrome instead of the old Headless implementation. For more\n",
      "    information, please see https://developer.chrome.com/articles/new-headless/.\n",
      "    Consider opting in early by passing `headless: \"new\"` to `puppeteer.launch()`\n",
      "    If you encounter any bugs, please report them to https://github.com/puppeteer/puppeteer/issues/new/choose.\u001b[0m\n",
      "\n"
     ]
    },
    {
     "name": "stdout",
     "output_type": "stream",
     "text": [
      "Condition: 1\n",
      "price: $2,799.99\n",
      "The button was clicked successfully.\n",
      "Value: 32GB\n",
      "Value: 13950HX (2.20GHz)\n",
      "Value3: 2\n",
      "Value: 16.0\"\n",
      "Value: 2023\n",
      "Value: 2560 x 1600\n",
      "Value: 1 TB PCIe\n",
      "Value: 1\n",
      "Value1: 1\n",
      "Value2: 0\n",
      "Value: Content Creation / Work / Business / Workstation\n",
      "Value: 5.18 lbs.\n",
      "USB connections of different types: 1\n",
      "Total USB connections: 1\n"
     ]
    },
    {
     "name": "stderr",
     "output_type": "stream",
     "text": [
      "\u001b[1m\u001b[43m\u001b[30m\n",
      "  Puppeteer old Headless deprecation warning:\u001b[0m\u001b[33m\n",
      "    In the near feature `headless: true` will default to the new Headless mode\n",
      "    for Chrome instead of the old Headless implementation. For more\n",
      "    information, please see https://developer.chrome.com/articles/new-headless/.\n",
      "    Consider opting in early by passing `headless: \"new\"` to `puppeteer.launch()`\n",
      "    If you encounter any bugs, please report them to https://github.com/puppeteer/puppeteer/issues/new/choose.\u001b[0m\n",
      "\n"
     ]
    },
    {
     "name": "stdout",
     "output_type": "stream",
     "text": [
      "Condition: 0\n",
      "price: null\n",
      "Failed to click the button or expected changes did not occur.\n",
      "Value: NaN\n",
      "Value: NaN\n",
      "Value3: undefined\n",
      "Value: NaN\n",
      "Value: undefined\n",
      "Value: NaN\n",
      "Value: NaN\n",
      "Value: 1\n",
      "Value1: 1\n",
      "Value2: 1\n",
      "Value: NaN\n",
      "Value: NaN\n",
      "USB connections of different types: 0\n",
      "Total USB connections: 0\n"
     ]
    },
    {
     "name": "stderr",
     "output_type": "stream",
     "text": [
      "\u001b[1m\u001b[43m\u001b[30m\n",
      "  Puppeteer old Headless deprecation warning:\u001b[0m\u001b[33m\n",
      "    In the near feature `headless: true` will default to the new Headless mode\n",
      "    for Chrome instead of the old Headless implementation. For more\n",
      "    information, please see https://developer.chrome.com/articles/new-headless/.\n",
      "    Consider opting in early by passing `headless: \"new\"` to `puppeteer.launch()`\n",
      "    If you encounter any bugs, please report them to https://github.com/puppeteer/puppeteer/issues/new/choose.\u001b[0m\n",
      "\n"
     ]
    },
    {
     "name": "stdout",
     "output_type": "stream",
     "text": [
      "Condition: 1\n",
      "price: \n",
      "The button was clicked successfully.\n",
      "Value: 32GB\n",
      "Value: 11980HK (2.60GHz)\n",
      "Value3: 8\n",
      "Value: 17.3\"\n",
      "Value: 2021\n",
      "Value: 1920 x 1080\n",
      "Value: 1 TB NVMe\n",
      "Value: 0\n",
      "Value1: 1\n",
      "Value2: 0\n",
      "Value: Workstation\n",
      "Value: 6.39 lbs.\n",
      "USB connections of different types: 3\n",
      "Total USB connections: 4\n"
     ]
    },
    {
     "name": "stderr",
     "output_type": "stream",
     "text": [
      "\u001b[1m\u001b[43m\u001b[30m\n",
      "  Puppeteer old Headless deprecation warning:\u001b[0m\u001b[33m\n",
      "    In the near feature `headless: true` will default to the new Headless mode\n",
      "    for Chrome instead of the old Headless implementation. For more\n",
      "    information, please see https://developer.chrome.com/articles/new-headless/.\n",
      "    Consider opting in early by passing `headless: \"new\"` to `puppeteer.launch()`\n",
      "    If you encounter any bugs, please report them to https://github.com/puppeteer/puppeteer/issues/new/choose.\u001b[0m\n",
      "\n"
     ]
    },
    {
     "name": "stdout",
     "output_type": "stream",
     "text": [
      "Condition: 0\n",
      "price: null\n",
      "Failed to click the button or expected changes did not occur.\n",
      "Value: NaN\n",
      "Value: NaN\n",
      "Value3: undefined\n",
      "Value: NaN\n",
      "Value: undefined\n",
      "Value: NaN\n",
      "Value: NaN\n",
      "Value: 1\n",
      "Value1: 1\n",
      "Value2: 1\n",
      "Value: NaN\n",
      "Value: NaN\n",
      "USB connections of different types: 0\n",
      "Total USB connections: 0\n"
     ]
    },
    {
     "name": "stderr",
     "output_type": "stream",
     "text": [
      "\u001b[1m\u001b[43m\u001b[30m\n",
      "  Puppeteer old Headless deprecation warning:\u001b[0m\u001b[33m\n",
      "    In the near feature `headless: true` will default to the new Headless mode\n",
      "    for Chrome instead of the old Headless implementation. For more\n",
      "    information, please see https://developer.chrome.com/articles/new-headless/.\n",
      "    Consider opting in early by passing `headless: \"new\"` to `puppeteer.launch()`\n",
      "    If you encounter any bugs, please report them to https://github.com/puppeteer/puppeteer/issues/new/choose.\u001b[0m\n",
      "\n"
     ]
    },
    {
     "name": "stdout",
     "output_type": "stream",
     "text": [
      "Condition: 1\n",
      "price: $959.99\n",
      "The button was clicked successfully.\n",
      "Value: 32GB\n",
      "Value: 6850U (2.70GHz)\n",
      "Value3: 8\n",
      "Value: 16.0\"\n",
      "Value: 2023\n",
      "Value: 1920 x 1200\n",
      "Value: 512 GB PCIe\n",
      "Value: 0\n",
      "Value1: 1\n",
      "Value2: 0\n",
      "Value: Workstation\n",
      "Value: 3.82 lbs.\n",
      "USB connections of different types: 2\n",
      "Total USB connections: 4\n"
     ]
    },
    {
     "name": "stderr",
     "output_type": "stream",
     "text": [
      "\u001b[1m\u001b[43m\u001b[30m\n",
      "  Puppeteer old Headless deprecation warning:\u001b[0m\u001b[33m\n",
      "    In the near feature `headless: true` will default to the new Headless mode\n",
      "    for Chrome instead of the old Headless implementation. For more\n",
      "    information, please see https://developer.chrome.com/articles/new-headless/.\n",
      "    Consider opting in early by passing `headless: \"new\"` to `puppeteer.launch()`\n",
      "    If you encounter any bugs, please report them to https://github.com/puppeteer/puppeteer/issues/new/choose.\u001b[0m\n",
      "\n"
     ]
    },
    {
     "name": "stdout",
     "output_type": "stream",
     "text": [
      "Condition: 1\n",
      "price: $799.99\n",
      "The button was clicked successfully.\n",
      "Value: 16GB\n",
      "Value: 1145G7 (2.60GHz)\n",
      "Value3: undefined\n",
      "Value: 14.0\"\n",
      "Value: 2022\n",
      "Value: 1920 x 1080\n",
      "Value: 256 GB\n",
      "Value: 0\n",
      "Value1: 1\n",
      "Value2: 1\n",
      "Value: Workstation\n",
      "Value: NaN\n",
      "USB connections of different types: 0\n",
      "Total USB connections: 0\n"
     ]
    },
    {
     "name": "stderr",
     "output_type": "stream",
     "text": [
      "\u001b[1m\u001b[43m\u001b[30m\n",
      "  Puppeteer old Headless deprecation warning:\u001b[0m\u001b[33m\n",
      "    In the near feature `headless: true` will default to the new Headless mode\n",
      "    for Chrome instead of the old Headless implementation. For more\n",
      "    information, please see https://developer.chrome.com/articles/new-headless/.\n",
      "    Consider opting in early by passing `headless: \"new\"` to `puppeteer.launch()`\n",
      "    If you encounter any bugs, please report them to https://github.com/puppeteer/puppeteer/issues/new/choose.\u001b[0m\n",
      "\n"
     ]
    },
    {
     "name": "stdout",
     "output_type": "stream",
     "text": [
      "Condition: 0\n",
      "price: null\n",
      "Failed to click the button or expected changes did not occur.\n",
      "Value: NaN\n",
      "Value: NaN\n",
      "Value3: undefined\n",
      "Value: NaN\n",
      "Value: undefined\n",
      "Value: NaN\n",
      "Value: NaN\n",
      "Value: 1\n",
      "Value1: 1\n",
      "Value2: 1\n",
      "Value: NaN\n",
      "Value: NaN\n",
      "USB connections of different types: 0\n",
      "Total USB connections: 0\n"
     ]
    },
    {
     "name": "stderr",
     "output_type": "stream",
     "text": [
      "\u001b[1m\u001b[43m\u001b[30m\n",
      "  Puppeteer old Headless deprecation warning:\u001b[0m\u001b[33m\n",
      "    In the near feature `headless: true` will default to the new Headless mode\n",
      "    for Chrome instead of the old Headless implementation. For more\n",
      "    information, please see https://developer.chrome.com/articles/new-headless/.\n",
      "    Consider opting in early by passing `headless: \"new\"` to `puppeteer.launch()`\n",
      "    If you encounter any bugs, please report them to https://github.com/puppeteer/puppeteer/issues/new/choose.\u001b[0m\n",
      "\n"
     ]
    },
    {
     "name": "stdout",
     "output_type": "stream",
     "text": [
      "Condition: 1\n",
      "price: $1,073.99\n",
      "The button was clicked successfully.\n",
      "Value: 8GB\n",
      "Value: 1335U (1.30GHz)\n",
      "Value3: undefined\n",
      "Value: 14.0\"\n",
      "Value: 2023\n",
      "Value: 1920 x 1080\n",
      "Value: 256 GB PCIe\n",
      "Value: 1\n",
      "Value1: 1\n",
      "Value2: 0\n",
      "Value: Work / Business / Workstation\n",
      "Value: 3 - 3.9 lbs.\n",
      "USB connections of different types: 2\n",
      "Total USB connections: 3\n"
     ]
    },
    {
     "name": "stderr",
     "output_type": "stream",
     "text": [
      "\u001b[1m\u001b[43m\u001b[30m\n",
      "  Puppeteer old Headless deprecation warning:\u001b[0m\u001b[33m\n",
      "    In the near feature `headless: true` will default to the new Headless mode\n",
      "    for Chrome instead of the old Headless implementation. For more\n",
      "    information, please see https://developer.chrome.com/articles/new-headless/.\n",
      "    Consider opting in early by passing `headless: \"new\"` to `puppeteer.launch()`\n",
      "    If you encounter any bugs, please report them to https://github.com/puppeteer/puppeteer/issues/new/choose.\u001b[0m\n",
      "\n"
     ]
    },
    {
     "name": "stdout",
     "output_type": "stream",
     "text": [
      "Condition: 0\n",
      "price: null\n",
      "Failed to click the button or expected changes did not occur.\n",
      "Value: NaN\n",
      "Value: NaN\n",
      "Value3: undefined\n",
      "Value: NaN\n",
      "Value: undefined\n",
      "Value: NaN\n",
      "Value: NaN\n",
      "Value: 1\n",
      "Value1: 1\n",
      "Value2: 1\n",
      "Value: NaN\n",
      "Value: NaN\n",
      "USB connections of different types: 0\n",
      "Total USB connections: 0\n"
     ]
    },
    {
     "name": "stderr",
     "output_type": "stream",
     "text": [
      "\u001b[1m\u001b[43m\u001b[30m\n",
      "  Puppeteer old Headless deprecation warning:\u001b[0m\u001b[33m\n",
      "    In the near feature `headless: true` will default to the new Headless mode\n",
      "    for Chrome instead of the old Headless implementation. For more\n",
      "    information, please see https://developer.chrome.com/articles/new-headless/.\n",
      "    Consider opting in early by passing `headless: \"new\"` to `puppeteer.launch()`\n",
      "    If you encounter any bugs, please report them to https://github.com/puppeteer/puppeteer/issues/new/choose.\u001b[0m\n",
      "\n"
     ]
    },
    {
     "name": "stdout",
     "output_type": "stream",
     "text": [
      "Condition: 1\n",
      "price: $1,849.99\n",
      "The button was clicked successfully.\n",
      "Value: 64GB\n",
      "Value: 3.5GHz\n",
      "Value3: undefined\n",
      "Value: 17.3\"\n",
      "Value: 2022\n",
      "Value: 1920 x 1080\n",
      "Value: 2 TB\n",
      "Value: 0\n",
      "Value1: 1\n",
      "Value2: 0\n",
      "Value: Gaming\n",
      "Value: 6 - 6.9 lbs.\n",
      "USB connections of different types: 0\n",
      "Total USB connections: 0\n"
     ]
    },
    {
     "name": "stderr",
     "output_type": "stream",
     "text": [
      "\u001b[1m\u001b[43m\u001b[30m\n",
      "  Puppeteer old Headless deprecation warning:\u001b[0m\u001b[33m\n",
      "    In the near feature `headless: true` will default to the new Headless mode\n",
      "    for Chrome instead of the old Headless implementation. For more\n",
      "    information, please see https://developer.chrome.com/articles/new-headless/.\n",
      "    Consider opting in early by passing `headless: \"new\"` to `puppeteer.launch()`\n",
      "    If you encounter any bugs, please report them to https://github.com/puppeteer/puppeteer/issues/new/choose.\u001b[0m\n",
      "\n"
     ]
    },
    {
     "name": "stdout",
     "output_type": "stream",
     "text": [
      "Condition: 1\n",
      "price: $1,755.24\n",
      "The button was clicked successfully.\n",
      "Value: 16GB\n",
      "Value: 1260P (2.10GHz)\n",
      "Value3: 1\n",
      "Value: 16.0\"\n",
      "Value: 2022\n",
      "Value: 1920 x 1200\n",
      "Value: 512 GB PCIe\n",
      "Value: 0\n",
      "Value1: 1\n",
      "Value2: 0\n",
      "Value: Workstation\n",
      "Value: 3.97 lbs.\n",
      "USB connections of different types: 1\n",
      "Total USB connections: 2\n"
     ]
    },
    {
     "name": "stderr",
     "output_type": "stream",
     "text": [
      "\u001b[1m\u001b[43m\u001b[30m\n",
      "  Puppeteer old Headless deprecation warning:\u001b[0m\u001b[33m\n",
      "    In the near feature `headless: true` will default to the new Headless mode\n",
      "    for Chrome instead of the old Headless implementation. For more\n",
      "    information, please see https://developer.chrome.com/articles/new-headless/.\n",
      "    Consider opting in early by passing `headless: \"new\"` to `puppeteer.launch()`\n",
      "    If you encounter any bugs, please report them to https://github.com/puppeteer/puppeteer/issues/new/choose.\u001b[0m\n",
      "\n"
     ]
    },
    {
     "name": "stdout",
     "output_type": "stream",
     "text": [
      "Condition: 0\n",
      "price: null\n",
      "Failed to click the button or expected changes did not occur.\n",
      "Value: NaN\n",
      "Value: NaN\n",
      "Value3: undefined\n",
      "Value: NaN\n",
      "Value: undefined\n",
      "Value: NaN\n",
      "Value: NaN\n",
      "Value: 1\n",
      "Value1: 1\n",
      "Value2: 1\n",
      "Value: NaN\n",
      "Value: NaN\n",
      "USB connections of different types: 0\n",
      "Total USB connections: 0\n"
     ]
    },
    {
     "name": "stderr",
     "output_type": "stream",
     "text": [
      "\u001b[1m\u001b[43m\u001b[30m\n",
      "  Puppeteer old Headless deprecation warning:\u001b[0m\u001b[33m\n",
      "    In the near feature `headless: true` will default to the new Headless mode\n",
      "    for Chrome instead of the old Headless implementation. For more\n",
      "    information, please see https://developer.chrome.com/articles/new-headless/.\n",
      "    Consider opting in early by passing `headless: \"new\"` to `puppeteer.launch()`\n",
      "    If you encounter any bugs, please report them to https://github.com/puppeteer/puppeteer/issues/new/choose.\u001b[0m\n",
      "\n"
     ]
    },
    {
     "name": "stdout",
     "output_type": "stream",
     "text": [
      "Condition: 0\n",
      "price: null\n",
      "Failed to click the button or expected changes did not occur.\n",
      "Value: NaN\n",
      "Value: NaN\n",
      "Value3: undefined\n",
      "Value: NaN\n",
      "Value: undefined\n",
      "Value: NaN\n",
      "Value: NaN\n",
      "Value: 1\n",
      "Value1: 1\n",
      "Value2: 1\n",
      "Value: NaN\n",
      "Value: NaN\n",
      "USB connections of different types: 0\n",
      "Total USB connections: 0\n"
     ]
    },
    {
     "name": "stderr",
     "output_type": "stream",
     "text": [
      "\u001b[1m\u001b[43m\u001b[30m\n",
      "  Puppeteer old Headless deprecation warning:\u001b[0m\u001b[33m\n",
      "    In the near feature `headless: true` will default to the new Headless mode\n",
      "    for Chrome instead of the old Headless implementation. For more\n",
      "    information, please see https://developer.chrome.com/articles/new-headless/.\n",
      "    Consider opting in early by passing `headless: \"new\"` to `puppeteer.launch()`\n",
      "    If you encounter any bugs, please report them to https://github.com/puppeteer/puppeteer/issues/new/choose.\u001b[0m\n",
      "\n"
     ]
    },
    {
     "name": "stdout",
     "output_type": "stream",
     "text": [
      "Condition: 1\n",
      "price: $1,213.99\n",
      "The button was clicked successfully.\n",
      "Value: 16GB\n",
      "Value: 1345U (1.6 GHz)\n",
      "Value3: undefined\n",
      "Value: 14.0\"\n",
      "Value: 2023\n",
      "Value: 1920 x 1080\n",
      "Value: 256 GB PCIe\n",
      "Value: 1\n",
      "Value1: 1\n",
      "Value2: 0\n",
      "Value: Work / Business / Workstation\n",
      "Value: 3 - 3.9 lbs.\n",
      "USB connections of different types: 2\n",
      "Total USB connections: 3\n"
     ]
    },
    {
     "name": "stderr",
     "output_type": "stream",
     "text": [
      "\u001b[1m\u001b[43m\u001b[30m\n",
      "  Puppeteer old Headless deprecation warning:\u001b[0m\u001b[33m\n",
      "    In the near feature `headless: true` will default to the new Headless mode\n",
      "    for Chrome instead of the old Headless implementation. For more\n",
      "    information, please see https://developer.chrome.com/articles/new-headless/.\n",
      "    Consider opting in early by passing `headless: \"new\"` to `puppeteer.launch()`\n",
      "    If you encounter any bugs, please report them to https://github.com/puppeteer/puppeteer/issues/new/choose.\u001b[0m\n",
      "\n"
     ]
    },
    {
     "name": "stdout",
     "output_type": "stream",
     "text": [
      "Condition: 0\n",
      "price: null\n",
      "Failed to click the button or expected changes did not occur.\n",
      "Value: NaN\n",
      "Value: NaN\n",
      "Value3: undefined\n",
      "Value: NaN\n",
      "Value: undefined\n",
      "Value: NaN\n",
      "Value: NaN\n",
      "Value: 1\n",
      "Value1: 1\n",
      "Value2: 1\n",
      "Value: NaN\n",
      "Value: NaN\n",
      "USB connections of different types: 0\n",
      "Total USB connections: 0\n"
     ]
    },
    {
     "name": "stderr",
     "output_type": "stream",
     "text": [
      "\u001b[1m\u001b[43m\u001b[30m\n",
      "  Puppeteer old Headless deprecation warning:\u001b[0m\u001b[33m\n",
      "    In the near feature `headless: true` will default to the new Headless mode\n",
      "    for Chrome instead of the old Headless implementation. For more\n",
      "    information, please see https://developer.chrome.com/articles/new-headless/.\n",
      "    Consider opting in early by passing `headless: \"new\"` to `puppeteer.launch()`\n",
      "    If you encounter any bugs, please report them to https://github.com/puppeteer/puppeteer/issues/new/choose.\u001b[0m\n",
      "\n"
     ]
    },
    {
     "name": "stdout",
     "output_type": "stream",
     "text": [
      "Condition: 1\n",
      "price: $898.57\n",
      "The button was clicked successfully.\n",
      "Value: 16GB\n",
      "Value: 11800H (2.30GHz)\n",
      "Value3: undefined\n",
      "Value: 17.3\"\n",
      "Value: 2022\n",
      "Value: 1920 x 1080\n",
      "Value: 512 GB NVMe\n",
      "Value: 1\n",
      "Value1: 1\n",
      "Value2: 0\n",
      "Value: Workstation\n",
      "Value: 5.72 lbs.\n",
      "USB connections of different types: 3\n",
      "Total USB connections: 4\n"
     ]
    },
    {
     "name": "stderr",
     "output_type": "stream",
     "text": [
      "\u001b[1m\u001b[43m\u001b[30m\n",
      "  Puppeteer old Headless deprecation warning:\u001b[0m\u001b[33m\n",
      "    In the near feature `headless: true` will default to the new Headless mode\n",
      "    for Chrome instead of the old Headless implementation. For more\n",
      "    information, please see https://developer.chrome.com/articles/new-headless/.\n",
      "    Consider opting in early by passing `headless: \"new\"` to `puppeteer.launch()`\n",
      "    If you encounter any bugs, please report them to https://github.com/puppeteer/puppeteer/issues/new/choose.\u001b[0m\n",
      "\n"
     ]
    },
    {
     "name": "stdout",
     "output_type": "stream",
     "text": [
      "Condition: 1\n",
      "price: $1,469.99\n",
      "The button was clicked successfully.\n",
      "Value: 16GB\n",
      "Value: 1365U (1.80GHz)\n",
      "Value3: undefined\n",
      "Value: 14.0\"\n",
      "Value: 2023\n",
      "Value: 1920 x 1080\n",
      "Value: 512 GB PCIe\n",
      "Value: 1\n",
      "Value1: 1\n",
      "Value2: 0\n",
      "Value: Work / Business / Workstation\n",
      "Value: 3 - 3.9 lbs.\n",
      "USB connections of different types: 2\n",
      "Total USB connections: 3\n"
     ]
    },
    {
     "name": "stderr",
     "output_type": "stream",
     "text": [
      "\u001b[1m\u001b[43m\u001b[30m\n",
      "  Puppeteer old Headless deprecation warning:\u001b[0m\u001b[33m\n",
      "    In the near feature `headless: true` will default to the new Headless mode\n",
      "    for Chrome instead of the old Headless implementation. For more\n",
      "    information, please see https://developer.chrome.com/articles/new-headless/.\n",
      "    Consider opting in early by passing `headless: \"new\"` to `puppeteer.launch()`\n",
      "    If you encounter any bugs, please report them to https://github.com/puppeteer/puppeteer/issues/new/choose.\u001b[0m\n",
      "\n"
     ]
    },
    {
     "name": "stdout",
     "output_type": "stream",
     "text": [
      "Condition: 1\n",
      "price: $1,119.99\n",
      "The button was clicked successfully.\n",
      "Value: 8GB\n",
      "Value: 1335U (1.30GHz)\n",
      "Value3: undefined\n",
      "Value: 14.0\"\n",
      "Value: 2023\n",
      "Value: 1920 x 1080\n",
      "Value: 256 GB PCIe\n",
      "Value: 1\n",
      "Value1: 1\n",
      "Value2: 0\n",
      "Value: Work / Business / Workstation\n",
      "Value: 3 - 3.9 lbs.\n",
      "USB connections of different types: 2\n",
      "Total USB connections: 3\n"
     ]
    },
    {
     "name": "stderr",
     "output_type": "stream",
     "text": [
      "\u001b[1m\u001b[43m\u001b[30m\n",
      "  Puppeteer old Headless deprecation warning:\u001b[0m\u001b[33m\n",
      "    In the near feature `headless: true` will default to the new Headless mode\n",
      "    for Chrome instead of the old Headless implementation. For more\n",
      "    information, please see https://developer.chrome.com/articles/new-headless/.\n",
      "    Consider opting in early by passing `headless: \"new\"` to `puppeteer.launch()`\n",
      "    If you encounter any bugs, please report them to https://github.com/puppeteer/puppeteer/issues/new/choose.\u001b[0m\n",
      "\n"
     ]
    },
    {
     "name": "stdout",
     "output_type": "stream",
     "text": [
      "Condition: 1\n",
      "price: $2,229.99\n",
      "The button was clicked successfully.\n",
      "Value: 16GB\n",
      "Value: W-11855M (3.20GHz)\n",
      "Value3: undefined\n",
      "Value: 15.6\"\n",
      "Value: 2023\n",
      "Value: 1920 x 1080\n",
      "Value: 512 GB PCIe\n",
      "Value: 1\n",
      "Value1: 1\n",
      "Value2: 0\n",
      "Value: Work / Business / Workstation\n",
      "Value: NaN\n",
      "USB connections of different types: 0\n",
      "Total USB connections: 0\n"
     ]
    },
    {
     "name": "stderr",
     "output_type": "stream",
     "text": [
      "\u001b[1m\u001b[43m\u001b[30m\n",
      "  Puppeteer old Headless deprecation warning:\u001b[0m\u001b[33m\n",
      "    In the near feature `headless: true` will default to the new Headless mode\n",
      "    for Chrome instead of the old Headless implementation. For more\n",
      "    information, please see https://developer.chrome.com/articles/new-headless/.\n",
      "    Consider opting in early by passing `headless: \"new\"` to `puppeteer.launch()`\n",
      "    If you encounter any bugs, please report them to https://github.com/puppeteer/puppeteer/issues/new/choose.\u001b[0m\n",
      "\n"
     ]
    },
    {
     "name": "stdout",
     "output_type": "stream",
     "text": [
      "Condition: 0\n",
      "price: null\n",
      "Failed to click the button or expected changes did not occur.\n",
      "Value: NaN\n",
      "Value: NaN\n",
      "Value3: undefined\n",
      "Value: NaN\n",
      "Value: undefined\n",
      "Value: NaN\n",
      "Value: NaN\n",
      "Value: 1\n",
      "Value1: 1\n",
      "Value2: 1\n",
      "Value: NaN\n",
      "Value: NaN\n",
      "USB connections of different types: 0\n",
      "Total USB connections: 0\n"
     ]
    },
    {
     "name": "stderr",
     "output_type": "stream",
     "text": [
      "\u001b[1m\u001b[43m\u001b[30m\n",
      "  Puppeteer old Headless deprecation warning:\u001b[0m\u001b[33m\n",
      "    In the near feature `headless: true` will default to the new Headless mode\n",
      "    for Chrome instead of the old Headless implementation. For more\n",
      "    information, please see https://developer.chrome.com/articles/new-headless/.\n",
      "    Consider opting in early by passing `headless: \"new\"` to `puppeteer.launch()`\n",
      "    If you encounter any bugs, please report them to https://github.com/puppeteer/puppeteer/issues/new/choose.\u001b[0m\n",
      "\n"
     ]
    },
    {
     "name": "stdout",
     "output_type": "stream",
     "text": [
      "Condition: 0\n",
      "price: null\n",
      "Failed to click the button or expected changes did not occur.\n",
      "Value: NaN\n",
      "Value: NaN\n",
      "Value3: undefined\n",
      "Value: NaN\n",
      "Value: undefined\n",
      "Value: NaN\n",
      "Value: NaN\n",
      "Value: 1\n",
      "Value1: 1\n",
      "Value2: 1\n",
      "Value: NaN\n",
      "Value: NaN\n",
      "USB connections of different types: 0\n",
      "Total USB connections: 0\n"
     ]
    },
    {
     "name": "stderr",
     "output_type": "stream",
     "text": [
      "\u001b[1m\u001b[43m\u001b[30m\n",
      "  Puppeteer old Headless deprecation warning:\u001b[0m\u001b[33m\n",
      "    In the near feature `headless: true` will default to the new Headless mode\n",
      "    for Chrome instead of the old Headless implementation. For more\n",
      "    information, please see https://developer.chrome.com/articles/new-headless/.\n",
      "    Consider opting in early by passing `headless: \"new\"` to `puppeteer.launch()`\n",
      "    If you encounter any bugs, please report them to https://github.com/puppeteer/puppeteer/issues/new/choose.\u001b[0m\n",
      "\n"
     ]
    },
    {
     "name": "stdout",
     "output_type": "stream",
     "text": [
      "Condition: 0\n",
      "price: null\n",
      "Failed to click the button or expected changes did not occur.\n",
      "Value: NaN\n",
      "Value: NaN\n",
      "Value3: undefined\n",
      "Value: NaN\n",
      "Value: undefined\n",
      "Value: NaN\n",
      "Value: NaN\n",
      "Value: 1\n",
      "Value1: 1\n",
      "Value2: 1\n",
      "Value: NaN\n",
      "Value: NaN\n",
      "USB connections of different types: 0\n",
      "Total USB connections: 0\n"
     ]
    },
    {
     "name": "stderr",
     "output_type": "stream",
     "text": [
      "\u001b[1m\u001b[43m\u001b[30m\n",
      "  Puppeteer old Headless deprecation warning:\u001b[0m\u001b[33m\n",
      "    In the near feature `headless: true` will default to the new Headless mode\n",
      "    for Chrome instead of the old Headless implementation. For more\n",
      "    information, please see https://developer.chrome.com/articles/new-headless/.\n",
      "    Consider opting in early by passing `headless: \"new\"` to `puppeteer.launch()`\n",
      "    If you encounter any bugs, please report them to https://github.com/puppeteer/puppeteer/issues/new/choose.\u001b[0m\n",
      "\n"
     ]
    },
    {
     "name": "stdout",
     "output_type": "stream",
     "text": [
      "Condition: 0\n",
      "price: null\n",
      "Failed to click the button or expected changes did not occur.\n",
      "Value: NaN\n",
      "Value: NaN\n",
      "Value3: undefined\n",
      "Value: NaN\n",
      "Value: undefined\n",
      "Value: NaN\n",
      "Value: NaN\n",
      "Value: 1\n",
      "Value1: 1\n",
      "Value2: 1\n",
      "Value: NaN\n",
      "Value: NaN\n",
      "USB connections of different types: 0\n",
      "Total USB connections: 0\n"
     ]
    },
    {
     "name": "stderr",
     "output_type": "stream",
     "text": [
      "\u001b[1m\u001b[43m\u001b[30m\n",
      "  Puppeteer old Headless deprecation warning:\u001b[0m\u001b[33m\n",
      "    In the near feature `headless: true` will default to the new Headless mode\n",
      "    for Chrome instead of the old Headless implementation. For more\n",
      "    information, please see https://developer.chrome.com/articles/new-headless/.\n",
      "    Consider opting in early by passing `headless: \"new\"` to `puppeteer.launch()`\n",
      "    If you encounter any bugs, please report them to https://github.com/puppeteer/puppeteer/issues/new/choose.\u001b[0m\n",
      "\n"
     ]
    },
    {
     "name": "stdout",
     "output_type": "stream",
     "text": [
      "Condition: 1\n",
      "price: $1,217.69\n",
      "The button was clicked successfully.\n",
      "Value: 16GB\n",
      "Value: 11800H (2.30GHz)\n",
      "Value3: 8\n",
      "Value: 15.6\"\n",
      "Value: 2021\n",
      "Value: 1920 x 1080\n",
      "Value: 1 TB NVMe\n",
      "Value: 0\n",
      "Value1: 1\n",
      "Value2: 0\n",
      "Value: Workstation\n",
      "Value: 4.63 lbs.\n",
      "USB connections of different types: 3\n",
      "Total USB connections: 4\n"
     ]
    },
    {
     "name": "stderr",
     "output_type": "stream",
     "text": [
      "\u001b[1m\u001b[43m\u001b[30m\n",
      "  Puppeteer old Headless deprecation warning:\u001b[0m\u001b[33m\n",
      "    In the near feature `headless: true` will default to the new Headless mode\n",
      "    for Chrome instead of the old Headless implementation. For more\n",
      "    information, please see https://developer.chrome.com/articles/new-headless/.\n",
      "    Consider opting in early by passing `headless: \"new\"` to `puppeteer.launch()`\n",
      "    If you encounter any bugs, please report them to https://github.com/puppeteer/puppeteer/issues/new/choose.\u001b[0m\n",
      "\n"
     ]
    },
    {
     "name": "stdout",
     "output_type": "stream",
     "text": [
      "Condition: 0\n",
      "price: $929.99\n",
      "The button was clicked successfully.\n",
      "Value: 24GB\n",
      "Value: 1135G7 (2.40GHz)\n",
      "Value3: undefined\n",
      "Value: 15.6\"\n",
      "Value: 2022\n",
      "Value: NaN\n",
      "Value: 1 TB\n",
      "Value: 0\n",
      "Value1: 1\n",
      "Value2: 1\n",
      "Value: NaN\n",
      "Value: NaN\n",
      "USB connections of different types: 0\n",
      "Total USB connections: 0\n"
     ]
    },
    {
     "name": "stderr",
     "output_type": "stream",
     "text": [
      "\u001b[1m\u001b[43m\u001b[30m\n",
      "  Puppeteer old Headless deprecation warning:\u001b[0m\u001b[33m\n",
      "    In the near feature `headless: true` will default to the new Headless mode\n",
      "    for Chrome instead of the old Headless implementation. For more\n",
      "    information, please see https://developer.chrome.com/articles/new-headless/.\n",
      "    Consider opting in early by passing `headless: \"new\"` to `puppeteer.launch()`\n",
      "    If you encounter any bugs, please report them to https://github.com/puppeteer/puppeteer/issues/new/choose.\u001b[0m\n",
      "\n"
     ]
    },
    {
     "name": "stdout",
     "output_type": "stream",
     "text": [
      "Condition: 0\n",
      "price: null\n",
      "Failed to click the button or expected changes did not occur.\n",
      "Value: NaN\n",
      "Value: NaN\n",
      "Value3: undefined\n",
      "Value: NaN\n",
      "Value: undefined\n",
      "Value: NaN\n",
      "Value: NaN\n",
      "Value: 1\n",
      "Value1: 1\n",
      "Value2: 1\n",
      "Value: NaN\n",
      "Value: NaN\n",
      "USB connections of different types: 0\n",
      "Total USB connections: 0\n"
     ]
    },
    {
     "name": "stderr",
     "output_type": "stream",
     "text": [
      "\u001b[1m\u001b[43m\u001b[30m\n",
      "  Puppeteer old Headless deprecation warning:\u001b[0m\u001b[33m\n",
      "    In the near feature `headless: true` will default to the new Headless mode\n",
      "    for Chrome instead of the old Headless implementation. For more\n",
      "    information, please see https://developer.chrome.com/articles/new-headless/.\n",
      "    Consider opting in early by passing `headless: \"new\"` to `puppeteer.launch()`\n",
      "    If you encounter any bugs, please report them to https://github.com/puppeteer/puppeteer/issues/new/choose.\u001b[0m\n",
      "\n"
     ]
    },
    {
     "name": "stdout",
     "output_type": "stream",
     "text": [
      "Condition: 0\n",
      "price: null\n",
      "Failed to click the button or expected changes did not occur.\n",
      "Value: NaN\n",
      "Value: NaN\n",
      "Value3: undefined\n",
      "Value: NaN\n",
      "Value: undefined\n",
      "Value: NaN\n",
      "Value: NaN\n",
      "Value: 1\n",
      "Value1: 1\n",
      "Value2: 1\n",
      "Value: NaN\n",
      "Value: NaN\n",
      "USB connections of different types: 0\n",
      "Total USB connections: 0\n"
     ]
    },
    {
     "name": "stderr",
     "output_type": "stream",
     "text": [
      "\u001b[1m\u001b[43m\u001b[30m\n",
      "  Puppeteer old Headless deprecation warning:\u001b[0m\u001b[33m\n",
      "    In the near feature `headless: true` will default to the new Headless mode\n",
      "    for Chrome instead of the old Headless implementation. For more\n",
      "    information, please see https://developer.chrome.com/articles/new-headless/.\n",
      "    Consider opting in early by passing `headless: \"new\"` to `puppeteer.launch()`\n",
      "    If you encounter any bugs, please report them to https://github.com/puppeteer/puppeteer/issues/new/choose.\u001b[0m\n",
      "\n"
     ]
    },
    {
     "name": "stdout",
     "output_type": "stream",
     "text": [
      "Condition: 0\n",
      "price: $1,199.99\n",
      "The button was clicked successfully.\n",
      "Value: 32GB\n",
      "Value: 1.90GHz\n",
      "Value3: undefined\n",
      "Value: 14.0\"\n",
      "Value: 2022\n",
      "Value: 1920 x 1080\n",
      "Value: 1 TB PCIe\n",
      "Value: 1\n",
      "Value1: 1\n",
      "Value2: 0\n",
      "Value: Workstation\n",
      "Value: 3.24 lbs\n",
      "USB connections of different types: 0\n",
      "Total USB connections: 0\n"
     ]
    },
    {
     "name": "stderr",
     "output_type": "stream",
     "text": [
      "\u001b[1m\u001b[43m\u001b[30m\n",
      "  Puppeteer old Headless deprecation warning:\u001b[0m\u001b[33m\n",
      "    In the near feature `headless: true` will default to the new Headless mode\n",
      "    for Chrome instead of the old Headless implementation. For more\n",
      "    information, please see https://developer.chrome.com/articles/new-headless/.\n",
      "    Consider opting in early by passing `headless: \"new\"` to `puppeteer.launch()`\n",
      "    If you encounter any bugs, please report them to https://github.com/puppeteer/puppeteer/issues/new/choose.\u001b[0m\n",
      "\n"
     ]
    },
    {
     "name": "stdout",
     "output_type": "stream",
     "text": [
      "Condition: 0\n",
      "price: $657.79\n",
      "The button was clicked successfully.\n",
      "Value: NaN\n",
      "Value: 4.20GHz\n",
      "Value3: undefined\n",
      "Value: 15.6\"\n",
      "Value: 2023\n",
      "Value: 1920 x 1080\n",
      "Value: NaN\n",
      "Value: 1\n",
      "Value1: 1\n",
      "Value2: 1\n",
      "Value: NaN\n",
      "Value: NaN\n",
      "USB connections of different types: 0\n",
      "Total USB connections: 0\n"
     ]
    },
    {
     "name": "stderr",
     "output_type": "stream",
     "text": [
      "\u001b[1m\u001b[43m\u001b[30m\n",
      "  Puppeteer old Headless deprecation warning:\u001b[0m\u001b[33m\n",
      "    In the near feature `headless: true` will default to the new Headless mode\n",
      "    for Chrome instead of the old Headless implementation. For more\n",
      "    information, please see https://developer.chrome.com/articles/new-headless/.\n",
      "    Consider opting in early by passing `headless: \"new\"` to `puppeteer.launch()`\n",
      "    If you encounter any bugs, please report them to https://github.com/puppeteer/puppeteer/issues/new/choose.\u001b[0m\n",
      "\n"
     ]
    },
    {
     "name": "stdout",
     "output_type": "stream",
     "text": [
      "Condition: 1\n",
      "price: $564.99\n",
      "The button was clicked successfully.\n",
      "Value: 16GB\n",
      "Value: 3250U (2.60GHz)\n",
      "Value3: undefined\n",
      "Value: 15.0\"\n",
      "Value: 2022\n",
      "Value: NaN\n",
      "Value: 512 GB\n",
      "Value: 1\n",
      "Value1: 1\n",
      "Value2: 1\n",
      "Value: NaN\n",
      "Value: NaN\n",
      "USB connections of different types: 0\n",
      "Total USB connections: 0\n"
     ]
    },
    {
     "name": "stderr",
     "output_type": "stream",
     "text": [
      "\u001b[1m\u001b[43m\u001b[30m\n",
      "  Puppeteer old Headless deprecation warning:\u001b[0m\u001b[33m\n",
      "    In the near feature `headless: true` will default to the new Headless mode\n",
      "    for Chrome instead of the old Headless implementation. For more\n",
      "    information, please see https://developer.chrome.com/articles/new-headless/.\n",
      "    Consider opting in early by passing `headless: \"new\"` to `puppeteer.launch()`\n",
      "    If you encounter any bugs, please report them to https://github.com/puppeteer/puppeteer/issues/new/choose.\u001b[0m\n",
      "\n"
     ]
    },
    {
     "name": "stdout",
     "output_type": "stream",
     "text": [
      "Condition: 0\n",
      "price: null\n",
      "Failed to click the button or expected changes did not occur.\n",
      "Value: NaN\n",
      "Value: NaN\n",
      "Value3: undefined\n",
      "Value: NaN\n",
      "Value: undefined\n",
      "Value: NaN\n",
      "Value: NaN\n",
      "Value: 1\n",
      "Value1: 1\n",
      "Value2: 1\n",
      "Value: NaN\n",
      "Value: NaN\n",
      "USB connections of different types: 0\n",
      "Total USB connections: 0\n"
     ]
    },
    {
     "name": "stderr",
     "output_type": "stream",
     "text": [
      "\u001b[1m\u001b[43m\u001b[30m\n",
      "  Puppeteer old Headless deprecation warning:\u001b[0m\u001b[33m\n",
      "    In the near feature `headless: true` will default to the new Headless mode\n",
      "    for Chrome instead of the old Headless implementation. For more\n",
      "    information, please see https://developer.chrome.com/articles/new-headless/.\n",
      "    Consider opting in early by passing `headless: \"new\"` to `puppeteer.launch()`\n",
      "    If you encounter any bugs, please report them to https://github.com/puppeteer/puppeteer/issues/new/choose.\u001b[0m\n",
      "\n"
     ]
    },
    {
     "name": "stdout",
     "output_type": "stream",
     "text": [
      "Condition: 0\n",
      "price: $849.99\n",
      "The button was clicked successfully.\n",
      "Value: 40GB\n",
      "Value: NaN\n",
      "Value3: undefined\n",
      "Value: 15.6\"\n",
      "Value: 2022\n",
      "Value: NaN\n",
      "Value: 1 TB\n",
      "Value: 1\n",
      "Value1: 1\n",
      "Value2: 1\n",
      "Value: NaN\n",
      "Value: NaN\n",
      "USB connections of different types: 0\n",
      "Total USB connections: 0\n"
     ]
    },
    {
     "name": "stderr",
     "output_type": "stream",
     "text": [
      "\u001b[1m\u001b[43m\u001b[30m\n",
      "  Puppeteer old Headless deprecation warning:\u001b[0m\u001b[33m\n",
      "    In the near feature `headless: true` will default to the new Headless mode\n",
      "    for Chrome instead of the old Headless implementation. For more\n",
      "    information, please see https://developer.chrome.com/articles/new-headless/.\n",
      "    Consider opting in early by passing `headless: \"new\"` to `puppeteer.launch()`\n",
      "    If you encounter any bugs, please report them to https://github.com/puppeteer/puppeteer/issues/new/choose.\u001b[0m\n",
      "\n"
     ]
    },
    {
     "name": "stdout",
     "output_type": "stream",
     "text": [
      "Condition: 0\n",
      "price: null\n",
      "Failed to click the button or expected changes did not occur.\n",
      "Value: NaN\n",
      "Value: NaN\n",
      "Value3: undefined\n",
      "Value: NaN\n",
      "Value: undefined\n",
      "Value: NaN\n",
      "Value: NaN\n",
      "Value: 1\n",
      "Value1: 1\n",
      "Value2: 1\n",
      "Value: NaN\n",
      "Value: NaN\n",
      "USB connections of different types: 0\n",
      "Total USB connections: 0\n"
     ]
    },
    {
     "name": "stderr",
     "output_type": "stream",
     "text": [
      "\u001b[1m\u001b[43m\u001b[30m\n",
      "  Puppeteer old Headless deprecation warning:\u001b[0m\u001b[33m\n",
      "    In the near feature `headless: true` will default to the new Headless mode\n",
      "    for Chrome instead of the old Headless implementation. For more\n",
      "    information, please see https://developer.chrome.com/articles/new-headless/.\n",
      "    Consider opting in early by passing `headless: \"new\"` to `puppeteer.launch()`\n",
      "    If you encounter any bugs, please report them to https://github.com/puppeteer/puppeteer/issues/new/choose.\u001b[0m\n",
      "\n"
     ]
    },
    {
     "name": "stdout",
     "output_type": "stream",
     "text": [
      "Condition: 0\n",
      "price: null\n",
      "Failed to click the button or expected changes did not occur.\n",
      "Value: NaN\n",
      "Value: NaN\n",
      "Value3: undefined\n",
      "Value: NaN\n",
      "Value: undefined\n",
      "Value: NaN\n",
      "Value: NaN\n",
      "Value: 1\n",
      "Value1: 1\n",
      "Value2: 1\n",
      "Value: NaN\n",
      "Value: NaN\n",
      "USB connections of different types: 0\n",
      "Total USB connections: 0\n"
     ]
    },
    {
     "name": "stderr",
     "output_type": "stream",
     "text": [
      "\u001b[1m\u001b[43m\u001b[30m\n",
      "  Puppeteer old Headless deprecation warning:\u001b[0m\u001b[33m\n",
      "    In the near feature `headless: true` will default to the new Headless mode\n",
      "    for Chrome instead of the old Headless implementation. For more\n",
      "    information, please see https://developer.chrome.com/articles/new-headless/.\n",
      "    Consider opting in early by passing `headless: \"new\"` to `puppeteer.launch()`\n",
      "    If you encounter any bugs, please report them to https://github.com/puppeteer/puppeteer/issues/new/choose.\u001b[0m\n",
      "\n"
     ]
    },
    {
     "name": "stdout",
     "output_type": "stream",
     "text": [
      "Condition: 0\n",
      "price: null\n",
      "Failed to click the button or expected changes did not occur.\n",
      "Value: NaN\n",
      "Value: NaN\n",
      "Value3: undefined\n",
      "Value: NaN\n",
      "Value: undefined\n",
      "Value: NaN\n",
      "Value: NaN\n",
      "Value: 1\n",
      "Value1: 1\n",
      "Value2: 1\n",
      "Value: NaN\n",
      "Value: NaN\n",
      "USB connections of different types: 0\n",
      "Total USB connections: 0\n"
     ]
    },
    {
     "name": "stderr",
     "output_type": "stream",
     "text": [
      "\u001b[1m\u001b[43m\u001b[30m\n",
      "  Puppeteer old Headless deprecation warning:\u001b[0m\u001b[33m\n",
      "    In the near feature `headless: true` will default to the new Headless mode\n",
      "    for Chrome instead of the old Headless implementation. For more\n",
      "    information, please see https://developer.chrome.com/articles/new-headless/.\n",
      "    Consider opting in early by passing `headless: \"new\"` to `puppeteer.launch()`\n",
      "    If you encounter any bugs, please report them to https://github.com/puppeteer/puppeteer/issues/new/choose.\u001b[0m\n",
      "\n"
     ]
    },
    {
     "name": "stdout",
     "output_type": "stream",
     "text": [
      "Condition: 0\n",
      "price: $1,999.99\n",
      "The button was clicked successfully.\n",
      "Value: 32GB\n",
      "Value: 11800H (2.30GHz)\n",
      "Value3: 8\n",
      "Value: 17.3\"\n",
      "Value: 2022\n",
      "Value: 1920 x 1080\n",
      "Value: 1 TB\n",
      "Value: 0\n",
      "Value1: 1\n",
      "Value2: 1\n",
      "Value: NaN\n",
      "Value: NaN\n",
      "USB connections of different types: 0\n",
      "Total USB connections: 0\n"
     ]
    },
    {
     "name": "stderr",
     "output_type": "stream",
     "text": [
      "\u001b[1m\u001b[43m\u001b[30m\n",
      "  Puppeteer old Headless deprecation warning:\u001b[0m\u001b[33m\n",
      "    In the near feature `headless: true` will default to the new Headless mode\n",
      "    for Chrome instead of the old Headless implementation. For more\n",
      "    information, please see https://developer.chrome.com/articles/new-headless/.\n",
      "    Consider opting in early by passing `headless: \"new\"` to `puppeteer.launch()`\n",
      "    If you encounter any bugs, please report them to https://github.com/puppeteer/puppeteer/issues/new/choose.\u001b[0m\n",
      "\n"
     ]
    },
    {
     "name": "stdout",
     "output_type": "stream",
     "text": [
      "Condition: 0\n",
      "price: $719.36\n",
      "The button was clicked successfully.\n",
      "Value: 16GB\n",
      "Value: 2.40GHz\n",
      "Value3: undefined\n",
      "Value: 17.3\"\n",
      "Value: 2021\n",
      "Value: 1920 x 1080\n",
      "Value: 512 GB\n",
      "Value: 0\n",
      "Value1: 1\n",
      "Value2: 0\n",
      "Value: Home / Personal\n",
      "Value: 5 - 5.9 lbs.\n",
      "USB connections of different types: 0\n",
      "Total USB connections: 0\n"
     ]
    },
    {
     "name": "stderr",
     "output_type": "stream",
     "text": [
      "\u001b[1m\u001b[43m\u001b[30m\n",
      "  Puppeteer old Headless deprecation warning:\u001b[0m\u001b[33m\n",
      "    In the near feature `headless: true` will default to the new Headless mode\n",
      "    for Chrome instead of the old Headless implementation. For more\n",
      "    information, please see https://developer.chrome.com/articles/new-headless/.\n",
      "    Consider opting in early by passing `headless: \"new\"` to `puppeteer.launch()`\n",
      "    If you encounter any bugs, please report them to https://github.com/puppeteer/puppeteer/issues/new/choose.\u001b[0m\n",
      "\n"
     ]
    },
    {
     "name": "stdout",
     "output_type": "stream",
     "text": [
      "Condition: 0\n",
      "price: $672.79\n",
      "The button was clicked successfully.\n",
      "Value: 12GB\n",
      "Value: NaN\n",
      "Value3: undefined\n",
      "Value: 15.6\"\n",
      "Value: 2022\n",
      "Value: 1366 x 768\n",
      "Value: 512 GB\n",
      "Value: 1\n",
      "Value1: 1\n",
      "Value2: 1\n",
      "Value: NaN\n",
      "Value: 3.86 lb\n",
      "USB connections of different types: 0\n",
      "Total USB connections: 0\n"
     ]
    },
    {
     "name": "stderr",
     "output_type": "stream",
     "text": [
      "\u001b[1m\u001b[43m\u001b[30m\n",
      "  Puppeteer old Headless deprecation warning:\u001b[0m\u001b[33m\n",
      "    In the near feature `headless: true` will default to the new Headless mode\n",
      "    for Chrome instead of the old Headless implementation. For more\n",
      "    information, please see https://developer.chrome.com/articles/new-headless/.\n",
      "    Consider opting in early by passing `headless: \"new\"` to `puppeteer.launch()`\n",
      "    If you encounter any bugs, please report them to https://github.com/puppeteer/puppeteer/issues/new/choose.\u001b[0m\n",
      "\n"
     ]
    },
    {
     "name": "stdout",
     "output_type": "stream",
     "text": [
      "Condition: 0\n",
      "price: null\n",
      "Failed to click the button or expected changes did not occur.\n",
      "Value: NaN\n",
      "Value: NaN\n",
      "Value3: undefined\n",
      "Value: NaN\n",
      "Value: undefined\n",
      "Value: NaN\n",
      "Value: NaN\n",
      "Value: 1\n",
      "Value1: 1\n",
      "Value2: 1\n",
      "Value: NaN\n",
      "Value: NaN\n",
      "USB connections of different types: 0\n",
      "Total USB connections: 0\n"
     ]
    },
    {
     "name": "stderr",
     "output_type": "stream",
     "text": [
      "\u001b[1m\u001b[43m\u001b[30m\n",
      "  Puppeteer old Headless deprecation warning:\u001b[0m\u001b[33m\n",
      "    In the near feature `headless: true` will default to the new Headless mode\n",
      "    for Chrome instead of the old Headless implementation. For more\n",
      "    information, please see https://developer.chrome.com/articles/new-headless/.\n",
      "    Consider opting in early by passing `headless: \"new\"` to `puppeteer.launch()`\n",
      "    If you encounter any bugs, please report them to https://github.com/puppeteer/puppeteer/issues/new/choose.\u001b[0m\n",
      "\n"
     ]
    },
    {
     "name": "stdout",
     "output_type": "stream",
     "text": [
      "Condition: 0\n",
      "price: null\n",
      "Failed to click the button or expected changes did not occur.\n",
      "Value: NaN\n",
      "Value: NaN\n",
      "Value3: undefined\n",
      "Value: NaN\n",
      "Value: undefined\n",
      "Value: NaN\n",
      "Value: NaN\n",
      "Value: 1\n",
      "Value1: 1\n",
      "Value2: 1\n",
      "Value: NaN\n",
      "Value: NaN\n",
      "USB connections of different types: 0\n",
      "Total USB connections: 0\n"
     ]
    },
    {
     "name": "stderr",
     "output_type": "stream",
     "text": [
      "\u001b[1m\u001b[43m\u001b[30m\n",
      "  Puppeteer old Headless deprecation warning:\u001b[0m\u001b[33m\n",
      "    In the near feature `headless: true` will default to the new Headless mode\n",
      "    for Chrome instead of the old Headless implementation. For more\n",
      "    information, please see https://developer.chrome.com/articles/new-headless/.\n",
      "    Consider opting in early by passing `headless: \"new\"` to `puppeteer.launch()`\n",
      "    If you encounter any bugs, please report them to https://github.com/puppeteer/puppeteer/issues/new/choose.\u001b[0m\n",
      "\n"
     ]
    },
    {
     "name": "stdout",
     "output_type": "stream",
     "text": [
      "Condition: 0\n",
      "price: $419.00\n",
      "The button was clicked successfully.\n",
      "Value: 4GB\n",
      "Value: 1.10GHz\n",
      "Value3: undefined\n",
      "Value: 15.6\"\n",
      "Value: 2022\n",
      "Value: 1366 x 768\n",
      "Value: 128 GB\n",
      "Value: 0\n",
      "Value1: 1\n",
      "Value2: 0\n",
      "Value: Work / Business\n",
      "Value: 4 - 4.9 lbs.\n",
      "USB connections of different types: 0\n",
      "Total USB connections: 0\n"
     ]
    },
    {
     "name": "stderr",
     "output_type": "stream",
     "text": [
      "\u001b[1m\u001b[43m\u001b[30m\n",
      "  Puppeteer old Headless deprecation warning:\u001b[0m\u001b[33m\n",
      "    In the near feature `headless: true` will default to the new Headless mode\n",
      "    for Chrome instead of the old Headless implementation. For more\n",
      "    information, please see https://developer.chrome.com/articles/new-headless/.\n",
      "    Consider opting in early by passing `headless: \"new\"` to `puppeteer.launch()`\n",
      "    If you encounter any bugs, please report them to https://github.com/puppeteer/puppeteer/issues/new/choose.\u001b[0m\n",
      "\n"
     ]
    },
    {
     "name": "stdout",
     "output_type": "stream",
     "text": [
      "Condition: 0\n",
      "price: $909.00\n",
      "The button was clicked successfully.\n",
      "Value: 32GB\n",
      "Value: 2.30GHz\n",
      "Value3: undefined\n",
      "Value: 14.0\"\n",
      "Value: 2022\n",
      "Value: 1920 x 1080\n",
      "Value: 2 TB\n",
      "Value: 0\n",
      "Value1: 1\n",
      "Value2: 0\n",
      "Value: Work / Business\n",
      "Value: 3 - 3.9 lbs.\n",
      "USB connections of different types: 0\n",
      "Total USB connections: 0\n"
     ]
    },
    {
     "name": "stderr",
     "output_type": "stream",
     "text": [
      "\u001b[1m\u001b[43m\u001b[30m\n",
      "  Puppeteer old Headless deprecation warning:\u001b[0m\u001b[33m\n",
      "    In the near feature `headless: true` will default to the new Headless mode\n",
      "    for Chrome instead of the old Headless implementation. For more\n",
      "    information, please see https://developer.chrome.com/articles/new-headless/.\n",
      "    Consider opting in early by passing `headless: \"new\"` to `puppeteer.launch()`\n",
      "    If you encounter any bugs, please report them to https://github.com/puppeteer/puppeteer/issues/new/choose.\u001b[0m\n",
      "\n"
     ]
    },
    {
     "name": "stdout",
     "output_type": "stream",
     "text": [
      "Condition: 0\n",
      "price: $839.00\n",
      "The button was clicked successfully.\n",
      "Value: 8GB\n",
      "Value: 2.80GHz\n",
      "Value3: undefined\n",
      "Value: 13.3\"\n",
      "Value: 2022\n",
      "Value: 1920 x 1080\n",
      "Value: 512 GB\n",
      "Value: 0\n",
      "Value1: 1\n",
      "Value2: 0\n",
      "Value: Work / Business\n",
      "Value: 2 - 2.9 lbs.\n",
      "USB connections of different types: 0\n",
      "Total USB connections: 0\n"
     ]
    },
    {
     "name": "stderr",
     "output_type": "stream",
     "text": [
      "\u001b[1m\u001b[43m\u001b[30m\n",
      "  Puppeteer old Headless deprecation warning:\u001b[0m\u001b[33m\n",
      "    In the near feature `headless: true` will default to the new Headless mode\n",
      "    for Chrome instead of the old Headless implementation. For more\n",
      "    information, please see https://developer.chrome.com/articles/new-headless/.\n",
      "    Consider opting in early by passing `headless: \"new\"` to `puppeteer.launch()`\n",
      "    If you encounter any bugs, please report them to https://github.com/puppeteer/puppeteer/issues/new/choose.\u001b[0m\n",
      "\n"
     ]
    },
    {
     "name": "stdout",
     "output_type": "stream",
     "text": [
      "Condition: 0\n",
      "price: $1,899.00\n",
      "The button was clicked successfully.\n",
      "Value: 16GB\n",
      "Value: 3.8GHz\n",
      "Value3: undefined\n",
      "Value: 17.3\"\n",
      "Value: 2022\n",
      "Value: 1920 x 1080\n",
      "Value: 1 TB\n",
      "Value: 0\n",
      "Value1: 1\n",
      "Value2: 0\n",
      "Value: Gaming\n",
      "Value: 5 - 5.9 lbs.\n",
      "USB connections of different types: 0\n",
      "Total USB connections: 0\n"
     ]
    },
    {
     "name": "stderr",
     "output_type": "stream",
     "text": [
      "\u001b[1m\u001b[43m\u001b[30m\n",
      "  Puppeteer old Headless deprecation warning:\u001b[0m\u001b[33m\n",
      "    In the near feature `headless: true` will default to the new Headless mode\n",
      "    for Chrome instead of the old Headless implementation. For more\n",
      "    information, please see https://developer.chrome.com/articles/new-headless/.\n",
      "    Consider opting in early by passing `headless: \"new\"` to `puppeteer.launch()`\n",
      "    If you encounter any bugs, please report them to https://github.com/puppeteer/puppeteer/issues/new/choose.\u001b[0m\n",
      "\n"
     ]
    },
    {
     "name": "stdout",
     "output_type": "stream",
     "text": [
      "Condition: 1\n",
      "price: $1,969.00\n",
      "The button was clicked successfully.\n",
      "Value: 32GB\n",
      "Value: 3.8GHz\n",
      "Value3: undefined\n",
      "Value: 17.3\"\n",
      "Value: 2022\n",
      "Value: 1920 x 1080\n",
      "Value: 1 TB\n",
      "Value: 0\n",
      "Value1: 1\n",
      "Value2: 0\n",
      "Value: Gaming\n",
      "Value: 5 - 5.9 lbs.\n",
      "USB connections of different types: 0\n",
      "Total USB connections: 0\n"
     ]
    },
    {
     "name": "stderr",
     "output_type": "stream",
     "text": [
      "\u001b[1m\u001b[43m\u001b[30m\n",
      "  Puppeteer old Headless deprecation warning:\u001b[0m\u001b[33m\n",
      "    In the near feature `headless: true` will default to the new Headless mode\n",
      "    for Chrome instead of the old Headless implementation. For more\n",
      "    information, please see https://developer.chrome.com/articles/new-headless/.\n",
      "    Consider opting in early by passing `headless: \"new\"` to `puppeteer.launch()`\n",
      "    If you encounter any bugs, please report them to https://github.com/puppeteer/puppeteer/issues/new/choose.\u001b[0m\n",
      "\n"
     ]
    },
    {
     "name": "stdout",
     "output_type": "stream",
     "text": [
      "Condition: 0\n",
      "price: null\n",
      "Failed to click the button or expected changes did not occur.\n",
      "Value: NaN\n",
      "Value: NaN\n",
      "Value3: undefined\n",
      "Value: NaN\n",
      "Value: undefined\n",
      "Value: NaN\n",
      "Value: NaN\n",
      "Value: 1\n",
      "Value1: 1\n",
      "Value2: 1\n",
      "Value: NaN\n",
      "Value: NaN\n",
      "USB connections of different types: 0\n",
      "Total USB connections: 0\n"
     ]
    },
    {
     "name": "stderr",
     "output_type": "stream",
     "text": [
      "\u001b[1m\u001b[43m\u001b[30m\n",
      "  Puppeteer old Headless deprecation warning:\u001b[0m\u001b[33m\n",
      "    In the near feature `headless: true` will default to the new Headless mode\n",
      "    for Chrome instead of the old Headless implementation. For more\n",
      "    information, please see https://developer.chrome.com/articles/new-headless/.\n",
      "    Consider opting in early by passing `headless: \"new\"` to `puppeteer.launch()`\n",
      "    If you encounter any bugs, please report them to https://github.com/puppeteer/puppeteer/issues/new/choose.\u001b[0m\n",
      "\n"
     ]
    },
    {
     "name": "stdout",
     "output_type": "stream",
     "text": [
      "Condition: 0\n",
      "price: $699.79\n",
      "The button was clicked successfully.\n",
      "Value: 32GB\n",
      "Value: 1035G1 (1.00GHz)\n",
      "Value3: undefined\n",
      "Value: 15.0\"\n",
      "Value: 2022\n",
      "Value: NaN\n",
      "Value: 512 GB\n",
      "Value: 1\n",
      "Value1: 1\n",
      "Value2: 1\n",
      "Value: NaN\n",
      "Value: NaN\n",
      "USB connections of different types: 0\n",
      "Total USB connections: 0\n"
     ]
    },
    {
     "name": "stderr",
     "output_type": "stream",
     "text": [
      "\u001b[1m\u001b[43m\u001b[30m\n",
      "  Puppeteer old Headless deprecation warning:\u001b[0m\u001b[33m\n",
      "    In the near feature `headless: true` will default to the new Headless mode\n",
      "    for Chrome instead of the old Headless implementation. For more\n",
      "    information, please see https://developer.chrome.com/articles/new-headless/.\n",
      "    Consider opting in early by passing `headless: \"new\"` to `puppeteer.launch()`\n",
      "    If you encounter any bugs, please report them to https://github.com/puppeteer/puppeteer/issues/new/choose.\u001b[0m\n",
      "\n"
     ]
    },
    {
     "name": "stdout",
     "output_type": "stream",
     "text": [
      "Condition: 0\n",
      "price: null\n",
      "Failed to click the button or expected changes did not occur.\n",
      "Value: NaN\n",
      "Value: NaN\n",
      "Value3: undefined\n",
      "Value: NaN\n",
      "Value: undefined\n",
      "Value: NaN\n",
      "Value: NaN\n",
      "Value: 1\n",
      "Value1: 1\n",
      "Value2: 1\n",
      "Value: NaN\n",
      "Value: NaN\n",
      "USB connections of different types: 0\n",
      "Total USB connections: 0\n"
     ]
    },
    {
     "name": "stderr",
     "output_type": "stream",
     "text": [
      "\u001b[1m\u001b[43m\u001b[30m\n",
      "  Puppeteer old Headless deprecation warning:\u001b[0m\u001b[33m\n",
      "    In the near feature `headless: true` will default to the new Headless mode\n",
      "    for Chrome instead of the old Headless implementation. For more\n",
      "    information, please see https://developer.chrome.com/articles/new-headless/.\n",
      "    Consider opting in early by passing `headless: \"new\"` to `puppeteer.launch()`\n",
      "    If you encounter any bugs, please report them to https://github.com/puppeteer/puppeteer/issues/new/choose.\u001b[0m\n",
      "\n"
     ]
    },
    {
     "name": "stdout",
     "output_type": "stream",
     "text": [
      "Condition: 0\n",
      "price: null\n",
      "Failed to click the button or expected changes did not occur.\n",
      "Value: NaN\n",
      "Value: NaN\n",
      "Value3: undefined\n",
      "Value: NaN\n",
      "Value: undefined\n",
      "Value: NaN\n",
      "Value: NaN\n",
      "Value: 1\n",
      "Value1: 1\n",
      "Value2: 1\n",
      "Value: NaN\n",
      "Value: NaN\n",
      "USB connections of different types: 0\n",
      "Total USB connections: 0\n"
     ]
    },
    {
     "name": "stderr",
     "output_type": "stream",
     "text": [
      "\u001b[1m\u001b[43m\u001b[30m\n",
      "  Puppeteer old Headless deprecation warning:\u001b[0m\u001b[33m\n",
      "    In the near feature `headless: true` will default to the new Headless mode\n",
      "    for Chrome instead of the old Headless implementation. For more\n",
      "    information, please see https://developer.chrome.com/articles/new-headless/.\n",
      "    Consider opting in early by passing `headless: \"new\"` to `puppeteer.launch()`\n",
      "    If you encounter any bugs, please report them to https://github.com/puppeteer/puppeteer/issues/new/choose.\u001b[0m\n",
      "\n"
     ]
    },
    {
     "name": "stdout",
     "output_type": "stream",
     "text": [
      "Condition: 1\n",
      "price: $1,075.97\n",
      "The button was clicked successfully.\n",
      "Value: 16GB\n",
      "Value: 12500H (2.50GHz)\n",
      "Value3: undefined\n",
      "Value: 15.6\"\n",
      "Value: 2022\n",
      "Value: 1920 x 1080\n",
      "Value: 256 GB\n",
      "Value: 0\n",
      "Value1: 1\n",
      "Value2: 1\n",
      "Value: NaN\n",
      "Value: NaN\n",
      "USB connections of different types: 0\n",
      "Total USB connections: 0\n"
     ]
    },
    {
     "name": "stderr",
     "output_type": "stream",
     "text": [
      "\u001b[1m\u001b[43m\u001b[30m\n",
      "  Puppeteer old Headless deprecation warning:\u001b[0m\u001b[33m\n",
      "    In the near feature `headless: true` will default to the new Headless mode\n",
      "    for Chrome instead of the old Headless implementation. For more\n",
      "    information, please see https://developer.chrome.com/articles/new-headless/.\n",
      "    Consider opting in early by passing `headless: \"new\"` to `puppeteer.launch()`\n",
      "    If you encounter any bugs, please report them to https://github.com/puppeteer/puppeteer/issues/new/choose.\u001b[0m\n",
      "\n"
     ]
    },
    {
     "name": "stdout",
     "output_type": "stream",
     "text": [
      "Condition: 0\n",
      "price: null\n",
      "Failed to click the button or expected changes did not occur.\n",
      "Value: NaN\n",
      "Value: NaN\n",
      "Value3: undefined\n",
      "Value: NaN\n",
      "Value: undefined\n",
      "Value: NaN\n",
      "Value: NaN\n",
      "Value: 1\n",
      "Value1: 1\n",
      "Value2: 1\n",
      "Value: NaN\n",
      "Value: NaN\n",
      "USB connections of different types: 0\n",
      "Total USB connections: 0\n"
     ]
    },
    {
     "name": "stderr",
     "output_type": "stream",
     "text": [
      "\u001b[1m\u001b[43m\u001b[30m\n",
      "  Puppeteer old Headless deprecation warning:\u001b[0m\u001b[33m\n",
      "    In the near feature `headless: true` will default to the new Headless mode\n",
      "    for Chrome instead of the old Headless implementation. For more\n",
      "    information, please see https://developer.chrome.com/articles/new-headless/.\n",
      "    Consider opting in early by passing `headless: \"new\"` to `puppeteer.launch()`\n",
      "    If you encounter any bugs, please report them to https://github.com/puppeteer/puppeteer/issues/new/choose.\u001b[0m\n",
      "\n"
     ]
    },
    {
     "name": "stdout",
     "output_type": "stream",
     "text": [
      "Condition: 1\n",
      "price: $2,702.24\n",
      "The button was clicked successfully.\n",
      "Value: 32GB\n",
      "Value: 12900H (2.50GHz)\n",
      "Value3: undefined\n",
      "Value: 14.0\"\n",
      "Value: 2022\n",
      "Value: 1920 x 1200\n",
      "Value: 1 TB\n",
      "Value: 0\n",
      "Value1: 1\n",
      "Value2: 1\n",
      "Value: NaN\n",
      "Value: NaN\n",
      "USB connections of different types: 0\n",
      "Total USB connections: 0\n"
     ]
    },
    {
     "name": "stderr",
     "output_type": "stream",
     "text": [
      "\u001b[1m\u001b[43m\u001b[30m\n",
      "  Puppeteer old Headless deprecation warning:\u001b[0m\u001b[33m\n",
      "    In the near feature `headless: true` will default to the new Headless mode\n",
      "    for Chrome instead of the old Headless implementation. For more\n",
      "    information, please see https://developer.chrome.com/articles/new-headless/.\n",
      "    Consider opting in early by passing `headless: \"new\"` to `puppeteer.launch()`\n",
      "    If you encounter any bugs, please report them to https://github.com/puppeteer/puppeteer/issues/new/choose.\u001b[0m\n",
      "\n"
     ]
    },
    {
     "name": "stdout",
     "output_type": "stream",
     "text": [
      "Condition: 1\n",
      "price: $2,702.35\n",
      "The button was clicked successfully.\n",
      "Value: 32GB\n",
      "Value: 12800H (2.40GHz)\n",
      "Value3: undefined\n",
      "Value: 15.6\"\n",
      "Value: 2022\n",
      "Value: 1920 x 1200\n",
      "Value: 512 GB\n",
      "Value: 0\n",
      "Value1: 1\n",
      "Value2: 0\n",
      "Value: Workstation\n",
      "Value: NaN\n",
      "USB connections of different types: 0\n",
      "Total USB connections: 0\n"
     ]
    },
    {
     "name": "stderr",
     "output_type": "stream",
     "text": [
      "\u001b[1m\u001b[43m\u001b[30m\n",
      "  Puppeteer old Headless deprecation warning:\u001b[0m\u001b[33m\n",
      "    In the near feature `headless: true` will default to the new Headless mode\n",
      "    for Chrome instead of the old Headless implementation. For more\n",
      "    information, please see https://developer.chrome.com/articles/new-headless/.\n",
      "    Consider opting in early by passing `headless: \"new\"` to `puppeteer.launch()`\n",
      "    If you encounter any bugs, please report them to https://github.com/puppeteer/puppeteer/issues/new/choose.\u001b[0m\n",
      "\n"
     ]
    },
    {
     "name": "stdout",
     "output_type": "stream",
     "text": [
      "Condition: 0\n",
      "price: $899.99\n",
      "The button was clicked successfully.\n",
      "Value: 16GB\n",
      "Value: NaN\n",
      "Value3: undefined\n",
      "Value: 14.0\"\n",
      "Value: 2022\n",
      "Value: 1920 x 1080\n",
      "Value: 512 GB PCIe\n",
      "Value: 1\n",
      "Value1: 1\n",
      "Value2: 1\n",
      "Value: Work / Business\n",
      "Value: NaN\n",
      "USB connections of different types: 6\n",
      "Total USB connections: 0\n"
     ]
    },
    {
     "name": "stderr",
     "output_type": "stream",
     "text": [
      "\u001b[1m\u001b[43m\u001b[30m\n",
      "  Puppeteer old Headless deprecation warning:\u001b[0m\u001b[33m\n",
      "    In the near feature `headless: true` will default to the new Headless mode\n",
      "    for Chrome instead of the old Headless implementation. For more\n",
      "    information, please see https://developer.chrome.com/articles/new-headless/.\n",
      "    Consider opting in early by passing `headless: \"new\"` to `puppeteer.launch()`\n",
      "    If you encounter any bugs, please report them to https://github.com/puppeteer/puppeteer/issues/new/choose.\u001b[0m\n",
      "\n"
     ]
    },
    {
     "name": "stdout",
     "output_type": "stream",
     "text": [
      "Condition: 0\n",
      "price: null\n",
      "Failed to click the button or expected changes did not occur.\n",
      "Value: NaN\n",
      "Value: NaN\n",
      "Value3: undefined\n",
      "Value: NaN\n",
      "Value: undefined\n",
      "Value: NaN\n",
      "Value: NaN\n",
      "Value: 1\n",
      "Value1: 1\n",
      "Value2: 1\n",
      "Value: NaN\n",
      "Value: NaN\n",
      "USB connections of different types: 0\n",
      "Total USB connections: 0\n"
     ]
    },
    {
     "name": "stderr",
     "output_type": "stream",
     "text": [
      "\u001b[1m\u001b[43m\u001b[30m\n",
      "  Puppeteer old Headless deprecation warning:\u001b[0m\u001b[33m\n",
      "    In the near feature `headless: true` will default to the new Headless mode\n",
      "    for Chrome instead of the old Headless implementation. For more\n",
      "    information, please see https://developer.chrome.com/articles/new-headless/.\n",
      "    Consider opting in early by passing `headless: \"new\"` to `puppeteer.launch()`\n",
      "    If you encounter any bugs, please report them to https://github.com/puppeteer/puppeteer/issues/new/choose.\u001b[0m\n",
      "\n"
     ]
    },
    {
     "name": "stdout",
     "output_type": "stream",
     "text": [
      "Condition: 0\n",
      "price: null\n",
      "Failed to click the button or expected changes did not occur.\n",
      "Value: NaN\n",
      "Value: NaN\n",
      "Value3: undefined\n",
      "Value: NaN\n",
      "Value: undefined\n",
      "Value: NaN\n",
      "Value: NaN\n",
      "Value: 1\n",
      "Value1: 1\n",
      "Value2: 1\n",
      "Value: NaN\n",
      "Value: NaN\n",
      "USB connections of different types: 0\n",
      "Total USB connections: 0\n"
     ]
    },
    {
     "name": "stderr",
     "output_type": "stream",
     "text": [
      "\u001b[1m\u001b[43m\u001b[30m\n",
      "  Puppeteer old Headless deprecation warning:\u001b[0m\u001b[33m\n",
      "    In the near feature `headless: true` will default to the new Headless mode\n",
      "    for Chrome instead of the old Headless implementation. For more\n",
      "    information, please see https://developer.chrome.com/articles/new-headless/.\n",
      "    Consider opting in early by passing `headless: \"new\"` to `puppeteer.launch()`\n",
      "    If you encounter any bugs, please report them to https://github.com/puppeteer/puppeteer/issues/new/choose.\u001b[0m\n",
      "\n"
     ]
    },
    {
     "name": "stdout",
     "output_type": "stream",
     "text": [
      "Condition: 0\n",
      "price: $899.99\n",
      "The button was clicked successfully.\n",
      "Value: 40GB\n",
      "Value: NaN\n",
      "Value3: undefined\n",
      "Value: 15.6\"\n",
      "Value: 2023\n",
      "Value: 1920 x 1080\n",
      "Value: 1 TB\n",
      "Value: 1\n",
      "Value1: 1\n",
      "Value2: 1\n",
      "Value: Work / Business\n",
      "Value: NaN\n",
      "USB connections of different types: 3\n",
      "Total USB connections: 3\n"
     ]
    },
    {
     "name": "stderr",
     "output_type": "stream",
     "text": [
      "\u001b[1m\u001b[43m\u001b[30m\n",
      "  Puppeteer old Headless deprecation warning:\u001b[0m\u001b[33m\n",
      "    In the near feature `headless: true` will default to the new Headless mode\n",
      "    for Chrome instead of the old Headless implementation. For more\n",
      "    information, please see https://developer.chrome.com/articles/new-headless/.\n",
      "    Consider opting in early by passing `headless: \"new\"` to `puppeteer.launch()`\n",
      "    If you encounter any bugs, please report them to https://github.com/puppeteer/puppeteer/issues/new/choose.\u001b[0m\n",
      "\n"
     ]
    },
    {
     "name": "stdout",
     "output_type": "stream",
     "text": [
      "Condition: 0\n",
      "price: null\n",
      "Failed to click the button or expected changes did not occur.\n",
      "Value: NaN\n",
      "Value: NaN\n",
      "Value3: undefined\n",
      "Value: NaN\n",
      "Value: undefined\n",
      "Value: NaN\n",
      "Value: NaN\n",
      "Value: 1\n",
      "Value1: 1\n",
      "Value2: 1\n",
      "Value: NaN\n",
      "Value: NaN\n",
      "USB connections of different types: 0\n",
      "Total USB connections: 0\n"
     ]
    },
    {
     "name": "stderr",
     "output_type": "stream",
     "text": [
      "\u001b[1m\u001b[43m\u001b[30m\n",
      "  Puppeteer old Headless deprecation warning:\u001b[0m\u001b[33m\n",
      "    In the near feature `headless: true` will default to the new Headless mode\n",
      "    for Chrome instead of the old Headless implementation. For more\n",
      "    information, please see https://developer.chrome.com/articles/new-headless/.\n",
      "    Consider opting in early by passing `headless: \"new\"` to `puppeteer.launch()`\n",
      "    If you encounter any bugs, please report them to https://github.com/puppeteer/puppeteer/issues/new/choose.\u001b[0m\n",
      "\n"
     ]
    },
    {
     "name": "stdout",
     "output_type": "stream",
     "text": [
      "Condition: 1\n",
      "price: $913.79\n",
      "The button was clicked successfully.\n",
      "Value: 16GB\n",
      "Value: 2.80GHz\n",
      "Value3: undefined\n",
      "Value: 15.6\"\n",
      "Value: 2022\n",
      "Value: 1920 x 1080\n",
      "Value: 512 GB\n",
      "Value: 1\n",
      "Value1: 1\n",
      "Value2: 0\n",
      "Value: Work / Business\n",
      "Value: 3 - 3.9 lbs.\n",
      "USB connections of different types: 0\n",
      "Total USB connections: 0\n"
     ]
    },
    {
     "name": "stderr",
     "output_type": "stream",
     "text": [
      "\u001b[1m\u001b[43m\u001b[30m\n",
      "  Puppeteer old Headless deprecation warning:\u001b[0m\u001b[33m\n",
      "    In the near feature `headless: true` will default to the new Headless mode\n",
      "    for Chrome instead of the old Headless implementation. For more\n",
      "    information, please see https://developer.chrome.com/articles/new-headless/.\n",
      "    Consider opting in early by passing `headless: \"new\"` to `puppeteer.launch()`\n",
      "    If you encounter any bugs, please report them to https://github.com/puppeteer/puppeteer/issues/new/choose.\u001b[0m\n",
      "\n"
     ]
    },
    {
     "name": "stdout",
     "output_type": "stream",
     "text": [
      "Condition: 0\n",
      "price: $799.79\n",
      "The button was clicked successfully.\n",
      "Value: 32GB\n",
      "Value: 2.40GHz\n",
      "Value3: undefined\n",
      "Value: 14.0\"\n",
      "Value: 2022\n",
      "Value: 1920 x 1080\n",
      "Value: 1 TB\n",
      "Value: 1\n",
      "Value1: 1\n",
      "Value2: 0\n",
      "Value: Work / Business\n",
      "Value: 3 - 3.9 lbs.\n",
      "USB connections of different types: 0\n",
      "Total USB connections: 0\n"
     ]
    },
    {
     "name": "stderr",
     "output_type": "stream",
     "text": [
      "\u001b[1m\u001b[43m\u001b[30m\n",
      "  Puppeteer old Headless deprecation warning:\u001b[0m\u001b[33m\n",
      "    In the near feature `headless: true` will default to the new Headless mode\n",
      "    for Chrome instead of the old Headless implementation. For more\n",
      "    information, please see https://developer.chrome.com/articles/new-headless/.\n",
      "    Consider opting in early by passing `headless: \"new\"` to `puppeteer.launch()`\n",
      "    If you encounter any bugs, please report them to https://github.com/puppeteer/puppeteer/issues/new/choose.\u001b[0m\n",
      "\n"
     ]
    },
    {
     "name": "stdout",
     "output_type": "stream",
     "text": [
      "Condition: 1\n",
      "price: $635.69\n",
      "The button was clicked successfully.\n",
      "Value: 32GB\n",
      "Value: NaN\n",
      "Value3: undefined\n",
      "Value: 17.3\"\n",
      "Value: 2022\n",
      "Value: 1600 x 900\n",
      "Value: 1 TB\n",
      "Value: 1\n",
      "Value1: 1\n",
      "Value2: 0\n",
      "Value: Work / Business\n",
      "Value: 4 - 4.9 lbs.\n",
      "USB connections of different types: 0\n",
      "Total USB connections: 0\n"
     ]
    },
    {
     "name": "stderr",
     "output_type": "stream",
     "text": [
      "\u001b[1m\u001b[43m\u001b[30m\n",
      "  Puppeteer old Headless deprecation warning:\u001b[0m\u001b[33m\n",
      "    In the near feature `headless: true` will default to the new Headless mode\n",
      "    for Chrome instead of the old Headless implementation. For more\n",
      "    information, please see https://developer.chrome.com/articles/new-headless/.\n",
      "    Consider opting in early by passing `headless: \"new\"` to `puppeteer.launch()`\n",
      "    If you encounter any bugs, please report them to https://github.com/puppeteer/puppeteer/issues/new/choose.\u001b[0m\n",
      "\n"
     ]
    },
    {
     "name": "stdout",
     "output_type": "stream",
     "text": [
      "Condition: 0\n",
      "price: null\n",
      "Failed to click the button or expected changes did not occur.\n",
      "Value: NaN\n",
      "Value: NaN\n",
      "Value3: undefined\n",
      "Value: NaN\n",
      "Value: undefined\n",
      "Value: NaN\n",
      "Value: NaN\n",
      "Value: 1\n",
      "Value1: 1\n",
      "Value2: 1\n",
      "Value: NaN\n",
      "Value: NaN\n",
      "USB connections of different types: 0\n",
      "Total USB connections: 0\n"
     ]
    },
    {
     "name": "stderr",
     "output_type": "stream",
     "text": [
      "\u001b[1m\u001b[43m\u001b[30m\n",
      "  Puppeteer old Headless deprecation warning:\u001b[0m\u001b[33m\n",
      "    In the near feature `headless: true` will default to the new Headless mode\n",
      "    for Chrome instead of the old Headless implementation. For more\n",
      "    information, please see https://developer.chrome.com/articles/new-headless/.\n",
      "    Consider opting in early by passing `headless: \"new\"` to `puppeteer.launch()`\n",
      "    If you encounter any bugs, please report them to https://github.com/puppeteer/puppeteer/issues/new/choose.\u001b[0m\n",
      "\n"
     ]
    },
    {
     "name": "stdout",
     "output_type": "stream",
     "text": [
      "Condition: 0\n",
      "price: null\n",
      "Failed to click the button or expected changes did not occur.\n",
      "Value: NaN\n",
      "Value: NaN\n",
      "Value3: undefined\n",
      "Value: NaN\n",
      "Value: undefined\n",
      "Value: NaN\n",
      "Value: NaN\n",
      "Value: 1\n",
      "Value1: 1\n",
      "Value2: 1\n",
      "Value: NaN\n",
      "Value: NaN\n",
      "USB connections of different types: 0\n",
      "Total USB connections: 0\n"
     ]
    },
    {
     "name": "stderr",
     "output_type": "stream",
     "text": [
      "\u001b[1m\u001b[43m\u001b[30m\n",
      "  Puppeteer old Headless deprecation warning:\u001b[0m\u001b[33m\n",
      "    In the near feature `headless: true` will default to the new Headless mode\n",
      "    for Chrome instead of the old Headless implementation. For more\n",
      "    information, please see https://developer.chrome.com/articles/new-headless/.\n",
      "    Consider opting in early by passing `headless: \"new\"` to `puppeteer.launch()`\n",
      "    If you encounter any bugs, please report them to https://github.com/puppeteer/puppeteer/issues/new/choose.\u001b[0m\n",
      "\n"
     ]
    },
    {
     "name": "stdout",
     "output_type": "stream",
     "text": [
      "Condition: 0\n",
      "price: $1,049.00\n",
      "The button was clicked successfully.\n",
      "Value: 16GB\n",
      "Value: 2.00GHz\n",
      "Value3: undefined\n",
      "Value: 14.0\"\n",
      "Value: 2022\n",
      "Value: 1920 x 1080\n",
      "Value: 512 GB\n",
      "Value: 0\n",
      "Value1: 1\n",
      "Value2: 0\n",
      "Value: Work / Business\n",
      "Value: 3 - 3.9 lbs.\n",
      "USB connections of different types: 0\n",
      "Total USB connections: 0\n"
     ]
    },
    {
     "name": "stderr",
     "output_type": "stream",
     "text": [
      "\u001b[1m\u001b[43m\u001b[30m\n",
      "  Puppeteer old Headless deprecation warning:\u001b[0m\u001b[33m\n",
      "    In the near feature `headless: true` will default to the new Headless mode\n",
      "    for Chrome instead of the old Headless implementation. For more\n",
      "    information, please see https://developer.chrome.com/articles/new-headless/.\n",
      "    Consider opting in early by passing `headless: \"new\"` to `puppeteer.launch()`\n",
      "    If you encounter any bugs, please report them to https://github.com/puppeteer/puppeteer/issues/new/choose.\u001b[0m\n",
      "\n"
     ]
    },
    {
     "name": "stdout",
     "output_type": "stream",
     "text": [
      "Condition: 0\n",
      "price: null\n",
      "Failed to click the button or expected changes did not occur.\n",
      "Value: NaN\n",
      "Value: NaN\n",
      "Value3: undefined\n",
      "Value: NaN\n",
      "Value: undefined\n",
      "Value: NaN\n",
      "Value: NaN\n",
      "Value: 1\n",
      "Value1: 1\n",
      "Value2: 1\n",
      "Value: NaN\n",
      "Value: NaN\n",
      "USB connections of different types: 0\n",
      "Total USB connections: 0\n"
     ]
    },
    {
     "name": "stderr",
     "output_type": "stream",
     "text": [
      "\u001b[1m\u001b[43m\u001b[30m\n",
      "  Puppeteer old Headless deprecation warning:\u001b[0m\u001b[33m\n",
      "    In the near feature `headless: true` will default to the new Headless mode\n",
      "    for Chrome instead of the old Headless implementation. For more\n",
      "    information, please see https://developer.chrome.com/articles/new-headless/.\n",
      "    Consider opting in early by passing `headless: \"new\"` to `puppeteer.launch()`\n",
      "    If you encounter any bugs, please report them to https://github.com/puppeteer/puppeteer/issues/new/choose.\u001b[0m\n",
      "\n"
     ]
    },
    {
     "name": "stdout",
     "output_type": "stream",
     "text": [
      "Condition: 0\n",
      "price: $428.40\n",
      "The button was clicked successfully.\n",
      "Value: NaN\n",
      "Value: NaN\n",
      "Value3: undefined\n",
      "Value: 10.0\"\n",
      "Value: 2020\n",
      "Value: NaN\n",
      "Value: NaN\n",
      "Value: 1\n",
      "Value1: 1\n",
      "Value2: 1\n",
      "Value: NaN\n",
      "Value: NaN\n",
      "USB connections of different types: 0\n",
      "Total USB connections: 0\n"
     ]
    },
    {
     "name": "stderr",
     "output_type": "stream",
     "text": [
      "\u001b[1m\u001b[43m\u001b[30m\n",
      "  Puppeteer old Headless deprecation warning:\u001b[0m\u001b[33m\n",
      "    In the near feature `headless: true` will default to the new Headless mode\n",
      "    for Chrome instead of the old Headless implementation. For more\n",
      "    information, please see https://developer.chrome.com/articles/new-headless/.\n",
      "    Consider opting in early by passing `headless: \"new\"` to `puppeteer.launch()`\n",
      "    If you encounter any bugs, please report them to https://github.com/puppeteer/puppeteer/issues/new/choose.\u001b[0m\n",
      "\n"
     ]
    },
    {
     "name": "stdout",
     "output_type": "stream",
     "text": [
      "Condition: 0\n",
      "price: $408.43\n",
      "The button was clicked successfully.\n",
      "Value: NaN\n",
      "Value: NaN\n",
      "Value3: undefined\n",
      "Value: 10.0\"\n",
      "Value: 2020\n",
      "Value: NaN\n",
      "Value: NaN\n",
      "Value: 1\n",
      "Value1: 1\n",
      "Value2: 1\n",
      "Value: NaN\n",
      "Value: NaN\n",
      "USB connections of different types: 0\n",
      "Total USB connections: 0\n"
     ]
    },
    {
     "name": "stderr",
     "output_type": "stream",
     "text": [
      "\u001b[1m\u001b[43m\u001b[30m\n",
      "  Puppeteer old Headless deprecation warning:\u001b[0m\u001b[33m\n",
      "    In the near feature `headless: true` will default to the new Headless mode\n",
      "    for Chrome instead of the old Headless implementation. For more\n",
      "    information, please see https://developer.chrome.com/articles/new-headless/.\n",
      "    Consider opting in early by passing `headless: \"new\"` to `puppeteer.launch()`\n",
      "    If you encounter any bugs, please report them to https://github.com/puppeteer/puppeteer/issues/new/choose.\u001b[0m\n",
      "\n"
     ]
    },
    {
     "name": "stdout",
     "output_type": "stream",
     "text": [
      "Condition: 0\n",
      "price: null\n",
      "Failed to click the button or expected changes did not occur.\n",
      "Value: NaN\n",
      "Value: NaN\n",
      "Value3: undefined\n",
      "Value: NaN\n",
      "Value: undefined\n",
      "Value: NaN\n",
      "Value: NaN\n",
      "Value: 1\n",
      "Value1: 1\n",
      "Value2: 1\n",
      "Value: NaN\n",
      "Value: NaN\n",
      "USB connections of different types: 0\n",
      "Total USB connections: 0\n"
     ]
    },
    {
     "name": "stderr",
     "output_type": "stream",
     "text": [
      "\u001b[1m\u001b[43m\u001b[30m\n",
      "  Puppeteer old Headless deprecation warning:\u001b[0m\u001b[33m\n",
      "    In the near feature `headless: true` will default to the new Headless mode\n",
      "    for Chrome instead of the old Headless implementation. For more\n",
      "    information, please see https://developer.chrome.com/articles/new-headless/.\n",
      "    Consider opting in early by passing `headless: \"new\"` to `puppeteer.launch()`\n",
      "    If you encounter any bugs, please report them to https://github.com/puppeteer/puppeteer/issues/new/choose.\u001b[0m\n",
      "\n"
     ]
    },
    {
     "name": "stdout",
     "output_type": "stream",
     "text": [
      "Condition: 0\n",
      "price: null\n",
      "Failed to click the button or expected changes did not occur.\n",
      "Value: NaN\n",
      "Value: NaN\n",
      "Value3: undefined\n",
      "Value: NaN\n",
      "Value: undefined\n",
      "Value: NaN\n",
      "Value: NaN\n",
      "Value: 1\n",
      "Value1: 1\n",
      "Value2: 1\n",
      "Value: NaN\n",
      "Value: NaN\n",
      "USB connections of different types: 0\n",
      "Total USB connections: 0\n"
     ]
    },
    {
     "name": "stderr",
     "output_type": "stream",
     "text": [
      "\u001b[1m\u001b[43m\u001b[30m\n",
      "  Puppeteer old Headless deprecation warning:\u001b[0m\u001b[33m\n",
      "    In the near feature `headless: true` will default to the new Headless mode\n",
      "    for Chrome instead of the old Headless implementation. For more\n",
      "    information, please see https://developer.chrome.com/articles/new-headless/.\n",
      "    Consider opting in early by passing `headless: \"new\"` to `puppeteer.launch()`\n",
      "    If you encounter any bugs, please report them to https://github.com/puppeteer/puppeteer/issues/new/choose.\u001b[0m\n",
      "\n"
     ]
    },
    {
     "name": "stdout",
     "output_type": "stream",
     "text": [
      "Condition: 0\n",
      "price: null\n",
      "Failed to click the button or expected changes did not occur.\n",
      "Value: NaN\n",
      "Value: NaN\n",
      "Value3: undefined\n",
      "Value: NaN\n",
      "Value: undefined\n",
      "Value: NaN\n",
      "Value: NaN\n",
      "Value: 1\n",
      "Value1: 1\n",
      "Value2: 1\n",
      "Value: NaN\n",
      "Value: NaN\n",
      "USB connections of different types: 0\n",
      "Total USB connections: 0\n"
     ]
    },
    {
     "name": "stderr",
     "output_type": "stream",
     "text": [
      "\u001b[1m\u001b[43m\u001b[30m\n",
      "  Puppeteer old Headless deprecation warning:\u001b[0m\u001b[33m\n",
      "    In the near feature `headless: true` will default to the new Headless mode\n",
      "    for Chrome instead of the old Headless implementation. For more\n",
      "    information, please see https://developer.chrome.com/articles/new-headless/.\n",
      "    Consider opting in early by passing `headless: \"new\"` to `puppeteer.launch()`\n",
      "    If you encounter any bugs, please report them to https://github.com/puppeteer/puppeteer/issues/new/choose.\u001b[0m\n",
      "\n"
     ]
    },
    {
     "name": "stdout",
     "output_type": "stream",
     "text": [
      "Condition: 0\n",
      "price: $899.99\n",
      "The button was clicked successfully.\n",
      "Value: 24GB\n",
      "Value: NaN\n",
      "Value3: undefined\n",
      "Value: 15.6\"\n",
      "Value: 2022\n",
      "Value: 1920 x 1080\n",
      "Value: 1 TB\n",
      "Value: 0\n",
      "Value1: 1\n",
      "Value2: 0\n",
      "Value: Work/Business/Home/Personal\n",
      "Value: 3.75 lbs\n",
      "USB connections of different types: 3\n",
      "Total USB connections: 3\n"
     ]
    },
    {
     "name": "stderr",
     "output_type": "stream",
     "text": [
      "\u001b[1m\u001b[43m\u001b[30m\n",
      "  Puppeteer old Headless deprecation warning:\u001b[0m\u001b[33m\n",
      "    In the near feature `headless: true` will default to the new Headless mode\n",
      "    for Chrome instead of the old Headless implementation. For more\n",
      "    information, please see https://developer.chrome.com/articles/new-headless/.\n",
      "    Consider opting in early by passing `headless: \"new\"` to `puppeteer.launch()`\n",
      "    If you encounter any bugs, please report them to https://github.com/puppeteer/puppeteer/issues/new/choose.\u001b[0m\n",
      "\n"
     ]
    },
    {
     "name": "stdout",
     "output_type": "stream",
     "text": [
      "Condition: 0\n",
      "price: null\n",
      "Failed to click the button or expected changes did not occur.\n",
      "Value: NaN\n",
      "Value: NaN\n",
      "Value3: undefined\n",
      "Value: NaN\n",
      "Value: undefined\n",
      "Value: NaN\n",
      "Value: NaN\n",
      "Value: 1\n",
      "Value1: 1\n",
      "Value2: 1\n",
      "Value: NaN\n",
      "Value: NaN\n",
      "USB connections of different types: 0\n",
      "Total USB connections: 0\n"
     ]
    },
    {
     "name": "stderr",
     "output_type": "stream",
     "text": [
      "\u001b[1m\u001b[43m\u001b[30m\n",
      "  Puppeteer old Headless deprecation warning:\u001b[0m\u001b[33m\n",
      "    In the near feature `headless: true` will default to the new Headless mode\n",
      "    for Chrome instead of the old Headless implementation. For more\n",
      "    information, please see https://developer.chrome.com/articles/new-headless/.\n",
      "    Consider opting in early by passing `headless: \"new\"` to `puppeteer.launch()`\n",
      "    If you encounter any bugs, please report them to https://github.com/puppeteer/puppeteer/issues/new/choose.\u001b[0m\n",
      "\n"
     ]
    },
    {
     "name": "stdout",
     "output_type": "stream",
     "text": [
      "Condition: 0\n",
      "price: null\n",
      "Failed to click the button or expected changes did not occur.\n",
      "Value: NaN\n",
      "Value: NaN\n",
      "Value3: undefined\n",
      "Value: NaN\n",
      "Value: undefined\n",
      "Value: NaN\n",
      "Value: NaN\n",
      "Value: 1\n",
      "Value1: 1\n",
      "Value2: 1\n",
      "Value: NaN\n",
      "Value: NaN\n",
      "USB connections of different types: 0\n",
      "Total USB connections: 0\n"
     ]
    },
    {
     "name": "stderr",
     "output_type": "stream",
     "text": [
      "\u001b[1m\u001b[43m\u001b[30m\n",
      "  Puppeteer old Headless deprecation warning:\u001b[0m\u001b[33m\n",
      "    In the near feature `headless: true` will default to the new Headless mode\n",
      "    for Chrome instead of the old Headless implementation. For more\n",
      "    information, please see https://developer.chrome.com/articles/new-headless/.\n",
      "    Consider opting in early by passing `headless: \"new\"` to `puppeteer.launch()`\n",
      "    If you encounter any bugs, please report them to https://github.com/puppeteer/puppeteer/issues/new/choose.\u001b[0m\n",
      "\n"
     ]
    },
    {
     "name": "stdout",
     "output_type": "stream",
     "text": [
      "Condition: 1\n",
      "price: $776.69\n",
      "The button was clicked successfully.\n",
      "Value: 8GB\n",
      "Value: 3.33GHz\n",
      "Value3: undefined\n",
      "Value: 14.0\"\n",
      "Value: 2022\n",
      "Value: 1920 x 1080\n",
      "Value: 1 TB\n",
      "Value: 1\n",
      "Value1: 1\n",
      "Value2: 0\n",
      "Value: Work / Business\n",
      "Value: 3 - 3.9 lbs.\n",
      "USB connections of different types: 0\n",
      "Total USB connections: 0\n"
     ]
    },
    {
     "name": "stderr",
     "output_type": "stream",
     "text": [
      "\u001b[1m\u001b[43m\u001b[30m\n",
      "  Puppeteer old Headless deprecation warning:\u001b[0m\u001b[33m\n",
      "    In the near feature `headless: true` will default to the new Headless mode\n",
      "    for Chrome instead of the old Headless implementation. For more\n",
      "    information, please see https://developer.chrome.com/articles/new-headless/.\n",
      "    Consider opting in early by passing `headless: \"new\"` to `puppeteer.launch()`\n",
      "    If you encounter any bugs, please report them to https://github.com/puppeteer/puppeteer/issues/new/choose.\u001b[0m\n",
      "\n"
     ]
    },
    {
     "name": "stdout",
     "output_type": "stream",
     "text": [
      "Condition: 0\n",
      "price: null\n",
      "Failed to click the button or expected changes did not occur.\n",
      "Value: NaN\n",
      "Value: NaN\n",
      "Value3: undefined\n",
      "Value: NaN\n",
      "Value: undefined\n",
      "Value: NaN\n",
      "Value: NaN\n",
      "Value: 1\n",
      "Value1: 1\n",
      "Value2: 1\n",
      "Value: NaN\n",
      "Value: NaN\n",
      "USB connections of different types: 0\n",
      "Total USB connections: 0\n"
     ]
    },
    {
     "name": "stderr",
     "output_type": "stream",
     "text": [
      "\u001b[1m\u001b[43m\u001b[30m\n",
      "  Puppeteer old Headless deprecation warning:\u001b[0m\u001b[33m\n",
      "    In the near feature `headless: true` will default to the new Headless mode\n",
      "    for Chrome instead of the old Headless implementation. For more\n",
      "    information, please see https://developer.chrome.com/articles/new-headless/.\n",
      "    Consider opting in early by passing `headless: \"new\"` to `puppeteer.launch()`\n",
      "    If you encounter any bugs, please report them to https://github.com/puppeteer/puppeteer/issues/new/choose.\u001b[0m\n",
      "\n"
     ]
    },
    {
     "name": "stdout",
     "output_type": "stream",
     "text": [
      "Condition: 0\n",
      "price: null\n",
      "Failed to click the button or expected changes did not occur.\n",
      "Value: NaN\n",
      "Value: NaN\n",
      "Value3: undefined\n",
      "Value: NaN\n",
      "Value: undefined\n",
      "Value: NaN\n",
      "Value: NaN\n",
      "Value: 1\n",
      "Value1: 1\n",
      "Value2: 1\n",
      "Value: NaN\n",
      "Value: NaN\n",
      "USB connections of different types: 0\n",
      "Total USB connections: 0\n"
     ]
    },
    {
     "name": "stderr",
     "output_type": "stream",
     "text": [
      "\u001b[1m\u001b[43m\u001b[30m\n",
      "  Puppeteer old Headless deprecation warning:\u001b[0m\u001b[33m\n",
      "    In the near feature `headless: true` will default to the new Headless mode\n",
      "    for Chrome instead of the old Headless implementation. For more\n",
      "    information, please see https://developer.chrome.com/articles/new-headless/.\n",
      "    Consider opting in early by passing `headless: \"new\"` to `puppeteer.launch()`\n",
      "    If you encounter any bugs, please report them to https://github.com/puppeteer/puppeteer/issues/new/choose.\u001b[0m\n",
      "\n"
     ]
    },
    {
     "name": "stdout",
     "output_type": "stream",
     "text": [
      "Condition: 0\n",
      "price: $949.99\n",
      "The button was clicked successfully.\n",
      "Value: NaN\n",
      "Value: NaN\n",
      "Value3: undefined\n",
      "Value: 13.0\"\n",
      "Value: 2023\n",
      "Value: NaN\n",
      "Value: 512 GB\n",
      "Value: 1\n",
      "Value1: 1\n",
      "Value2: 1\n",
      "Value: NaN\n",
      "Value: NaN\n",
      "USB connections of different types: 0\n",
      "Total USB connections: 0\n"
     ]
    },
    {
     "name": "stderr",
     "output_type": "stream",
     "text": [
      "\u001b[1m\u001b[43m\u001b[30m\n",
      "  Puppeteer old Headless deprecation warning:\u001b[0m\u001b[33m\n",
      "    In the near feature `headless: true` will default to the new Headless mode\n",
      "    for Chrome instead of the old Headless implementation. For more\n",
      "    information, please see https://developer.chrome.com/articles/new-headless/.\n",
      "    Consider opting in early by passing `headless: \"new\"` to `puppeteer.launch()`\n",
      "    If you encounter any bugs, please report them to https://github.com/puppeteer/puppeteer/issues/new/choose.\u001b[0m\n",
      "\n"
     ]
    },
    {
     "name": "stdout",
     "output_type": "stream",
     "text": [
      "Condition: 0\n",
      "price: null\n",
      "Failed to click the button or expected changes did not occur.\n",
      "Value: NaN\n",
      "Value: NaN\n",
      "Value3: undefined\n",
      "Value: NaN\n",
      "Value: undefined\n",
      "Value: NaN\n",
      "Value: NaN\n",
      "Value: 1\n",
      "Value1: 1\n",
      "Value2: 1\n",
      "Value: NaN\n",
      "Value: NaN\n",
      "USB connections of different types: 0\n",
      "Total USB connections: 0\n"
     ]
    },
    {
     "name": "stderr",
     "output_type": "stream",
     "text": [
      "\u001b[1m\u001b[43m\u001b[30m\n",
      "  Puppeteer old Headless deprecation warning:\u001b[0m\u001b[33m\n",
      "    In the near feature `headless: true` will default to the new Headless mode\n",
      "    for Chrome instead of the old Headless implementation. For more\n",
      "    information, please see https://developer.chrome.com/articles/new-headless/.\n",
      "    Consider opting in early by passing `headless: \"new\"` to `puppeteer.launch()`\n",
      "    If you encounter any bugs, please report them to https://github.com/puppeteer/puppeteer/issues/new/choose.\u001b[0m\n",
      "\n"
     ]
    },
    {
     "name": "stdout",
     "output_type": "stream",
     "text": [
      "Condition: 0\n",
      "price: $908.50\n",
      "The button was clicked successfully.\n",
      "Value: 16GB\n",
      "Value: 1135G7 (2.40GHz)\n",
      "Value3: undefined\n",
      "Value: 14.0\"\n",
      "Value: 2023\n",
      "Value: 1920 x 1080\n",
      "Value: 512 GB PCIe\n",
      "Value: 1\n",
      "Value1: 1\n",
      "Value2: 1\n",
      "Value: Education / Home / Personal / Work / Business\n",
      "Value: 3 - 3.9 lbs.\n",
      "USB connections of different types: 2\n",
      "Total USB connections: 2\n"
     ]
    },
    {
     "name": "stderr",
     "output_type": "stream",
     "text": [
      "\u001b[1m\u001b[43m\u001b[30m\n",
      "  Puppeteer old Headless deprecation warning:\u001b[0m\u001b[33m\n",
      "    In the near feature `headless: true` will default to the new Headless mode\n",
      "    for Chrome instead of the old Headless implementation. For more\n",
      "    information, please see https://developer.chrome.com/articles/new-headless/.\n",
      "    Consider opting in early by passing `headless: \"new\"` to `puppeteer.launch()`\n",
      "    If you encounter any bugs, please report them to https://github.com/puppeteer/puppeteer/issues/new/choose.\u001b[0m\n",
      "\n"
     ]
    },
    {
     "name": "stdout",
     "output_type": "stream",
     "text": [
      "Condition: 0\n",
      "price: null\n",
      "Failed to click the button or expected changes did not occur.\n",
      "Value: NaN\n",
      "Value: NaN\n",
      "Value3: undefined\n",
      "Value: NaN\n",
      "Value: undefined\n",
      "Value: NaN\n",
      "Value: NaN\n",
      "Value: 1\n",
      "Value1: 1\n",
      "Value2: 1\n",
      "Value: NaN\n",
      "Value: NaN\n",
      "USB connections of different types: 0\n",
      "Total USB connections: 0\n"
     ]
    },
    {
     "name": "stderr",
     "output_type": "stream",
     "text": [
      "\u001b[1m\u001b[43m\u001b[30m\n",
      "  Puppeteer old Headless deprecation warning:\u001b[0m\u001b[33m\n",
      "    In the near feature `headless: true` will default to the new Headless mode\n",
      "    for Chrome instead of the old Headless implementation. For more\n",
      "    information, please see https://developer.chrome.com/articles/new-headless/.\n",
      "    Consider opting in early by passing `headless: \"new\"` to `puppeteer.launch()`\n",
      "    If you encounter any bugs, please report them to https://github.com/puppeteer/puppeteer/issues/new/choose.\u001b[0m\n",
      "\n"
     ]
    },
    {
     "name": "stdout",
     "output_type": "stream",
     "text": [
      "Condition: 0\n",
      "price: $179.79\n",
      "The button was clicked successfully.\n",
      "Value: 4GB\n",
      "Value: 1.10GHz\n",
      "Value3: undefined\n",
      "Value: 14.0\"\n",
      "Value: 2022\n",
      "Value: 1366 x 768\n",
      "Value: 64 GB\n",
      "Value: 0\n",
      "Value1: 1\n",
      "Value2: 0\n",
      "Value: Work / Business\n",
      "Value: 3 - 3.9 lbs.\n",
      "USB connections of different types: 0\n",
      "Total USB connections: 0\n"
     ]
    },
    {
     "name": "stderr",
     "output_type": "stream",
     "text": [
      "\u001b[1m\u001b[43m\u001b[30m\n",
      "  Puppeteer old Headless deprecation warning:\u001b[0m\u001b[33m\n",
      "    In the near feature `headless: true` will default to the new Headless mode\n",
      "    for Chrome instead of the old Headless implementation. For more\n",
      "    information, please see https://developer.chrome.com/articles/new-headless/.\n",
      "    Consider opting in early by passing `headless: \"new\"` to `puppeteer.launch()`\n",
      "    If you encounter any bugs, please report them to https://github.com/puppeteer/puppeteer/issues/new/choose.\u001b[0m\n",
      "\n"
     ]
    },
    {
     "name": "stdout",
     "output_type": "stream",
     "text": [
      "Condition: 0\n",
      "price: $649.79\n",
      "The button was clicked successfully.\n",
      "Value: 12GB\n",
      "Value: 5500U (2.10GHz)\n",
      "Value3: undefined\n",
      "Value: 17.0\"\n",
      "Value: 2023\n",
      "Value: 1920 x 1080\n",
      "Value: 256 GB\n",
      "Value: 0\n",
      "Value1: 1\n",
      "Value2: 1\n",
      "Value: NaN\n",
      "Value: NaN\n",
      "USB connections of different types: 0\n",
      "Total USB connections: 0\n"
     ]
    },
    {
     "name": "stderr",
     "output_type": "stream",
     "text": [
      "\u001b[1m\u001b[43m\u001b[30m\n",
      "  Puppeteer old Headless deprecation warning:\u001b[0m\u001b[33m\n",
      "    In the near feature `headless: true` will default to the new Headless mode\n",
      "    for Chrome instead of the old Headless implementation. For more\n",
      "    information, please see https://developer.chrome.com/articles/new-headless/.\n",
      "    Consider opting in early by passing `headless: \"new\"` to `puppeteer.launch()`\n",
      "    If you encounter any bugs, please report them to https://github.com/puppeteer/puppeteer/issues/new/choose.\u001b[0m\n",
      "\n"
     ]
    },
    {
     "name": "stdout",
     "output_type": "stream",
     "text": [
      "Condition: 1\n",
      "price: $676.66\n",
      "The button was clicked successfully.\n",
      "Value: 8GB\n",
      "Value: 2.30GHz\n",
      "Value3: undefined\n",
      "Value: 15.6\"\n",
      "Value: 2022\n",
      "Value: 1920 x 1080\n",
      "Value: 256 GB\n",
      "Value: 1\n",
      "Value1: 1\n",
      "Value2: 0\n",
      "Value: Work / Business\n",
      "Value: 3 - 3.9 lbs.\n",
      "USB connections of different types: 0\n",
      "Total USB connections: 0\n"
     ]
    },
    {
     "name": "stderr",
     "output_type": "stream",
     "text": [
      "\u001b[1m\u001b[43m\u001b[30m\n",
      "  Puppeteer old Headless deprecation warning:\u001b[0m\u001b[33m\n",
      "    In the near feature `headless: true` will default to the new Headless mode\n",
      "    for Chrome instead of the old Headless implementation. For more\n",
      "    information, please see https://developer.chrome.com/articles/new-headless/.\n",
      "    Consider opting in early by passing `headless: \"new\"` to `puppeteer.launch()`\n",
      "    If you encounter any bugs, please report them to https://github.com/puppeteer/puppeteer/issues/new/choose.\u001b[0m\n",
      "\n"
     ]
    },
    {
     "name": "stdout",
     "output_type": "stream",
     "text": [
      "Condition: 0\n",
      "price: null\n",
      "Failed to click the button or expected changes did not occur.\n",
      "Value: NaN\n",
      "Value: NaN\n",
      "Value3: undefined\n",
      "Value: NaN\n",
      "Value: undefined\n",
      "Value: NaN\n",
      "Value: NaN\n",
      "Value: 1\n",
      "Value1: 1\n",
      "Value2: 1\n",
      "Value: NaN\n",
      "Value: NaN\n",
      "USB connections of different types: 0\n",
      "Total USB connections: 0\n"
     ]
    },
    {
     "name": "stderr",
     "output_type": "stream",
     "text": [
      "\u001b[1m\u001b[43m\u001b[30m\n",
      "  Puppeteer old Headless deprecation warning:\u001b[0m\u001b[33m\n",
      "    In the near feature `headless: true` will default to the new Headless mode\n",
      "    for Chrome instead of the old Headless implementation. For more\n",
      "    information, please see https://developer.chrome.com/articles/new-headless/.\n",
      "    Consider opting in early by passing `headless: \"new\"` to `puppeteer.launch()`\n",
      "    If you encounter any bugs, please report them to https://github.com/puppeteer/puppeteer/issues/new/choose.\u001b[0m\n",
      "\n"
     ]
    },
    {
     "name": "stdout",
     "output_type": "stream",
     "text": [
      "Condition: 0\n",
      "price: null\n",
      "Failed to click the button or expected changes did not occur.\n",
      "Value: NaN\n",
      "Value: NaN\n",
      "Value3: undefined\n",
      "Value: NaN\n",
      "Value: undefined\n",
      "Value: NaN\n",
      "Value: NaN\n",
      "Value: 1\n",
      "Value1: 1\n",
      "Value2: 1\n",
      "Value: NaN\n",
      "Value: NaN\n",
      "USB connections of different types: 0\n",
      "Total USB connections: 0\n"
     ]
    },
    {
     "name": "stderr",
     "output_type": "stream",
     "text": [
      "\u001b[1m\u001b[43m\u001b[30m\n",
      "  Puppeteer old Headless deprecation warning:\u001b[0m\u001b[33m\n",
      "    In the near feature `headless: true` will default to the new Headless mode\n",
      "    for Chrome instead of the old Headless implementation. For more\n",
      "    information, please see https://developer.chrome.com/articles/new-headless/.\n",
      "    Consider opting in early by passing `headless: \"new\"` to `puppeteer.launch()`\n",
      "    If you encounter any bugs, please report them to https://github.com/puppeteer/puppeteer/issues/new/choose.\u001b[0m\n",
      "\n"
     ]
    },
    {
     "name": "stdout",
     "output_type": "stream",
     "text": [
      "Condition: 0\n",
      "price: null\n",
      "Failed to click the button or expected changes did not occur.\n",
      "Value: NaN\n",
      "Value: NaN\n",
      "Value3: undefined\n",
      "Value: NaN\n",
      "Value: undefined\n",
      "Value: NaN\n",
      "Value: NaN\n",
      "Value: 1\n",
      "Value1: 1\n",
      "Value2: 1\n",
      "Value: NaN\n",
      "Value: NaN\n",
      "USB connections of different types: 0\n",
      "Total USB connections: 0\n"
     ]
    },
    {
     "name": "stderr",
     "output_type": "stream",
     "text": [
      "\u001b[1m\u001b[43m\u001b[30m\n",
      "  Puppeteer old Headless deprecation warning:\u001b[0m\u001b[33m\n",
      "    In the near feature `headless: true` will default to the new Headless mode\n",
      "    for Chrome instead of the old Headless implementation. For more\n",
      "    information, please see https://developer.chrome.com/articles/new-headless/.\n",
      "    Consider opting in early by passing `headless: \"new\"` to `puppeteer.launch()`\n",
      "    If you encounter any bugs, please report them to https://github.com/puppeteer/puppeteer/issues/new/choose.\u001b[0m\n",
      "\n"
     ]
    },
    {
     "name": "stdout",
     "output_type": "stream",
     "text": [
      "Condition: 0\n",
      "price: $949.99\n",
      "The button was clicked successfully.\n",
      "Value: 16GB\n",
      "Value: NaN\n",
      "Value3: undefined\n",
      "Value: 14.0\"\n",
      "Value: 2023\n",
      "Value: NaN\n",
      "Value: 512 GB\n",
      "Value: 0\n",
      "Value1: 1\n",
      "Value2: 1\n",
      "Value: NaN\n",
      "Value: NaN\n",
      "USB connections of different types: 0\n",
      "Total USB connections: 0\n"
     ]
    },
    {
     "name": "stderr",
     "output_type": "stream",
     "text": [
      "\u001b[1m\u001b[43m\u001b[30m\n",
      "  Puppeteer old Headless deprecation warning:\u001b[0m\u001b[33m\n",
      "    In the near feature `headless: true` will default to the new Headless mode\n",
      "    for Chrome instead of the old Headless implementation. For more\n",
      "    information, please see https://developer.chrome.com/articles/new-headless/.\n",
      "    Consider opting in early by passing `headless: \"new\"` to `puppeteer.launch()`\n",
      "    If you encounter any bugs, please report them to https://github.com/puppeteer/puppeteer/issues/new/choose.\u001b[0m\n",
      "\n"
     ]
    },
    {
     "name": "stdout",
     "output_type": "stream",
     "text": [
      "Condition: 0\n",
      "price: $1,049.99\n",
      "The button was clicked successfully.\n",
      "Value: 16GB\n",
      "Value: NaN\n",
      "Value3: undefined\n",
      "Value: 14.0\"\n",
      "Value: 2023\n",
      "Value: 1920 x 1080\n",
      "Value: NaN\n",
      "Value: 0\n",
      "Value1: 1\n",
      "Value2: 1\n",
      "Value: Workstation\n",
      "Value: NaN\n",
      "USB connections of different types: 0\n",
      "Total USB connections: 0\n"
     ]
    },
    {
     "name": "stderr",
     "output_type": "stream",
     "text": [
      "\u001b[1m\u001b[43m\u001b[30m\n",
      "  Puppeteer old Headless deprecation warning:\u001b[0m\u001b[33m\n",
      "    In the near feature `headless: true` will default to the new Headless mode\n",
      "    for Chrome instead of the old Headless implementation. For more\n",
      "    information, please see https://developer.chrome.com/articles/new-headless/.\n",
      "    Consider opting in early by passing `headless: \"new\"` to `puppeteer.launch()`\n",
      "    If you encounter any bugs, please report them to https://github.com/puppeteer/puppeteer/issues/new/choose.\u001b[0m\n",
      "\n"
     ]
    },
    {
     "name": "stdout",
     "output_type": "stream",
     "text": [
      "Condition: 0\n",
      "price: null\n",
      "Failed to click the button or expected changes did not occur.\n",
      "Value: NaN\n",
      "Value: NaN\n",
      "Value3: undefined\n",
      "Value: NaN\n",
      "Value: undefined\n",
      "Value: NaN\n",
      "Value: NaN\n",
      "Value: 1\n",
      "Value1: 1\n",
      "Value2: 1\n",
      "Value: NaN\n",
      "Value: NaN\n",
      "USB connections of different types: 0\n",
      "Total USB connections: 0\n"
     ]
    },
    {
     "name": "stderr",
     "output_type": "stream",
     "text": [
      "\u001b[1m\u001b[43m\u001b[30m\n",
      "  Puppeteer old Headless deprecation warning:\u001b[0m\u001b[33m\n",
      "    In the near feature `headless: true` will default to the new Headless mode\n",
      "    for Chrome instead of the old Headless implementation. For more\n",
      "    information, please see https://developer.chrome.com/articles/new-headless/.\n",
      "    Consider opting in early by passing `headless: \"new\"` to `puppeteer.launch()`\n",
      "    If you encounter any bugs, please report them to https://github.com/puppeteer/puppeteer/issues/new/choose.\u001b[0m\n",
      "\n"
     ]
    },
    {
     "name": "stdout",
     "output_type": "stream",
     "text": [
      "Condition: 0\n",
      "price: $1,699.00\n",
      "The button was clicked successfully.\n",
      "Value: NaN\n",
      "Value: 1260P (2.10GHz)\n",
      "Value3: undefined\n",
      "Value: 16.0\"\n",
      "Value: 2022\n",
      "Value: NaN\n",
      "Value: NaN\n",
      "Value: 1\n",
      "Value1: 1\n",
      "Value2: 1\n",
      "Value: NaN\n",
      "Value: 3.9700 lb\n",
      "USB connections of different types: 0\n",
      "Total USB connections: 0\n"
     ]
    },
    {
     "name": "stderr",
     "output_type": "stream",
     "text": [
      "\u001b[1m\u001b[43m\u001b[30m\n",
      "  Puppeteer old Headless deprecation warning:\u001b[0m\u001b[33m\n",
      "    In the near feature `headless: true` will default to the new Headless mode\n",
      "    for Chrome instead of the old Headless implementation. For more\n",
      "    information, please see https://developer.chrome.com/articles/new-headless/.\n",
      "    Consider opting in early by passing `headless: \"new\"` to `puppeteer.launch()`\n",
      "    If you encounter any bugs, please report them to https://github.com/puppeteer/puppeteer/issues/new/choose.\u001b[0m\n",
      "\n"
     ]
    },
    {
     "name": "stdout",
     "output_type": "stream",
     "text": [
      "Condition: 1\n",
      "price: $589.99\n",
      "The button was clicked successfully.\n",
      "Value: 16GB\n",
      "Value: 1135G7 (2.40GHz)\n",
      "Value3: undefined\n",
      "Value: 14.0\"\n",
      "Value: 2022\n",
      "Value: 1920 x 1080\n",
      "Value: 256 GB PCIe\n",
      "Value: 0\n",
      "Value1: 1\n",
      "Value2: 0\n",
      "Value: Mainstream\n",
      "Value: 2.98 lbs.\n",
      "USB connections of different types: 0\n",
      "Total USB connections: 0\n"
     ]
    },
    {
     "name": "stderr",
     "output_type": "stream",
     "text": [
      "\u001b[1m\u001b[43m\u001b[30m\n",
      "  Puppeteer old Headless deprecation warning:\u001b[0m\u001b[33m\n",
      "    In the near feature `headless: true` will default to the new Headless mode\n",
      "    for Chrome instead of the old Headless implementation. For more\n",
      "    information, please see https://developer.chrome.com/articles/new-headless/.\n",
      "    Consider opting in early by passing `headless: \"new\"` to `puppeteer.launch()`\n",
      "    If you encounter any bugs, please report them to https://github.com/puppeteer/puppeteer/issues/new/choose.\u001b[0m\n",
      "\n"
     ]
    },
    {
     "name": "stdout",
     "output_type": "stream",
     "text": [
      "Condition: 0\n",
      "price: $1,349.99\n",
      "The button was clicked successfully.\n",
      "Value: 32GB\n",
      "Value: NaN\n",
      "Value3: undefined\n",
      "Value: 16.0\"\n",
      "Value: 2023\n",
      "Value: NaN\n",
      "Value: 1 TB\n",
      "Value: 0\n",
      "Value1: 1\n",
      "Value2: 1\n",
      "Value: NaN\n",
      "Value: NaN\n",
      "USB connections of different types: 0\n",
      "Total USB connections: 0\n"
     ]
    },
    {
     "name": "stderr",
     "output_type": "stream",
     "text": [
      "\u001b[1m\u001b[43m\u001b[30m\n",
      "  Puppeteer old Headless deprecation warning:\u001b[0m\u001b[33m\n",
      "    In the near feature `headless: true` will default to the new Headless mode\n",
      "    for Chrome instead of the old Headless implementation. For more\n",
      "    information, please see https://developer.chrome.com/articles/new-headless/.\n",
      "    Consider opting in early by passing `headless: \"new\"` to `puppeteer.launch()`\n",
      "    If you encounter any bugs, please report them to https://github.com/puppeteer/puppeteer/issues/new/choose.\u001b[0m\n",
      "\n"
     ]
    },
    {
     "name": "stdout",
     "output_type": "stream",
     "text": [
      "Condition: 0\n",
      "price: $649.79\n",
      "The button was clicked successfully.\n",
      "Value: 16GB\n",
      "Value: 2.40GHz\n",
      "Value3: undefined\n",
      "Value: 15.6\"\n",
      "Value: 2022\n",
      "Value: 1920x1080\n",
      "Value: 256 GB\n",
      "Value: 0\n",
      "Value1: 1\n",
      "Value2: 1\n",
      "Value: Everyday Value\n",
      "Value: 3 - 3.9 lbs.\n",
      "USB connections of different types: 0\n",
      "Total USB connections: 0\n"
     ]
    },
    {
     "name": "stderr",
     "output_type": "stream",
     "text": [
      "\u001b[1m\u001b[43m\u001b[30m\n",
      "  Puppeteer old Headless deprecation warning:\u001b[0m\u001b[33m\n",
      "    In the near feature `headless: true` will default to the new Headless mode\n",
      "    for Chrome instead of the old Headless implementation. For more\n",
      "    information, please see https://developer.chrome.com/articles/new-headless/.\n",
      "    Consider opting in early by passing `headless: \"new\"` to `puppeteer.launch()`\n",
      "    If you encounter any bugs, please report them to https://github.com/puppeteer/puppeteer/issues/new/choose.\u001b[0m\n",
      "\n"
     ]
    },
    {
     "name": "stdout",
     "output_type": "stream",
     "text": [
      "Condition: 0\n",
      "price: null\n",
      "Failed to click the button or expected changes did not occur.\n",
      "Value: NaN\n",
      "Value: NaN\n",
      "Value3: undefined\n",
      "Value: NaN\n",
      "Value: undefined\n",
      "Value: NaN\n",
      "Value: NaN\n",
      "Value: 1\n",
      "Value1: 1\n",
      "Value2: 1\n",
      "Value: NaN\n",
      "Value: NaN\n",
      "USB connections of different types: 0\n",
      "Total USB connections: 0\n"
     ]
    },
    {
     "name": "stderr",
     "output_type": "stream",
     "text": [
      "\u001b[1m\u001b[43m\u001b[30m\n",
      "  Puppeteer old Headless deprecation warning:\u001b[0m\u001b[33m\n",
      "    In the near feature `headless: true` will default to the new Headless mode\n",
      "    for Chrome instead of the old Headless implementation. For more\n",
      "    information, please see https://developer.chrome.com/articles/new-headless/.\n",
      "    Consider opting in early by passing `headless: \"new\"` to `puppeteer.launch()`\n",
      "    If you encounter any bugs, please report them to https://github.com/puppeteer/puppeteer/issues/new/choose.\u001b[0m\n",
      "\n"
     ]
    },
    {
     "name": "stdout",
     "output_type": "stream",
     "text": [
      "Condition: 0\n",
      "price: null\n",
      "Failed to click the button or expected changes did not occur.\n",
      "Value: NaN\n",
      "Value: NaN\n",
      "Value3: undefined\n",
      "Value: NaN\n",
      "Value: undefined\n",
      "Value: NaN\n",
      "Value: NaN\n",
      "Value: 1\n",
      "Value1: 1\n",
      "Value2: 1\n",
      "Value: NaN\n",
      "Value: NaN\n",
      "USB connections of different types: 0\n",
      "Total USB connections: 0\n"
     ]
    },
    {
     "name": "stderr",
     "output_type": "stream",
     "text": [
      "\u001b[1m\u001b[43m\u001b[30m\n",
      "  Puppeteer old Headless deprecation warning:\u001b[0m\u001b[33m\n",
      "    In the near feature `headless: true` will default to the new Headless mode\n",
      "    for Chrome instead of the old Headless implementation. For more\n",
      "    information, please see https://developer.chrome.com/articles/new-headless/.\n",
      "    Consider opting in early by passing `headless: \"new\"` to `puppeteer.launch()`\n",
      "    If you encounter any bugs, please report them to https://github.com/puppeteer/puppeteer/issues/new/choose.\u001b[0m\n",
      "\n"
     ]
    },
    {
     "name": "stdout",
     "output_type": "stream",
     "text": [
      "Condition: 0\n",
      "price: $836.69\n",
      "The button was clicked successfully.\n",
      "Value: 8GB\n",
      "Value: 3.33GHz\n",
      "Value3: undefined\n",
      "Value: 15.6\"\n",
      "Value: 2022\n",
      "Value: 1920 x 1080\n",
      "Value: 256 GB\n",
      "Value: 1\n",
      "Value1: 1\n",
      "Value2: 0\n",
      "Value: Work / Business\n",
      "Value: 3 - 3.9 lbs.\n",
      "USB connections of different types: 0\n",
      "Total USB connections: 0\n"
     ]
    },
    {
     "name": "stderr",
     "output_type": "stream",
     "text": [
      "\u001b[1m\u001b[43m\u001b[30m\n",
      "  Puppeteer old Headless deprecation warning:\u001b[0m\u001b[33m\n",
      "    In the near feature `headless: true` will default to the new Headless mode\n",
      "    for Chrome instead of the old Headless implementation. For more\n",
      "    information, please see https://developer.chrome.com/articles/new-headless/.\n",
      "    Consider opting in early by passing `headless: \"new\"` to `puppeteer.launch()`\n",
      "    If you encounter any bugs, please report them to https://github.com/puppeteer/puppeteer/issues/new/choose.\u001b[0m\n",
      "\n"
     ]
    },
    {
     "name": "stdout",
     "output_type": "stream",
     "text": [
      "Condition: 0\n",
      "price: $665.99\n",
      "The button was clicked successfully.\n",
      "Value: 8GB\n",
      "Value: 2.40GHz\n",
      "Value3: undefined\n",
      "Value: 15.6\"\n",
      "Value: 2022\n",
      "Value: 1920x1080\n",
      "Value: 512 GB\n",
      "Value: 0\n",
      "Value1: 1\n",
      "Value2: 1\n",
      "Value: Everyday Value\n",
      "Value: 3 - 3.9 lbs.\n",
      "USB connections of different types: 0\n",
      "Total USB connections: 0\n"
     ]
    },
    {
     "name": "stderr",
     "output_type": "stream",
     "text": [
      "\u001b[1m\u001b[43m\u001b[30m\n",
      "  Puppeteer old Headless deprecation warning:\u001b[0m\u001b[33m\n",
      "    In the near feature `headless: true` will default to the new Headless mode\n",
      "    for Chrome instead of the old Headless implementation. For more\n",
      "    information, please see https://developer.chrome.com/articles/new-headless/.\n",
      "    Consider opting in early by passing `headless: \"new\"` to `puppeteer.launch()`\n",
      "    If you encounter any bugs, please report them to https://github.com/puppeteer/puppeteer/issues/new/choose.\u001b[0m\n",
      "\n"
     ]
    },
    {
     "name": "stdout",
     "output_type": "stream",
     "text": [
      "Condition: 0\n",
      "price: null\n",
      "Failed to click the button or expected changes did not occur.\n",
      "Value: NaN\n",
      "Value: NaN\n",
      "Value3: undefined\n",
      "Value: NaN\n",
      "Value: undefined\n",
      "Value: NaN\n",
      "Value: NaN\n",
      "Value: 1\n",
      "Value1: 1\n",
      "Value2: 1\n",
      "Value: NaN\n",
      "Value: NaN\n",
      "USB connections of different types: 0\n",
      "Total USB connections: 0\n"
     ]
    },
    {
     "name": "stderr",
     "output_type": "stream",
     "text": [
      "\u001b[1m\u001b[43m\u001b[30m\n",
      "  Puppeteer old Headless deprecation warning:\u001b[0m\u001b[33m\n",
      "    In the near feature `headless: true` will default to the new Headless mode\n",
      "    for Chrome instead of the old Headless implementation. For more\n",
      "    information, please see https://developer.chrome.com/articles/new-headless/.\n",
      "    Consider opting in early by passing `headless: \"new\"` to `puppeteer.launch()`\n",
      "    If you encounter any bugs, please report them to https://github.com/puppeteer/puppeteer/issues/new/choose.\u001b[0m\n",
      "\n"
     ]
    },
    {
     "name": "stdout",
     "output_type": "stream",
     "text": [
      "Condition: 0\n",
      "price: $603.99\n",
      "The button was clicked successfully.\n",
      "Value: 8GB\n",
      "Value: 3.00GHz\n",
      "Value3: undefined\n",
      "Value: 17.3\"\n",
      "Value: 2022\n",
      "Value: 1600 x 900\n",
      "Value: 256 GB\n",
      "Value: 0\n",
      "Value1: 1\n",
      "Value2: 0\n",
      "Value: Work / Business\n",
      "Value: 5 - 5.9 lbs.\n",
      "USB connections of different types: 0\n",
      "Total USB connections: 0\n"
     ]
    },
    {
     "name": "stderr",
     "output_type": "stream",
     "text": [
      "\u001b[1m\u001b[43m\u001b[30m\n",
      "  Puppeteer old Headless deprecation warning:\u001b[0m\u001b[33m\n",
      "    In the near feature `headless: true` will default to the new Headless mode\n",
      "    for Chrome instead of the old Headless implementation. For more\n",
      "    information, please see https://developer.chrome.com/articles/new-headless/.\n",
      "    Consider opting in early by passing `headless: \"new\"` to `puppeteer.launch()`\n",
      "    If you encounter any bugs, please report them to https://github.com/puppeteer/puppeteer/issues/new/choose.\u001b[0m\n",
      "\n"
     ]
    },
    {
     "name": "stdout",
     "output_type": "stream",
     "text": [
      "Condition: 0\n",
      "price: $699.79\n",
      "The button was clicked successfully.\n",
      "Value: 16GB\n",
      "Value: 2.00GHz\n",
      "Value3: undefined\n",
      "Value: 17.3\"\n",
      "Value: 2022\n",
      "Value: 1920 x 1080\n",
      "Value: 512 GB\n",
      "Value: 0\n",
      "Value1: 1\n",
      "Value2: 0\n",
      "Value: Work / Business\n",
      "Value: 4 - 4.9 lbs.\n",
      "USB connections of different types: 0\n",
      "Total USB connections: 0\n"
     ]
    },
    {
     "name": "stderr",
     "output_type": "stream",
     "text": [
      "\u001b[1m\u001b[43m\u001b[30m\n",
      "  Puppeteer old Headless deprecation warning:\u001b[0m\u001b[33m\n",
      "    In the near feature `headless: true` will default to the new Headless mode\n",
      "    for Chrome instead of the old Headless implementation. For more\n",
      "    information, please see https://developer.chrome.com/articles/new-headless/.\n",
      "    Consider opting in early by passing `headless: \"new\"` to `puppeteer.launch()`\n",
      "    If you encounter any bugs, please report them to https://github.com/puppeteer/puppeteer/issues/new/choose.\u001b[0m\n",
      "\n"
     ]
    },
    {
     "name": "stdout",
     "output_type": "stream",
     "text": [
      "Condition: 0\n",
      "price: $779.99\n",
      "The button was clicked successfully.\n",
      "Value: 16GB\n",
      "Value: 2.40GHz\n",
      "Value3: undefined\n",
      "Value: 15.6\"\n",
      "Value: 2022\n",
      "Value: 1920x1080\n",
      "Value: 1 TB\n",
      "Value: 0\n",
      "Value1: 1\n",
      "Value2: 1\n",
      "Value: Everyday Value\n",
      "Value: 3 - 3.9 lbs.\n",
      "USB connections of different types: 0\n",
      "Total USB connections: 0\n"
     ]
    },
    {
     "name": "stderr",
     "output_type": "stream",
     "text": [
      "\u001b[1m\u001b[43m\u001b[30m\n",
      "  Puppeteer old Headless deprecation warning:\u001b[0m\u001b[33m\n",
      "    In the near feature `headless: true` will default to the new Headless mode\n",
      "    for Chrome instead of the old Headless implementation. For more\n",
      "    information, please see https://developer.chrome.com/articles/new-headless/.\n",
      "    Consider opting in early by passing `headless: \"new\"` to `puppeteer.launch()`\n",
      "    If you encounter any bugs, please report them to https://github.com/puppeteer/puppeteer/issues/new/choose.\u001b[0m\n",
      "\n"
     ]
    },
    {
     "name": "stdout",
     "output_type": "stream",
     "text": [
      "Condition: 0\n",
      "price: null\n",
      "Failed to click the button or expected changes did not occur.\n",
      "Value: NaN\n",
      "Value: NaN\n",
      "Value3: undefined\n",
      "Value: NaN\n",
      "Value: undefined\n",
      "Value: NaN\n",
      "Value: NaN\n",
      "Value: 1\n",
      "Value1: 1\n",
      "Value2: 1\n",
      "Value: NaN\n",
      "Value: NaN\n",
      "USB connections of different types: 0\n",
      "Total USB connections: 0\n"
     ]
    },
    {
     "name": "stderr",
     "output_type": "stream",
     "text": [
      "\u001b[1m\u001b[43m\u001b[30m\n",
      "  Puppeteer old Headless deprecation warning:\u001b[0m\u001b[33m\n",
      "    In the near feature `headless: true` will default to the new Headless mode\n",
      "    for Chrome instead of the old Headless implementation. For more\n",
      "    information, please see https://developer.chrome.com/articles/new-headless/.\n",
      "    Consider opting in early by passing `headless: \"new\"` to `puppeteer.launch()`\n",
      "    If you encounter any bugs, please report them to https://github.com/puppeteer/puppeteer/issues/new/choose.\u001b[0m\n",
      "\n"
     ]
    },
    {
     "name": "stdout",
     "output_type": "stream",
     "text": [
      "Condition: 0\n",
      "price: $1,799.99\n",
      "The button was clicked successfully.\n",
      "Value: 16GB\n",
      "Value: 11800H (2.30GHz)\n",
      "Value3: 8\n",
      "Value: 15.6\"\n",
      "Value: 2022\n",
      "Value: 1920 x 1080\n",
      "Value: 512 GB\n",
      "Value: 0\n",
      "Value1: 1\n",
      "Value2: 0\n",
      "Value: NaN\n",
      "Value: NaN\n",
      "USB connections of different types: 0\n",
      "Total USB connections: 0\n"
     ]
    },
    {
     "name": "stderr",
     "output_type": "stream",
     "text": [
      "\u001b[1m\u001b[43m\u001b[30m\n",
      "  Puppeteer old Headless deprecation warning:\u001b[0m\u001b[33m\n",
      "    In the near feature `headless: true` will default to the new Headless mode\n",
      "    for Chrome instead of the old Headless implementation. For more\n",
      "    information, please see https://developer.chrome.com/articles/new-headless/.\n",
      "    Consider opting in early by passing `headless: \"new\"` to `puppeteer.launch()`\n",
      "    If you encounter any bugs, please report them to https://github.com/puppeteer/puppeteer/issues/new/choose.\u001b[0m\n",
      "\n"
     ]
    },
    {
     "name": "stdout",
     "output_type": "stream",
     "text": [
      "Condition: 0\n",
      "price: null\n",
      "Failed to click the button or expected changes did not occur.\n",
      "Value: NaN\n",
      "Value: NaN\n",
      "Value3: undefined\n",
      "Value: NaN\n",
      "Value: undefined\n",
      "Value: NaN\n",
      "Value: NaN\n",
      "Value: 1\n",
      "Value1: 1\n",
      "Value2: 1\n",
      "Value: NaN\n",
      "Value: NaN\n",
      "USB connections of different types: 0\n",
      "Total USB connections: 0\n"
     ]
    },
    {
     "name": "stderr",
     "output_type": "stream",
     "text": [
      "\u001b[1m\u001b[43m\u001b[30m\n",
      "  Puppeteer old Headless deprecation warning:\u001b[0m\u001b[33m\n",
      "    In the near feature `headless: true` will default to the new Headless mode\n",
      "    for Chrome instead of the old Headless implementation. For more\n",
      "    information, please see https://developer.chrome.com/articles/new-headless/.\n",
      "    Consider opting in early by passing `headless: \"new\"` to `puppeteer.launch()`\n",
      "    If you encounter any bugs, please report them to https://github.com/puppeteer/puppeteer/issues/new/choose.\u001b[0m\n",
      "\n"
     ]
    },
    {
     "name": "stdout",
     "output_type": "stream",
     "text": [
      "Condition: 0\n",
      "price: null\n",
      "Failed to click the button or expected changes did not occur.\n",
      "Value: NaN\n",
      "Value: NaN\n",
      "Value3: undefined\n",
      "Value: NaN\n",
      "Value: undefined\n",
      "Value: NaN\n",
      "Value: NaN\n",
      "Value: 1\n",
      "Value1: 1\n",
      "Value2: 1\n",
      "Value: NaN\n",
      "Value: NaN\n",
      "USB connections of different types: 0\n",
      "Total USB connections: 0\n"
     ]
    },
    {
     "name": "stderr",
     "output_type": "stream",
     "text": [
      "\u001b[1m\u001b[43m\u001b[30m\n",
      "  Puppeteer old Headless deprecation warning:\u001b[0m\u001b[33m\n",
      "    In the near feature `headless: true` will default to the new Headless mode\n",
      "    for Chrome instead of the old Headless implementation. For more\n",
      "    information, please see https://developer.chrome.com/articles/new-headless/.\n",
      "    Consider opting in early by passing `headless: \"new\"` to `puppeteer.launch()`\n",
      "    If you encounter any bugs, please report them to https://github.com/puppeteer/puppeteer/issues/new/choose.\u001b[0m\n",
      "\n"
     ]
    },
    {
     "name": "stdout",
     "output_type": "stream",
     "text": [
      "Condition: 1\n",
      "price: $1,799.99\n",
      "The button was clicked successfully.\n",
      "Value: 64GB\n",
      "Value: 3.5GHz\n",
      "Value3: undefined\n",
      "Value: 17.3\"\n",
      "Value: 2022\n",
      "Value: 1920 x 1080\n",
      "Value: 1 TB\n",
      "Value: 0\n",
      "Value1: 1\n",
      "Value2: 0\n",
      "Value: Gaming\n",
      "Value: 6 - 6.9 lbs.\n",
      "USB connections of different types: 0\n",
      "Total USB connections: 0\n"
     ]
    },
    {
     "name": "stderr",
     "output_type": "stream",
     "text": [
      "\u001b[1m\u001b[43m\u001b[30m\n",
      "  Puppeteer old Headless deprecation warning:\u001b[0m\u001b[33m\n",
      "    In the near feature `headless: true` will default to the new Headless mode\n",
      "    for Chrome instead of the old Headless implementation. For more\n",
      "    information, please see https://developer.chrome.com/articles/new-headless/.\n",
      "    Consider opting in early by passing `headless: \"new\"` to `puppeteer.launch()`\n",
      "    If you encounter any bugs, please report them to https://github.com/puppeteer/puppeteer/issues/new/choose.\u001b[0m\n",
      "\n"
     ]
    },
    {
     "name": "stdout",
     "output_type": "stream",
     "text": [
      "Condition: 0\n",
      "price: $1,499.99\n",
      "The button was clicked successfully.\n",
      "Value: 32GB\n",
      "Value: NaN\n",
      "Value3: undefined\n",
      "Value: 14.0\"\n",
      "Value: 2022\n",
      "Value: 1920 x 1080\n",
      "Value: NaN\n",
      "Value: 1\n",
      "Value1: 1\n",
      "Value2: 1\n",
      "Value: NaN\n",
      "Value: NaN\n",
      "USB connections of different types: 0\n",
      "Total USB connections: 0\n"
     ]
    },
    {
     "name": "stderr",
     "output_type": "stream",
     "text": [
      "\u001b[1m\u001b[43m\u001b[30m\n",
      "  Puppeteer old Headless deprecation warning:\u001b[0m\u001b[33m\n",
      "    In the near feature `headless: true` will default to the new Headless mode\n",
      "    for Chrome instead of the old Headless implementation. For more\n",
      "    information, please see https://developer.chrome.com/articles/new-headless/.\n",
      "    Consider opting in early by passing `headless: \"new\"` to `puppeteer.launch()`\n",
      "    If you encounter any bugs, please report them to https://github.com/puppeteer/puppeteer/issues/new/choose.\u001b[0m\n",
      "\n"
     ]
    },
    {
     "name": "stdout",
     "output_type": "stream",
     "text": [
      "Condition: 0\n",
      "price: null\n",
      "Failed to click the button or expected changes did not occur.\n",
      "Value: NaN\n",
      "Value: NaN\n",
      "Value3: undefined\n",
      "Value: NaN\n",
      "Value: undefined\n",
      "Value: NaN\n",
      "Value: NaN\n",
      "Value: 1\n",
      "Value1: 1\n",
      "Value2: 1\n",
      "Value: NaN\n",
      "Value: NaN\n",
      "USB connections of different types: 0\n",
      "Total USB connections: 0\n"
     ]
    },
    {
     "name": "stderr",
     "output_type": "stream",
     "text": [
      "\u001b[1m\u001b[43m\u001b[30m\n",
      "  Puppeteer old Headless deprecation warning:\u001b[0m\u001b[33m\n",
      "    In the near feature `headless: true` will default to the new Headless mode\n",
      "    for Chrome instead of the old Headless implementation. For more\n",
      "    information, please see https://developer.chrome.com/articles/new-headless/.\n",
      "    Consider opting in early by passing `headless: \"new\"` to `puppeteer.launch()`\n",
      "    If you encounter any bugs, please report them to https://github.com/puppeteer/puppeteer/issues/new/choose.\u001b[0m\n",
      "\n"
     ]
    },
    {
     "name": "stdout",
     "output_type": "stream",
     "text": [
      "Condition: 0\n",
      "price: null\n",
      "Failed to click the button or expected changes did not occur.\n",
      "Value: NaN\n",
      "Value: NaN\n",
      "Value3: undefined\n",
      "Value: NaN\n",
      "Value: undefined\n",
      "Value: NaN\n",
      "Value: NaN\n",
      "Value: 1\n",
      "Value1: 1\n",
      "Value2: 1\n",
      "Value: NaN\n",
      "Value: NaN\n",
      "USB connections of different types: 0\n",
      "Total USB connections: 0\n"
     ]
    },
    {
     "name": "stderr",
     "output_type": "stream",
     "text": [
      "\u001b[1m\u001b[43m\u001b[30m\n",
      "  Puppeteer old Headless deprecation warning:\u001b[0m\u001b[33m\n",
      "    In the near feature `headless: true` will default to the new Headless mode\n",
      "    for Chrome instead of the old Headless implementation. For more\n",
      "    information, please see https://developer.chrome.com/articles/new-headless/.\n",
      "    Consider opting in early by passing `headless: \"new\"` to `puppeteer.launch()`\n",
      "    If you encounter any bugs, please report them to https://github.com/puppeteer/puppeteer/issues/new/choose.\u001b[0m\n",
      "\n"
     ]
    },
    {
     "name": "stdout",
     "output_type": "stream",
     "text": [
      "Condition: 0\n",
      "price: null\n",
      "Failed to click the button or expected changes did not occur.\n",
      "Value: NaN\n",
      "Value: NaN\n",
      "Value3: undefined\n",
      "Value: NaN\n",
      "Value: undefined\n",
      "Value: NaN\n",
      "Value: NaN\n",
      "Value: 1\n",
      "Value1: 1\n",
      "Value2: 1\n",
      "Value: NaN\n",
      "Value: NaN\n",
      "USB connections of different types: 0\n",
      "Total USB connections: 0\n"
     ]
    },
    {
     "name": "stderr",
     "output_type": "stream",
     "text": [
      "\u001b[1m\u001b[43m\u001b[30m\n",
      "  Puppeteer old Headless deprecation warning:\u001b[0m\u001b[33m\n",
      "    In the near feature `headless: true` will default to the new Headless mode\n",
      "    for Chrome instead of the old Headless implementation. For more\n",
      "    information, please see https://developer.chrome.com/articles/new-headless/.\n",
      "    Consider opting in early by passing `headless: \"new\"` to `puppeteer.launch()`\n",
      "    If you encounter any bugs, please report them to https://github.com/puppeteer/puppeteer/issues/new/choose.\u001b[0m\n",
      "\n"
     ]
    },
    {
     "name": "stdout",
     "output_type": "stream",
     "text": [
      "Condition: 0\n",
      "price: $449.00\n",
      "The button was clicked successfully.\n",
      "Value: 8GB\n",
      "Value: 3.33GHz\n",
      "Value3: undefined\n",
      "Value: 15.6\"\n",
      "Value: 2023\n",
      "Value: 1920 x 1080\n",
      "Value: 512 GB\n",
      "Value: 0\n",
      "Value1: 1\n",
      "Value2: 0\n",
      "Value: Work / Business\n",
      "Value: 3 - 3.9 lbs.\n",
      "USB connections of different types: 0\n",
      "Total USB connections: 0\n"
     ]
    },
    {
     "name": "stderr",
     "output_type": "stream",
     "text": [
      "\u001b[1m\u001b[43m\u001b[30m\n",
      "  Puppeteer old Headless deprecation warning:\u001b[0m\u001b[33m\n",
      "    In the near feature `headless: true` will default to the new Headless mode\n",
      "    for Chrome instead of the old Headless implementation. For more\n",
      "    information, please see https://developer.chrome.com/articles/new-headless/.\n",
      "    Consider opting in early by passing `headless: \"new\"` to `puppeteer.launch()`\n",
      "    If you encounter any bugs, please report them to https://github.com/puppeteer/puppeteer/issues/new/choose.\u001b[0m\n",
      "\n"
     ]
    },
    {
     "name": "stdout",
     "output_type": "stream",
     "text": [
      "Condition: 1\n",
      "price: $1,849.99\n",
      "The button was clicked successfully.\n",
      "Value: 32GB\n",
      "Value: 3.5GHz\n",
      "Value3: undefined\n",
      "Value: 17.3\"\n",
      "Value: 2022\n",
      "Value: 1920 x 1080\n",
      "Value: 2 TB\n",
      "Value: 0\n",
      "Value1: 1\n",
      "Value2: 0\n",
      "Value: Gaming\n",
      "Value: 6 - 6.9 lbs.\n",
      "USB connections of different types: 0\n",
      "Total USB connections: 0\n"
     ]
    },
    {
     "name": "stderr",
     "output_type": "stream",
     "text": [
      "\u001b[1m\u001b[43m\u001b[30m\n",
      "  Puppeteer old Headless deprecation warning:\u001b[0m\u001b[33m\n",
      "    In the near feature `headless: true` will default to the new Headless mode\n",
      "    for Chrome instead of the old Headless implementation. For more\n",
      "    information, please see https://developer.chrome.com/articles/new-headless/.\n",
      "    Consider opting in early by passing `headless: \"new\"` to `puppeteer.launch()`\n",
      "    If you encounter any bugs, please report them to https://github.com/puppeteer/puppeteer/issues/new/choose.\u001b[0m\n",
      "\n"
     ]
    },
    {
     "name": "stdout",
     "output_type": "stream",
     "text": [
      "Condition: 1\n",
      "price: $1,384.39\n",
      "The button was clicked successfully.\n",
      "Value: 8GB\n",
      "Value: 11400H (2.70GHz)\n",
      "Value3: 6\n",
      "Value: 15.6\"\n",
      "Value: 2023\n",
      "Value: 1920 x 1080\n",
      "Value: 512 GB\n",
      "Value: 0\n",
      "Value1: 1\n",
      "Value2: 1\n",
      "Value: NaN\n",
      "Value: NaN\n",
      "USB connections of different types: 0\n",
      "Total USB connections: 0\n"
     ]
    },
    {
     "name": "stderr",
     "output_type": "stream",
     "text": [
      "\u001b[1m\u001b[43m\u001b[30m\n",
      "  Puppeteer old Headless deprecation warning:\u001b[0m\u001b[33m\n",
      "    In the near feature `headless: true` will default to the new Headless mode\n",
      "    for Chrome instead of the old Headless implementation. For more\n",
      "    information, please see https://developer.chrome.com/articles/new-headless/.\n",
      "    Consider opting in early by passing `headless: \"new\"` to `puppeteer.launch()`\n",
      "    If you encounter any bugs, please report them to https://github.com/puppeteer/puppeteer/issues/new/choose.\u001b[0m\n",
      "\n"
     ]
    },
    {
     "name": "stdout",
     "output_type": "stream",
     "text": [
      "Condition: 0\n",
      "price: $699.79\n",
      "The button was clicked successfully.\n",
      "Value: 8GB\n",
      "Value: 5625U (2.30GHz)\n",
      "Value3: undefined\n",
      "Value: 15.0\"\n",
      "Value: 2022\n",
      "Value: NaN\n",
      "Value: 256 GB\n",
      "Value: 1\n",
      "Value1: 1\n",
      "Value2: 1\n",
      "Value: Everyday Value\n",
      "Value: NaN\n",
      "USB connections of different types: 0\n",
      "Total USB connections: 0\n"
     ]
    },
    {
     "name": "stderr",
     "output_type": "stream",
     "text": [
      "\u001b[1m\u001b[43m\u001b[30m\n",
      "  Puppeteer old Headless deprecation warning:\u001b[0m\u001b[33m\n",
      "    In the near feature `headless: true` will default to the new Headless mode\n",
      "    for Chrome instead of the old Headless implementation. For more\n",
      "    information, please see https://developer.chrome.com/articles/new-headless/.\n",
      "    Consider opting in early by passing `headless: \"new\"` to `puppeteer.launch()`\n",
      "    If you encounter any bugs, please report them to https://github.com/puppeteer/puppeteer/issues/new/choose.\u001b[0m\n",
      "\n"
     ]
    },
    {
     "name": "stdout",
     "output_type": "stream",
     "text": [
      "Condition: 0\n",
      "price: $389.00\n",
      "The button was clicked successfully.\n",
      "Value: 8GB\n",
      "Value: 1.10GHz\n",
      "Value3: undefined\n",
      "Value: 11.6\"\n",
      "Value: 2023\n",
      "Value: 1366 x 768\n",
      "Value: 128 GB\n",
      "Value: 1\n",
      "Value1: 1\n",
      "Value2: 0\n",
      "Value: Work / Business\n",
      "Value: 3 - 3.9 lbs.\n",
      "USB connections of different types: 0\n",
      "Total USB connections: 0\n"
     ]
    },
    {
     "name": "stderr",
     "output_type": "stream",
     "text": [
      "\u001b[1m\u001b[43m\u001b[30m\n",
      "  Puppeteer old Headless deprecation warning:\u001b[0m\u001b[33m\n",
      "    In the near feature `headless: true` will default to the new Headless mode\n",
      "    for Chrome instead of the old Headless implementation. For more\n",
      "    information, please see https://developer.chrome.com/articles/new-headless/.\n",
      "    Consider opting in early by passing `headless: \"new\"` to `puppeteer.launch()`\n",
      "    If you encounter any bugs, please report them to https://github.com/puppeteer/puppeteer/issues/new/choose.\u001b[0m\n",
      "\n"
     ]
    },
    {
     "name": "stdout",
     "output_type": "stream",
     "text": [
      "Condition: 0\n",
      "price: null\n",
      "Failed to click the button or expected changes did not occur.\n",
      "Value: NaN\n",
      "Value: NaN\n",
      "Value3: undefined\n",
      "Value: NaN\n",
      "Value: undefined\n",
      "Value: NaN\n",
      "Value: NaN\n",
      "Value: 1\n",
      "Value1: 1\n",
      "Value2: 1\n",
      "Value: NaN\n",
      "Value: NaN\n",
      "USB connections of different types: 0\n",
      "Total USB connections: 0\n"
     ]
    },
    {
     "name": "stderr",
     "output_type": "stream",
     "text": [
      "\u001b[1m\u001b[43m\u001b[30m\n",
      "  Puppeteer old Headless deprecation warning:\u001b[0m\u001b[33m\n",
      "    In the near feature `headless: true` will default to the new Headless mode\n",
      "    for Chrome instead of the old Headless implementation. For more\n",
      "    information, please see https://developer.chrome.com/articles/new-headless/.\n",
      "    Consider opting in early by passing `headless: \"new\"` to `puppeteer.launch()`\n",
      "    If you encounter any bugs, please report them to https://github.com/puppeteer/puppeteer/issues/new/choose.\u001b[0m\n",
      "\n"
     ]
    },
    {
     "name": "stdout",
     "output_type": "stream",
     "text": [
      "Condition: 1\n",
      "price: $1,049.00\n",
      "The button was clicked successfully.\n",
      "Value: 40GB\n",
      "Value: 2.30GHz\n",
      "Value3: undefined\n",
      "Value: 17.3\"\n",
      "Value: 2023\n",
      "Value: 1920 x 1080\n",
      "Value: 2 TB\n",
      "Value: 0\n",
      "Value1: 1\n",
      "Value2: 0\n",
      "Value: Work / Business\n",
      "Value: 4 - 4.9 lbs.\n",
      "USB connections of different types: 0\n",
      "Total USB connections: 0\n"
     ]
    },
    {
     "name": "stderr",
     "output_type": "stream",
     "text": [
      "\u001b[1m\u001b[43m\u001b[30m\n",
      "  Puppeteer old Headless deprecation warning:\u001b[0m\u001b[33m\n",
      "    In the near feature `headless: true` will default to the new Headless mode\n",
      "    for Chrome instead of the old Headless implementation. For more\n",
      "    information, please see https://developer.chrome.com/articles/new-headless/.\n",
      "    Consider opting in early by passing `headless: \"new\"` to `puppeteer.launch()`\n",
      "    If you encounter any bugs, please report them to https://github.com/puppeteer/puppeteer/issues/new/choose.\u001b[0m\n",
      "\n"
     ]
    },
    {
     "name": "stdout",
     "output_type": "stream",
     "text": [
      "Condition: 0\n",
      "price: $209.00\n",
      "The button was clicked successfully.\n",
      "Value: 4GB\n",
      "Value: 1.10GHz\n",
      "Value3: undefined\n",
      "Value: 11.6\"\n",
      "Value: 2022\n",
      "Value: 1366 x 768\n",
      "Value: 64 GB\n",
      "Value: 0\n",
      "Value1: 1\n",
      "Value2: 0\n",
      "Value: Work / Business\n",
      "Value: 2 - 2.9 lbs.\n",
      "USB connections of different types: 0\n",
      "Total USB connections: 0\n"
     ]
    },
    {
     "name": "stderr",
     "output_type": "stream",
     "text": [
      "\u001b[1m\u001b[43m\u001b[30m\n",
      "  Puppeteer old Headless deprecation warning:\u001b[0m\u001b[33m\n",
      "    In the near feature `headless: true` will default to the new Headless mode\n",
      "    for Chrome instead of the old Headless implementation. For more\n",
      "    information, please see https://developer.chrome.com/articles/new-headless/.\n",
      "    Consider opting in early by passing `headless: \"new\"` to `puppeteer.launch()`\n",
      "    If you encounter any bugs, please report them to https://github.com/puppeteer/puppeteer/issues/new/choose.\u001b[0m\n",
      "\n"
     ]
    },
    {
     "name": "stdout",
     "output_type": "stream",
     "text": [
      "Condition: 0\n",
      "price: null\n",
      "Failed to click the button or expected changes did not occur.\n",
      "Value: NaN\n",
      "Value: NaN\n",
      "Value3: undefined\n",
      "Value: NaN\n",
      "Value: undefined\n",
      "Value: NaN\n",
      "Value: NaN\n",
      "Value: 1\n",
      "Value1: 1\n",
      "Value2: 1\n",
      "Value: NaN\n",
      "Value: NaN\n",
      "USB connections of different types: 0\n",
      "Total USB connections: 0\n"
     ]
    },
    {
     "name": "stderr",
     "output_type": "stream",
     "text": [
      "\u001b[1m\u001b[43m\u001b[30m\n",
      "  Puppeteer old Headless deprecation warning:\u001b[0m\u001b[33m\n",
      "    In the near feature `headless: true` will default to the new Headless mode\n",
      "    for Chrome instead of the old Headless implementation. For more\n",
      "    information, please see https://developer.chrome.com/articles/new-headless/.\n",
      "    Consider opting in early by passing `headless: \"new\"` to `puppeteer.launch()`\n",
      "    If you encounter any bugs, please report them to https://github.com/puppeteer/puppeteer/issues/new/choose.\u001b[0m\n",
      "\n"
     ]
    },
    {
     "name": "stdout",
     "output_type": "stream",
     "text": [
      "Condition: 0\n",
      "price: null\n",
      "Failed to click the button or expected changes did not occur.\n",
      "Value: NaN\n",
      "Value: NaN\n",
      "Value3: undefined\n",
      "Value: NaN\n",
      "Value: undefined\n",
      "Value: NaN\n",
      "Value: NaN\n",
      "Value: 1\n",
      "Value1: 1\n",
      "Value2: 1\n",
      "Value: NaN\n",
      "Value: NaN\n",
      "USB connections of different types: 0\n",
      "Total USB connections: 0\n"
     ]
    },
    {
     "name": "stderr",
     "output_type": "stream",
     "text": [
      "\u001b[1m\u001b[43m\u001b[30m\n",
      "  Puppeteer old Headless deprecation warning:\u001b[0m\u001b[33m\n",
      "    In the near feature `headless: true` will default to the new Headless mode\n",
      "    for Chrome instead of the old Headless implementation. For more\n",
      "    information, please see https://developer.chrome.com/articles/new-headless/.\n",
      "    Consider opting in early by passing `headless: \"new\"` to `puppeteer.launch()`\n",
      "    If you encounter any bugs, please report them to https://github.com/puppeteer/puppeteer/issues/new/choose.\u001b[0m\n",
      "\n",
      "TimeoutError: Navigation timeout of 30000 ms exceeded\n",
      "    at LifecycleWatcher._LifecycleWatcher_createTimeoutPromise (C:\\Users\\nor29\\node_modules\\puppeteer\\node_modules\\puppeteer-core\\lib\\cjs\\puppeteer\\common\\LifecycleWatcher.js:162:12)\n",
      "An error occurred: TimeoutError: Navigation timeout of 30000 ms exceeded\n",
      "    at LifecycleWatcher._LifecycleWatcher_createTimeoutPromise (C:\\Users\\nor29\\node_modules\\puppeteer\\node_modules\\puppeteer-core\\lib\\cjs\\puppeteer\\common\\LifecycleWatcher.js:162:12)\n"
     ]
    }
   ],
   "source": [
    "async function scrapePrices() {\n",
    "  try {\n",
    "    const urls = await run();\n",
    "    console.log(urls);\n",
    "    const laptopsData = [];\n",
    "\n",
    "    const browser = await puppeteer.launch();\n",
    "    const page = await browser.newPage();\n",
    "    let loopCount = 0;\n",
    "    for (const [index, url] of urls.entries()) {\n",
    "      loopCount++; // Increment the loop count\n",
    "      console.log(`Loop count: ${loopCount}`);\n",
    "      let retryCount = 0;\n",
    "      while (retryCount < 5) {\n",
    "        try {\n",
    "          await page.goto(url);\n",
    "          await page.waitForSelector('.product-view-brand.has-brand-store .logo', { timeout: 5000 });\n",
    "\n",
    "          const condition = await page.evaluate(() => {\n",
    "            const conditionElement = document.querySelector('.product-offer .link-more');\n",
    "            if (conditionElement) {\n",
    "              const conditionText = conditionElement.innerText;\n",
    "              if (conditionText.toLowerCase().includes('new')) {\n",
    "                return 1;\n",
    "              }\n",
    "            }\n",
    "            return 0;\n",
    "          });\n",
    "\n",
    "          console.log(`Condition: ${condition}`);\n",
    "\n",
    "          const brand = await page.evaluate(() => {\n",
    "            const brandElement = document.querySelector('.product-view-brand.has-brand-store .logo');\n",
    "            if (brandElement) {\n",
    "              return brandElement.getAttribute('alt');\n",
    "            }\n",
    "            return null;\n",
    "          });\n",
    "\n",
    "          const price = await page.evaluate(() => {\n",
    "            const priceElement = document.querySelector('.product-price .price-current');\n",
    "            if (priceElement) {\n",
    "              const priceText = priceElement.innerText;\n",
    "              return priceText;\n",
    "            }\n",
    "            return null;\n",
    "          });\n",
    "\n",
    "          console.log(`Price: ${price}`);\n",
    "\n",
    "          const isButtonClicked = await page.evaluate(() => {\n",
    "            const button = document.querySelector('.tab-nav.active');\n",
    "            if (button) {\n",
    "              button.click();\n",
    "              return true;\n",
    "            }\n",
    "            return false;\n",
    "          });\n",
    "\n",
    "          if (isButtonClicked) {\n",
    "            console.log('The button was clicked successfully.', url);\n",
    "            await wait(5000);\n",
    "          } else {\n",
    "            console.log('Failed to click the button or expected changes did not occur for URL:', url);\n",
    "          }\n",
    "\n",
    "          const Memory = await searchTableValue(page, 'Memory', 'Memory');\n",
    "          console.log(`Value: ${Memory}`);\n",
    "\n",
    "          const cpu_speed = await searchTableValue(page, 'CPU Speed', 'CPU');\n",
    "          console.log(`Value: ${cpu_speed}`);\n",
    "\n",
    "          const Number_of_Cores = await searchTableValue(page, ' Number of Cores', 'CPU');\n",
    "          const extractedNumber = Number_of_Cores && Number_of_Cores.length > 0 ? Number_of_Cores[0].match(/\\d+/)?.[0] : null;\n",
    "          console.log(`Value3: ${extractedNumber}`);\n",
    "\n",
    "          const sizescreen = await searchTableValue(page, 'Screen Size', 'Display');\n",
    "          console.log(`Value: ${sizescreen}`);\n",
    "\n",
    "          const year = await searchTableValue(page, 'Date First Available', 'Additional Information');\n",
    "          const cleanedYear = year ? year.match(/\\d{4}$/)?.[0] : null;\n",
    "          console.log(`Value: ${cleanedYear}`);\n",
    "\n",
    "          const Resolution = await searchTableValue(page, 'Resolution', 'Display');\n",
    "          console.log(`Value: ${Resolution}`);\n",
    "\n",
    "          const ssd = await searchTableValue(page, 'SSD', 'Storage');\n",
    "          console.log(`Value: ${ssd}`);\n",
    "\n",
    "          const touchscreen = await searchTableValue(page, 'Touchscreen ', 'Display');\n",
    "          const touchscreen_value = touchscreen === 'No' ? 0 : 1;\n",
    "          console.log(`Value: ${touchscreen_value}`);\n",
    "\n",
    "          const Webcam = await searchTableValue(page, 'Webcam', 'Supplemental Drive');\n",
    "          const Webcam_value = Webcam === 'No' ? 0 : 1;\n",
    "          console.log(`Value1: ${Webcam_value}`);\n",
    "\n",
    "          const microsd = await searchTableValue(page, 'Micro SD', 'Storage');\n",
    "          const microsd_value = microsd === 'No' ? 0 : 1;\n",
    "          console.log(`Value2: ${microsd_value}`);\n",
    "\n",
    "          const dedicated_graphics = await searchTableValue(page, 'Dedicated Graphics', 'Graphics Card');\n",
    "          const dedicated_graphics_value = dedicated_graphics === 'No' ? 0 : 1;\n",
    "          console.log(`Value: ${dedicated_graphics_value}`);\n",
    "\n",
    "          const usb_connections = await searchTableValue(page, 'USB', 'USB Connections of Different Types');\n",
    "          const usb_connections_value = usb_connections ? usb_connections.length : 0;\n",
    "          console.log(`USB connections of different types: ${usb_connections_value}`);\n",
    "\n",
    "          const total_usb_connections = await searchTableValue(page, 'Total USB Connections', 'USB Connections of Different Types');\n",
    "          const total_usb_connections_value = total_usb_connections ? parseInt(total_usb_connections[0]) : 0;\n",
    "          console.log(`Total USB connections: ${total_usb_connections_value}`);\n",
    "\n",
    "          laptopsData.push({\n",
    "            url,\n",
    "            condition,\n",
    "            brand,\n",
    "            price,\n",
    "            Memory,\n",
    "            cpu_speed,\n",
    "            Number_of_Cores: extractedNumber,\n",
    "            sizescreen,\n",
    "            year: cleanedYear,\n",
    "            Resolution,\n",
    "            ssd,\n",
    "            touchscreen: touchscreen_value,\n",
    "            Webcam: Webcam_value,\n",
    "            microsd: microsd_value,\n",
    "            dedicated_graphics: dedicated_graphics_value,\n",
    "            usb_connections: usb_connections_value,\n",
    "            total_usb_connections: total_usb_connections_value\n",
    "          });\n",
    "\n",
    "          break; // Exit the retry loop if the page opened successfully\n",
    "        } catch (error) {\n",
    "          console.error(`Failed to open URL: ${url}`);\n",
    "          console.error(error);\n",
    "          retryCount++; // Increment the retry count\n",
    "          await wait(3000); // Wait for 2 seconds before retrying\n",
    "        }\n",
    "      }\n",
    "      if (retryCount === 5) {\n",
    "        console.error(`Unable to open URL after 5 retries: ${url}`);\n",
    "        continue; // Skip to the next iteration if unable to open URL\n",
    "      }\n",
    "\n",
    "      // Rest of the code to extract data goes here\n",
    "\n",
    "    }\n",
    "\n",
    "    await page.close();\n",
    "    await browser.close();\n",
    "\n",
    "    console.log(laptopsData);\n",
    "\n",
    "    const jsonData = JSON.stringify(laptopsData);\n",
    "    fs.writeFileSync('laptops_data.json', jsonData);\n",
    "    console.log('Data saved to laptops_data.json');\n",
    "  } catch (error) {\n",
    "    console.error('An error occurred:', error);\n",
    "  }\n",
    "}\n",
    "\n",
    "// Call the function to start scraping\n",
    "scrapePrices();\n"
   ]
  },
  {
   "cell_type": "code",
   "execution_count": 7,
   "id": "9e015c47",
   "metadata": {},
   "outputs": [
    {
     "name": "stderr",
     "output_type": "stream",
     "text": [
      "IOPub data rate exceeded.\n",
      "The notebook server will temporarily stop sending output\n",
      "to the client in order to avoid crashing it.\n",
      "To change this limit, set the config variable\n",
      "`--NotebookApp.iopub_data_rate_limit`.\n",
      "\n",
      "Current values:\n",
      "NotebookApp.iopub_data_rate_limit=1000000.0 (bytes/sec)\n",
      "NotebookApp.rate_limit_window=3.0 (secs)\n",
      "\n"
     ]
    }
   ],
   "source": [
    "\n",
    "const fileToLoad = 'C:\\\\Users\\\\nor29\\\\Desktop\\\\פלט תוכנית.txt';\n",
    "\n",
    "fs.readFile(fileToLoad, 'utf8', (err, data) => {\n",
    "  if (err) {\n",
    "    console.error('Error reading the file:', err);\n",
    "    return;\n",
    "  }\n",
    "\n",
    "  console.log('File contents:', data);\n",
    "});\n"
   ]
  },
  {
   "cell_type": "code",
   "execution_count": null,
   "id": "bbce09db",
   "metadata": {},
   "outputs": [],
   "source": []
  }
 ],
 "metadata": {
  "kernelspec": {
   "display_name": "JavaScript (Node.js)",
   "language": "javascript",
   "name": "javascript"
  },
  "language_info": {
   "file_extension": ".js",
   "mimetype": "application/javascript",
   "name": "javascript",
   "version": "18.16.0"
  }
 },
 "nbformat": 4,
 "nbformat_minor": 5
}
